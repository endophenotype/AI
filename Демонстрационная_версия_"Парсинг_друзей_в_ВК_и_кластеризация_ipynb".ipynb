{
  "nbformat": 4,
  "nbformat_minor": 0,
  "metadata": {
    "colab": {
      "provenance": []
    },
    "kernelspec": {
      "name": "python3",
      "display_name": "Python 3"
    },
    "language_info": {
      "name": "python"
    },
    "accelerator": "GPU",
    "widgets": {
      "application/vnd.jupyter.widget-state+json": {
        "4ebc5018a8e34e8d9dd5d1adf5177765": {
          "model_module": "@jupyter-widgets/controls",
          "model_name": "VBoxModel",
          "model_module_version": "1.5.0",
          "state": {
            "_dom_classes": [],
            "_model_module": "@jupyter-widgets/controls",
            "_model_module_version": "1.5.0",
            "_model_name": "VBoxModel",
            "_view_count": null,
            "_view_module": "@jupyter-widgets/controls",
            "_view_module_version": "1.5.0",
            "_view_name": "VBoxView",
            "box_style": "",
            "children": [
              "IPY_MODEL_172e389c94474813a226e1be70179ea4",
              "IPY_MODEL_6c3a48a0438d48efac80ab48a478b1fc"
            ],
            "layout": "IPY_MODEL_1be55450ffcf4a15b32ea51bca4c7ac3"
          }
        },
        "172e389c94474813a226e1be70179ea4": {
          "model_module": "@jupyter-widgets/controls",
          "model_name": "DropdownModel",
          "model_module_version": "1.5.0",
          "state": {
            "_dom_classes": [],
            "_model_module": "@jupyter-widgets/controls",
            "_model_module_version": "1.5.0",
            "_model_name": "DropdownModel",
            "_options_labels": [
              "Невидимки",
              "Прошаренные",
              "Активные"
            ],
            "_view_count": null,
            "_view_module": "@jupyter-widgets/controls",
            "_view_module_version": "1.5.0",
            "_view_name": "DropdownView",
            "description": "Кластер",
            "description_tooltip": null,
            "disabled": false,
            "index": 2,
            "layout": "IPY_MODEL_1f05b61e1943425ba465c5bd3478ee88",
            "style": "IPY_MODEL_b7c12d9de86f49799f429823a6dc24ea"
          }
        },
        "6c3a48a0438d48efac80ab48a478b1fc": {
          "model_module": "@jupyter-widgets/controls",
          "model_name": "ButtonModel",
          "model_module_version": "1.5.0",
          "state": {
            "_dom_classes": [],
            "_model_module": "@jupyter-widgets/controls",
            "_model_module_version": "1.5.0",
            "_model_name": "ButtonModel",
            "_view_count": null,
            "_view_module": "@jupyter-widgets/controls",
            "_view_module_version": "1.5.0",
            "_view_name": "ButtonView",
            "button_style": "",
            "description": "Сформировать список id",
            "disabled": false,
            "icon": "",
            "layout": "IPY_MODEL_f73892ecc15641eea5647852e88a4d86",
            "style": "IPY_MODEL_02c635e4ff8447a7bde114962266bc60",
            "tooltip": ""
          }
        },
        "1be55450ffcf4a15b32ea51bca4c7ac3": {
          "model_module": "@jupyter-widgets/base",
          "model_name": "LayoutModel",
          "model_module_version": "1.2.0",
          "state": {
            "_model_module": "@jupyter-widgets/base",
            "_model_module_version": "1.2.0",
            "_model_name": "LayoutModel",
            "_view_count": null,
            "_view_module": "@jupyter-widgets/base",
            "_view_module_version": "1.2.0",
            "_view_name": "LayoutView",
            "align_content": null,
            "align_items": null,
            "align_self": null,
            "border": null,
            "bottom": null,
            "display": null,
            "flex": null,
            "flex_flow": null,
            "grid_area": null,
            "grid_auto_columns": null,
            "grid_auto_flow": null,
            "grid_auto_rows": null,
            "grid_column": null,
            "grid_gap": null,
            "grid_row": null,
            "grid_template_areas": null,
            "grid_template_columns": null,
            "grid_template_rows": null,
            "height": null,
            "justify_content": null,
            "justify_items": null,
            "left": null,
            "margin": null,
            "max_height": null,
            "max_width": null,
            "min_height": null,
            "min_width": null,
            "object_fit": null,
            "object_position": null,
            "order": null,
            "overflow": null,
            "overflow_x": null,
            "overflow_y": null,
            "padding": null,
            "right": null,
            "top": null,
            "visibility": null,
            "width": null
          }
        },
        "1f05b61e1943425ba465c5bd3478ee88": {
          "model_module": "@jupyter-widgets/base",
          "model_name": "LayoutModel",
          "model_module_version": "1.2.0",
          "state": {
            "_model_module": "@jupyter-widgets/base",
            "_model_module_version": "1.2.0",
            "_model_name": "LayoutModel",
            "_view_count": null,
            "_view_module": "@jupyter-widgets/base",
            "_view_module_version": "1.2.0",
            "_view_name": "LayoutView",
            "align_content": null,
            "align_items": null,
            "align_self": null,
            "border": null,
            "bottom": null,
            "display": null,
            "flex": null,
            "flex_flow": null,
            "grid_area": null,
            "grid_auto_columns": null,
            "grid_auto_flow": null,
            "grid_auto_rows": null,
            "grid_column": null,
            "grid_gap": null,
            "grid_row": null,
            "grid_template_areas": null,
            "grid_template_columns": null,
            "grid_template_rows": null,
            "height": null,
            "justify_content": null,
            "justify_items": null,
            "left": null,
            "margin": null,
            "max_height": null,
            "max_width": null,
            "min_height": null,
            "min_width": null,
            "object_fit": null,
            "object_position": null,
            "order": null,
            "overflow": null,
            "overflow_x": null,
            "overflow_y": null,
            "padding": null,
            "right": null,
            "top": null,
            "visibility": null,
            "width": null
          }
        },
        "b7c12d9de86f49799f429823a6dc24ea": {
          "model_module": "@jupyter-widgets/controls",
          "model_name": "DescriptionStyleModel",
          "model_module_version": "1.5.0",
          "state": {
            "_model_module": "@jupyter-widgets/controls",
            "_model_module_version": "1.5.0",
            "_model_name": "DescriptionStyleModel",
            "_view_count": null,
            "_view_module": "@jupyter-widgets/base",
            "_view_module_version": "1.2.0",
            "_view_name": "StyleView",
            "description_width": ""
          }
        },
        "f73892ecc15641eea5647852e88a4d86": {
          "model_module": "@jupyter-widgets/base",
          "model_name": "LayoutModel",
          "model_module_version": "1.2.0",
          "state": {
            "_model_module": "@jupyter-widgets/base",
            "_model_module_version": "1.2.0",
            "_model_name": "LayoutModel",
            "_view_count": null,
            "_view_module": "@jupyter-widgets/base",
            "_view_module_version": "1.2.0",
            "_view_name": "LayoutView",
            "align_content": null,
            "align_items": null,
            "align_self": null,
            "border": null,
            "bottom": null,
            "display": null,
            "flex": null,
            "flex_flow": null,
            "grid_area": null,
            "grid_auto_columns": null,
            "grid_auto_flow": null,
            "grid_auto_rows": null,
            "grid_column": null,
            "grid_gap": null,
            "grid_row": null,
            "grid_template_areas": null,
            "grid_template_columns": null,
            "grid_template_rows": null,
            "height": null,
            "justify_content": null,
            "justify_items": null,
            "left": null,
            "margin": null,
            "max_height": null,
            "max_width": null,
            "min_height": null,
            "min_width": null,
            "object_fit": null,
            "object_position": null,
            "order": null,
            "overflow": null,
            "overflow_x": null,
            "overflow_y": null,
            "padding": null,
            "right": null,
            "top": null,
            "visibility": null,
            "width": null
          }
        },
        "02c635e4ff8447a7bde114962266bc60": {
          "model_module": "@jupyter-widgets/controls",
          "model_name": "ButtonStyleModel",
          "model_module_version": "1.5.0",
          "state": {
            "_model_module": "@jupyter-widgets/controls",
            "_model_module_version": "1.5.0",
            "_model_name": "ButtonStyleModel",
            "_view_count": null,
            "_view_module": "@jupyter-widgets/base",
            "_view_module_version": "1.2.0",
            "_view_name": "StyleView",
            "button_color": null,
            "font_weight": ""
          }
        }
      }
    }
  },
  "cells": [
    {
      "cell_type": "markdown",
      "metadata": {
        "id": "dk_StsHNEJzb"
      },
      "source": [
        "## **Parsing friends from social networks and clustering them into interest groups / Парсинг друзей из социальных сетей и кластеризация их по группам по интересам**"
      ]
    },
    {
      "cell_type": "markdown",
      "metadata": {
        "id": "piQrexEKENUn"
      },
      "source": [
        "## **1. Установка библиотек**"
      ]
    },
    {
      "cell_type": "code",
      "metadata": {
        "id": "bUWNV45_9gHN",
        "colab": {
          "base_uri": "https://localhost:8080/"
        },
        "outputId": "c8bbeadd-cd93-4580-b37b-90d9bc76b32a"
      },
      "source": [
        "!pip install vk"
      ],
      "execution_count": null,
      "outputs": [
        {
          "output_type": "stream",
          "name": "stdout",
          "text": [
            "Collecting vk\n",
            "  Downloading vk-3.0-py3-none-any.whl (11 kB)\n",
            "Requirement already satisfied: requests~=2.24 in /usr/local/lib/python3.10/dist-packages (from vk) (2.31.0)\n",
            "Requirement already satisfied: charset-normalizer<4,>=2 in /usr/local/lib/python3.10/dist-packages (from requests~=2.24->vk) (3.3.2)\n",
            "Requirement already satisfied: idna<4,>=2.5 in /usr/local/lib/python3.10/dist-packages (from requests~=2.24->vk) (3.6)\n",
            "Requirement already satisfied: urllib3<3,>=1.21.1 in /usr/local/lib/python3.10/dist-packages (from requests~=2.24->vk) (2.0.7)\n",
            "Requirement already satisfied: certifi>=2017.4.17 in /usr/local/lib/python3.10/dist-packages (from requests~=2.24->vk) (2024.2.2)\n",
            "Installing collected packages: vk\n",
            "Successfully installed vk-3.0\n"
          ]
        }
      ]
    },
    {
      "cell_type": "code",
      "metadata": {
        "id": "kEP2cIBePfI6"
      },
      "source": [
        "import time\n",
        "import pandas as pd\n",
        "import seaborn as sns\n",
        "import numpy as np\n",
        "import math\n",
        "from matplotlib import pyplot as plt\n",
        "%matplotlib inline"
      ],
      "execution_count": null,
      "outputs": []
    },
    {
      "cell_type": "code",
      "source": [
        "import datetime\n",
        "import dateutil"
      ],
      "metadata": {
        "id": "F_6aTU9k__0I"
      },
      "execution_count": null,
      "outputs": []
    },
    {
      "cell_type": "code",
      "metadata": {
        "colab": {
          "base_uri": "https://localhost:8080/"
        },
        "id": "6MjRqDZzMp38",
        "outputId": "4fe5c7dd-63b7-4a96-f479-234507e74c1c"
      },
      "source": [
        "from google.colab import drive\n",
        "drive.mount('/content/drive')"
      ],
      "execution_count": null,
      "outputs": [
        {
          "output_type": "stream",
          "name": "stdout",
          "text": [
            "Mounted at /content/drive\n"
          ]
        }
      ]
    },
    {
      "cell_type": "markdown",
      "metadata": {
        "id": "10MDj-RGEvRb"
      },
      "source": [
        "## **2. Подключение по токену**"
      ]
    },
    {
      "cell_type": "markdown",
      "metadata": {
        "id": "lCnA7ucKEiIW"
      },
      "source": [
        "### **2.1. Создание встраивоемого приложения в разделе \"Разработчикам\" на сайте vk.com и получение ID приложения**"
      ]
    },
    {
      "cell_type": "code",
      "metadata": {
        "id": "NGbjBS_E9hs3"
      },
      "source": [
        "id_app = 12345678\n",
        "id_us = 123456789"
      ],
      "execution_count": null,
      "outputs": []
    },
    {
      "cell_type": "markdown",
      "metadata": {
        "id": "2Iy8jgFsFFUs"
      },
      "source": [
        "### **2.2. Запуск сессии**"
      ]
    },
    {
      "cell_type": "code",
      "metadata": {
        "id": "48kzMOYs_zKb"
      },
      "source": [
        "import vk\n",
        "\n",
        "api = vk.API(access_token='6414g6336867h6764563a6431r55345234805195852c531252558db65f421rt242h8g40')"
      ],
      "execution_count": null,
      "outputs": []
    },
    {
      "cell_type": "code",
      "metadata": {
        "id": "BxOZIHZ5CA_3"
      },
      "source": [
        "version = 5.131"
      ],
      "execution_count": null,
      "outputs": []
    },
    {
      "cell_type": "markdown",
      "metadata": {
        "id": "bHDk92tCtq-0"
      },
      "source": [
        "## **3. Выгрузка друзей**"
      ]
    },
    {
      "cell_type": "code",
      "metadata": {
        "id": "oNkZHn35_3W6",
        "colab": {
          "base_uri": "https://localhost:8080/"
        },
        "outputId": "3f6cb864-6986-473a-cc64-d8c34add44e8"
      },
      "source": [
        "friends = api.friends.get(v = version, user_id=id_us)\n",
        "print('Количество друзей:', friends['count'])"
      ],
      "execution_count": null,
      "outputs": [
        {
          "output_type": "stream",
          "name": "stdout",
          "text": [
            "Количество друзей: 360\n"
          ]
        }
      ]
    },
    {
      "cell_type": "code",
      "source": [
        "friends.keys()"
      ],
      "metadata": {
        "id": "Ky2tNNtqXs3a",
        "colab": {
          "base_uri": "https://localhost:8080/"
        },
        "outputId": "2378751b-bcd5-4516-92f9-3e186da5f65e"
      },
      "execution_count": null,
      "outputs": [
        {
          "output_type": "execute_result",
          "data": {
            "text/plain": [
              "dict_keys(['count', 'items'])"
            ]
          },
          "metadata": {},
          "execution_count": 9
        }
      ]
    },
    {
      "cell_type": "code",
      "source": [
        "#friends2.keys()"
      ],
      "metadata": {
        "id": "tRC8r5BxvcgS"
      },
      "execution_count": null,
      "outputs": []
    },
    {
      "cell_type": "code",
      "source": [
        "len(list(friends.get(\"items\")))"
      ],
      "metadata": {
        "id": "YGPCyNPwW7-D",
        "colab": {
          "base_uri": "https://localhost:8080/"
        },
        "outputId": "be8f4d09-358f-43b6-be9c-560b6b745ed5"
      },
      "execution_count": null,
      "outputs": [
        {
          "output_type": "execute_result",
          "data": {
            "text/plain": [
              "360"
            ]
          },
          "metadata": {},
          "execution_count": 11
        }
      ]
    },
    {
      "cell_type": "code",
      "metadata": {
        "id": "qGmopUaVCFYo"
      },
      "source": [
        "friends_ids_list = friends['items']\n",
        "fields_name = [\n",
        "               'first_name', 'last_name', 'id', 'sex', 'bdate', 'country',\n",
        "               'home_town', 'has_mobile', 'followers_count',\n",
        "               'is_closed', 'can_access_closed', 'can_see_audio',\n",
        "               'online', 'city', 'timezone', 'can_post',\n",
        "               'can_write_private_message', 'can_see_all_posts',\n",
        "               'contacts', 'status', 'relation', 'universities',\n",
        "               'nickname', 'deactivated', 'counters', 'has_photo',\n",
        "               'occupation', 'site', 'wall_default'\n",
        "              ]"
      ],
      "execution_count": null,
      "outputs": []
    },
    {
      "cell_type": "code",
      "metadata": {
        "id": "h0dd3_kNCnxT",
        "colab": {
          "base_uri": "https://localhost:8080/"
        },
        "outputId": "a672863b-1c51-45fd-a145-61fae26f9bde"
      },
      "source": [
        "dict_users_requests = {}\n",
        "results = []\n",
        "\n",
        "for friend in friends_ids_list:\n",
        "  dict_results = {}\n",
        "  dict_users_requests = {}\n",
        "  print(f\"user {friend}\")\n",
        "  for column in fields_name:\n",
        "    try:\n",
        "      dict_results = {column:\n",
        "                      api.users.get(user_ids = friend,\n",
        "                      v = version,\n",
        "                      fields = column)[0][column]\n",
        "                      }\n",
        "    except:\n",
        "      dict_results = {column: np.nan}\n",
        "    finally:\n",
        "      dict_users_requests.update(dict_results)\n",
        "    time.sleep(0.15)\n",
        "  results.append(dict_users_requests)\n",
        "\n",
        "df = pd.DataFrame(results)\n",
        "\n",
        "with pd.ExcelWriter('friends.xlsx') as writer:\n",
        "    df.to_excel(writer, sheet_name='Sheet_name_1')"
      ],
      "execution_count": null,
      "outputs": [
        {
          "output_type": "stream",
          "name": "stdout",
          "text": [
            "user 2132738\n",
            "user 3491909\n",
            "user 8071379\n",
            "user 18417226\n",
            "user 19808197\n",
            "user 22353623\n",
            "user 23542163\n",
            "user 24551752\n",
            "user 25732412\n",
            "user 30088364\n",
            "user 30791572\n",
            "user 38933760\n",
            "user 39204285\n",
            "user 42591590\n",
            "user 44607711\n",
            "user 45468357\n",
            "user 47893699\n",
            "user 48447189\n",
            "user 49470647\n",
            "user 49528524\n",
            "user 52174456\n",
            "user 53402103\n",
            "user 57221217\n",
            "user 60062919\n",
            "user 64175031\n",
            "user 64300874\n",
            "user 67067043\n",
            "user 68109226\n",
            "user 70362276\n",
            "user 70431661\n",
            "user 72059225\n",
            "user 72129879\n",
            "user 73112511\n",
            "user 74404607\n",
            "user 77401858\n",
            "user 77625702\n",
            "user 78226186\n",
            "user 79212838\n",
            "user 80794768\n",
            "user 80984760\n",
            "user 81235449\n",
            "user 83513879\n",
            "user 88978698\n",
            "user 90758476\n",
            "user 92297409\n",
            "user 92312273\n",
            "user 93366901\n",
            "user 93533153\n",
            "user 93730453\n",
            "user 94887089\n",
            "user 94962284\n",
            "user 95079235\n",
            "user 95213108\n",
            "user 95323827\n",
            "user 95359506\n",
            "user 95957437\n",
            "user 97126832\n",
            "user 97387294\n",
            "user 97528994\n",
            "user 98202377\n",
            "user 99059518\n",
            "user 99270124\n",
            "user 100548999\n",
            "user 100948776\n",
            "user 103838894\n",
            "user 103938961\n",
            "user 105359459\n",
            "user 105589410\n",
            "user 105985602\n",
            "user 107443972\n",
            "user 108597355\n",
            "user 110943935\n",
            "user 111231688\n",
            "user 111438437\n",
            "user 112092470\n",
            "user 112407345\n",
            "user 112618055\n",
            "user 112787460\n",
            "user 112914592\n",
            "user 115208708\n",
            "user 118182213\n",
            "user 119305345\n",
            "user 119625168\n",
            "user 120352968\n",
            "user 121314456\n",
            "user 121400339\n",
            "user 121859908\n",
            "user 121995351\n",
            "user 122377651\n",
            "user 123284340\n",
            "user 123980290\n",
            "user 125327129\n",
            "user 125521313\n",
            "user 132452751\n",
            "user 133850745\n",
            "user 133936748\n",
            "user 134096467\n",
            "user 134363845\n",
            "user 136107854\n",
            "user 136654964\n",
            "user 136700013\n",
            "user 136772148\n",
            "user 136825337\n",
            "user 137228617\n",
            "user 137336759\n",
            "user 137493618\n",
            "user 137608507\n",
            "user 137761793\n",
            "user 138428410\n",
            "user 139185104\n",
            "user 140620603\n",
            "user 140763224\n",
            "user 141149525\n",
            "user 142115937\n",
            "user 142324196\n",
            "user 142443003\n",
            "user 142482351\n",
            "user 143050067\n",
            "user 143053012\n",
            "user 143405646\n",
            "user 143475958\n",
            "user 143513561\n",
            "user 143970462\n",
            "user 143979226\n",
            "user 144564695\n",
            "user 144636057\n",
            "user 145441414\n",
            "user 145495706\n",
            "user 145776759\n",
            "user 145863978\n",
            "user 146369590\n",
            "user 146529856\n",
            "user 147153213\n",
            "user 147387504\n",
            "user 147695211\n",
            "user 147930192\n",
            "user 148030966\n",
            "user 148902401\n",
            "user 150521468\n",
            "user 151216866\n",
            "user 151478213\n",
            "user 151531809\n",
            "user 152335608\n",
            "user 152792821\n",
            "user 152851723\n",
            "user 153120839\n",
            "user 153205904\n",
            "user 153227199\n",
            "user 154010172\n",
            "user 154368489\n",
            "user 154588243\n",
            "user 154766713\n",
            "user 154859659\n",
            "user 155593564\n",
            "user 155608774\n",
            "user 157666841\n",
            "user 157749659\n",
            "user 157891248\n",
            "user 158667083\n",
            "user 159478125\n",
            "user 159879863\n",
            "user 159882056\n",
            "user 160447341\n",
            "user 161678691\n",
            "user 161737683\n",
            "user 162014504\n",
            "user 162187604\n",
            "user 162312697\n",
            "user 162398011\n",
            "user 163316197\n",
            "user 163523501\n",
            "user 163827611\n",
            "user 163836185\n",
            "user 165098210\n",
            "user 165350325\n",
            "user 165576732\n",
            "user 165801752\n",
            "user 168035604\n",
            "user 168436615\n",
            "user 168861809\n",
            "user 169202907\n",
            "user 169678193\n",
            "user 169804090\n",
            "user 169872795\n",
            "user 169910417\n",
            "user 170047597\n",
            "user 171392141\n",
            "user 172191921\n",
            "user 172797829\n",
            "user 173112918\n",
            "user 173208512\n",
            "user 173285127\n",
            "user 173975718\n",
            "user 174169278\n",
            "user 174464109\n",
            "user 175821145\n",
            "user 175974531\n",
            "user 176238284\n",
            "user 176251035\n",
            "user 177459991\n",
            "user 177784537\n",
            "user 177959735\n",
            "user 178318119\n",
            "user 179347071\n",
            "user 179859341\n",
            "user 181088087\n",
            "user 181165905\n",
            "user 181639524\n",
            "user 182886534\n",
            "user 183131301\n",
            "user 184281999\n",
            "user 185885637\n",
            "user 188835005\n",
            "user 189582219\n",
            "user 190125419\n",
            "user 193149023\n",
            "user 193265386\n",
            "user 193502332\n",
            "user 193734134\n",
            "user 195198755\n",
            "user 195305251\n",
            "user 196583132\n",
            "user 197130686\n",
            "user 197643514\n",
            "user 197696296\n",
            "user 202678239\n",
            "user 203764035\n",
            "user 204805076\n",
            "user 209341882\n",
            "user 209752044\n",
            "user 211506429\n",
            "user 213403331\n",
            "user 213475050\n",
            "user 214637100\n",
            "user 216605600\n",
            "user 217872643\n",
            "user 218020296\n",
            "user 218280981\n",
            "user 220108818\n",
            "user 220423600\n",
            "user 222068963\n",
            "user 222294663\n",
            "user 223092540\n",
            "user 224615966\n",
            "user 225549530\n",
            "user 225566731\n",
            "user 226283784\n",
            "user 227023076\n",
            "user 229823335\n",
            "user 233771931\n",
            "user 234031623\n",
            "user 234488291\n",
            "user 234574004\n",
            "user 235464858\n",
            "user 235675498\n",
            "user 240070510\n",
            "user 241187926\n",
            "user 241906771\n",
            "user 245254362\n",
            "user 245636536\n",
            "user 246622820\n",
            "user 247048107\n",
            "user 247369662\n",
            "user 250741217\n",
            "user 261279811\n",
            "user 261878308\n",
            "user 261918236\n",
            "user 265943033\n",
            "user 265949229\n",
            "user 266780293\n",
            "user 277019875\n",
            "user 279590309\n",
            "user 279611087\n",
            "user 286833741\n",
            "user 289104134\n",
            "user 290144815\n",
            "user 292091481\n",
            "user 294054140\n",
            "user 296073002\n",
            "user 297261606\n",
            "user 300982387\n",
            "user 301868423\n",
            "user 304201142\n",
            "user 305206609\n",
            "user 309206328\n",
            "user 313305464\n",
            "user 315162974\n",
            "user 316183893\n",
            "user 316636881\n",
            "user 319301371\n",
            "user 319308403\n",
            "user 320563663\n",
            "user 326496730\n",
            "user 330303970\n",
            "user 330528897\n",
            "user 330579199\n",
            "user 333954616\n",
            "user 334323625\n",
            "user 334814471\n",
            "user 344728183\n",
            "user 345257792\n",
            "user 353342155\n",
            "user 353933740\n",
            "user 354197454\n",
            "user 357236608\n",
            "user 359386202\n",
            "user 362725657\n",
            "user 362930081\n",
            "user 364418867\n",
            "user 372614143\n",
            "user 376432958\n",
            "user 384280480\n",
            "user 385033162\n",
            "user 385764562\n",
            "user 391555456\n",
            "user 391623590\n",
            "user 391703760\n",
            "user 395021323\n",
            "user 402582790\n",
            "user 405918147\n",
            "user 406983175\n",
            "user 411756322\n",
            "user 416875524\n",
            "user 426806623\n",
            "user 432902297\n",
            "user 444757968\n",
            "user 449355107\n",
            "user 449358399\n",
            "user 459418308\n",
            "user 463596344\n",
            "user 465896524\n",
            "user 466866528\n",
            "user 475319182\n",
            "user 476873917\n",
            "user 479591666\n",
            "user 485358189\n",
            "user 488774681\n",
            "user 495407810\n",
            "user 502895245\n",
            "user 506729268\n",
            "user 511238843\n",
            "user 514430728\n",
            "user 526360192\n",
            "user 535739373\n",
            "user 543410129\n",
            "user 549245724\n",
            "user 551881212\n",
            "user 556090911\n",
            "user 561047593\n",
            "user 578757154\n",
            "user 579605969\n",
            "user 590120645\n",
            "user 599360892\n",
            "user 600283443\n",
            "user 603579266\n",
            "user 611272899\n",
            "user 630595799\n",
            "user 641743403\n",
            "user 735775879\n",
            "user 737077015\n"
          ]
        }
      ]
    },
    {
      "cell_type": "code",
      "source": [
        "df.head(20)"
      ],
      "metadata": {
        "id": "dWAn5anJCdvI",
        "colab": {
          "base_uri": "https://localhost:8080/",
          "height": 1000
        },
        "outputId": "aa3eca22-4c28-4687-e62e-5a498199148b"
      },
      "execution_count": null,
      "outputs": [
        {
          "output_type": "execute_result",
          "data": {
            "text/plain": [
              "    first_name    last_name        id  sex      bdate  \\\n",
              "0      Nikolay     Babichev   2132738    2        NaN   \n",
              "1       Nikita    Kislyakov   3491909    2       13.1   \n",
              "2        Devid  Shaforostov   8071379    2        NaN   \n",
              "3     Vladimir      Belokon  18417226    2      20.10   \n",
              "4        Irina      Turkina  19808197    1       22.1   \n",
              "5       Daniil      Golubev  22353623    2        4.9   \n",
              "6     Seryozha     Bunyakov  23542163    2   4.6.1997   \n",
              "7         Alex          Luk  24551752    2   1.1.2002   \n",
              "8        Alina  Scherbakova  25732412    2   7.6.1999   \n",
              "9   Vyacheslav       Burdin  30088364    2       15.2   \n",
              "10      Artyom    Skudarnov  30791572    2        NaN   \n",
              "11        Sema    Levchenko  38933760    2  20.2.1996   \n",
              "12       Darya        Usova  39204285    1        NaN   \n",
              "13    Lyudmila  Dubrovskaya  42591590    1        6.6   \n",
              "14   Anastasia     Kalinina  44607711    1      15.12   \n",
              "15      Karina     Baturina  45468357    1       22.4   \n",
              "16   Anastasia         Grin  47893699    1       12.1   \n",
              "17       Denis      Lazarev  48447189    2      25.12   \n",
              "18       Sofya    Chukavina  49470647    1   6.9.2001   \n",
              "19      Nikita      Borodin  49528524    2       24.4   \n",
              "\n",
              "                         country     home_town  has_mobile  followers_count  \\\n",
              "0   {'id': 1, 'title': 'Russia'}           NaN         1.0              NaN   \n",
              "1   {'id': 1, 'title': 'Russia'}                       1.0           2300.0   \n",
              "2   {'id': 1, 'title': 'Russia'}       Барнаул         1.0            192.0   \n",
              "3   {'id': 1, 'title': 'Russia'}           NaN         1.0              NaN   \n",
              "4   {'id': 1, 'title': 'Russia'}           NaN         1.0            802.0   \n",
              "5   {'id': 1, 'title': 'Russia'}           NaN         1.0              NaN   \n",
              "6   {'id': 1, 'title': 'Russia'}        Москва         1.0           2339.0   \n",
              "7   {'id': 1, 'title': 'Russia'}       Пупкино         1.0             99.0   \n",
              "8   {'id': 1, 'title': 'Russia'}           NaN         1.0              NaN   \n",
              "9   {'id': 1, 'title': 'Russia'}           NaN         1.0              NaN   \n",
              "10  {'id': 1, 'title': 'Russia'}  Sweet Street         1.0            444.0   \n",
              "11  {'id': 1, 'title': 'Russia'}       Барнаул         1.0            131.0   \n",
              "12                           NaN                       1.0            285.0   \n",
              "13  {'id': 1, 'title': 'Russia'}           NaN         1.0              NaN   \n",
              "14  {'id': 1, 'title': 'Russia'}           NaN         1.0              NaN   \n",
              "15  {'id': 1, 'title': 'Russia'}           NaN         1.0            672.0   \n",
              "16  {'id': 1, 'title': 'Russia'}       Барнаул         1.0            539.0   \n",
              "17  {'id': 1, 'title': 'Russia'}           NaN         1.0            602.0   \n",
              "18  {'id': 1, 'title': 'Russia'}           NaN         1.0            565.0   \n",
              "19  {'id': 1, 'title': 'Russia'}           NaN         1.0              NaN   \n",
              "\n",
              "   is_closed  ...                                             status  \\\n",
              "0       True  ...                                                      \n",
              "1      False  ...  Рассказываю о жизни и работе, пишу стихи и рас...   \n",
              "2      False  ...                                       Kurwa gryže!   \n",
              "3       True  ...              Себе же на зависть\\n#HOMEDVIJ\\n#24:01   \n",
              "4      False  ...                                                      \n",
              "5       True  ...                                                      \n",
              "6      False  ...                                  ALL OF THE LIGHTS   \n",
              "7      False  ...                                      теперь её нет   \n",
              "8       True  ...                                                      \n",
              "9       True  ...                                                      \n",
              "10     False  ...                                                      \n",
              "11     False  ...                                                  ₽   \n",
              "12     False  ...  самое лучшее здесь и сейчас!!!\\nмы больше нико...   \n",
              "13      True  ...                           космос - последний рубеж   \n",
              "14      True  ...                                                      \n",
              "15     False  ...          Segui il tuo corso, e lascia dir le genti   \n",
              "16     False  ...                                                      \n",
              "17     False  ...                                                 🌺🐝   \n",
              "18     False  ...                                дальше только лучше   \n",
              "19      True  ...                 гелий, миллиампер, плебей, фиточай   \n",
              "\n",
              "    relation                                       universities nickname  \\\n",
              "0        NaN                                                NaN            \n",
              "1        0.0  [{'city': 1, 'country': 1, 'id': 128, 'name': ...            \n",
              "2        0.0                                                 []            \n",
              "3        NaN                                                NaN            \n",
              "4        NaN                                                NaN            \n",
              "5        NaN                                                NaN            \n",
              "6        4.0  [{'city': 1, 'country': 1, 'faculty': 943, 'fa...            \n",
              "7        3.0                                                 []            \n",
              "8        NaN                                                NaN            \n",
              "9        NaN                                                NaN            \n",
              "10       4.0                                                 []            \n",
              "11       0.0  [{'city': 2, 'country': 1, 'id': 1, 'name': 'С...            \n",
              "12       4.0                                                 []            \n",
              "13       NaN                                                NaN        ϟ   \n",
              "14       NaN                                                NaN            \n",
              "15       NaN                                                NaN            \n",
              "16       0.0                                                 []            \n",
              "17       NaN                                                NaN            \n",
              "18       NaN                                                NaN            \n",
              "19       NaN                                                NaN            \n",
              "\n",
              "    deactivated                                           counters  has_photo  \\\n",
              "0           NaN  {'albums': 0, 'audios': 0, 'pages': 132, 'subs...          1   \n",
              "1           NaN  {'albums': 2, 'audios': 12, 'followers': 2300,...          1   \n",
              "2           NaN  {'albums': 0, 'audios': 565, 'followers': 192,...          1   \n",
              "3           NaN  {'albums': 0, 'audios': 0, 'pages': 45, 'subsc...          1   \n",
              "4           NaN  {'albums': 0, 'audios': 0, 'followers': 802, '...          1   \n",
              "5           NaN  {'albums': 0, 'audios': 0, 'pages': 20, 'subsc...          1   \n",
              "6           NaN  {'albums': 1, 'audios': 621, 'followers': 2339...          1   \n",
              "7           NaN  {'albums': 8, 'audios': 0, 'followers': 99, 'p...          1   \n",
              "8           NaN  {'albums': 0, 'audios': 0, 'pages': 47, 'subsc...          1   \n",
              "9           NaN  {'albums': 0, 'audios': 0, 'pages': 8, 'subscr...          1   \n",
              "10          NaN  {'albums': 1, 'audios': 436, 'followers': 444,...          1   \n",
              "11          NaN  {'albums': 1, 'audios': 2424, 'followers': 131...          1   \n",
              "12          NaN  {'albums': 4, 'audios': 1608, 'followers': 285...          1   \n",
              "13          NaN  {'albums': 0, 'audios': 0, 'pages': 19, 'subsc...          1   \n",
              "14          NaN  {'albums': 0, 'audios': 0, 'pages': 51, 'subsc...          1   \n",
              "15          NaN  {'albums': 1, 'audios': 459, 'followers': 672,...          1   \n",
              "16          NaN  {'albums': 0, 'audios': 0, 'followers': 539, '...          1   \n",
              "17          NaN  {'albums': 3, 'audios': 0, 'followers': 602, '...          1   \n",
              "18          NaN  {'albums': 4, 'audios': 310, 'followers': 565,...          1   \n",
              "19          NaN  {'albums': 0, 'audios': 0, 'pages': 70, 'subsc...          1   \n",
              "\n",
              "                                           occupation  \\\n",
              "0                                                 NaN   \n",
              "1   {'id': 28915774, 'name': 'ОТС-Горсайт', 'type'...   \n",
              "2                                                 NaN   \n",
              "3   {'id': 155911724, 'name': '#HOMEDVIJ #24:01', ...   \n",
              "4   {'id': 381, 'name': 'АлтГУ', 'type': 'universi...   \n",
              "5   {'id': 377, 'name': 'АГАУ', 'type': 'universit...   \n",
              "6   {'id': 102946990, 'name': 'кэмп СЬ', 'type': '...   \n",
              "7                                                 NaN   \n",
              "8                                                 NaN   \n",
              "9                                                 NaN   \n",
              "10  {'id': 212659238, 'name': 'BLEEDINGHATE', 'typ...   \n",
              "11  {'id': 1, 'name': 'СПбГУ', 'type': 'university...   \n",
              "12                                                NaN   \n",
              "13                                                NaN   \n",
              "14  {'id': 128, 'name': 'НИУ ВШЭ (ГУ-ВШЭ)', 'type'...   \n",
              "15  {'id': 381, 'name': 'АлтГУ', 'type': 'universi...   \n",
              "16                                                NaN   \n",
              "17                                                NaN   \n",
              "18  {'id': 44862215, 'name': 'СДПО \"Юность\" Ленинс...   \n",
              "19  {'id': 380, 'name': 'АлтГТУ им. Ползунова', 't...   \n",
              "\n",
              "                                                 site wall_default  \n",
              "0                                                 NaN        owner  \n",
              "1                                                              all  \n",
              "2                                                            owner  \n",
              "3                                                 NaN          all  \n",
              "4                                                              all  \n",
              "5                                                 NaN          all  \n",
              "6                                                              all  \n",
              "7                    https://twitter.com/#!/aLexLukin          all  \n",
              "8                                                 NaN        owner  \n",
              "9                                                 NaN          all  \n",
              "10                                     @shimadatattoo          all  \n",
              "11                                                             all  \n",
              "12  https://twitter.com/ooceansizze   https://www....        owner  \n",
              "13                                                NaN        owner  \n",
              "14                                                NaN        owner  \n",
              "15                                                           owner  \n",
              "16                                                           owner  \n",
              "17                                                           owner  \n",
              "18                                                             all  \n",
              "19                                                NaN          all  \n",
              "\n",
              "[20 rows x 29 columns]"
            ],
            "text/html": [
              "\n",
              "  <div id=\"df-70416c27-3159-40da-9667-3284a327af54\">\n",
              "    <div class=\"colab-df-container\">\n",
              "      <div>\n",
              "<style scoped>\n",
              "    .dataframe tbody tr th:only-of-type {\n",
              "        vertical-align: middle;\n",
              "    }\n",
              "\n",
              "    .dataframe tbody tr th {\n",
              "        vertical-align: top;\n",
              "    }\n",
              "\n",
              "    .dataframe thead th {\n",
              "        text-align: right;\n",
              "    }\n",
              "</style>\n",
              "<table border=\"1\" class=\"dataframe\">\n",
              "  <thead>\n",
              "    <tr style=\"text-align: right;\">\n",
              "      <th></th>\n",
              "      <th>first_name</th>\n",
              "      <th>last_name</th>\n",
              "      <th>id</th>\n",
              "      <th>sex</th>\n",
              "      <th>bdate</th>\n",
              "      <th>country</th>\n",
              "      <th>home_town</th>\n",
              "      <th>has_mobile</th>\n",
              "      <th>followers_count</th>\n",
              "      <th>is_closed</th>\n",
              "      <th>...</th>\n",
              "      <th>status</th>\n",
              "      <th>relation</th>\n",
              "      <th>universities</th>\n",
              "      <th>nickname</th>\n",
              "      <th>deactivated</th>\n",
              "      <th>counters</th>\n",
              "      <th>has_photo</th>\n",
              "      <th>occupation</th>\n",
              "      <th>site</th>\n",
              "      <th>wall_default</th>\n",
              "    </tr>\n",
              "  </thead>\n",
              "  <tbody>\n",
              "    <tr>\n",
              "      <th>0</th>\n",
              "      <td>Nikolay</td>\n",
              "      <td>Babichev</td>\n",
              "      <td>2132738</td>\n",
              "      <td>2</td>\n",
              "      <td>NaN</td>\n",
              "      <td>{'id': 1, 'title': 'Russia'}</td>\n",
              "      <td>NaN</td>\n",
              "      <td>1.0</td>\n",
              "      <td>NaN</td>\n",
              "      <td>True</td>\n",
              "      <td>...</td>\n",
              "      <td></td>\n",
              "      <td>NaN</td>\n",
              "      <td>NaN</td>\n",
              "      <td></td>\n",
              "      <td>NaN</td>\n",
              "      <td>{'albums': 0, 'audios': 0, 'pages': 132, 'subs...</td>\n",
              "      <td>1</td>\n",
              "      <td>NaN</td>\n",
              "      <td>NaN</td>\n",
              "      <td>owner</td>\n",
              "    </tr>\n",
              "    <tr>\n",
              "      <th>1</th>\n",
              "      <td>Nikita</td>\n",
              "      <td>Kislyakov</td>\n",
              "      <td>3491909</td>\n",
              "      <td>2</td>\n",
              "      <td>13.1</td>\n",
              "      <td>{'id': 1, 'title': 'Russia'}</td>\n",
              "      <td></td>\n",
              "      <td>1.0</td>\n",
              "      <td>2300.0</td>\n",
              "      <td>False</td>\n",
              "      <td>...</td>\n",
              "      <td>Рассказываю о жизни и работе, пишу стихи и рас...</td>\n",
              "      <td>0.0</td>\n",
              "      <td>[{'city': 1, 'country': 1, 'id': 128, 'name': ...</td>\n",
              "      <td></td>\n",
              "      <td>NaN</td>\n",
              "      <td>{'albums': 2, 'audios': 12, 'followers': 2300,...</td>\n",
              "      <td>1</td>\n",
              "      <td>{'id': 28915774, 'name': 'ОТС-Горсайт', 'type'...</td>\n",
              "      <td></td>\n",
              "      <td>all</td>\n",
              "    </tr>\n",
              "    <tr>\n",
              "      <th>2</th>\n",
              "      <td>Devid</td>\n",
              "      <td>Shaforostov</td>\n",
              "      <td>8071379</td>\n",
              "      <td>2</td>\n",
              "      <td>NaN</td>\n",
              "      <td>{'id': 1, 'title': 'Russia'}</td>\n",
              "      <td>Барнаул</td>\n",
              "      <td>1.0</td>\n",
              "      <td>192.0</td>\n",
              "      <td>False</td>\n",
              "      <td>...</td>\n",
              "      <td>Kurwa gryže!</td>\n",
              "      <td>0.0</td>\n",
              "      <td>[]</td>\n",
              "      <td></td>\n",
              "      <td>NaN</td>\n",
              "      <td>{'albums': 0, 'audios': 565, 'followers': 192,...</td>\n",
              "      <td>1</td>\n",
              "      <td>NaN</td>\n",
              "      <td></td>\n",
              "      <td>owner</td>\n",
              "    </tr>\n",
              "    <tr>\n",
              "      <th>3</th>\n",
              "      <td>Vladimir</td>\n",
              "      <td>Belokon</td>\n",
              "      <td>18417226</td>\n",
              "      <td>2</td>\n",
              "      <td>20.10</td>\n",
              "      <td>{'id': 1, 'title': 'Russia'}</td>\n",
              "      <td>NaN</td>\n",
              "      <td>1.0</td>\n",
              "      <td>NaN</td>\n",
              "      <td>True</td>\n",
              "      <td>...</td>\n",
              "      <td>Себе же на зависть\\n#HOMEDVIJ\\n#24:01</td>\n",
              "      <td>NaN</td>\n",
              "      <td>NaN</td>\n",
              "      <td></td>\n",
              "      <td>NaN</td>\n",
              "      <td>{'albums': 0, 'audios': 0, 'pages': 45, 'subsc...</td>\n",
              "      <td>1</td>\n",
              "      <td>{'id': 155911724, 'name': '#HOMEDVIJ #24:01', ...</td>\n",
              "      <td>NaN</td>\n",
              "      <td>all</td>\n",
              "    </tr>\n",
              "    <tr>\n",
              "      <th>4</th>\n",
              "      <td>Irina</td>\n",
              "      <td>Turkina</td>\n",
              "      <td>19808197</td>\n",
              "      <td>1</td>\n",
              "      <td>22.1</td>\n",
              "      <td>{'id': 1, 'title': 'Russia'}</td>\n",
              "      <td>NaN</td>\n",
              "      <td>1.0</td>\n",
              "      <td>802.0</td>\n",
              "      <td>False</td>\n",
              "      <td>...</td>\n",
              "      <td></td>\n",
              "      <td>NaN</td>\n",
              "      <td>NaN</td>\n",
              "      <td></td>\n",
              "      <td>NaN</td>\n",
              "      <td>{'albums': 0, 'audios': 0, 'followers': 802, '...</td>\n",
              "      <td>1</td>\n",
              "      <td>{'id': 381, 'name': 'АлтГУ', 'type': 'universi...</td>\n",
              "      <td></td>\n",
              "      <td>all</td>\n",
              "    </tr>\n",
              "    <tr>\n",
              "      <th>5</th>\n",
              "      <td>Daniil</td>\n",
              "      <td>Golubev</td>\n",
              "      <td>22353623</td>\n",
              "      <td>2</td>\n",
              "      <td>4.9</td>\n",
              "      <td>{'id': 1, 'title': 'Russia'}</td>\n",
              "      <td>NaN</td>\n",
              "      <td>1.0</td>\n",
              "      <td>NaN</td>\n",
              "      <td>True</td>\n",
              "      <td>...</td>\n",
              "      <td></td>\n",
              "      <td>NaN</td>\n",
              "      <td>NaN</td>\n",
              "      <td></td>\n",
              "      <td>NaN</td>\n",
              "      <td>{'albums': 0, 'audios': 0, 'pages': 20, 'subsc...</td>\n",
              "      <td>1</td>\n",
              "      <td>{'id': 377, 'name': 'АГАУ', 'type': 'universit...</td>\n",
              "      <td>NaN</td>\n",
              "      <td>all</td>\n",
              "    </tr>\n",
              "    <tr>\n",
              "      <th>6</th>\n",
              "      <td>Seryozha</td>\n",
              "      <td>Bunyakov</td>\n",
              "      <td>23542163</td>\n",
              "      <td>2</td>\n",
              "      <td>4.6.1997</td>\n",
              "      <td>{'id': 1, 'title': 'Russia'}</td>\n",
              "      <td>Москва</td>\n",
              "      <td>1.0</td>\n",
              "      <td>2339.0</td>\n",
              "      <td>False</td>\n",
              "      <td>...</td>\n",
              "      <td>ALL OF THE LIGHTS</td>\n",
              "      <td>4.0</td>\n",
              "      <td>[{'city': 1, 'country': 1, 'faculty': 943, 'fa...</td>\n",
              "      <td></td>\n",
              "      <td>NaN</td>\n",
              "      <td>{'albums': 1, 'audios': 621, 'followers': 2339...</td>\n",
              "      <td>1</td>\n",
              "      <td>{'id': 102946990, 'name': 'кэмп СЬ', 'type': '...</td>\n",
              "      <td></td>\n",
              "      <td>all</td>\n",
              "    </tr>\n",
              "    <tr>\n",
              "      <th>7</th>\n",
              "      <td>Alex</td>\n",
              "      <td>Luk</td>\n",
              "      <td>24551752</td>\n",
              "      <td>2</td>\n",
              "      <td>1.1.2002</td>\n",
              "      <td>{'id': 1, 'title': 'Russia'}</td>\n",
              "      <td>Пупкино</td>\n",
              "      <td>1.0</td>\n",
              "      <td>99.0</td>\n",
              "      <td>False</td>\n",
              "      <td>...</td>\n",
              "      <td>теперь её нет</td>\n",
              "      <td>3.0</td>\n",
              "      <td>[]</td>\n",
              "      <td></td>\n",
              "      <td>NaN</td>\n",
              "      <td>{'albums': 8, 'audios': 0, 'followers': 99, 'p...</td>\n",
              "      <td>1</td>\n",
              "      <td>NaN</td>\n",
              "      <td>https://twitter.com/#!/aLexLukin</td>\n",
              "      <td>all</td>\n",
              "    </tr>\n",
              "    <tr>\n",
              "      <th>8</th>\n",
              "      <td>Alina</td>\n",
              "      <td>Scherbakova</td>\n",
              "      <td>25732412</td>\n",
              "      <td>2</td>\n",
              "      <td>7.6.1999</td>\n",
              "      <td>{'id': 1, 'title': 'Russia'}</td>\n",
              "      <td>NaN</td>\n",
              "      <td>1.0</td>\n",
              "      <td>NaN</td>\n",
              "      <td>True</td>\n",
              "      <td>...</td>\n",
              "      <td></td>\n",
              "      <td>NaN</td>\n",
              "      <td>NaN</td>\n",
              "      <td></td>\n",
              "      <td>NaN</td>\n",
              "      <td>{'albums': 0, 'audios': 0, 'pages': 47, 'subsc...</td>\n",
              "      <td>1</td>\n",
              "      <td>NaN</td>\n",
              "      <td>NaN</td>\n",
              "      <td>owner</td>\n",
              "    </tr>\n",
              "    <tr>\n",
              "      <th>9</th>\n",
              "      <td>Vyacheslav</td>\n",
              "      <td>Burdin</td>\n",
              "      <td>30088364</td>\n",
              "      <td>2</td>\n",
              "      <td>15.2</td>\n",
              "      <td>{'id': 1, 'title': 'Russia'}</td>\n",
              "      <td>NaN</td>\n",
              "      <td>1.0</td>\n",
              "      <td>NaN</td>\n",
              "      <td>True</td>\n",
              "      <td>...</td>\n",
              "      <td></td>\n",
              "      <td>NaN</td>\n",
              "      <td>NaN</td>\n",
              "      <td></td>\n",
              "      <td>NaN</td>\n",
              "      <td>{'albums': 0, 'audios': 0, 'pages': 8, 'subscr...</td>\n",
              "      <td>1</td>\n",
              "      <td>NaN</td>\n",
              "      <td>NaN</td>\n",
              "      <td>all</td>\n",
              "    </tr>\n",
              "    <tr>\n",
              "      <th>10</th>\n",
              "      <td>Artyom</td>\n",
              "      <td>Skudarnov</td>\n",
              "      <td>30791572</td>\n",
              "      <td>2</td>\n",
              "      <td>NaN</td>\n",
              "      <td>{'id': 1, 'title': 'Russia'}</td>\n",
              "      <td>Sweet Street</td>\n",
              "      <td>1.0</td>\n",
              "      <td>444.0</td>\n",
              "      <td>False</td>\n",
              "      <td>...</td>\n",
              "      <td></td>\n",
              "      <td>4.0</td>\n",
              "      <td>[]</td>\n",
              "      <td></td>\n",
              "      <td>NaN</td>\n",
              "      <td>{'albums': 1, 'audios': 436, 'followers': 444,...</td>\n",
              "      <td>1</td>\n",
              "      <td>{'id': 212659238, 'name': 'BLEEDINGHATE', 'typ...</td>\n",
              "      <td>@shimadatattoo</td>\n",
              "      <td>all</td>\n",
              "    </tr>\n",
              "    <tr>\n",
              "      <th>11</th>\n",
              "      <td>Sema</td>\n",
              "      <td>Levchenko</td>\n",
              "      <td>38933760</td>\n",
              "      <td>2</td>\n",
              "      <td>20.2.1996</td>\n",
              "      <td>{'id': 1, 'title': 'Russia'}</td>\n",
              "      <td>Барнаул</td>\n",
              "      <td>1.0</td>\n",
              "      <td>131.0</td>\n",
              "      <td>False</td>\n",
              "      <td>...</td>\n",
              "      <td>₽</td>\n",
              "      <td>0.0</td>\n",
              "      <td>[{'city': 2, 'country': 1, 'id': 1, 'name': 'С...</td>\n",
              "      <td></td>\n",
              "      <td>NaN</td>\n",
              "      <td>{'albums': 1, 'audios': 2424, 'followers': 131...</td>\n",
              "      <td>1</td>\n",
              "      <td>{'id': 1, 'name': 'СПбГУ', 'type': 'university...</td>\n",
              "      <td></td>\n",
              "      <td>all</td>\n",
              "    </tr>\n",
              "    <tr>\n",
              "      <th>12</th>\n",
              "      <td>Darya</td>\n",
              "      <td>Usova</td>\n",
              "      <td>39204285</td>\n",
              "      <td>1</td>\n",
              "      <td>NaN</td>\n",
              "      <td>NaN</td>\n",
              "      <td></td>\n",
              "      <td>1.0</td>\n",
              "      <td>285.0</td>\n",
              "      <td>False</td>\n",
              "      <td>...</td>\n",
              "      <td>самое лучшее здесь и сейчас!!!\\nмы больше нико...</td>\n",
              "      <td>4.0</td>\n",
              "      <td>[]</td>\n",
              "      <td></td>\n",
              "      <td>NaN</td>\n",
              "      <td>{'albums': 4, 'audios': 1608, 'followers': 285...</td>\n",
              "      <td>1</td>\n",
              "      <td>NaN</td>\n",
              "      <td>https://twitter.com/ooceansizze   https://www....</td>\n",
              "      <td>owner</td>\n",
              "    </tr>\n",
              "    <tr>\n",
              "      <th>13</th>\n",
              "      <td>Lyudmila</td>\n",
              "      <td>Dubrovskaya</td>\n",
              "      <td>42591590</td>\n",
              "      <td>1</td>\n",
              "      <td>6.6</td>\n",
              "      <td>{'id': 1, 'title': 'Russia'}</td>\n",
              "      <td>NaN</td>\n",
              "      <td>1.0</td>\n",
              "      <td>NaN</td>\n",
              "      <td>True</td>\n",
              "      <td>...</td>\n",
              "      <td>космос - последний рубеж</td>\n",
              "      <td>NaN</td>\n",
              "      <td>NaN</td>\n",
              "      <td>ϟ</td>\n",
              "      <td>NaN</td>\n",
              "      <td>{'albums': 0, 'audios': 0, 'pages': 19, 'subsc...</td>\n",
              "      <td>1</td>\n",
              "      <td>NaN</td>\n",
              "      <td>NaN</td>\n",
              "      <td>owner</td>\n",
              "    </tr>\n",
              "    <tr>\n",
              "      <th>14</th>\n",
              "      <td>Anastasia</td>\n",
              "      <td>Kalinina</td>\n",
              "      <td>44607711</td>\n",
              "      <td>1</td>\n",
              "      <td>15.12</td>\n",
              "      <td>{'id': 1, 'title': 'Russia'}</td>\n",
              "      <td>NaN</td>\n",
              "      <td>1.0</td>\n",
              "      <td>NaN</td>\n",
              "      <td>True</td>\n",
              "      <td>...</td>\n",
              "      <td></td>\n",
              "      <td>NaN</td>\n",
              "      <td>NaN</td>\n",
              "      <td></td>\n",
              "      <td>NaN</td>\n",
              "      <td>{'albums': 0, 'audios': 0, 'pages': 51, 'subsc...</td>\n",
              "      <td>1</td>\n",
              "      <td>{'id': 128, 'name': 'НИУ ВШЭ (ГУ-ВШЭ)', 'type'...</td>\n",
              "      <td>NaN</td>\n",
              "      <td>owner</td>\n",
              "    </tr>\n",
              "    <tr>\n",
              "      <th>15</th>\n",
              "      <td>Karina</td>\n",
              "      <td>Baturina</td>\n",
              "      <td>45468357</td>\n",
              "      <td>1</td>\n",
              "      <td>22.4</td>\n",
              "      <td>{'id': 1, 'title': 'Russia'}</td>\n",
              "      <td>NaN</td>\n",
              "      <td>1.0</td>\n",
              "      <td>672.0</td>\n",
              "      <td>False</td>\n",
              "      <td>...</td>\n",
              "      <td>Segui il tuo corso, e lascia dir le genti</td>\n",
              "      <td>NaN</td>\n",
              "      <td>NaN</td>\n",
              "      <td></td>\n",
              "      <td>NaN</td>\n",
              "      <td>{'albums': 1, 'audios': 459, 'followers': 672,...</td>\n",
              "      <td>1</td>\n",
              "      <td>{'id': 381, 'name': 'АлтГУ', 'type': 'universi...</td>\n",
              "      <td></td>\n",
              "      <td>owner</td>\n",
              "    </tr>\n",
              "    <tr>\n",
              "      <th>16</th>\n",
              "      <td>Anastasia</td>\n",
              "      <td>Grin</td>\n",
              "      <td>47893699</td>\n",
              "      <td>1</td>\n",
              "      <td>12.1</td>\n",
              "      <td>{'id': 1, 'title': 'Russia'}</td>\n",
              "      <td>Барнаул</td>\n",
              "      <td>1.0</td>\n",
              "      <td>539.0</td>\n",
              "      <td>False</td>\n",
              "      <td>...</td>\n",
              "      <td></td>\n",
              "      <td>0.0</td>\n",
              "      <td>[]</td>\n",
              "      <td></td>\n",
              "      <td>NaN</td>\n",
              "      <td>{'albums': 0, 'audios': 0, 'followers': 539, '...</td>\n",
              "      <td>1</td>\n",
              "      <td>NaN</td>\n",
              "      <td></td>\n",
              "      <td>owner</td>\n",
              "    </tr>\n",
              "    <tr>\n",
              "      <th>17</th>\n",
              "      <td>Denis</td>\n",
              "      <td>Lazarev</td>\n",
              "      <td>48447189</td>\n",
              "      <td>2</td>\n",
              "      <td>25.12</td>\n",
              "      <td>{'id': 1, 'title': 'Russia'}</td>\n",
              "      <td>NaN</td>\n",
              "      <td>1.0</td>\n",
              "      <td>602.0</td>\n",
              "      <td>False</td>\n",
              "      <td>...</td>\n",
              "      <td>🌺🐝</td>\n",
              "      <td>NaN</td>\n",
              "      <td>NaN</td>\n",
              "      <td></td>\n",
              "      <td>NaN</td>\n",
              "      <td>{'albums': 3, 'audios': 0, 'followers': 602, '...</td>\n",
              "      <td>1</td>\n",
              "      <td>NaN</td>\n",
              "      <td></td>\n",
              "      <td>owner</td>\n",
              "    </tr>\n",
              "    <tr>\n",
              "      <th>18</th>\n",
              "      <td>Sofya</td>\n",
              "      <td>Chukavina</td>\n",
              "      <td>49470647</td>\n",
              "      <td>1</td>\n",
              "      <td>6.9.2001</td>\n",
              "      <td>{'id': 1, 'title': 'Russia'}</td>\n",
              "      <td>NaN</td>\n",
              "      <td>1.0</td>\n",
              "      <td>565.0</td>\n",
              "      <td>False</td>\n",
              "      <td>...</td>\n",
              "      <td>дальше только лучше</td>\n",
              "      <td>NaN</td>\n",
              "      <td>NaN</td>\n",
              "      <td></td>\n",
              "      <td>NaN</td>\n",
              "      <td>{'albums': 4, 'audios': 310, 'followers': 565,...</td>\n",
              "      <td>1</td>\n",
              "      <td>{'id': 44862215, 'name': 'СДПО \"Юность\" Ленинс...</td>\n",
              "      <td></td>\n",
              "      <td>all</td>\n",
              "    </tr>\n",
              "    <tr>\n",
              "      <th>19</th>\n",
              "      <td>Nikita</td>\n",
              "      <td>Borodin</td>\n",
              "      <td>49528524</td>\n",
              "      <td>2</td>\n",
              "      <td>24.4</td>\n",
              "      <td>{'id': 1, 'title': 'Russia'}</td>\n",
              "      <td>NaN</td>\n",
              "      <td>1.0</td>\n",
              "      <td>NaN</td>\n",
              "      <td>True</td>\n",
              "      <td>...</td>\n",
              "      <td>гелий, миллиампер, плебей, фиточай</td>\n",
              "      <td>NaN</td>\n",
              "      <td>NaN</td>\n",
              "      <td></td>\n",
              "      <td>NaN</td>\n",
              "      <td>{'albums': 0, 'audios': 0, 'pages': 70, 'subsc...</td>\n",
              "      <td>1</td>\n",
              "      <td>{'id': 380, 'name': 'АлтГТУ им. Ползунова', 't...</td>\n",
              "      <td>NaN</td>\n",
              "      <td>all</td>\n",
              "    </tr>\n",
              "  </tbody>\n",
              "</table>\n",
              "<p>20 rows × 29 columns</p>\n",
              "</div>\n",
              "      <button class=\"colab-df-convert\" onclick=\"convertToInteractive('df-70416c27-3159-40da-9667-3284a327af54')\"\n",
              "              title=\"Convert this dataframe to an interactive table.\"\n",
              "              style=\"display:none;\">\n",
              "        \n",
              "  <svg xmlns=\"http://www.w3.org/2000/svg\" height=\"24px\"viewBox=\"0 0 24 24\"\n",
              "       width=\"24px\">\n",
              "    <path d=\"M0 0h24v24H0V0z\" fill=\"none\"/>\n",
              "    <path d=\"M18.56 5.44l.94 2.06.94-2.06 2.06-.94-2.06-.94-.94-2.06-.94 2.06-2.06.94zm-11 1L8.5 8.5l.94-2.06 2.06-.94-2.06-.94L8.5 2.5l-.94 2.06-2.06.94zm10 10l.94 2.06.94-2.06 2.06-.94-2.06-.94-.94-2.06-.94 2.06-2.06.94z\"/><path d=\"M17.41 7.96l-1.37-1.37c-.4-.4-.92-.59-1.43-.59-.52 0-1.04.2-1.43.59L10.3 9.45l-7.72 7.72c-.78.78-.78 2.05 0 2.83L4 21.41c.39.39.9.59 1.41.59.51 0 1.02-.2 1.41-.59l7.78-7.78 2.81-2.81c.8-.78.8-2.07 0-2.86zM5.41 20L4 18.59l7.72-7.72 1.47 1.35L5.41 20z\"/>\n",
              "  </svg>\n",
              "      </button>\n",
              "      \n",
              "  <style>\n",
              "    .colab-df-container {\n",
              "      display:flex;\n",
              "      flex-wrap:wrap;\n",
              "      gap: 12px;\n",
              "    }\n",
              "\n",
              "    .colab-df-convert {\n",
              "      background-color: #E8F0FE;\n",
              "      border: none;\n",
              "      border-radius: 50%;\n",
              "      cursor: pointer;\n",
              "      display: none;\n",
              "      fill: #1967D2;\n",
              "      height: 32px;\n",
              "      padding: 0 0 0 0;\n",
              "      width: 32px;\n",
              "    }\n",
              "\n",
              "    .colab-df-convert:hover {\n",
              "      background-color: #E2EBFA;\n",
              "      box-shadow: 0px 1px 2px rgba(60, 64, 67, 0.3), 0px 1px 3px 1px rgba(60, 64, 67, 0.15);\n",
              "      fill: #174EA6;\n",
              "    }\n",
              "\n",
              "    [theme=dark] .colab-df-convert {\n",
              "      background-color: #3B4455;\n",
              "      fill: #D2E3FC;\n",
              "    }\n",
              "\n",
              "    [theme=dark] .colab-df-convert:hover {\n",
              "      background-color: #434B5C;\n",
              "      box-shadow: 0px 1px 3px 1px rgba(0, 0, 0, 0.15);\n",
              "      filter: drop-shadow(0px 1px 2px rgba(0, 0, 0, 0.3));\n",
              "      fill: #FFFFFF;\n",
              "    }\n",
              "  </style>\n",
              "\n",
              "      <script>\n",
              "        const buttonEl =\n",
              "          document.querySelector('#df-70416c27-3159-40da-9667-3284a327af54 button.colab-df-convert');\n",
              "        buttonEl.style.display =\n",
              "          google.colab.kernel.accessAllowed ? 'block' : 'none';\n",
              "\n",
              "        async function convertToInteractive(key) {\n",
              "          const element = document.querySelector('#df-70416c27-3159-40da-9667-3284a327af54');\n",
              "          const dataTable =\n",
              "            await google.colab.kernel.invokeFunction('convertToInteractive',\n",
              "                                                     [key], {});\n",
              "          if (!dataTable) return;\n",
              "\n",
              "          const docLinkHtml = 'Like what you see? Visit the ' +\n",
              "            '<a target=\"_blank\" href=https://colab.research.google.com/notebooks/data_table.ipynb>data table notebook</a>'\n",
              "            + ' to learn more about interactive tables.';\n",
              "          element.innerHTML = '';\n",
              "          dataTable['output_type'] = 'display_data';\n",
              "          await google.colab.output.renderOutput(dataTable, element);\n",
              "          const docLink = document.createElement('div');\n",
              "          docLink.innerHTML = docLinkHtml;\n",
              "          element.appendChild(docLink);\n",
              "        }\n",
              "      </script>\n",
              "    </div>\n",
              "  </div>\n",
              "  "
            ]
          },
          "metadata": {},
          "execution_count": 14
        }
      ]
    },
    {
      "cell_type": "code",
      "source": [
        "df.to_excel('/content/drive/MyDrive/Colab Notebooks/friends.xlsx', sheet_name='Sheet_name_1')"
      ],
      "metadata": {
        "id": "vWqE2XIILz-P"
      },
      "execution_count": null,
      "outputs": []
    },
    {
      "cell_type": "code",
      "metadata": {
        "id": "Aig8GAW0t7eF",
        "colab": {
          "base_uri": "https://localhost:8080/",
          "height": 384
        },
        "outputId": "14aa5e1c-2532-44f8-ebe7-9c112dd6eb68"
      },
      "source": [
        "df = pd.read_excel('/content/drive/MyDrive/Colab Notebooks/friends.xlsx')\n",
        "df.head()"
      ],
      "execution_count": null,
      "outputs": [
        {
          "output_type": "execute_result",
          "data": {
            "text/plain": [
              "   Unnamed: 0 first_name    last_name        id  sex  bdate  \\\n",
              "0           0    Nikolay     Babichev   2132738    2    NaN   \n",
              "1           1     Nikita    Kislyakov   3491909    2   13.1   \n",
              "2           2      Devid  Shaforostov   8071379    2    NaN   \n",
              "3           3   Vladimir      Belokon  18417226    2  20.10   \n",
              "4           4      Irina      Turkina  19808197    1   22.1   \n",
              "\n",
              "                        country home_town  has_mobile  followers_count  ...  \\\n",
              "0  {'id': 1, 'title': 'Russia'}       NaN         1.0              NaN  ...   \n",
              "1  {'id': 1, 'title': 'Russia'}       NaN         1.0           2300.0  ...   \n",
              "2  {'id': 1, 'title': 'Russia'}   Барнаул         1.0            192.0  ...   \n",
              "3  {'id': 1, 'title': 'Russia'}       NaN         1.0              NaN  ...   \n",
              "4  {'id': 1, 'title': 'Russia'}       NaN         1.0            802.0  ...   \n",
              "\n",
              "                                              status  relation  \\\n",
              "0                                                NaN       NaN   \n",
              "1  Рассказываю о жизни и работе, пишу стихи и рас...       0.0   \n",
              "2                                       Kurwa gryže!       0.0   \n",
              "3              Себе же на зависть\\n#HOMEDVIJ\\n#24:01       NaN   \n",
              "4                                                NaN       NaN   \n",
              "\n",
              "                                        universities  nickname deactivated  \\\n",
              "0                                                NaN       NaN         NaN   \n",
              "1  [{'city': 1, 'country': 1, 'id': 128, 'name': ...       NaN         NaN   \n",
              "2                                                 []       NaN         NaN   \n",
              "3                                                NaN       NaN         NaN   \n",
              "4                                                NaN       NaN         NaN   \n",
              "\n",
              "                                            counters  has_photo  \\\n",
              "0  {'albums': 0, 'audios': 0, 'pages': 132, 'subs...          1   \n",
              "1  {'albums': 2, 'audios': 12, 'followers': 2300,...          1   \n",
              "2  {'albums': 0, 'audios': 565, 'followers': 192,...          1   \n",
              "3  {'albums': 0, 'audios': 0, 'pages': 45, 'subsc...          1   \n",
              "4  {'albums': 0, 'audios': 0, 'followers': 802, '...          1   \n",
              "\n",
              "                                          occupation  site  wall_default  \n",
              "0                                                NaN   NaN         owner  \n",
              "1  {'id': 28915774, 'name': 'ОТС-Горсайт', 'type'...   NaN           all  \n",
              "2                                                NaN   NaN         owner  \n",
              "3  {'id': 155911724, 'name': '#HOMEDVIJ #24:01', ...   NaN           all  \n",
              "4  {'id': 381, 'name': 'АлтГУ', 'type': 'universi...   NaN           all  \n",
              "\n",
              "[5 rows x 30 columns]"
            ],
            "text/html": [
              "\n",
              "  <div id=\"df-4389cd4f-f8ce-4fc6-aefb-f612b228827c\">\n",
              "    <div class=\"colab-df-container\">\n",
              "      <div>\n",
              "<style scoped>\n",
              "    .dataframe tbody tr th:only-of-type {\n",
              "        vertical-align: middle;\n",
              "    }\n",
              "\n",
              "    .dataframe tbody tr th {\n",
              "        vertical-align: top;\n",
              "    }\n",
              "\n",
              "    .dataframe thead th {\n",
              "        text-align: right;\n",
              "    }\n",
              "</style>\n",
              "<table border=\"1\" class=\"dataframe\">\n",
              "  <thead>\n",
              "    <tr style=\"text-align: right;\">\n",
              "      <th></th>\n",
              "      <th>Unnamed: 0</th>\n",
              "      <th>first_name</th>\n",
              "      <th>last_name</th>\n",
              "      <th>id</th>\n",
              "      <th>sex</th>\n",
              "      <th>bdate</th>\n",
              "      <th>country</th>\n",
              "      <th>home_town</th>\n",
              "      <th>has_mobile</th>\n",
              "      <th>followers_count</th>\n",
              "      <th>...</th>\n",
              "      <th>status</th>\n",
              "      <th>relation</th>\n",
              "      <th>universities</th>\n",
              "      <th>nickname</th>\n",
              "      <th>deactivated</th>\n",
              "      <th>counters</th>\n",
              "      <th>has_photo</th>\n",
              "      <th>occupation</th>\n",
              "      <th>site</th>\n",
              "      <th>wall_default</th>\n",
              "    </tr>\n",
              "  </thead>\n",
              "  <tbody>\n",
              "    <tr>\n",
              "      <th>0</th>\n",
              "      <td>0</td>\n",
              "      <td>Nikolay</td>\n",
              "      <td>Babichev</td>\n",
              "      <td>2132738</td>\n",
              "      <td>2</td>\n",
              "      <td>NaN</td>\n",
              "      <td>{'id': 1, 'title': 'Russia'}</td>\n",
              "      <td>NaN</td>\n",
              "      <td>1.0</td>\n",
              "      <td>NaN</td>\n",
              "      <td>...</td>\n",
              "      <td>NaN</td>\n",
              "      <td>NaN</td>\n",
              "      <td>NaN</td>\n",
              "      <td>NaN</td>\n",
              "      <td>NaN</td>\n",
              "      <td>{'albums': 0, 'audios': 0, 'pages': 132, 'subs...</td>\n",
              "      <td>1</td>\n",
              "      <td>NaN</td>\n",
              "      <td>NaN</td>\n",
              "      <td>owner</td>\n",
              "    </tr>\n",
              "    <tr>\n",
              "      <th>1</th>\n",
              "      <td>1</td>\n",
              "      <td>Nikita</td>\n",
              "      <td>Kislyakov</td>\n",
              "      <td>3491909</td>\n",
              "      <td>2</td>\n",
              "      <td>13.1</td>\n",
              "      <td>{'id': 1, 'title': 'Russia'}</td>\n",
              "      <td>NaN</td>\n",
              "      <td>1.0</td>\n",
              "      <td>2300.0</td>\n",
              "      <td>...</td>\n",
              "      <td>Рассказываю о жизни и работе, пишу стихи и рас...</td>\n",
              "      <td>0.0</td>\n",
              "      <td>[{'city': 1, 'country': 1, 'id': 128, 'name': ...</td>\n",
              "      <td>NaN</td>\n",
              "      <td>NaN</td>\n",
              "      <td>{'albums': 2, 'audios': 12, 'followers': 2300,...</td>\n",
              "      <td>1</td>\n",
              "      <td>{'id': 28915774, 'name': 'ОТС-Горсайт', 'type'...</td>\n",
              "      <td>NaN</td>\n",
              "      <td>all</td>\n",
              "    </tr>\n",
              "    <tr>\n",
              "      <th>2</th>\n",
              "      <td>2</td>\n",
              "      <td>Devid</td>\n",
              "      <td>Shaforostov</td>\n",
              "      <td>8071379</td>\n",
              "      <td>2</td>\n",
              "      <td>NaN</td>\n",
              "      <td>{'id': 1, 'title': 'Russia'}</td>\n",
              "      <td>Барнаул</td>\n",
              "      <td>1.0</td>\n",
              "      <td>192.0</td>\n",
              "      <td>...</td>\n",
              "      <td>Kurwa gryže!</td>\n",
              "      <td>0.0</td>\n",
              "      <td>[]</td>\n",
              "      <td>NaN</td>\n",
              "      <td>NaN</td>\n",
              "      <td>{'albums': 0, 'audios': 565, 'followers': 192,...</td>\n",
              "      <td>1</td>\n",
              "      <td>NaN</td>\n",
              "      <td>NaN</td>\n",
              "      <td>owner</td>\n",
              "    </tr>\n",
              "    <tr>\n",
              "      <th>3</th>\n",
              "      <td>3</td>\n",
              "      <td>Vladimir</td>\n",
              "      <td>Belokon</td>\n",
              "      <td>18417226</td>\n",
              "      <td>2</td>\n",
              "      <td>20.10</td>\n",
              "      <td>{'id': 1, 'title': 'Russia'}</td>\n",
              "      <td>NaN</td>\n",
              "      <td>1.0</td>\n",
              "      <td>NaN</td>\n",
              "      <td>...</td>\n",
              "      <td>Себе же на зависть\\n#HOMEDVIJ\\n#24:01</td>\n",
              "      <td>NaN</td>\n",
              "      <td>NaN</td>\n",
              "      <td>NaN</td>\n",
              "      <td>NaN</td>\n",
              "      <td>{'albums': 0, 'audios': 0, 'pages': 45, 'subsc...</td>\n",
              "      <td>1</td>\n",
              "      <td>{'id': 155911724, 'name': '#HOMEDVIJ #24:01', ...</td>\n",
              "      <td>NaN</td>\n",
              "      <td>all</td>\n",
              "    </tr>\n",
              "    <tr>\n",
              "      <th>4</th>\n",
              "      <td>4</td>\n",
              "      <td>Irina</td>\n",
              "      <td>Turkina</td>\n",
              "      <td>19808197</td>\n",
              "      <td>1</td>\n",
              "      <td>22.1</td>\n",
              "      <td>{'id': 1, 'title': 'Russia'}</td>\n",
              "      <td>NaN</td>\n",
              "      <td>1.0</td>\n",
              "      <td>802.0</td>\n",
              "      <td>...</td>\n",
              "      <td>NaN</td>\n",
              "      <td>NaN</td>\n",
              "      <td>NaN</td>\n",
              "      <td>NaN</td>\n",
              "      <td>NaN</td>\n",
              "      <td>{'albums': 0, 'audios': 0, 'followers': 802, '...</td>\n",
              "      <td>1</td>\n",
              "      <td>{'id': 381, 'name': 'АлтГУ', 'type': 'universi...</td>\n",
              "      <td>NaN</td>\n",
              "      <td>all</td>\n",
              "    </tr>\n",
              "  </tbody>\n",
              "</table>\n",
              "<p>5 rows × 30 columns</p>\n",
              "</div>\n",
              "      <button class=\"colab-df-convert\" onclick=\"convertToInteractive('df-4389cd4f-f8ce-4fc6-aefb-f612b228827c')\"\n",
              "              title=\"Convert this dataframe to an interactive table.\"\n",
              "              style=\"display:none;\">\n",
              "        \n",
              "  <svg xmlns=\"http://www.w3.org/2000/svg\" height=\"24px\"viewBox=\"0 0 24 24\"\n",
              "       width=\"24px\">\n",
              "    <path d=\"M0 0h24v24H0V0z\" fill=\"none\"/>\n",
              "    <path d=\"M18.56 5.44l.94 2.06.94-2.06 2.06-.94-2.06-.94-.94-2.06-.94 2.06-2.06.94zm-11 1L8.5 8.5l.94-2.06 2.06-.94-2.06-.94L8.5 2.5l-.94 2.06-2.06.94zm10 10l.94 2.06.94-2.06 2.06-.94-2.06-.94-.94-2.06-.94 2.06-2.06.94z\"/><path d=\"M17.41 7.96l-1.37-1.37c-.4-.4-.92-.59-1.43-.59-.52 0-1.04.2-1.43.59L10.3 9.45l-7.72 7.72c-.78.78-.78 2.05 0 2.83L4 21.41c.39.39.9.59 1.41.59.51 0 1.02-.2 1.41-.59l7.78-7.78 2.81-2.81c.8-.78.8-2.07 0-2.86zM5.41 20L4 18.59l7.72-7.72 1.47 1.35L5.41 20z\"/>\n",
              "  </svg>\n",
              "      </button>\n",
              "      \n",
              "  <style>\n",
              "    .colab-df-container {\n",
              "      display:flex;\n",
              "      flex-wrap:wrap;\n",
              "      gap: 12px;\n",
              "    }\n",
              "\n",
              "    .colab-df-convert {\n",
              "      background-color: #E8F0FE;\n",
              "      border: none;\n",
              "      border-radius: 50%;\n",
              "      cursor: pointer;\n",
              "      display: none;\n",
              "      fill: #1967D2;\n",
              "      height: 32px;\n",
              "      padding: 0 0 0 0;\n",
              "      width: 32px;\n",
              "    }\n",
              "\n",
              "    .colab-df-convert:hover {\n",
              "      background-color: #E2EBFA;\n",
              "      box-shadow: 0px 1px 2px rgba(60, 64, 67, 0.3), 0px 1px 3px 1px rgba(60, 64, 67, 0.15);\n",
              "      fill: #174EA6;\n",
              "    }\n",
              "\n",
              "    [theme=dark] .colab-df-convert {\n",
              "      background-color: #3B4455;\n",
              "      fill: #D2E3FC;\n",
              "    }\n",
              "\n",
              "    [theme=dark] .colab-df-convert:hover {\n",
              "      background-color: #434B5C;\n",
              "      box-shadow: 0px 1px 3px 1px rgba(0, 0, 0, 0.15);\n",
              "      filter: drop-shadow(0px 1px 2px rgba(0, 0, 0, 0.3));\n",
              "      fill: #FFFFFF;\n",
              "    }\n",
              "  </style>\n",
              "\n",
              "      <script>\n",
              "        const buttonEl =\n",
              "          document.querySelector('#df-4389cd4f-f8ce-4fc6-aefb-f612b228827c button.colab-df-convert');\n",
              "        buttonEl.style.display =\n",
              "          google.colab.kernel.accessAllowed ? 'block' : 'none';\n",
              "\n",
              "        async function convertToInteractive(key) {\n",
              "          const element = document.querySelector('#df-4389cd4f-f8ce-4fc6-aefb-f612b228827c');\n",
              "          const dataTable =\n",
              "            await google.colab.kernel.invokeFunction('convertToInteractive',\n",
              "                                                     [key], {});\n",
              "          if (!dataTable) return;\n",
              "\n",
              "          const docLinkHtml = 'Like what you see? Visit the ' +\n",
              "            '<a target=\"_blank\" href=https://colab.research.google.com/notebooks/data_table.ipynb>data table notebook</a>'\n",
              "            + ' to learn more about interactive tables.';\n",
              "          element.innerHTML = '';\n",
              "          dataTable['output_type'] = 'display_data';\n",
              "          await google.colab.output.renderOutput(dataTable, element);\n",
              "          const docLink = document.createElement('div');\n",
              "          docLink.innerHTML = docLinkHtml;\n",
              "          element.appendChild(docLink);\n",
              "        }\n",
              "      </script>\n",
              "    </div>\n",
              "  </div>\n",
              "  "
            ]
          },
          "metadata": {},
          "execution_count": 16
        }
      ]
    },
    {
      "cell_type": "code",
      "source": [
        "df.info()"
      ],
      "metadata": {
        "colab": {
          "base_uri": "https://localhost:8080/"
        },
        "id": "inzMaZNeYoJ-",
        "outputId": "63429092-9845-456c-e481-4fec18da8464"
      },
      "execution_count": null,
      "outputs": [
        {
          "output_type": "stream",
          "name": "stdout",
          "text": [
            "<class 'pandas.core.frame.DataFrame'>\n",
            "RangeIndex: 360 entries, 0 to 359\n",
            "Data columns (total 30 columns):\n",
            " #   Column                     Non-Null Count  Dtype  \n",
            "---  ------                     --------------  -----  \n",
            " 0   Unnamed: 0                 360 non-null    int64  \n",
            " 1   first_name                 360 non-null    object \n",
            " 2   last_name                  348 non-null    object \n",
            " 3   id                         360 non-null    int64  \n",
            " 4   sex                        360 non-null    int64  \n",
            " 5   bdate                      299 non-null    object \n",
            " 6   country                    286 non-null    object \n",
            " 7   home_town                  68 non-null     object \n",
            " 8   has_mobile                 340 non-null    float64\n",
            " 9   followers_count            257 non-null    float64\n",
            " 10  is_closed                  340 non-null    float64\n",
            " 11  can_access_closed          340 non-null    float64\n",
            " 12  can_see_audio              340 non-null    float64\n",
            " 13  online                     360 non-null    int64  \n",
            " 14  city                       224 non-null    object \n",
            " 15  timezone                   0 non-null      float64\n",
            " 16  can_post                   360 non-null    int64  \n",
            " 17  can_write_private_message  360 non-null    int64  \n",
            " 18  can_see_all_posts          340 non-null    float64\n",
            " 19  contacts                   0 non-null      float64\n",
            " 20  status                     157 non-null    object \n",
            " 21  relation                   113 non-null    float64\n",
            " 22  universities               113 non-null    object \n",
            " 23  nickname                   4 non-null      object \n",
            " 24  deactivated                20 non-null     object \n",
            " 25  counters                   340 non-null    object \n",
            " 26  has_photo                  360 non-null    int64  \n",
            " 27  occupation                 174 non-null    object \n",
            " 28  site                       56 non-null     object \n",
            " 29  wall_default               340 non-null    object \n",
            "dtypes: float64(9), int64(7), object(14)\n",
            "memory usage: 84.5+ KB\n"
          ]
        }
      ]
    },
    {
      "cell_type": "code",
      "source": [
        "len(df)"
      ],
      "metadata": {
        "colab": {
          "base_uri": "https://localhost:8080/"
        },
        "id": "mzkWVY3VQLSx",
        "outputId": "b0e96a38-28e0-44ed-a59a-8780fd86d1b3"
      },
      "execution_count": null,
      "outputs": [
        {
          "output_type": "execute_result",
          "data": {
            "text/plain": [
              "360"
            ]
          },
          "metadata": {},
          "execution_count": 18
        }
      ]
    },
    {
      "cell_type": "code",
      "source": [
        "import json"
      ],
      "metadata": {
        "id": "7Ar5P0IKRqck"
      },
      "execution_count": null,
      "outputs": []
    },
    {
      "cell_type": "code",
      "source": [
        "for i in range(len(df)):\n",
        "  try:\n",
        "    df['country'][i] = json.loads(df['country'][i].replace(\"\\'\", \"\\\"\")).get('title')\n",
        "  except:\n",
        "    print(df['country'][i])"
      ],
      "metadata": {
        "id": "B7RG3jaxNj8l",
        "colab": {
          "base_uri": "https://localhost:8080/"
        },
        "outputId": "33ce08db-e8c2-49aa-8774-1251e29b690c"
      },
      "execution_count": null,
      "outputs": [
        {
          "output_type": "stream",
          "name": "stdout",
          "text": [
            "nan\n",
            "nan\n",
            "nan\n",
            "nan\n",
            "nan\n",
            "nan\n",
            "nan\n",
            "nan\n",
            "nan\n",
            "nan\n",
            "nan\n",
            "nan\n",
            "nan\n",
            "nan\n",
            "nan\n",
            "nan\n",
            "nan\n",
            "nan\n",
            "nan\n",
            "nan\n",
            "nan\n",
            "nan\n",
            "nan\n",
            "nan\n",
            "nan\n",
            "nan\n",
            "nan\n",
            "nan\n",
            "nan\n",
            "nan\n",
            "nan\n",
            "nan\n",
            "nan\n",
            "nan\n",
            "nan\n",
            "nan\n",
            "nan\n",
            "nan\n",
            "nan\n",
            "nan\n",
            "nan\n",
            "nan\n",
            "nan\n",
            "nan\n",
            "nan\n",
            "nan\n",
            "nan\n",
            "nan\n",
            "nan\n",
            "nan\n",
            "nan\n",
            "nan\n",
            "nan\n",
            "nan\n",
            "nan\n",
            "nan\n",
            "nan\n",
            "nan\n",
            "nan\n",
            "nan\n",
            "nan\n",
            "nan\n",
            "nan\n",
            "nan\n",
            "nan\n",
            "nan\n",
            "nan\n",
            "nan\n",
            "nan\n",
            "nan\n",
            "nan\n",
            "nan\n",
            "nan\n",
            "nan\n"
          ]
        },
        {
          "output_type": "stream",
          "name": "stderr",
          "text": [
            "/usr/local/lib/python3.7/dist-packages/ipykernel_launcher.py:3: SettingWithCopyWarning: \n",
            "A value is trying to be set on a copy of a slice from a DataFrame\n",
            "\n",
            "See the caveats in the documentation: https://pandas.pydata.org/pandas-docs/stable/user_guide/indexing.html#returning-a-view-versus-a-copy\n",
            "  This is separate from the ipykernel package so we can avoid doing imports until\n"
          ]
        }
      ]
    },
    {
      "cell_type": "code",
      "source": [
        "print(df['counters'][0])\n",
        "print(json.loads(df['counters'][0].replace(\"\\'\", \"\\\"\")).get('albums'))"
      ],
      "metadata": {
        "colab": {
          "base_uri": "https://localhost:8080/"
        },
        "id": "TX3dS5PIadVu",
        "outputId": "e387fe34-8ce9-44bc-c812-51696ccfb563"
      },
      "execution_count": null,
      "outputs": [
        {
          "output_type": "stream",
          "name": "stdout",
          "text": [
            "{'albums': 0, 'audios': 0, 'pages': 132, 'subscriptions': 9, 'videos': 0, 'posts': 468}\n",
            "0\n"
          ]
        }
      ]
    },
    {
      "cell_type": "code",
      "source": [
        "cs = ['albums', 'audios', 'followers', 'pages', 'photos', 'subscriptions', 'videos', 'clips_followers' ]\n",
        "for col in cs:\n",
        "  df[f'media_{col}'] = np.nan\n",
        "\n",
        "for i in range(len(df)):\n",
        "  for col in cs:\n",
        "    try:\n",
        "      df[f'media_{col}'][i] = json.loads(df['counters'][i].replace(\"\\'\", \"\\\"\")).get(col)\n",
        "    except:\n",
        "      df[f'media_{col}'][i] = np.nan"
      ],
      "metadata": {
        "colab": {
          "base_uri": "https://localhost:8080/"
        },
        "id": "25fuE2Cada8O",
        "outputId": "69cde016-e697-42f6-b2d3-229d061f224e"
      },
      "execution_count": null,
      "outputs": [
        {
          "output_type": "stream",
          "name": "stderr",
          "text": [
            "/usr/local/lib/python3.7/dist-packages/ipykernel_launcher.py:8: SettingWithCopyWarning: \n",
            "A value is trying to be set on a copy of a slice from a DataFrame\n",
            "\n",
            "See the caveats in the documentation: https://pandas.pydata.org/pandas-docs/stable/user_guide/indexing.html#returning-a-view-versus-a-copy\n",
            "  \n",
            "/usr/local/lib/python3.7/dist-packages/ipykernel_launcher.py:10: SettingWithCopyWarning: \n",
            "A value is trying to be set on a copy of a slice from a DataFrame\n",
            "\n",
            "See the caveats in the documentation: https://pandas.pydata.org/pandas-docs/stable/user_guide/indexing.html#returning-a-view-versus-a-copy\n",
            "  # Remove the CWD from sys.path while we load stuff.\n"
          ]
        }
      ]
    },
    {
      "cell_type": "code",
      "source": [
        "list(json.loads(df['universities'][1].replace(\"\\'\", \"\\\"\"))[0].keys())"
      ],
      "metadata": {
        "id": "1ySQ39RxpEnI",
        "colab": {
          "base_uri": "https://localhost:8080/"
        },
        "outputId": "f19c6189-a47a-4950-c3a9-f3ceedf0fe5c"
      },
      "execution_count": null,
      "outputs": [
        {
          "output_type": "execute_result",
          "data": {
            "text/plain": [
              "['city', 'country', 'id', 'name']"
            ]
          },
          "metadata": {},
          "execution_count": 23
        }
      ]
    },
    {
      "cell_type": "code",
      "source": [
        "university = list(json.loads(df['universities'][1].replace(\"\\'\", \"\\\"\"))[0].keys())\n",
        "\n",
        "for uni in university:\n",
        "  df[f'university_{uni}'] = np.nan\n",
        "\n",
        "for i in range(len(df)):\n",
        "  for uni in university:\n",
        "    try:\n",
        "      df[f'university_{uni}'][i] = json.loads(df['universities'][i].replace(\"\\'\", \"\\\"\"))[0].get(uni)\n",
        "    except:\n",
        "      df[f'university_{uni}'][i] = np.nan"
      ],
      "metadata": {
        "id": "8J1SlMcflmaO",
        "colab": {
          "base_uri": "https://localhost:8080/"
        },
        "outputId": "7150a00f-e8ba-4926-f449-fe85b4f106dd"
      },
      "execution_count": null,
      "outputs": [
        {
          "output_type": "stream",
          "name": "stderr",
          "text": [
            "/usr/local/lib/python3.7/dist-packages/ipykernel_launcher.py:11: SettingWithCopyWarning: \n",
            "A value is trying to be set on a copy of a slice from a DataFrame\n",
            "\n",
            "See the caveats in the documentation: https://pandas.pydata.org/pandas-docs/stable/user_guide/indexing.html#returning-a-view-versus-a-copy\n",
            "  # This is added back by InteractiveShellApp.init_path()\n",
            "/usr/local/lib/python3.7/dist-packages/ipykernel_launcher.py:9: SettingWithCopyWarning: \n",
            "A value is trying to be set on a copy of a slice from a DataFrame\n",
            "\n",
            "See the caveats in the documentation: https://pandas.pydata.org/pandas-docs/stable/user_guide/indexing.html#returning-a-view-versus-a-copy\n",
            "  if __name__ == '__main__':\n",
            "/usr/local/lib/python3.7/dist-packages/pandas/core/indexing.py:1732: SettingWithCopyWarning: \n",
            "A value is trying to be set on a copy of a slice from a DataFrame\n",
            "\n",
            "See the caveats in the documentation: https://pandas.pydata.org/pandas-docs/stable/user_guide/indexing.html#returning-a-view-versus-a-copy\n",
            "  self._setitem_single_block(indexer, value, name)\n"
          ]
        }
      ]
    },
    {
      "cell_type": "code",
      "source": [
        "df.info()"
      ],
      "metadata": {
        "id": "Va5Sdip0gJLz",
        "colab": {
          "base_uri": "https://localhost:8080/"
        },
        "outputId": "95e3637e-aa22-41e4-c59c-a0b64012b062"
      },
      "execution_count": null,
      "outputs": [
        {
          "output_type": "stream",
          "name": "stdout",
          "text": [
            "<class 'pandas.core.frame.DataFrame'>\n",
            "RangeIndex: 360 entries, 0 to 359\n",
            "Data columns (total 42 columns):\n",
            " #   Column                     Non-Null Count  Dtype  \n",
            "---  ------                     --------------  -----  \n",
            " 0   Unnamed: 0                 360 non-null    int64  \n",
            " 1   first_name                 360 non-null    object \n",
            " 2   last_name                  348 non-null    object \n",
            " 3   id                         360 non-null    int64  \n",
            " 4   sex                        360 non-null    int64  \n",
            " 5   bdate                      299 non-null    object \n",
            " 6   country                    286 non-null    object \n",
            " 7   home_town                  68 non-null     object \n",
            " 8   has_mobile                 340 non-null    float64\n",
            " 9   followers_count            257 non-null    float64\n",
            " 10  is_closed                  340 non-null    float64\n",
            " 11  can_access_closed          340 non-null    float64\n",
            " 12  can_see_audio              340 non-null    float64\n",
            " 13  online                     360 non-null    int64  \n",
            " 14  city                       224 non-null    object \n",
            " 15  timezone                   0 non-null      float64\n",
            " 16  can_post                   360 non-null    int64  \n",
            " 17  can_write_private_message  360 non-null    int64  \n",
            " 18  can_see_all_posts          340 non-null    float64\n",
            " 19  contacts                   0 non-null      float64\n",
            " 20  status                     157 non-null    object \n",
            " 21  relation                   113 non-null    float64\n",
            " 22  universities               113 non-null    object \n",
            " 23  nickname                   4 non-null      object \n",
            " 24  deactivated                20 non-null     object \n",
            " 25  counters                   340 non-null    object \n",
            " 26  has_photo                  360 non-null    int64  \n",
            " 27  occupation                 174 non-null    object \n",
            " 28  site                       56 non-null     object \n",
            " 29  wall_default               340 non-null    object \n",
            " 30  media_albums               340 non-null    float64\n",
            " 31  media_audios               340 non-null    float64\n",
            " 32  media_followers            257 non-null    float64\n",
            " 33  media_pages                340 non-null    float64\n",
            " 34  media_photos               257 non-null    float64\n",
            " 35  media_subscriptions        340 non-null    float64\n",
            " 36  media_videos               340 non-null    float64\n",
            " 37  media_clips_followers      257 non-null    float64\n",
            " 38  university_city            40 non-null     float64\n",
            " 39  university_country         40 non-null     float64\n",
            " 40  university_id              40 non-null     float64\n",
            " 41  university_name            40 non-null     object \n",
            "dtypes: float64(20), int64(7), object(15)\n",
            "memory usage: 118.2+ KB\n"
          ]
        }
      ]
    },
    {
      "cell_type": "markdown",
      "metadata": {
        "id": "2Pr7UY0BtykF"
      },
      "source": [
        "## **4. Работа с признаками**"
      ]
    },
    {
      "cell_type": "code",
      "source": [
        "df_copy = df.copy(deep=True)"
      ],
      "metadata": {
        "id": "cSpjPCnW2T9l"
      },
      "execution_count": null,
      "outputs": []
    },
    {
      "cell_type": "markdown",
      "source": [
        "### **4.1. Удаление нулевых столбцов**"
      ],
      "metadata": {
        "id": "eW5KkjsAxVt8"
      }
    },
    {
      "cell_type": "code",
      "source": [
        "df.info()"
      ],
      "metadata": {
        "id": "n9ttulx9xkqW",
        "colab": {
          "base_uri": "https://localhost:8080/"
        },
        "outputId": "a87543cb-8d2f-46df-dde5-c480259b8c41"
      },
      "execution_count": null,
      "outputs": [
        {
          "output_type": "stream",
          "name": "stdout",
          "text": [
            "<class 'pandas.core.frame.DataFrame'>\n",
            "RangeIndex: 360 entries, 0 to 359\n",
            "Data columns (total 42 columns):\n",
            " #   Column                     Non-Null Count  Dtype  \n",
            "---  ------                     --------------  -----  \n",
            " 0   Unnamed: 0                 360 non-null    int64  \n",
            " 1   first_name                 360 non-null    object \n",
            " 2   last_name                  348 non-null    object \n",
            " 3   id                         360 non-null    int64  \n",
            " 4   sex                        360 non-null    int64  \n",
            " 5   bdate                      299 non-null    object \n",
            " 6   country                    286 non-null    object \n",
            " 7   home_town                  68 non-null     object \n",
            " 8   has_mobile                 340 non-null    float64\n",
            " 9   followers_count            257 non-null    float64\n",
            " 10  is_closed                  340 non-null    float64\n",
            " 11  can_access_closed          340 non-null    float64\n",
            " 12  can_see_audio              340 non-null    float64\n",
            " 13  online                     360 non-null    int64  \n",
            " 14  city                       224 non-null    object \n",
            " 15  timezone                   0 non-null      float64\n",
            " 16  can_post                   360 non-null    int64  \n",
            " 17  can_write_private_message  360 non-null    int64  \n",
            " 18  can_see_all_posts          340 non-null    float64\n",
            " 19  contacts                   0 non-null      float64\n",
            " 20  status                     157 non-null    object \n",
            " 21  relation                   113 non-null    float64\n",
            " 22  universities               113 non-null    object \n",
            " 23  nickname                   4 non-null      object \n",
            " 24  deactivated                20 non-null     object \n",
            " 25  counters                   340 non-null    object \n",
            " 26  has_photo                  360 non-null    int64  \n",
            " 27  occupation                 174 non-null    object \n",
            " 28  site                       56 non-null     object \n",
            " 29  wall_default               340 non-null    object \n",
            " 30  media_albums               340 non-null    float64\n",
            " 31  media_audios               340 non-null    float64\n",
            " 32  media_followers            257 non-null    float64\n",
            " 33  media_pages                340 non-null    float64\n",
            " 34  media_photos               257 non-null    float64\n",
            " 35  media_subscriptions        340 non-null    float64\n",
            " 36  media_videos               340 non-null    float64\n",
            " 37  media_clips_followers      257 non-null    float64\n",
            " 38  university_city            40 non-null     float64\n",
            " 39  university_country         40 non-null     float64\n",
            " 40  university_id              40 non-null     float64\n",
            " 41  university_name            40 non-null     object \n",
            "dtypes: float64(20), int64(7), object(15)\n",
            "memory usage: 118.2+ KB\n"
          ]
        }
      ]
    },
    {
      "cell_type": "code",
      "source": [
        "del df['timezone']\n",
        "del df['contacts']"
      ],
      "metadata": {
        "id": "0nOLrnrRy0B_"
      },
      "execution_count": null,
      "outputs": []
    },
    {
      "cell_type": "code",
      "source": [
        "df.info()"
      ],
      "metadata": {
        "id": "yydJOQCIzStA",
        "colab": {
          "base_uri": "https://localhost:8080/"
        },
        "outputId": "f4f755b8-1320-4c72-8dd2-c831dac446f0"
      },
      "execution_count": null,
      "outputs": [
        {
          "output_type": "stream",
          "name": "stdout",
          "text": [
            "<class 'pandas.core.frame.DataFrame'>\n",
            "RangeIndex: 360 entries, 0 to 359\n",
            "Data columns (total 40 columns):\n",
            " #   Column                     Non-Null Count  Dtype  \n",
            "---  ------                     --------------  -----  \n",
            " 0   Unnamed: 0                 360 non-null    int64  \n",
            " 1   first_name                 360 non-null    object \n",
            " 2   last_name                  348 non-null    object \n",
            " 3   id                         360 non-null    int64  \n",
            " 4   sex                        360 non-null    int64  \n",
            " 5   bdate                      299 non-null    object \n",
            " 6   country                    286 non-null    object \n",
            " 7   home_town                  68 non-null     object \n",
            " 8   has_mobile                 340 non-null    float64\n",
            " 9   followers_count            257 non-null    float64\n",
            " 10  is_closed                  340 non-null    float64\n",
            " 11  can_access_closed          340 non-null    float64\n",
            " 12  can_see_audio              340 non-null    float64\n",
            " 13  online                     360 non-null    int64  \n",
            " 14  city                       224 non-null    object \n",
            " 15  can_post                   360 non-null    int64  \n",
            " 16  can_write_private_message  360 non-null    int64  \n",
            " 17  can_see_all_posts          340 non-null    float64\n",
            " 18  status                     157 non-null    object \n",
            " 19  relation                   113 non-null    float64\n",
            " 20  universities               113 non-null    object \n",
            " 21  nickname                   4 non-null      object \n",
            " 22  deactivated                20 non-null     object \n",
            " 23  counters                   340 non-null    object \n",
            " 24  has_photo                  360 non-null    int64  \n",
            " 25  occupation                 174 non-null    object \n",
            " 26  site                       56 non-null     object \n",
            " 27  wall_default               340 non-null    object \n",
            " 28  media_albums               340 non-null    float64\n",
            " 29  media_audios               340 non-null    float64\n",
            " 30  media_followers            257 non-null    float64\n",
            " 31  media_pages                340 non-null    float64\n",
            " 32  media_photos               257 non-null    float64\n",
            " 33  media_subscriptions        340 non-null    float64\n",
            " 34  media_videos               340 non-null    float64\n",
            " 35  media_clips_followers      257 non-null    float64\n",
            " 36  university_city            40 non-null     float64\n",
            " 37  university_country         40 non-null     float64\n",
            " 38  university_id              40 non-null     float64\n",
            " 39  university_name            40 non-null     object \n",
            "dtypes: float64(18), int64(7), object(15)\n",
            "memory usage: 112.6+ KB\n"
          ]
        }
      ]
    },
    {
      "cell_type": "markdown",
      "source": [
        "### **4.2. Работа с признаком last_name**"
      ],
      "metadata": {
        "id": "ouuczdm40nyo"
      }
    },
    {
      "cell_type": "code",
      "source": [
        "df[df['last_name'].isnull()]"
      ],
      "metadata": {
        "id": "bgj5U6np0ocz",
        "colab": {
          "base_uri": "https://localhost:8080/",
          "height": 455
        },
        "outputId": "27e9a8e0-8064-408f-a789-7c9aa09237a3"
      },
      "execution_count": null,
      "outputs": [
        {
          "output_type": "execute_result",
          "data": {
            "text/plain": [
              "     Unnamed: 0 first_name last_name         id  sex bdate country home_town  \\\n",
              "81           81    DELETED       NaN  119305345    2   NaN     NaN       NaN   \n",
              "134         134    DELETED       NaN  147695211    1   NaN     NaN       NaN   \n",
              "139         139    DELETED       NaN  151216866    2   NaN     NaN       NaN   \n",
              "145         145    DELETED       NaN  153120839    1   NaN     NaN       NaN   \n",
              "202         202    DELETED       NaN  178318119    1   NaN     NaN       NaN   \n",
              "211         211    DELETED       NaN  185885637    1   NaN     NaN       NaN   \n",
              "294         294    DELETED       NaN  330528897    2   NaN     NaN       NaN   \n",
              "299         299    DELETED       NaN  344728183    2   NaN     NaN       NaN   \n",
              "307         307    DELETED       NaN  362930081    2   NaN     NaN       NaN   \n",
              "322         322    DELETED       NaN  416875524    2   NaN     NaN       NaN   \n",
              "336         336    DELETED       NaN  488774681    2   NaN     NaN       NaN   \n",
              "345         345    DELETED       NaN  549245724    2   NaN     NaN       NaN   \n",
              "\n",
              "     has_mobile  followers_count  ...  media_followers  media_pages  \\\n",
              "81          NaN              NaN  ...              NaN          NaN   \n",
              "134         NaN              NaN  ...              NaN          NaN   \n",
              "139         NaN              NaN  ...              NaN          NaN   \n",
              "145         NaN              NaN  ...              NaN          NaN   \n",
              "202         NaN              NaN  ...              NaN          NaN   \n",
              "211         NaN              NaN  ...              NaN          NaN   \n",
              "294         NaN              NaN  ...              NaN          NaN   \n",
              "299         NaN              NaN  ...              NaN          NaN   \n",
              "307         NaN              NaN  ...              NaN          NaN   \n",
              "322         NaN              NaN  ...              NaN          NaN   \n",
              "336         NaN              NaN  ...              NaN          NaN   \n",
              "345         NaN              NaN  ...              NaN          NaN   \n",
              "\n",
              "     media_photos  media_subscriptions media_videos  media_clips_followers  \\\n",
              "81            NaN                  NaN          NaN                    NaN   \n",
              "134           NaN                  NaN          NaN                    NaN   \n",
              "139           NaN                  NaN          NaN                    NaN   \n",
              "145           NaN                  NaN          NaN                    NaN   \n",
              "202           NaN                  NaN          NaN                    NaN   \n",
              "211           NaN                  NaN          NaN                    NaN   \n",
              "294           NaN                  NaN          NaN                    NaN   \n",
              "299           NaN                  NaN          NaN                    NaN   \n",
              "307           NaN                  NaN          NaN                    NaN   \n",
              "322           NaN                  NaN          NaN                    NaN   \n",
              "336           NaN                  NaN          NaN                    NaN   \n",
              "345           NaN                  NaN          NaN                    NaN   \n",
              "\n",
              "     university_city  university_country university_id  university_name  \n",
              "81               NaN                 NaN           NaN              NaN  \n",
              "134              NaN                 NaN           NaN              NaN  \n",
              "139              NaN                 NaN           NaN              NaN  \n",
              "145              NaN                 NaN           NaN              NaN  \n",
              "202              NaN                 NaN           NaN              NaN  \n",
              "211              NaN                 NaN           NaN              NaN  \n",
              "294              NaN                 NaN           NaN              NaN  \n",
              "299              NaN                 NaN           NaN              NaN  \n",
              "307              NaN                 NaN           NaN              NaN  \n",
              "322              NaN                 NaN           NaN              NaN  \n",
              "336              NaN                 NaN           NaN              NaN  \n",
              "345              NaN                 NaN           NaN              NaN  \n",
              "\n",
              "[12 rows x 40 columns]"
            ],
            "text/html": [
              "\n",
              "  <div id=\"df-7087768c-4a42-41ed-b650-733f5e913cd6\">\n",
              "    <div class=\"colab-df-container\">\n",
              "      <div>\n",
              "<style scoped>\n",
              "    .dataframe tbody tr th:only-of-type {\n",
              "        vertical-align: middle;\n",
              "    }\n",
              "\n",
              "    .dataframe tbody tr th {\n",
              "        vertical-align: top;\n",
              "    }\n",
              "\n",
              "    .dataframe thead th {\n",
              "        text-align: right;\n",
              "    }\n",
              "</style>\n",
              "<table border=\"1\" class=\"dataframe\">\n",
              "  <thead>\n",
              "    <tr style=\"text-align: right;\">\n",
              "      <th></th>\n",
              "      <th>Unnamed: 0</th>\n",
              "      <th>first_name</th>\n",
              "      <th>last_name</th>\n",
              "      <th>id</th>\n",
              "      <th>sex</th>\n",
              "      <th>bdate</th>\n",
              "      <th>country</th>\n",
              "      <th>home_town</th>\n",
              "      <th>has_mobile</th>\n",
              "      <th>followers_count</th>\n",
              "      <th>...</th>\n",
              "      <th>media_followers</th>\n",
              "      <th>media_pages</th>\n",
              "      <th>media_photos</th>\n",
              "      <th>media_subscriptions</th>\n",
              "      <th>media_videos</th>\n",
              "      <th>media_clips_followers</th>\n",
              "      <th>university_city</th>\n",
              "      <th>university_country</th>\n",
              "      <th>university_id</th>\n",
              "      <th>university_name</th>\n",
              "    </tr>\n",
              "  </thead>\n",
              "  <tbody>\n",
              "    <tr>\n",
              "      <th>81</th>\n",
              "      <td>81</td>\n",
              "      <td>DELETED</td>\n",
              "      <td>NaN</td>\n",
              "      <td>119305345</td>\n",
              "      <td>2</td>\n",
              "      <td>NaN</td>\n",
              "      <td>NaN</td>\n",
              "      <td>NaN</td>\n",
              "      <td>NaN</td>\n",
              "      <td>NaN</td>\n",
              "      <td>...</td>\n",
              "      <td>NaN</td>\n",
              "      <td>NaN</td>\n",
              "      <td>NaN</td>\n",
              "      <td>NaN</td>\n",
              "      <td>NaN</td>\n",
              "      <td>NaN</td>\n",
              "      <td>NaN</td>\n",
              "      <td>NaN</td>\n",
              "      <td>NaN</td>\n",
              "      <td>NaN</td>\n",
              "    </tr>\n",
              "    <tr>\n",
              "      <th>134</th>\n",
              "      <td>134</td>\n",
              "      <td>DELETED</td>\n",
              "      <td>NaN</td>\n",
              "      <td>147695211</td>\n",
              "      <td>1</td>\n",
              "      <td>NaN</td>\n",
              "      <td>NaN</td>\n",
              "      <td>NaN</td>\n",
              "      <td>NaN</td>\n",
              "      <td>NaN</td>\n",
              "      <td>...</td>\n",
              "      <td>NaN</td>\n",
              "      <td>NaN</td>\n",
              "      <td>NaN</td>\n",
              "      <td>NaN</td>\n",
              "      <td>NaN</td>\n",
              "      <td>NaN</td>\n",
              "      <td>NaN</td>\n",
              "      <td>NaN</td>\n",
              "      <td>NaN</td>\n",
              "      <td>NaN</td>\n",
              "    </tr>\n",
              "    <tr>\n",
              "      <th>139</th>\n",
              "      <td>139</td>\n",
              "      <td>DELETED</td>\n",
              "      <td>NaN</td>\n",
              "      <td>151216866</td>\n",
              "      <td>2</td>\n",
              "      <td>NaN</td>\n",
              "      <td>NaN</td>\n",
              "      <td>NaN</td>\n",
              "      <td>NaN</td>\n",
              "      <td>NaN</td>\n",
              "      <td>...</td>\n",
              "      <td>NaN</td>\n",
              "      <td>NaN</td>\n",
              "      <td>NaN</td>\n",
              "      <td>NaN</td>\n",
              "      <td>NaN</td>\n",
              "      <td>NaN</td>\n",
              "      <td>NaN</td>\n",
              "      <td>NaN</td>\n",
              "      <td>NaN</td>\n",
              "      <td>NaN</td>\n",
              "    </tr>\n",
              "    <tr>\n",
              "      <th>145</th>\n",
              "      <td>145</td>\n",
              "      <td>DELETED</td>\n",
              "      <td>NaN</td>\n",
              "      <td>153120839</td>\n",
              "      <td>1</td>\n",
              "      <td>NaN</td>\n",
              "      <td>NaN</td>\n",
              "      <td>NaN</td>\n",
              "      <td>NaN</td>\n",
              "      <td>NaN</td>\n",
              "      <td>...</td>\n",
              "      <td>NaN</td>\n",
              "      <td>NaN</td>\n",
              "      <td>NaN</td>\n",
              "      <td>NaN</td>\n",
              "      <td>NaN</td>\n",
              "      <td>NaN</td>\n",
              "      <td>NaN</td>\n",
              "      <td>NaN</td>\n",
              "      <td>NaN</td>\n",
              "      <td>NaN</td>\n",
              "    </tr>\n",
              "    <tr>\n",
              "      <th>202</th>\n",
              "      <td>202</td>\n",
              "      <td>DELETED</td>\n",
              "      <td>NaN</td>\n",
              "      <td>178318119</td>\n",
              "      <td>1</td>\n",
              "      <td>NaN</td>\n",
              "      <td>NaN</td>\n",
              "      <td>NaN</td>\n",
              "      <td>NaN</td>\n",
              "      <td>NaN</td>\n",
              "      <td>...</td>\n",
              "      <td>NaN</td>\n",
              "      <td>NaN</td>\n",
              "      <td>NaN</td>\n",
              "      <td>NaN</td>\n",
              "      <td>NaN</td>\n",
              "      <td>NaN</td>\n",
              "      <td>NaN</td>\n",
              "      <td>NaN</td>\n",
              "      <td>NaN</td>\n",
              "      <td>NaN</td>\n",
              "    </tr>\n",
              "    <tr>\n",
              "      <th>211</th>\n",
              "      <td>211</td>\n",
              "      <td>DELETED</td>\n",
              "      <td>NaN</td>\n",
              "      <td>185885637</td>\n",
              "      <td>1</td>\n",
              "      <td>NaN</td>\n",
              "      <td>NaN</td>\n",
              "      <td>NaN</td>\n",
              "      <td>NaN</td>\n",
              "      <td>NaN</td>\n",
              "      <td>...</td>\n",
              "      <td>NaN</td>\n",
              "      <td>NaN</td>\n",
              "      <td>NaN</td>\n",
              "      <td>NaN</td>\n",
              "      <td>NaN</td>\n",
              "      <td>NaN</td>\n",
              "      <td>NaN</td>\n",
              "      <td>NaN</td>\n",
              "      <td>NaN</td>\n",
              "      <td>NaN</td>\n",
              "    </tr>\n",
              "    <tr>\n",
              "      <th>294</th>\n",
              "      <td>294</td>\n",
              "      <td>DELETED</td>\n",
              "      <td>NaN</td>\n",
              "      <td>330528897</td>\n",
              "      <td>2</td>\n",
              "      <td>NaN</td>\n",
              "      <td>NaN</td>\n",
              "      <td>NaN</td>\n",
              "      <td>NaN</td>\n",
              "      <td>NaN</td>\n",
              "      <td>...</td>\n",
              "      <td>NaN</td>\n",
              "      <td>NaN</td>\n",
              "      <td>NaN</td>\n",
              "      <td>NaN</td>\n",
              "      <td>NaN</td>\n",
              "      <td>NaN</td>\n",
              "      <td>NaN</td>\n",
              "      <td>NaN</td>\n",
              "      <td>NaN</td>\n",
              "      <td>NaN</td>\n",
              "    </tr>\n",
              "    <tr>\n",
              "      <th>299</th>\n",
              "      <td>299</td>\n",
              "      <td>DELETED</td>\n",
              "      <td>NaN</td>\n",
              "      <td>344728183</td>\n",
              "      <td>2</td>\n",
              "      <td>NaN</td>\n",
              "      <td>NaN</td>\n",
              "      <td>NaN</td>\n",
              "      <td>NaN</td>\n",
              "      <td>NaN</td>\n",
              "      <td>...</td>\n",
              "      <td>NaN</td>\n",
              "      <td>NaN</td>\n",
              "      <td>NaN</td>\n",
              "      <td>NaN</td>\n",
              "      <td>NaN</td>\n",
              "      <td>NaN</td>\n",
              "      <td>NaN</td>\n",
              "      <td>NaN</td>\n",
              "      <td>NaN</td>\n",
              "      <td>NaN</td>\n",
              "    </tr>\n",
              "    <tr>\n",
              "      <th>307</th>\n",
              "      <td>307</td>\n",
              "      <td>DELETED</td>\n",
              "      <td>NaN</td>\n",
              "      <td>362930081</td>\n",
              "      <td>2</td>\n",
              "      <td>NaN</td>\n",
              "      <td>NaN</td>\n",
              "      <td>NaN</td>\n",
              "      <td>NaN</td>\n",
              "      <td>NaN</td>\n",
              "      <td>...</td>\n",
              "      <td>NaN</td>\n",
              "      <td>NaN</td>\n",
              "      <td>NaN</td>\n",
              "      <td>NaN</td>\n",
              "      <td>NaN</td>\n",
              "      <td>NaN</td>\n",
              "      <td>NaN</td>\n",
              "      <td>NaN</td>\n",
              "      <td>NaN</td>\n",
              "      <td>NaN</td>\n",
              "    </tr>\n",
              "    <tr>\n",
              "      <th>322</th>\n",
              "      <td>322</td>\n",
              "      <td>DELETED</td>\n",
              "      <td>NaN</td>\n",
              "      <td>416875524</td>\n",
              "      <td>2</td>\n",
              "      <td>NaN</td>\n",
              "      <td>NaN</td>\n",
              "      <td>NaN</td>\n",
              "      <td>NaN</td>\n",
              "      <td>NaN</td>\n",
              "      <td>...</td>\n",
              "      <td>NaN</td>\n",
              "      <td>NaN</td>\n",
              "      <td>NaN</td>\n",
              "      <td>NaN</td>\n",
              "      <td>NaN</td>\n",
              "      <td>NaN</td>\n",
              "      <td>NaN</td>\n",
              "      <td>NaN</td>\n",
              "      <td>NaN</td>\n",
              "      <td>NaN</td>\n",
              "    </tr>\n",
              "    <tr>\n",
              "      <th>336</th>\n",
              "      <td>336</td>\n",
              "      <td>DELETED</td>\n",
              "      <td>NaN</td>\n",
              "      <td>488774681</td>\n",
              "      <td>2</td>\n",
              "      <td>NaN</td>\n",
              "      <td>NaN</td>\n",
              "      <td>NaN</td>\n",
              "      <td>NaN</td>\n",
              "      <td>NaN</td>\n",
              "      <td>...</td>\n",
              "      <td>NaN</td>\n",
              "      <td>NaN</td>\n",
              "      <td>NaN</td>\n",
              "      <td>NaN</td>\n",
              "      <td>NaN</td>\n",
              "      <td>NaN</td>\n",
              "      <td>NaN</td>\n",
              "      <td>NaN</td>\n",
              "      <td>NaN</td>\n",
              "      <td>NaN</td>\n",
              "    </tr>\n",
              "    <tr>\n",
              "      <th>345</th>\n",
              "      <td>345</td>\n",
              "      <td>DELETED</td>\n",
              "      <td>NaN</td>\n",
              "      <td>549245724</td>\n",
              "      <td>2</td>\n",
              "      <td>NaN</td>\n",
              "      <td>NaN</td>\n",
              "      <td>NaN</td>\n",
              "      <td>NaN</td>\n",
              "      <td>NaN</td>\n",
              "      <td>...</td>\n",
              "      <td>NaN</td>\n",
              "      <td>NaN</td>\n",
              "      <td>NaN</td>\n",
              "      <td>NaN</td>\n",
              "      <td>NaN</td>\n",
              "      <td>NaN</td>\n",
              "      <td>NaN</td>\n",
              "      <td>NaN</td>\n",
              "      <td>NaN</td>\n",
              "      <td>NaN</td>\n",
              "    </tr>\n",
              "  </tbody>\n",
              "</table>\n",
              "<p>12 rows × 40 columns</p>\n",
              "</div>\n",
              "      <button class=\"colab-df-convert\" onclick=\"convertToInteractive('df-7087768c-4a42-41ed-b650-733f5e913cd6')\"\n",
              "              title=\"Convert this dataframe to an interactive table.\"\n",
              "              style=\"display:none;\">\n",
              "        \n",
              "  <svg xmlns=\"http://www.w3.org/2000/svg\" height=\"24px\"viewBox=\"0 0 24 24\"\n",
              "       width=\"24px\">\n",
              "    <path d=\"M0 0h24v24H0V0z\" fill=\"none\"/>\n",
              "    <path d=\"M18.56 5.44l.94 2.06.94-2.06 2.06-.94-2.06-.94-.94-2.06-.94 2.06-2.06.94zm-11 1L8.5 8.5l.94-2.06 2.06-.94-2.06-.94L8.5 2.5l-.94 2.06-2.06.94zm10 10l.94 2.06.94-2.06 2.06-.94-2.06-.94-.94-2.06-.94 2.06-2.06.94z\"/><path d=\"M17.41 7.96l-1.37-1.37c-.4-.4-.92-.59-1.43-.59-.52 0-1.04.2-1.43.59L10.3 9.45l-7.72 7.72c-.78.78-.78 2.05 0 2.83L4 21.41c.39.39.9.59 1.41.59.51 0 1.02-.2 1.41-.59l7.78-7.78 2.81-2.81c.8-.78.8-2.07 0-2.86zM5.41 20L4 18.59l7.72-7.72 1.47 1.35L5.41 20z\"/>\n",
              "  </svg>\n",
              "      </button>\n",
              "      \n",
              "  <style>\n",
              "    .colab-df-container {\n",
              "      display:flex;\n",
              "      flex-wrap:wrap;\n",
              "      gap: 12px;\n",
              "    }\n",
              "\n",
              "    .colab-df-convert {\n",
              "      background-color: #E8F0FE;\n",
              "      border: none;\n",
              "      border-radius: 50%;\n",
              "      cursor: pointer;\n",
              "      display: none;\n",
              "      fill: #1967D2;\n",
              "      height: 32px;\n",
              "      padding: 0 0 0 0;\n",
              "      width: 32px;\n",
              "    }\n",
              "\n",
              "    .colab-df-convert:hover {\n",
              "      background-color: #E2EBFA;\n",
              "      box-shadow: 0px 1px 2px rgba(60, 64, 67, 0.3), 0px 1px 3px 1px rgba(60, 64, 67, 0.15);\n",
              "      fill: #174EA6;\n",
              "    }\n",
              "\n",
              "    [theme=dark] .colab-df-convert {\n",
              "      background-color: #3B4455;\n",
              "      fill: #D2E3FC;\n",
              "    }\n",
              "\n",
              "    [theme=dark] .colab-df-convert:hover {\n",
              "      background-color: #434B5C;\n",
              "      box-shadow: 0px 1px 3px 1px rgba(0, 0, 0, 0.15);\n",
              "      filter: drop-shadow(0px 1px 2px rgba(0, 0, 0, 0.3));\n",
              "      fill: #FFFFFF;\n",
              "    }\n",
              "  </style>\n",
              "\n",
              "      <script>\n",
              "        const buttonEl =\n",
              "          document.querySelector('#df-7087768c-4a42-41ed-b650-733f5e913cd6 button.colab-df-convert');\n",
              "        buttonEl.style.display =\n",
              "          google.colab.kernel.accessAllowed ? 'block' : 'none';\n",
              "\n",
              "        async function convertToInteractive(key) {\n",
              "          const element = document.querySelector('#df-7087768c-4a42-41ed-b650-733f5e913cd6');\n",
              "          const dataTable =\n",
              "            await google.colab.kernel.invokeFunction('convertToInteractive',\n",
              "                                                     [key], {});\n",
              "          if (!dataTable) return;\n",
              "\n",
              "          const docLinkHtml = 'Like what you see? Visit the ' +\n",
              "            '<a target=\"_blank\" href=https://colab.research.google.com/notebooks/data_table.ipynb>data table notebook</a>'\n",
              "            + ' to learn more about interactive tables.';\n",
              "          element.innerHTML = '';\n",
              "          dataTable['output_type'] = 'display_data';\n",
              "          await google.colab.output.renderOutput(dataTable, element);\n",
              "          const docLink = document.createElement('div');\n",
              "          docLink.innerHTML = docLinkHtml;\n",
              "          element.appendChild(docLink);\n",
              "        }\n",
              "      </script>\n",
              "    </div>\n",
              "  </div>\n",
              "  "
            ]
          },
          "metadata": {},
          "execution_count": 30
        }
      ]
    },
    {
      "cell_type": "code",
      "source": [
        "df = df.drop(df[df['last_name'].isnull()].index)"
      ],
      "metadata": {
        "id": "AP1zAl701qcg"
      },
      "execution_count": null,
      "outputs": []
    },
    {
      "cell_type": "markdown",
      "source": [
        "### **4.3. Работа с признаком id**"
      ],
      "metadata": {
        "id": "tNA9oKk62XQh"
      }
    },
    {
      "cell_type": "code",
      "source": [
        "df[df['id'].isnull()]"
      ],
      "metadata": {
        "id": "-9QSHKU62TCn",
        "colab": {
          "base_uri": "https://localhost:8080/",
          "height": 79
        },
        "outputId": "103d0a1f-d301-4378-82b2-74e05dd63e66"
      },
      "execution_count": null,
      "outputs": [
        {
          "output_type": "execute_result",
          "data": {
            "text/plain": [
              "Empty DataFrame\n",
              "Columns: [Unnamed: 0, first_name, last_name, id, sex, bdate, country, home_town, has_mobile, followers_count, is_closed, can_access_closed, can_see_audio, online, city, can_post, can_write_private_message, can_see_all_posts, status, relation, universities, nickname, deactivated, counters, has_photo, occupation, site, wall_default, media_albums, media_audios, media_followers, media_pages, media_photos, media_subscriptions, media_videos, media_clips_followers, university_city, university_country, university_id, university_name]\n",
              "Index: []\n",
              "\n",
              "[0 rows x 40 columns]"
            ],
            "text/html": [
              "\n",
              "  <div id=\"df-857b37ed-8fc3-44fd-8d35-ecec31697207\">\n",
              "    <div class=\"colab-df-container\">\n",
              "      <div>\n",
              "<style scoped>\n",
              "    .dataframe tbody tr th:only-of-type {\n",
              "        vertical-align: middle;\n",
              "    }\n",
              "\n",
              "    .dataframe tbody tr th {\n",
              "        vertical-align: top;\n",
              "    }\n",
              "\n",
              "    .dataframe thead th {\n",
              "        text-align: right;\n",
              "    }\n",
              "</style>\n",
              "<table border=\"1\" class=\"dataframe\">\n",
              "  <thead>\n",
              "    <tr style=\"text-align: right;\">\n",
              "      <th></th>\n",
              "      <th>Unnamed: 0</th>\n",
              "      <th>first_name</th>\n",
              "      <th>last_name</th>\n",
              "      <th>id</th>\n",
              "      <th>sex</th>\n",
              "      <th>bdate</th>\n",
              "      <th>country</th>\n",
              "      <th>home_town</th>\n",
              "      <th>has_mobile</th>\n",
              "      <th>followers_count</th>\n",
              "      <th>...</th>\n",
              "      <th>media_followers</th>\n",
              "      <th>media_pages</th>\n",
              "      <th>media_photos</th>\n",
              "      <th>media_subscriptions</th>\n",
              "      <th>media_videos</th>\n",
              "      <th>media_clips_followers</th>\n",
              "      <th>university_city</th>\n",
              "      <th>university_country</th>\n",
              "      <th>university_id</th>\n",
              "      <th>university_name</th>\n",
              "    </tr>\n",
              "  </thead>\n",
              "  <tbody>\n",
              "  </tbody>\n",
              "</table>\n",
              "<p>0 rows × 40 columns</p>\n",
              "</div>\n",
              "      <button class=\"colab-df-convert\" onclick=\"convertToInteractive('df-857b37ed-8fc3-44fd-8d35-ecec31697207')\"\n",
              "              title=\"Convert this dataframe to an interactive table.\"\n",
              "              style=\"display:none;\">\n",
              "        \n",
              "  <svg xmlns=\"http://www.w3.org/2000/svg\" height=\"24px\"viewBox=\"0 0 24 24\"\n",
              "       width=\"24px\">\n",
              "    <path d=\"M0 0h24v24H0V0z\" fill=\"none\"/>\n",
              "    <path d=\"M18.56 5.44l.94 2.06.94-2.06 2.06-.94-2.06-.94-.94-2.06-.94 2.06-2.06.94zm-11 1L8.5 8.5l.94-2.06 2.06-.94-2.06-.94L8.5 2.5l-.94 2.06-2.06.94zm10 10l.94 2.06.94-2.06 2.06-.94-2.06-.94-.94-2.06-.94 2.06-2.06.94z\"/><path d=\"M17.41 7.96l-1.37-1.37c-.4-.4-.92-.59-1.43-.59-.52 0-1.04.2-1.43.59L10.3 9.45l-7.72 7.72c-.78.78-.78 2.05 0 2.83L4 21.41c.39.39.9.59 1.41.59.51 0 1.02-.2 1.41-.59l7.78-7.78 2.81-2.81c.8-.78.8-2.07 0-2.86zM5.41 20L4 18.59l7.72-7.72 1.47 1.35L5.41 20z\"/>\n",
              "  </svg>\n",
              "      </button>\n",
              "      \n",
              "  <style>\n",
              "    .colab-df-container {\n",
              "      display:flex;\n",
              "      flex-wrap:wrap;\n",
              "      gap: 12px;\n",
              "    }\n",
              "\n",
              "    .colab-df-convert {\n",
              "      background-color: #E8F0FE;\n",
              "      border: none;\n",
              "      border-radius: 50%;\n",
              "      cursor: pointer;\n",
              "      display: none;\n",
              "      fill: #1967D2;\n",
              "      height: 32px;\n",
              "      padding: 0 0 0 0;\n",
              "      width: 32px;\n",
              "    }\n",
              "\n",
              "    .colab-df-convert:hover {\n",
              "      background-color: #E2EBFA;\n",
              "      box-shadow: 0px 1px 2px rgba(60, 64, 67, 0.3), 0px 1px 3px 1px rgba(60, 64, 67, 0.15);\n",
              "      fill: #174EA6;\n",
              "    }\n",
              "\n",
              "    [theme=dark] .colab-df-convert {\n",
              "      background-color: #3B4455;\n",
              "      fill: #D2E3FC;\n",
              "    }\n",
              "\n",
              "    [theme=dark] .colab-df-convert:hover {\n",
              "      background-color: #434B5C;\n",
              "      box-shadow: 0px 1px 3px 1px rgba(0, 0, 0, 0.15);\n",
              "      filter: drop-shadow(0px 1px 2px rgba(0, 0, 0, 0.3));\n",
              "      fill: #FFFFFF;\n",
              "    }\n",
              "  </style>\n",
              "\n",
              "      <script>\n",
              "        const buttonEl =\n",
              "          document.querySelector('#df-857b37ed-8fc3-44fd-8d35-ecec31697207 button.colab-df-convert');\n",
              "        buttonEl.style.display =\n",
              "          google.colab.kernel.accessAllowed ? 'block' : 'none';\n",
              "\n",
              "        async function convertToInteractive(key) {\n",
              "          const element = document.querySelector('#df-857b37ed-8fc3-44fd-8d35-ecec31697207');\n",
              "          const dataTable =\n",
              "            await google.colab.kernel.invokeFunction('convertToInteractive',\n",
              "                                                     [key], {});\n",
              "          if (!dataTable) return;\n",
              "\n",
              "          const docLinkHtml = 'Like what you see? Visit the ' +\n",
              "            '<a target=\"_blank\" href=https://colab.research.google.com/notebooks/data_table.ipynb>data table notebook</a>'\n",
              "            + ' to learn more about interactive tables.';\n",
              "          element.innerHTML = '';\n",
              "          dataTable['output_type'] = 'display_data';\n",
              "          await google.colab.output.renderOutput(dataTable, element);\n",
              "          const docLink = document.createElement('div');\n",
              "          docLink.innerHTML = docLinkHtml;\n",
              "          element.appendChild(docLink);\n",
              "        }\n",
              "      </script>\n",
              "    </div>\n",
              "  </div>\n",
              "  "
            ]
          },
          "metadata": {},
          "execution_count": 32
        }
      ]
    },
    {
      "cell_type": "code",
      "source": [
        "df = df.drop(df[df['id'].isnull()].index)"
      ],
      "metadata": {
        "id": "hv5jEGkI2xYd"
      },
      "execution_count": null,
      "outputs": []
    },
    {
      "cell_type": "code",
      "source": [
        "df.info()"
      ],
      "metadata": {
        "id": "shTJaKrv3Mjt",
        "colab": {
          "base_uri": "https://localhost:8080/"
        },
        "outputId": "1e835012-ace0-4479-a8fb-36477a563850"
      },
      "execution_count": null,
      "outputs": [
        {
          "output_type": "stream",
          "name": "stdout",
          "text": [
            "<class 'pandas.core.frame.DataFrame'>\n",
            "Int64Index: 348 entries, 0 to 359\n",
            "Data columns (total 40 columns):\n",
            " #   Column                     Non-Null Count  Dtype  \n",
            "---  ------                     --------------  -----  \n",
            " 0   Unnamed: 0                 348 non-null    int64  \n",
            " 1   first_name                 348 non-null    object \n",
            " 2   last_name                  348 non-null    object \n",
            " 3   id                         348 non-null    int64  \n",
            " 4   sex                        348 non-null    int64  \n",
            " 5   bdate                      299 non-null    object \n",
            " 6   country                    286 non-null    object \n",
            " 7   home_town                  68 non-null     object \n",
            " 8   has_mobile                 340 non-null    float64\n",
            " 9   followers_count            257 non-null    float64\n",
            " 10  is_closed                  340 non-null    float64\n",
            " 11  can_access_closed          340 non-null    float64\n",
            " 12  can_see_audio              340 non-null    float64\n",
            " 13  online                     348 non-null    int64  \n",
            " 14  city                       224 non-null    object \n",
            " 15  can_post                   348 non-null    int64  \n",
            " 16  can_write_private_message  348 non-null    int64  \n",
            " 17  can_see_all_posts          340 non-null    float64\n",
            " 18  status                     157 non-null    object \n",
            " 19  relation                   113 non-null    float64\n",
            " 20  universities               113 non-null    object \n",
            " 21  nickname                   4 non-null      object \n",
            " 22  deactivated                8 non-null      object \n",
            " 23  counters                   340 non-null    object \n",
            " 24  has_photo                  348 non-null    int64  \n",
            " 25  occupation                 174 non-null    object \n",
            " 26  site                       56 non-null     object \n",
            " 27  wall_default               340 non-null    object \n",
            " 28  media_albums               340 non-null    float64\n",
            " 29  media_audios               340 non-null    float64\n",
            " 30  media_followers            257 non-null    float64\n",
            " 31  media_pages                340 non-null    float64\n",
            " 32  media_photos               257 non-null    float64\n",
            " 33  media_subscriptions        340 non-null    float64\n",
            " 34  media_videos               340 non-null    float64\n",
            " 35  media_clips_followers      257 non-null    float64\n",
            " 36  university_city            40 non-null     float64\n",
            " 37  university_country         40 non-null     float64\n",
            " 38  university_id              40 non-null     float64\n",
            " 39  university_name            40 non-null     object \n",
            "dtypes: float64(18), int64(7), object(15)\n",
            "memory usage: 119.6+ KB\n"
          ]
        }
      ]
    },
    {
      "cell_type": "markdown",
      "metadata": {
        "id": "rwDpEwOxt7QQ"
      },
      "source": [
        "### **4.4. Работа с признаком sex**"
      ]
    },
    {
      "cell_type": "code",
      "source": [
        "df.sex.unique()"
      ],
      "metadata": {
        "id": "0v3h_IgLV85j",
        "colab": {
          "base_uri": "https://localhost:8080/"
        },
        "outputId": "19c02ae7-051e-45b8-d998-80c1d1fd49e6"
      },
      "execution_count": null,
      "outputs": [
        {
          "output_type": "execute_result",
          "data": {
            "text/plain": [
              "array([2, 1])"
            ]
          },
          "metadata": {},
          "execution_count": 35
        }
      ]
    },
    {
      "cell_type": "code",
      "metadata": {
        "id": "jOCIjWZ-s5E0",
        "colab": {
          "base_uri": "https://localhost:8080/",
          "height": 296
        },
        "outputId": "3a03a7ca-541d-4cc0-bd12-81f6850cae79"
      },
      "source": [
        "sns.histplot(data = df, x = \"sex\")"
      ],
      "execution_count": null,
      "outputs": [
        {
          "output_type": "execute_result",
          "data": {
            "text/plain": [
              "<matplotlib.axes._subplots.AxesSubplot at 0x7f4e32e6b950>"
            ]
          },
          "metadata": {},
          "execution_count": 36
        },
        {
          "output_type": "display_data",
          "data": {
            "text/plain": [
              "<Figure size 432x288 with 1 Axes>"
            ],
            "image/png": "[encoded data removed]"
          },
          "metadata": {
            "needs_background": "light"
          }
        }
      ]
    },
    {
      "cell_type": "code",
      "source": [
        "df = df[(df['sex']==1) | (df['sex'] == 2)]"
      ],
      "metadata": {
        "id": "NlyFNzIB-UCB"
      },
      "execution_count": null,
      "outputs": []
    },
    {
      "cell_type": "markdown",
      "source": [
        "1 - Кол-во Женщин\n",
        "2 - Кол-во Мужчин"
      ],
      "metadata": {
        "id": "S6_LIsKUYV_0"
      }
    },
    {
      "cell_type": "code",
      "source": [
        "df.sex.value_counts()"
      ],
      "metadata": {
        "id": "QK9F-FcLWoTg",
        "colab": {
          "base_uri": "https://localhost:8080/"
        },
        "outputId": "050f7c75-0b69-4762-a7c1-89c29567b56c"
      },
      "execution_count": null,
      "outputs": [
        {
          "output_type": "execute_result",
          "data": {
            "text/plain": [
              "1    190\n",
              "2    158\n",
              "Name: sex, dtype: int64"
            ]
          },
          "metadata": {},
          "execution_count": 38
        }
      ]
    },
    {
      "cell_type": "markdown",
      "source": [
        "### **4.5. Работа с признаком country**"
      ],
      "metadata": {
        "id": "tbVP2074Pssw"
      }
    },
    {
      "cell_type": "code",
      "source": [
        "df.country.value_counts()"
      ],
      "metadata": {
        "id": "_DHe05R9PsZr",
        "colab": {
          "base_uri": "https://localhost:8080/"
        },
        "outputId": "af0dd49a-1410-44a9-f1be-bc0029f3a18a"
      },
      "execution_count": null,
      "outputs": [
        {
          "output_type": "execute_result",
          "data": {
            "text/plain": [
              "Russia            274\n",
              "Czech Republic      2\n",
              "Germany             2\n",
              "USA                 1\n",
              "Colombia            1\n",
              "Ukraine             1\n",
              "Italy               1\n",
              "Jamaica             1\n",
              "Netherlands         1\n",
              "Kazakhstan          1\n",
              "Azerbaijan          1\n",
              "Name: country, dtype: int64"
            ]
          },
          "metadata": {},
          "execution_count": 39
        }
      ]
    },
    {
      "cell_type": "code",
      "source": [
        "sns.histplot(data = df, x = \"country\")"
      ],
      "metadata": {
        "id": "Y40I_f3iQTJA",
        "colab": {
          "base_uri": "https://localhost:8080/",
          "height": 296
        },
        "outputId": "dbee0fdc-00c5-4c8b-c899-ca9d295ce0a3"
      },
      "execution_count": null,
      "outputs": [
        {
          "output_type": "execute_result",
          "data": {
            "text/plain": [
              "<matplotlib.axes._subplots.AxesSubplot at 0x7f4e32cc5850>"
            ]
          },
          "metadata": {},
          "execution_count": 40
        },
        {
          "output_type": "display_data",
          "data": {
            "text/plain": [
              "<Figure size 432x288 with 1 Axes>"
            ],
            "image/png": "[encoded data removed]"
          },
          "metadata": {
            "needs_background": "light"
          }
        }
      ]
    },
    {
      "cell_type": "code",
      "source": [
        "del df[\"country\"]"
      ],
      "metadata": {
        "id": "7GaRHKzYQzTn"
      },
      "execution_count": null,
      "outputs": []
    },
    {
      "cell_type": "code",
      "source": [
        "df.info()"
      ],
      "metadata": {
        "id": "7mUTwYowRfLw",
        "colab": {
          "base_uri": "https://localhost:8080/"
        },
        "outputId": "417c20e8-6bb4-4ca0-ef13-6dd676fe8ab1"
      },
      "execution_count": null,
      "outputs": [
        {
          "output_type": "stream",
          "name": "stdout",
          "text": [
            "<class 'pandas.core.frame.DataFrame'>\n",
            "Int64Index: 348 entries, 0 to 359\n",
            "Data columns (total 39 columns):\n",
            " #   Column                     Non-Null Count  Dtype  \n",
            "---  ------                     --------------  -----  \n",
            " 0   Unnamed: 0                 348 non-null    int64  \n",
            " 1   first_name                 348 non-null    object \n",
            " 2   last_name                  348 non-null    object \n",
            " 3   id                         348 non-null    int64  \n",
            " 4   sex                        348 non-null    int64  \n",
            " 5   bdate                      299 non-null    object \n",
            " 6   home_town                  68 non-null     object \n",
            " 7   has_mobile                 340 non-null    float64\n",
            " 8   followers_count            257 non-null    float64\n",
            " 9   is_closed                  340 non-null    float64\n",
            " 10  can_access_closed          340 non-null    float64\n",
            " 11  can_see_audio              340 non-null    float64\n",
            " 12  online                     348 non-null    int64  \n",
            " 13  city                       224 non-null    object \n",
            " 14  can_post                   348 non-null    int64  \n",
            " 15  can_write_private_message  348 non-null    int64  \n",
            " 16  can_see_all_posts          340 non-null    float64\n",
            " 17  status                     157 non-null    object \n",
            " 18  relation                   113 non-null    float64\n",
            " 19  universities               113 non-null    object \n",
            " 20  nickname                   4 non-null      object \n",
            " 21  deactivated                8 non-null      object \n",
            " 22  counters                   340 non-null    object \n",
            " 23  has_photo                  348 non-null    int64  \n",
            " 24  occupation                 174 non-null    object \n",
            " 25  site                       56 non-null     object \n",
            " 26  wall_default               340 non-null    object \n",
            " 27  media_albums               340 non-null    float64\n",
            " 28  media_audios               340 non-null    float64\n",
            " 29  media_followers            257 non-null    float64\n",
            " 30  media_pages                340 non-null    float64\n",
            " 31  media_photos               257 non-null    float64\n",
            " 32  media_subscriptions        340 non-null    float64\n",
            " 33  media_videos               340 non-null    float64\n",
            " 34  media_clips_followers      257 non-null    float64\n",
            " 35  university_city            40 non-null     float64\n",
            " 36  university_country         40 non-null     float64\n",
            " 37  university_id              40 non-null     float64\n",
            " 38  university_name            40 non-null     object \n",
            "dtypes: float64(18), int64(7), object(14)\n",
            "memory usage: 108.8+ KB\n"
          ]
        }
      ]
    },
    {
      "cell_type": "markdown",
      "source": [
        "### **4.6. Работа с признаками bdate и age**"
      ],
      "metadata": {
        "id": "kZUei0UW6B9x"
      }
    },
    {
      "cell_type": "markdown",
      "source": [
        "Создание функции для перевода даты рождения в возраст"
      ],
      "metadata": {
        "id": "HlFMzeck6IYd"
      }
    },
    {
      "cell_type": "code",
      "source": [
        "def date_2_age(df_func, column,new_column):\n",
        "  days = []\n",
        "  months = []\n",
        "  years = []\n",
        "  for_new_list = []\n",
        "  today = datetime.datetime.utcnow()\n",
        "  for elem in df_func[column]:\n",
        "      if type(elem) == str:\n",
        "        date_list = elem.split('.')\n",
        "        if len(date_list) < 3:\n",
        "          days.append(np.nan)\n",
        "          months.append(np.nan)\n",
        "          years.append(np.nan)\n",
        "        else:\n",
        "          days.append(date_list[0])\n",
        "          months.append (date_list[1])\n",
        "          years.append(date_list[2])\n",
        "      if type(elem) == float:\n",
        "        days.append (np.nan)\n",
        "        months.append(np.nan)\n",
        "        years.append(np.nan)\n",
        "\n",
        "  for i in range(len(days)):\n",
        "    if type(days[i]) == str:\n",
        "      for_new_list.append(dateutil.relativedelta.relativedelta(today, datetime.date (int(years[i]),int(months[i]),int(days[i]))).years)\n",
        "\n",
        "    else:\n",
        "     for_new_list.append(np.nan)\n",
        "\n",
        "  df_func[new_column] = for_new_list\n",
        "  return df_func\n",
        "\n",
        "df = date_2_age (df_func= df, column= 'bdate', new_column = 'age')"
      ],
      "metadata": {
        "id": "zYfX_4686Cbm"
      },
      "execution_count": null,
      "outputs": []
    },
    {
      "cell_type": "code",
      "source": [
        "df.info()"
      ],
      "metadata": {
        "id": "9_xfzGseAfd3",
        "colab": {
          "base_uri": "https://localhost:8080/"
        },
        "outputId": "bf6f7031-e70d-4139-9e0c-29d85391bf02"
      },
      "execution_count": null,
      "outputs": [
        {
          "output_type": "stream",
          "name": "stdout",
          "text": [
            "<class 'pandas.core.frame.DataFrame'>\n",
            "Int64Index: 348 entries, 0 to 359\n",
            "Data columns (total 40 columns):\n",
            " #   Column                     Non-Null Count  Dtype  \n",
            "---  ------                     --------------  -----  \n",
            " 0   Unnamed: 0                 348 non-null    int64  \n",
            " 1   first_name                 348 non-null    object \n",
            " 2   last_name                  348 non-null    object \n",
            " 3   id                         348 non-null    int64  \n",
            " 4   sex                        348 non-null    int64  \n",
            " 5   bdate                      299 non-null    object \n",
            " 6   home_town                  68 non-null     object \n",
            " 7   has_mobile                 340 non-null    float64\n",
            " 8   followers_count            257 non-null    float64\n",
            " 9   is_closed                  340 non-null    float64\n",
            " 10  can_access_closed          340 non-null    float64\n",
            " 11  can_see_audio              340 non-null    float64\n",
            " 12  online                     348 non-null    int64  \n",
            " 13  city                       224 non-null    object \n",
            " 14  can_post                   348 non-null    int64  \n",
            " 15  can_write_private_message  348 non-null    int64  \n",
            " 16  can_see_all_posts          340 non-null    float64\n",
            " 17  status                     157 non-null    object \n",
            " 18  relation                   113 non-null    float64\n",
            " 19  universities               113 non-null    object \n",
            " 20  nickname                   4 non-null      object \n",
            " 21  deactivated                8 non-null      object \n",
            " 22  counters                   340 non-null    object \n",
            " 23  has_photo                  348 non-null    int64  \n",
            " 24  occupation                 174 non-null    object \n",
            " 25  site                       56 non-null     object \n",
            " 26  wall_default               340 non-null    object \n",
            " 27  media_albums               340 non-null    float64\n",
            " 28  media_audios               340 non-null    float64\n",
            " 29  media_followers            257 non-null    float64\n",
            " 30  media_pages                340 non-null    float64\n",
            " 31  media_photos               257 non-null    float64\n",
            " 32  media_subscriptions        340 non-null    float64\n",
            " 33  media_videos               340 non-null    float64\n",
            " 34  media_clips_followers      257 non-null    float64\n",
            " 35  university_city            40 non-null     float64\n",
            " 36  university_country         40 non-null     float64\n",
            " 37  university_id              40 non-null     float64\n",
            " 38  university_name            40 non-null     object \n",
            " 39  age                        141 non-null    float64\n",
            "dtypes: float64(19), int64(7), object(14)\n",
            "memory usage: 111.5+ KB\n"
          ]
        }
      ]
    },
    {
      "cell_type": "markdown",
      "source": [
        "Получили только половину пользователей, у которых указана дата рождения"
      ],
      "metadata": {
        "id": "NHMmQfpZAtNU"
      }
    },
    {
      "cell_type": "code",
      "source": [
        "df.age.replace(np.nan, df[\"age\"].mode()[0], inplace=True)"
      ],
      "metadata": {
        "id": "6eL_DPr-C6Yf"
      },
      "execution_count": null,
      "outputs": []
    },
    {
      "cell_type": "code",
      "source": [
        "df.info()"
      ],
      "metadata": {
        "id": "WZ9kxKd_Rwa7",
        "colab": {
          "base_uri": "https://localhost:8080/"
        },
        "outputId": "0256c43b-025e-4c4a-9ddf-513e688f0a9e"
      },
      "execution_count": null,
      "outputs": [
        {
          "output_type": "stream",
          "name": "stdout",
          "text": [
            "<class 'pandas.core.frame.DataFrame'>\n",
            "Int64Index: 348 entries, 0 to 359\n",
            "Data columns (total 40 columns):\n",
            " #   Column                     Non-Null Count  Dtype  \n",
            "---  ------                     --------------  -----  \n",
            " 0   Unnamed: 0                 348 non-null    int64  \n",
            " 1   first_name                 348 non-null    object \n",
            " 2   last_name                  348 non-null    object \n",
            " 3   id                         348 non-null    int64  \n",
            " 4   sex                        348 non-null    int64  \n",
            " 5   bdate                      299 non-null    object \n",
            " 6   home_town                  68 non-null     object \n",
            " 7   has_mobile                 340 non-null    float64\n",
            " 8   followers_count            257 non-null    float64\n",
            " 9   is_closed                  340 non-null    float64\n",
            " 10  can_access_closed          340 non-null    float64\n",
            " 11  can_see_audio              340 non-null    float64\n",
            " 12  online                     348 non-null    int64  \n",
            " 13  city                       224 non-null    object \n",
            " 14  can_post                   348 non-null    int64  \n",
            " 15  can_write_private_message  348 non-null    int64  \n",
            " 16  can_see_all_posts          340 non-null    float64\n",
            " 17  status                     157 non-null    object \n",
            " 18  relation                   113 non-null    float64\n",
            " 19  universities               113 non-null    object \n",
            " 20  nickname                   4 non-null      object \n",
            " 21  deactivated                8 non-null      object \n",
            " 22  counters                   340 non-null    object \n",
            " 23  has_photo                  348 non-null    int64  \n",
            " 24  occupation                 174 non-null    object \n",
            " 25  site                       56 non-null     object \n",
            " 26  wall_default               340 non-null    object \n",
            " 27  media_albums               340 non-null    float64\n",
            " 28  media_audios               340 non-null    float64\n",
            " 29  media_followers            257 non-null    float64\n",
            " 30  media_pages                340 non-null    float64\n",
            " 31  media_photos               257 non-null    float64\n",
            " 32  media_subscriptions        340 non-null    float64\n",
            " 33  media_videos               340 non-null    float64\n",
            " 34  media_clips_followers      257 non-null    float64\n",
            " 35  university_city            40 non-null     float64\n",
            " 36  university_country         40 non-null     float64\n",
            " 37  university_id              40 non-null     float64\n",
            " 38  university_name            40 non-null     object \n",
            " 39  age                        348 non-null    float64\n",
            "dtypes: float64(19), int64(7), object(14)\n",
            "memory usage: 111.5+ KB\n"
          ]
        }
      ]
    },
    {
      "cell_type": "code",
      "source": [
        "del df[\"bdate\"]"
      ],
      "metadata": {
        "id": "rQcRHwFhR0e8"
      },
      "execution_count": null,
      "outputs": []
    },
    {
      "cell_type": "markdown",
      "metadata": {
        "id": "3XhdD3Vzv-9p"
      },
      "source": [
        "### **4.7. Работа с признаком home_town**"
      ]
    },
    {
      "cell_type": "code",
      "metadata": {
        "id": "WwAX_QN0vr_X",
        "colab": {
          "base_uri": "https://localhost:8080/"
        },
        "outputId": "1e830a7b-b1cc-4c58-bfaa-f29b0eba4642"
      },
      "source": [
        "df.home_town.unique()"
      ],
      "execution_count": null,
      "outputs": [
        {
          "output_type": "execute_result",
          "data": {
            "text/plain": [
              "array([nan, 'Барнаул', 'Москва', 'Пупкино', 'Sweet Street', 'Бараул',\n",
              "       'барнаул', 'Заринск', 'Kursk', 'Санкт- Петербург', 'GRIHANSK',\n",
              "       'Рубцовск', 'Алейск', 'Краснодар', 'Оренбург', 'Новосибирск',\n",
              "       'Стерлитамак', 'Санкт-Петербург', 'Донецк', 'Астана', 'Barnaul',\n",
              "       'Tyumen'], dtype=object)"
            ]
          },
          "metadata": {},
          "execution_count": 48
        }
      ]
    },
    {
      "cell_type": "markdown",
      "metadata": {
        "id": "eO32lpdeweoB"
      },
      "source": [
        "**Корректировка названий городов**"
      ]
    },
    {
      "cell_type": "code",
      "metadata": {
        "id": "GjS9R9o0xqjj"
      },
      "source": [
        "df.home_town.replace('nan', 'Другой', inplace=True)\n",
        "df.home_town.replace('', 'Другой', inplace=True)\n",
        "df.home_town.replace('барнаул', 'Барнаул', inplace=True)\n",
        "df.home_town.replace('Бараул', 'Барнаул', inplace=True)\n",
        "df.home_town.replace('Barnaul', 'Барнаул', inplace=True)\n",
        "df.home_town.replace('Москва ', 'Москва', inplace=True)\n",
        "df.home_town.replace('МСК', 'Москва', inplace=True)\n",
        "df.home_town.replace('москва-новосибирск-москва', 'Москва', inplace=True)\n",
        "df.home_town.replace('Москва, Санкт-Петербург, Самара, Новосибирск', 'Москва', inplace=True)\n",
        "df.home_town.replace('Теперь Москва', 'Москва', inplace=True)\n",
        "df.home_town.replace('Потсдам, ГДР. А так-то Москалик, с более чем полувековым проживанием  в городе Москва.', 'Москва', inplace=True)\n",
        "df.home_town.replace('Владикавказ, Москва', 'Москва', inplace=True)\n",
        "df.home_town.replace('Петрозаводск, Санкт-Петербург', 'Петрозаводск', inplace=True)\n",
        "df.home_town.replace('Санкт-Москвабург', 'Санкт-Петербург', inplace=True)\n",
        "df.home_town.replace('Санкт- Петербург', 'Санкт-Петербург', inplace=True)\n",
        "df.home_town.replace('Санкт-Петербург (Ленинград)', 'Санкт-Петербург', inplace=True)\n",
        "df.home_town.replace('Петербург', 'Санкт-Петербург', inplace=True)\n",
        "df.home_town.replace('Taganrog', 'Таганрог', inplace=True)\n",
        "df.home_town.replace('г.рига', 'Рига', inplace=True)\n",
        "df.home_town.replace('Рига, Латвийская ССР, СССР', 'Рига', inplace=True)\n",
        "df.home_town.replace('Воронеж, Артёмовск, Ужгород', 'Воронеж', inplace=True)\n",
        "df.home_town.replace('САРОВ', 'Саров', inplace=True)\n",
        "df.home_town.replace('ДОНБАСС', 'Донбасс', inplace=True)\n",
        "df.home_town.replace('Мегион, Ессентуки, Москва', 'Мегион', inplace=True)\n",
        "df.home_town.replace('Ташкент-Санкт -Петербург-Краснодар', 'Ташкент', inplace=True)\n",
        "df.home_town.replace('Sweet Street', 'Другой', inplace=True)\n",
        "df.home_town.replace('Широка страна моя родная!', 'Другой', inplace=True)\n",
        "df.home_town.replace('Показывать только месяц и день', 'Другой', inplace=True)\n",
        "df.home_town.replace('Россия', 'Другой', inplace=True)\n",
        "df.home_town.replace('Mars', 'Другой', inplace=True)\n",
        "df.home_town.replace('Хотите петь мои песни? На здоровье!!! Минуса Качайте с моего официального сайта', 'Другой', inplace=True)\n",
        "df.home_town.replace('Я', 'Другой', inplace=True)\n",
        "df.home_town.replace('омск', 'Омск', inplace=True)\n",
        "df.home_town.replace('владимир', 'Владимир', inplace=True)\n",
        "df.home_town.replace('Kursk', 'Курск', inplace=True)\n",
        "df.home_town.replace('кинель', 'Кинель', inplace=True)\n",
        "df.home_town.replace('темрюк', 'Темрюк', inplace=True)\n",
        "df.home_town.replace('волгодонск', 'Волгодонск', inplace=True)\n",
        "df.home_town.replace('https://vk.com/club212482410', 'Другой', inplace=True)\n",
        "df.home_town.replace(np.nan, 'Другой', inplace=True)"
      ],
      "execution_count": null,
      "outputs": []
    },
    {
      "cell_type": "code",
      "source": [
        "df.home_town.unique()"
      ],
      "metadata": {
        "id": "2Vb7pGqwqqS6",
        "colab": {
          "base_uri": "https://localhost:8080/"
        },
        "outputId": "5c2fd621-84cd-45f4-e3af-179eb0725278"
      },
      "execution_count": null,
      "outputs": [
        {
          "output_type": "execute_result",
          "data": {
            "text/plain": [
              "array(['Другой', 'Барнаул', 'Москва', 'Пупкино', 'Заринск', 'Курск',\n",
              "       'Санкт-Петербург', 'GRIHANSK', 'Рубцовск', 'Алейск', 'Краснодар',\n",
              "       'Оренбург', 'Новосибирск', 'Стерлитамак', 'Донецк', 'Астана',\n",
              "       'Tyumen'], dtype=object)"
            ]
          },
          "metadata": {},
          "execution_count": 50
        }
      ]
    },
    {
      "cell_type": "markdown",
      "metadata": {
        "id": "QCa-AOsq05qk"
      },
      "source": [
        "### **4.8. Работа с признаком has_mobile**"
      ]
    },
    {
      "cell_type": "code",
      "metadata": {
        "id": "vI7Lqgiv0WYw",
        "colab": {
          "base_uri": "https://localhost:8080/",
          "height": 297
        },
        "outputId": "577fa219-e8fc-4eec-b1fe-f9299a8f1e50"
      },
      "source": [
        "sns.histplot(data = df, x = \"has_mobile\")"
      ],
      "execution_count": null,
      "outputs": [
        {
          "output_type": "execute_result",
          "data": {
            "text/plain": [
              "<matplotlib.axes._subplots.AxesSubplot at 0x7f4e32828bd0>"
            ]
          },
          "metadata": {},
          "execution_count": 51
        },
        {
          "output_type": "display_data",
          "data": {
            "text/plain": [
              "<Figure size 432x288 with 1 Axes>"
            ],
            "image/png": "[encoded data removed]"
          },
          "metadata": {
            "needs_background": "light"
          }
        }
      ]
    },
    {
      "cell_type": "code",
      "source": [
        "df.has_mobile.value_counts()"
      ],
      "metadata": {
        "id": "fswPGT1qHMEZ",
        "colab": {
          "base_uri": "https://localhost:8080/"
        },
        "outputId": "42887af6-f8ed-49c1-d431-8685a91eb989"
      },
      "execution_count": null,
      "outputs": [
        {
          "output_type": "execute_result",
          "data": {
            "text/plain": [
              "1.0    329\n",
              "0.0     11\n",
              "Name: has_mobile, dtype: int64"
            ]
          },
          "metadata": {},
          "execution_count": 52
        }
      ]
    },
    {
      "cell_type": "markdown",
      "metadata": {
        "id": "4Pjz1w341YJM"
      },
      "source": [
        "Удаление признака has_mobile по причине наличия мобильного телефона у большинства"
      ]
    },
    {
      "cell_type": "code",
      "source": [
        "df = df.drop (columns = ['has_mobile'])"
      ],
      "metadata": {
        "id": "0wowUPLWHSJZ"
      },
      "execution_count": null,
      "outputs": []
    },
    {
      "cell_type": "code",
      "source": [
        "df.info()"
      ],
      "metadata": {
        "id": "Ar-jV_puHcQP",
        "colab": {
          "base_uri": "https://localhost:8080/"
        },
        "outputId": "a4e8c305-9ac4-46c5-fe9b-5945b4825467"
      },
      "execution_count": null,
      "outputs": [
        {
          "output_type": "stream",
          "name": "stdout",
          "text": [
            "<class 'pandas.core.frame.DataFrame'>\n",
            "Int64Index: 348 entries, 0 to 359\n",
            "Data columns (total 38 columns):\n",
            " #   Column                     Non-Null Count  Dtype  \n",
            "---  ------                     --------------  -----  \n",
            " 0   Unnamed: 0                 348 non-null    int64  \n",
            " 1   first_name                 348 non-null    object \n",
            " 2   last_name                  348 non-null    object \n",
            " 3   id                         348 non-null    int64  \n",
            " 4   sex                        348 non-null    int64  \n",
            " 5   home_town                  348 non-null    object \n",
            " 6   followers_count            257 non-null    float64\n",
            " 7   is_closed                  340 non-null    float64\n",
            " 8   can_access_closed          340 non-null    float64\n",
            " 9   can_see_audio              340 non-null    float64\n",
            " 10  online                     348 non-null    int64  \n",
            " 11  city                       224 non-null    object \n",
            " 12  can_post                   348 non-null    int64  \n",
            " 13  can_write_private_message  348 non-null    int64  \n",
            " 14  can_see_all_posts          340 non-null    float64\n",
            " 15  status                     157 non-null    object \n",
            " 16  relation                   113 non-null    float64\n",
            " 17  universities               113 non-null    object \n",
            " 18  nickname                   4 non-null      object \n",
            " 19  deactivated                8 non-null      object \n",
            " 20  counters                   340 non-null    object \n",
            " 21  has_photo                  348 non-null    int64  \n",
            " 22  occupation                 174 non-null    object \n",
            " 23  site                       56 non-null     object \n",
            " 24  wall_default               340 non-null    object \n",
            " 25  media_albums               340 non-null    float64\n",
            " 26  media_audios               340 non-null    float64\n",
            " 27  media_followers            257 non-null    float64\n",
            " 28  media_pages                340 non-null    float64\n",
            " 29  media_photos               257 non-null    float64\n",
            " 30  media_subscriptions        340 non-null    float64\n",
            " 31  media_videos               340 non-null    float64\n",
            " 32  media_clips_followers      257 non-null    float64\n",
            " 33  university_city            40 non-null     float64\n",
            " 34  university_country         40 non-null     float64\n",
            " 35  university_id              40 non-null     float64\n",
            " 36  university_name            40 non-null     object \n",
            " 37  age                        348 non-null    float64\n",
            "dtypes: float64(18), int64(7), object(13)\n",
            "memory usage: 106.0+ KB\n"
          ]
        }
      ]
    },
    {
      "cell_type": "markdown",
      "metadata": {
        "id": "xkVlJNk61uL7"
      },
      "source": [
        "### **4.9. Работа с признаком followers_count**"
      ]
    },
    {
      "cell_type": "code",
      "metadata": {
        "id": "NIgeBaGB3adV",
        "colab": {
          "base_uri": "https://localhost:8080/"
        },
        "outputId": "993aa1e6-5807-477d-fde0-599f3b135e34"
      },
      "source": [
        "df.followers_count.value_counts()"
      ],
      "execution_count": null,
      "outputs": [
        {
          "output_type": "execute_result",
          "data": {
            "text/plain": [
              "255.0    3\n",
              "4.0      3\n",
              "107.0    3\n",
              "0.0      3\n",
              "131.0    3\n",
              "        ..\n",
              "480.0    1\n",
              "969.0    1\n",
              "86.0     1\n",
              "707.0    1\n",
              "34.0     1\n",
              "Name: followers_count, Length: 207, dtype: int64"
            ]
          },
          "metadata": {},
          "execution_count": 55
        }
      ]
    },
    {
      "cell_type": "code",
      "metadata": {
        "id": "VpR7_8Ds4Aa4",
        "colab": {
          "base_uri": "https://localhost:8080/",
          "height": 295
        },
        "outputId": "f0e83f13-8bab-4435-878d-8521f6baf307"
      },
      "source": [
        "plt.scatter (df.id, df.followers_count)"
      ],
      "execution_count": null,
      "outputs": [
        {
          "output_type": "execute_result",
          "data": {
            "text/plain": [
              "<matplotlib.collections.PathCollection at 0x7f4e327741d0>"
            ]
          },
          "metadata": {},
          "execution_count": 56
        },
        {
          "output_type": "display_data",
          "data": {
            "text/plain": [
              "<Figure size 432x288 with 1 Axes>"
            ],
            "image/png": "[encoded data removed]"
          },
          "metadata": {
            "needs_background": "light"
          }
        }
      ]
    },
    {
      "cell_type": "code",
      "metadata": {
        "id": "EI4-zkf115HP"
      },
      "source": [
        "df = df.drop(df[df.followers_count > 20000].index)"
      ],
      "execution_count": null,
      "outputs": []
    },
    {
      "cell_type": "code",
      "source": [
        "df['followers_count'].isna().sum()"
      ],
      "metadata": {
        "id": "hz52LPUGXTRY",
        "colab": {
          "base_uri": "https://localhost:8080/"
        },
        "outputId": "b2f76b27-bad7-4185-de8e-2ef92d92ff24"
      },
      "execution_count": null,
      "outputs": [
        {
          "output_type": "execute_result",
          "data": {
            "text/plain": [
              "91"
            ]
          },
          "metadata": {},
          "execution_count": 58
        }
      ]
    },
    {
      "cell_type": "code",
      "source": [
        "mode_f = df['followers_count'].mode()"
      ],
      "metadata": {
        "id": "VzB3ah5oX16d"
      },
      "execution_count": null,
      "outputs": []
    },
    {
      "cell_type": "code",
      "source": [
        "df.followers_count.replace(np.nan, mode_f[0], inplace=True)"
      ],
      "metadata": {
        "id": "3avAovp3YHNM"
      },
      "execution_count": null,
      "outputs": []
    },
    {
      "cell_type": "code",
      "source": [
        "df.info()"
      ],
      "metadata": {
        "id": "BQ4kqB5NZM4F",
        "colab": {
          "base_uri": "https://localhost:8080/"
        },
        "outputId": "76136392-07d2-41a8-a135-4ae0041376bd"
      },
      "execution_count": null,
      "outputs": [
        {
          "output_type": "stream",
          "name": "stdout",
          "text": [
            "<class 'pandas.core.frame.DataFrame'>\n",
            "Int64Index: 348 entries, 0 to 359\n",
            "Data columns (total 38 columns):\n",
            " #   Column                     Non-Null Count  Dtype  \n",
            "---  ------                     --------------  -----  \n",
            " 0   Unnamed: 0                 348 non-null    int64  \n",
            " 1   first_name                 348 non-null    object \n",
            " 2   last_name                  348 non-null    object \n",
            " 3   id                         348 non-null    int64  \n",
            " 4   sex                        348 non-null    int64  \n",
            " 5   home_town                  348 non-null    object \n",
            " 6   followers_count            348 non-null    float64\n",
            " 7   is_closed                  340 non-null    float64\n",
            " 8   can_access_closed          340 non-null    float64\n",
            " 9   can_see_audio              340 non-null    float64\n",
            " 10  online                     348 non-null    int64  \n",
            " 11  city                       224 non-null    object \n",
            " 12  can_post                   348 non-null    int64  \n",
            " 13  can_write_private_message  348 non-null    int64  \n",
            " 14  can_see_all_posts          340 non-null    float64\n",
            " 15  status                     157 non-null    object \n",
            " 16  relation                   113 non-null    float64\n",
            " 17  universities               113 non-null    object \n",
            " 18  nickname                   4 non-null      object \n",
            " 19  deactivated                8 non-null      object \n",
            " 20  counters                   340 non-null    object \n",
            " 21  has_photo                  348 non-null    int64  \n",
            " 22  occupation                 174 non-null    object \n",
            " 23  site                       56 non-null     object \n",
            " 24  wall_default               340 non-null    object \n",
            " 25  media_albums               340 non-null    float64\n",
            " 26  media_audios               340 non-null    float64\n",
            " 27  media_followers            257 non-null    float64\n",
            " 28  media_pages                340 non-null    float64\n",
            " 29  media_photos               257 non-null    float64\n",
            " 30  media_subscriptions        340 non-null    float64\n",
            " 31  media_videos               340 non-null    float64\n",
            " 32  media_clips_followers      257 non-null    float64\n",
            " 33  university_city            40 non-null     float64\n",
            " 34  university_country         40 non-null     float64\n",
            " 35  university_id              40 non-null     float64\n",
            " 36  university_name            40 non-null     object \n",
            " 37  age                        348 non-null    float64\n",
            "dtypes: float64(18), int64(7), object(13)\n",
            "memory usage: 114.1+ KB\n"
          ]
        }
      ]
    },
    {
      "cell_type": "markdown",
      "metadata": {
        "id": "tKnaxBkI7qYN"
      },
      "source": [
        "### **4.10. Работа с признаком is_closed**"
      ]
    },
    {
      "cell_type": "code",
      "metadata": {
        "id": "us7Wt8i37Gtf",
        "colab": {
          "base_uri": "https://localhost:8080/",
          "height": 297
        },
        "outputId": "cacd2a8c-83e7-4f37-e02f-50b1feb9d7a1"
      },
      "source": [
        "sns.histplot(data = df, x = \"is_closed\")"
      ],
      "execution_count": null,
      "outputs": [
        {
          "output_type": "execute_result",
          "data": {
            "text/plain": [
              "<matplotlib.axes._subplots.AxesSubplot at 0x7f4e327226d0>"
            ]
          },
          "metadata": {},
          "execution_count": 62
        },
        {
          "output_type": "display_data",
          "data": {
            "text/plain": [
              "<Figure size 432x288 with 1 Axes>"
            ],
            "image/png": "[encoded data removed]"
          },
          "metadata": {
            "needs_background": "light"
          }
        }
      ]
    },
    {
      "cell_type": "code",
      "source": [
        "df = df.drop(df[df['is_closed'].isnull()].index)"
      ],
      "metadata": {
        "id": "GcKnOx7ZdUQE"
      },
      "execution_count": null,
      "outputs": []
    },
    {
      "cell_type": "code",
      "metadata": {
        "id": "Sh3srpLS7uZt",
        "colab": {
          "base_uri": "https://localhost:8080/"
        },
        "outputId": "66d33fea-172d-4e4b-e0d4-93f49ce0d580"
      },
      "source": [
        "df.is_closed.value_counts()"
      ],
      "execution_count": null,
      "outputs": [
        {
          "output_type": "execute_result",
          "data": {
            "text/plain": [
              "0.0    257\n",
              "1.0     83\n",
              "Name: is_closed, dtype: int64"
            ]
          },
          "metadata": {},
          "execution_count": 64
        }
      ]
    },
    {
      "cell_type": "markdown",
      "metadata": {
        "id": "Lqu3VQWH8QII"
      },
      "source": [
        "### **4.11. Работа с признаком can_access_closed**"
      ]
    },
    {
      "cell_type": "code",
      "metadata": {
        "id": "ZsX1NODq8KfW",
        "colab": {
          "base_uri": "https://localhost:8080/",
          "height": 297
        },
        "outputId": "3ce21d61-0525-42df-da3d-3347ea468b58"
      },
      "source": [
        "sns.histplot(data = df, x = \"can_access_closed\")"
      ],
      "execution_count": null,
      "outputs": [
        {
          "output_type": "execute_result",
          "data": {
            "text/plain": [
              "<matplotlib.axes._subplots.AxesSubplot at 0x7f4e326f3990>"
            ]
          },
          "metadata": {},
          "execution_count": 65
        },
        {
          "output_type": "display_data",
          "data": {
            "text/plain": [
              "<Figure size 432x288 with 1 Axes>"
            ],
            "image/png": "[encoded data removed]"
          },
          "metadata": {
            "needs_background": "light"
          }
        }
      ]
    },
    {
      "cell_type": "code",
      "source": [
        "df['can_access_closed'].isna().sum()"
      ],
      "metadata": {
        "id": "zDK9GCKIkPJf",
        "colab": {
          "base_uri": "https://localhost:8080/"
        },
        "outputId": "a58f463d-e006-4a82-e728-167dd85d36fc"
      },
      "execution_count": null,
      "outputs": [
        {
          "output_type": "execute_result",
          "data": {
            "text/plain": [
              "0"
            ]
          },
          "metadata": {},
          "execution_count": 66
        }
      ]
    },
    {
      "cell_type": "code",
      "source": [
        "df = df.drop(df[df['can_access_closed'].isnull()].index)"
      ],
      "metadata": {
        "id": "WfiI_FvGdo-b"
      },
      "execution_count": null,
      "outputs": []
    },
    {
      "cell_type": "code",
      "source": [
        "df.can_access_closed.value_counts()"
      ],
      "metadata": {
        "id": "5rjRDdJdJwET",
        "colab": {
          "base_uri": "https://localhost:8080/"
        },
        "outputId": "f01c4d54-1af6-4830-b442-628a3355f0f8"
      },
      "execution_count": null,
      "outputs": [
        {
          "output_type": "execute_result",
          "data": {
            "text/plain": [
              "1.0    257\n",
              "0.0     83\n",
              "Name: can_access_closed, dtype: int64"
            ]
          },
          "metadata": {},
          "execution_count": 68
        }
      ]
    },
    {
      "cell_type": "markdown",
      "metadata": {
        "id": "IIfY2zTt8ySe"
      },
      "source": [
        "### **4.12. Работа с признаком can_see_audio**"
      ]
    },
    {
      "cell_type": "code",
      "metadata": {
        "id": "VOHC9Dg38wso",
        "colab": {
          "base_uri": "https://localhost:8080/"
        },
        "outputId": "852d2b65-1e49-451c-da41-69fdabf9c4f3"
      },
      "source": [
        "df.can_see_audio.value_counts()"
      ],
      "execution_count": null,
      "outputs": [
        {
          "output_type": "execute_result",
          "data": {
            "text/plain": [
              "0.0    248\n",
              "1.0     92\n",
              "Name: can_see_audio, dtype: int64"
            ]
          },
          "metadata": {},
          "execution_count": 69
        }
      ]
    },
    {
      "cell_type": "code",
      "source": [
        "df = df.drop(df[df['can_see_audio'].isnull()].index)"
      ],
      "metadata": {
        "id": "PrzOHAbbdwPI"
      },
      "execution_count": null,
      "outputs": []
    },
    {
      "cell_type": "markdown",
      "metadata": {
        "id": "m9AAMFfv-XiR"
      },
      "source": [
        "### **4.13. Работа с признаком can_see_all_posts**"
      ]
    },
    {
      "cell_type": "code",
      "metadata": {
        "id": "j3CwCQFu-Jwi",
        "colab": {
          "base_uri": "https://localhost:8080/"
        },
        "outputId": "70182bac-6566-4623-b1a6-6c0fc2dcb3d0"
      },
      "source": [
        "df.can_see_all_posts.value_counts()"
      ],
      "execution_count": null,
      "outputs": [
        {
          "output_type": "execute_result",
          "data": {
            "text/plain": [
              "0.0    239\n",
              "1.0    101\n",
              "Name: can_see_all_posts, dtype: int64"
            ]
          },
          "metadata": {},
          "execution_count": 71
        }
      ]
    },
    {
      "cell_type": "markdown",
      "metadata": {
        "id": "ZwQQoW_e-xUD"
      },
      "source": [
        "### **4.14. Работа с признаком online**"
      ]
    },
    {
      "cell_type": "code",
      "metadata": {
        "id": "bVfTMyaU-j97"
      },
      "source": [
        "#Признак с переменными значениями, следует удалить\n",
        "del df['online']"
      ],
      "execution_count": null,
      "outputs": []
    },
    {
      "cell_type": "code",
      "source": [
        "df.info()"
      ],
      "metadata": {
        "id": "9hiuOBQxxH-4",
        "colab": {
          "base_uri": "https://localhost:8080/"
        },
        "outputId": "c8c46f19-71e9-47b6-e375-243ede416ab0"
      },
      "execution_count": null,
      "outputs": [
        {
          "output_type": "stream",
          "name": "stdout",
          "text": [
            "<class 'pandas.core.frame.DataFrame'>\n",
            "Int64Index: 340 entries, 0 to 359\n",
            "Data columns (total 37 columns):\n",
            " #   Column                     Non-Null Count  Dtype  \n",
            "---  ------                     --------------  -----  \n",
            " 0   Unnamed: 0                 340 non-null    int64  \n",
            " 1   first_name                 340 non-null    object \n",
            " 2   last_name                  340 non-null    object \n",
            " 3   id                         340 non-null    int64  \n",
            " 4   sex                        340 non-null    int64  \n",
            " 5   home_town                  340 non-null    object \n",
            " 6   followers_count            340 non-null    float64\n",
            " 7   is_closed                  340 non-null    float64\n",
            " 8   can_access_closed          340 non-null    float64\n",
            " 9   can_see_audio              340 non-null    float64\n",
            " 10  city                       224 non-null    object \n",
            " 11  can_post                   340 non-null    int64  \n",
            " 12  can_write_private_message  340 non-null    int64  \n",
            " 13  can_see_all_posts          340 non-null    float64\n",
            " 14  status                     157 non-null    object \n",
            " 15  relation                   113 non-null    float64\n",
            " 16  universities               113 non-null    object \n",
            " 17  nickname                   4 non-null      object \n",
            " 18  deactivated                0 non-null      object \n",
            " 19  counters                   340 non-null    object \n",
            " 20  has_photo                  340 non-null    int64  \n",
            " 21  occupation                 174 non-null    object \n",
            " 22  site                       56 non-null     object \n",
            " 23  wall_default               340 non-null    object \n",
            " 24  media_albums               340 non-null    float64\n",
            " 25  media_audios               340 non-null    float64\n",
            " 26  media_followers            257 non-null    float64\n",
            " 27  media_pages                340 non-null    float64\n",
            " 28  media_photos               257 non-null    float64\n",
            " 29  media_subscriptions        340 non-null    float64\n",
            " 30  media_videos               340 non-null    float64\n",
            " 31  media_clips_followers      257 non-null    float64\n",
            " 32  university_city            40 non-null     float64\n",
            " 33  university_country         40 non-null     float64\n",
            " 34  university_id              40 non-null     float64\n",
            " 35  university_name            40 non-null     object \n",
            " 36  age                        340 non-null    float64\n",
            "dtypes: float64(18), int64(6), object(13)\n",
            "memory usage: 109.0+ KB\n"
          ]
        }
      ]
    },
    {
      "cell_type": "markdown",
      "metadata": {
        "id": "lRTgd_DI_WpV"
      },
      "source": [
        "### **4.15. Работа с признаком can_post**"
      ]
    },
    {
      "cell_type": "code",
      "metadata": {
        "id": "l64cQ5Ns_OJ8",
        "colab": {
          "base_uri": "https://localhost:8080/"
        },
        "outputId": "399ac811-e3a0-4d59-da1f-6370e7320dfc"
      },
      "source": [
        "df.can_post.value_counts()"
      ],
      "execution_count": null,
      "outputs": [
        {
          "output_type": "execute_result",
          "data": {
            "text/plain": [
              "0    318\n",
              "1     22\n",
              "Name: can_post, dtype: int64"
            ]
          },
          "metadata": {},
          "execution_count": 74
        }
      ]
    },
    {
      "cell_type": "code",
      "source": [
        "df = df.drop(df[df['can_post'].isnull()].index)"
      ],
      "metadata": {
        "id": "M8SymzVOeAI6"
      },
      "execution_count": null,
      "outputs": []
    },
    {
      "cell_type": "markdown",
      "metadata": {
        "id": "mEgxWYEHJZC9"
      },
      "source": [
        "### **4.16. Работа с признаком can_write_private_message**"
      ]
    },
    {
      "cell_type": "code",
      "metadata": {
        "id": "3oNDN7N9_qBT",
        "colab": {
          "base_uri": "https://localhost:8080/"
        },
        "outputId": "2faf9f93-6f88-4678-a836-fecbdbd289dd"
      },
      "source": [
        "df.can_write_private_message.value_counts()"
      ],
      "execution_count": null,
      "outputs": [
        {
          "output_type": "execute_result",
          "data": {
            "text/plain": [
              "1    212\n",
              "0    128\n",
              "Name: can_write_private_message, dtype: int64"
            ]
          },
          "metadata": {},
          "execution_count": 76
        }
      ]
    },
    {
      "cell_type": "code",
      "source": [
        "df = df.drop(df[df['can_write_private_message'].isnull()].index)"
      ],
      "metadata": {
        "id": "XbS9iaBgeOao"
      },
      "execution_count": null,
      "outputs": []
    },
    {
      "cell_type": "markdown",
      "source": [
        "### **4.17. Работа с признаком can_see_all_posts**"
      ],
      "metadata": {
        "id": "pxkNyrvETUrz"
      }
    },
    {
      "cell_type": "code",
      "source": [
        "df.can_see_all_posts.value_counts()"
      ],
      "metadata": {
        "id": "OWU_pouRTfhb",
        "colab": {
          "base_uri": "https://localhost:8080/"
        },
        "outputId": "53a9a4fe-d91a-438b-8404-ebf4f3c67930"
      },
      "execution_count": null,
      "outputs": [
        {
          "output_type": "execute_result",
          "data": {
            "text/plain": [
              "0.0    239\n",
              "1.0    101\n",
              "Name: can_see_all_posts, dtype: int64"
            ]
          },
          "metadata": {},
          "execution_count": 78
        }
      ]
    },
    {
      "cell_type": "code",
      "source": [
        "df.info()"
      ],
      "metadata": {
        "id": "MrCeEwNteo7x",
        "colab": {
          "base_uri": "https://localhost:8080/"
        },
        "outputId": "6d9208d0-9e8d-496d-f0cb-73d1dd030889"
      },
      "execution_count": null,
      "outputs": [
        {
          "output_type": "stream",
          "name": "stdout",
          "text": [
            "<class 'pandas.core.frame.DataFrame'>\n",
            "Int64Index: 340 entries, 0 to 359\n",
            "Data columns (total 37 columns):\n",
            " #   Column                     Non-Null Count  Dtype  \n",
            "---  ------                     --------------  -----  \n",
            " 0   Unnamed: 0                 340 non-null    int64  \n",
            " 1   first_name                 340 non-null    object \n",
            " 2   last_name                  340 non-null    object \n",
            " 3   id                         340 non-null    int64  \n",
            " 4   sex                        340 non-null    int64  \n",
            " 5   home_town                  340 non-null    object \n",
            " 6   followers_count            340 non-null    float64\n",
            " 7   is_closed                  340 non-null    float64\n",
            " 8   can_access_closed          340 non-null    float64\n",
            " 9   can_see_audio              340 non-null    float64\n",
            " 10  city                       224 non-null    object \n",
            " 11  can_post                   340 non-null    int64  \n",
            " 12  can_write_private_message  340 non-null    int64  \n",
            " 13  can_see_all_posts          340 non-null    float64\n",
            " 14  status                     157 non-null    object \n",
            " 15  relation                   113 non-null    float64\n",
            " 16  universities               113 non-null    object \n",
            " 17  nickname                   4 non-null      object \n",
            " 18  deactivated                0 non-null      object \n",
            " 19  counters                   340 non-null    object \n",
            " 20  has_photo                  340 non-null    int64  \n",
            " 21  occupation                 174 non-null    object \n",
            " 22  site                       56 non-null     object \n",
            " 23  wall_default               340 non-null    object \n",
            " 24  media_albums               340 non-null    float64\n",
            " 25  media_audios               340 non-null    float64\n",
            " 26  media_followers            257 non-null    float64\n",
            " 27  media_pages                340 non-null    float64\n",
            " 28  media_photos               257 non-null    float64\n",
            " 29  media_subscriptions        340 non-null    float64\n",
            " 30  media_videos               340 non-null    float64\n",
            " 31  media_clips_followers      257 non-null    float64\n",
            " 32  university_city            40 non-null     float64\n",
            " 33  university_country         40 non-null     float64\n",
            " 34  university_id              40 non-null     float64\n",
            " 35  university_name            40 non-null     object \n",
            " 36  age                        340 non-null    float64\n",
            "dtypes: float64(18), int64(6), object(13)\n",
            "memory usage: 109.0+ KB\n"
          ]
        }
      ]
    },
    {
      "cell_type": "markdown",
      "source": [
        "### **4.18. Работа с признаками nickname и deactivated**"
      ],
      "metadata": {
        "id": "ABoyKJANeyRC"
      }
    },
    {
      "cell_type": "markdown",
      "source": [
        "Удаление признака nickname из-за неиформативности"
      ],
      "metadata": {
        "id": "MsGTrJZjfAkr"
      }
    },
    {
      "cell_type": "code",
      "source": [
        "del df[\"nickname\"]"
      ],
      "metadata": {
        "id": "F1GIStYIe_yn"
      },
      "execution_count": null,
      "outputs": []
    },
    {
      "cell_type": "markdown",
      "source": [
        "Удаление нулевого признака deactivated"
      ],
      "metadata": {
        "id": "GNfAvS95fKJC"
      }
    },
    {
      "cell_type": "code",
      "source": [
        "del df[\"deactivated\"]"
      ],
      "metadata": {
        "id": "ere_P0XqfP6a"
      },
      "execution_count": null,
      "outputs": []
    },
    {
      "cell_type": "markdown",
      "metadata": {
        "id": "n_X1J4SrKWNj"
      },
      "source": [
        "### **4.19. Работа с признаком status**"
      ]
    },
    {
      "cell_type": "code",
      "source": [
        "df.status.value_counts()"
      ],
      "metadata": {
        "id": "FeINxA4XfwRc",
        "colab": {
          "base_uri": "https://localhost:8080/"
        },
        "outputId": "af8f30b6-4e9d-4d26-8a56-9d08720e483a"
      },
      "execution_count": null,
      "outputs": [
        {
          "output_type": "execute_result",
          "data": {
            "text/plain": [
              "Рассказываю о жизни и работе, пишу стихи и рассказы, мечтаю научиться петь и встретить любовь.    1\n",
              "стать шкафом                                                                                      1\n",
              "🍎🐍                                                                                                1\n",
              "🙇🏿                                                                                                1\n",
              "@hhedoonisstt                                                                                     1\n",
              "                                                                                                 ..\n",
              "Inst-mehikorealgoat                                                                               1\n",
              "blinbliat'                                                                                        1\n",
              "Лешмейкер┃Inst: @lash_studio22┃Обучение┃Inst: @vyatkina_lashcourse                                1\n",
              "моя жизнь ведет меня в правильном направлении, я уверена                                          1\n",
              "🤪                                                                                                 1\n",
              "Name: status, Length: 157, dtype: int64"
            ]
          },
          "metadata": {},
          "execution_count": 82
        }
      ]
    },
    {
      "cell_type": "markdown",
      "metadata": {
        "id": "YhyqnrNeKyrz"
      },
      "source": [
        "Проверка пустых значений статуса"
      ]
    },
    {
      "cell_type": "code",
      "metadata": {
        "id": "0FBOx1tFKU9r",
        "colab": {
          "base_uri": "https://localhost:8080/"
        },
        "outputId": "c2b7d03f-4388-4840-af37-10f12f7e35ea"
      },
      "source": [
        "df[\"status\"].isnull().sum()"
      ],
      "execution_count": null,
      "outputs": [
        {
          "output_type": "execute_result",
          "data": {
            "text/plain": [
              "183"
            ]
          },
          "metadata": {},
          "execution_count": 83
        }
      ]
    },
    {
      "cell_type": "markdown",
      "metadata": {
        "id": "F12YGLCcK5nR"
      },
      "source": [
        "Конвертация признака status в категориальный признак с двумя значениями"
      ]
    },
    {
      "cell_type": "code",
      "metadata": {
        "id": "9w0lvxwNJi-1"
      },
      "source": [
        "df['status'].fillna(0, inplace = True)"
      ],
      "execution_count": null,
      "outputs": []
    },
    {
      "cell_type": "code",
      "source": [
        "for i in df.status:\n",
        "  if i != 0: df.status.replace(i, 1, inplace=True)"
      ],
      "metadata": {
        "id": "7JFg6EUItQLA"
      },
      "execution_count": null,
      "outputs": []
    },
    {
      "cell_type": "code",
      "source": [
        "sns.countplot(df.status)"
      ],
      "metadata": {
        "id": "a9Kun47Ei6vO",
        "colab": {
          "base_uri": "https://localhost:8080/",
          "height": 331
        },
        "outputId": "419959ab-6bab-42a5-f606-22553940975b"
      },
      "execution_count": null,
      "outputs": [
        {
          "output_type": "stream",
          "name": "stderr",
          "text": [
            "/usr/local/lib/python3.7/dist-packages/seaborn/_decorators.py:43: FutureWarning: Pass the following variable as a keyword arg: x. From version 0.12, the only valid positional argument will be `data`, and passing other arguments without an explicit keyword will result in an error or misinterpretation.\n",
            "  FutureWarning\n"
          ]
        },
        {
          "output_type": "execute_result",
          "data": {
            "text/plain": [
              "<matplotlib.axes._subplots.AxesSubplot at 0x7f4e325ede10>"
            ]
          },
          "metadata": {},
          "execution_count": 86
        },
        {
          "output_type": "display_data",
          "data": {
            "text/plain": [
              "<Figure size 432x288 with 1 Axes>"
            ],
            "image/png": "[encoded data removed]"
          },
          "metadata": {
            "needs_background": "light"
          }
        }
      ]
    },
    {
      "cell_type": "markdown",
      "metadata": {
        "id": "ko0jw9YOK0Ec"
      },
      "source": [
        "### **4.20. Работа с признаком relation**"
      ]
    },
    {
      "cell_type": "code",
      "metadata": {
        "id": "8Tu-2T9nOW9G",
        "colab": {
          "base_uri": "https://localhost:8080/"
        },
        "outputId": "0ecd1916-4803-4a76-e9e8-3a58fb39fbd4"
      },
      "source": [
        "df.relation.unique()"
      ],
      "execution_count": null,
      "outputs": [
        {
          "output_type": "execute_result",
          "data": {
            "text/plain": [
              "array([nan,  0.,  4.,  3.,  1.,  2.,  8.,  7.,  6.])"
            ]
          },
          "metadata": {},
          "execution_count": 87
        }
      ]
    },
    {
      "cell_type": "code",
      "source": [
        "df[\"relation\"].isnull().sum()"
      ],
      "metadata": {
        "id": "6JkceKVuuDbv",
        "colab": {
          "base_uri": "https://localhost:8080/"
        },
        "outputId": "6f46d475-42af-4548-c83c-9bde77432c2f"
      },
      "execution_count": null,
      "outputs": [
        {
          "output_type": "execute_result",
          "data": {
            "text/plain": [
              "227"
            ]
          },
          "metadata": {},
          "execution_count": 88
        }
      ]
    },
    {
      "cell_type": "code",
      "metadata": {
        "id": "Mx5L5rnCK8Iq"
      },
      "source": [
        "df['relation'].fillna(0, inplace = True)"
      ],
      "execution_count": null,
      "outputs": []
    },
    {
      "cell_type": "code",
      "source": [
        "df.info()"
      ],
      "metadata": {
        "id": "CLu6bY9DwnoR",
        "colab": {
          "base_uri": "https://localhost:8080/"
        },
        "outputId": "35787595-5e47-4345-e515-95cb56e47fca"
      },
      "execution_count": null,
      "outputs": [
        {
          "output_type": "stream",
          "name": "stdout",
          "text": [
            "<class 'pandas.core.frame.DataFrame'>\n",
            "Int64Index: 340 entries, 0 to 359\n",
            "Data columns (total 35 columns):\n",
            " #   Column                     Non-Null Count  Dtype  \n",
            "---  ------                     --------------  -----  \n",
            " 0   Unnamed: 0                 340 non-null    int64  \n",
            " 1   first_name                 340 non-null    object \n",
            " 2   last_name                  340 non-null    object \n",
            " 3   id                         340 non-null    int64  \n",
            " 4   sex                        340 non-null    int64  \n",
            " 5   home_town                  340 non-null    object \n",
            " 6   followers_count            340 non-null    float64\n",
            " 7   is_closed                  340 non-null    float64\n",
            " 8   can_access_closed          340 non-null    float64\n",
            " 9   can_see_audio              340 non-null    float64\n",
            " 10  city                       224 non-null    object \n",
            " 11  can_post                   340 non-null    int64  \n",
            " 12  can_write_private_message  340 non-null    int64  \n",
            " 13  can_see_all_posts          340 non-null    float64\n",
            " 14  status                     340 non-null    int64  \n",
            " 15  relation                   340 non-null    float64\n",
            " 16  universities               113 non-null    object \n",
            " 17  counters                   340 non-null    object \n",
            " 18  has_photo                  340 non-null    int64  \n",
            " 19  occupation                 174 non-null    object \n",
            " 20  site                       56 non-null     object \n",
            " 21  wall_default               340 non-null    object \n",
            " 22  media_albums               340 non-null    float64\n",
            " 23  media_audios               340 non-null    float64\n",
            " 24  media_followers            257 non-null    float64\n",
            " 25  media_pages                340 non-null    float64\n",
            " 26  media_photos               257 non-null    float64\n",
            " 27  media_subscriptions        340 non-null    float64\n",
            " 28  media_videos               340 non-null    float64\n",
            " 29  media_clips_followers      257 non-null    float64\n",
            " 30  university_city            40 non-null     float64\n",
            " 31  university_country         40 non-null     float64\n",
            " 32  university_id              40 non-null     float64\n",
            " 33  university_name            40 non-null     object \n",
            " 34  age                        340 non-null    float64\n",
            "dtypes: float64(18), int64(7), object(10)\n",
            "memory usage: 103.7+ KB\n"
          ]
        }
      ]
    },
    {
      "cell_type": "markdown",
      "metadata": {
        "id": "LAQwDeKfNPDZ"
      },
      "source": [
        "### **4.21. Работа с признаком has_photo**"
      ]
    },
    {
      "cell_type": "code",
      "metadata": {
        "id": "7deN0mKpNNvc",
        "colab": {
          "base_uri": "https://localhost:8080/",
          "height": 332
        },
        "outputId": "128f528c-f108-4a8e-edd0-54a13c929830"
      },
      "source": [
        "sns.countplot(df.has_photo)"
      ],
      "execution_count": null,
      "outputs": [
        {
          "output_type": "stream",
          "name": "stderr",
          "text": [
            "/usr/local/lib/python3.7/dist-packages/seaborn/_decorators.py:43: FutureWarning: Pass the following variable as a keyword arg: x. From version 0.12, the only valid positional argument will be `data`, and passing other arguments without an explicit keyword will result in an error or misinterpretation.\n",
            "  FutureWarning\n"
          ]
        },
        {
          "output_type": "execute_result",
          "data": {
            "text/plain": [
              "<matplotlib.axes._subplots.AxesSubplot at 0x7f4e325705d0>"
            ]
          },
          "metadata": {},
          "execution_count": 91
        },
        {
          "output_type": "display_data",
          "data": {
            "text/plain": [
              "<Figure size 432x288 with 1 Axes>"
            ],
            "image/png": "[encoded data removed]"
          },
          "metadata": {
            "needs_background": "light"
          }
        }
      ]
    },
    {
      "cell_type": "code",
      "source": [
        "del df[\"has_photo\"]"
      ],
      "metadata": {
        "id": "TjQ3GUx5yMI2"
      },
      "execution_count": null,
      "outputs": []
    },
    {
      "cell_type": "code",
      "source": [
        "df.info()"
      ],
      "metadata": {
        "id": "l1j85wceyZCt",
        "colab": {
          "base_uri": "https://localhost:8080/"
        },
        "outputId": "8f92da17-b02e-4edc-f963-18217c78563c"
      },
      "execution_count": null,
      "outputs": [
        {
          "output_type": "stream",
          "name": "stdout",
          "text": [
            "<class 'pandas.core.frame.DataFrame'>\n",
            "Int64Index: 340 entries, 0 to 359\n",
            "Data columns (total 34 columns):\n",
            " #   Column                     Non-Null Count  Dtype  \n",
            "---  ------                     --------------  -----  \n",
            " 0   Unnamed: 0                 340 non-null    int64  \n",
            " 1   first_name                 340 non-null    object \n",
            " 2   last_name                  340 non-null    object \n",
            " 3   id                         340 non-null    int64  \n",
            " 4   sex                        340 non-null    int64  \n",
            " 5   home_town                  340 non-null    object \n",
            " 6   followers_count            340 non-null    float64\n",
            " 7   is_closed                  340 non-null    float64\n",
            " 8   can_access_closed          340 non-null    float64\n",
            " 9   can_see_audio              340 non-null    float64\n",
            " 10  city                       224 non-null    object \n",
            " 11  can_post                   340 non-null    int64  \n",
            " 12  can_write_private_message  340 non-null    int64  \n",
            " 13  can_see_all_posts          340 non-null    float64\n",
            " 14  status                     340 non-null    int64  \n",
            " 15  relation                   340 non-null    float64\n",
            " 16  universities               113 non-null    object \n",
            " 17  counters                   340 non-null    object \n",
            " 18  occupation                 174 non-null    object \n",
            " 19  site                       56 non-null     object \n",
            " 20  wall_default               340 non-null    object \n",
            " 21  media_albums               340 non-null    float64\n",
            " 22  media_audios               340 non-null    float64\n",
            " 23  media_followers            257 non-null    float64\n",
            " 24  media_pages                340 non-null    float64\n",
            " 25  media_photos               257 non-null    float64\n",
            " 26  media_subscriptions        340 non-null    float64\n",
            " 27  media_videos               340 non-null    float64\n",
            " 28  media_clips_followers      257 non-null    float64\n",
            " 29  university_city            40 non-null     float64\n",
            " 30  university_country         40 non-null     float64\n",
            " 31  university_id              40 non-null     float64\n",
            " 32  university_name            40 non-null     object \n",
            " 33  age                        340 non-null    float64\n",
            "dtypes: float64(18), int64(6), object(10)\n",
            "memory usage: 101.1+ KB\n"
          ]
        }
      ]
    },
    {
      "cell_type": "markdown",
      "metadata": {
        "id": "NpR8Rys6NeUm"
      },
      "source": [
        "### **4.22. Работа с признаком site**"
      ]
    },
    {
      "cell_type": "code",
      "metadata": {
        "id": "yDiw5XYFNvj3",
        "colab": {
          "base_uri": "https://localhost:8080/"
        },
        "outputId": "9264f6e5-2104-4d91-a305-e76d9ec19ef2"
      },
      "source": [
        "df.site.unique()"
      ],
      "execution_count": null,
      "outputs": [
        {
          "output_type": "execute_result",
          "data": {
            "text/plain": [
              "array([nan, 'https://twitter.com/#!/aLexLukin', '@shimadatattoo',\n",
              "       'https://twitter.com/ooceansizze   https://www.instagram.com/florenchik/',\n",
              "       'https://www.instagram.com/dmitry.shagov/ ',\n",
              "       'https://t.me/huB4BuB4', 'http://www.youtube.com/андрейянес',\n",
              "       'http://steamcommunity.com/id/nicetea2205/',\n",
              "       'https://twitter.com/Dans_Kreep', 'kkorolga - new inst',\n",
              "       'https://www.instagram.com/ssaanyaass/',\n",
              "       '----------------------------------------------------',\n",
              "       '.................................',\n",
              "       '  http://sprashivai.ru/Yulia_Pergaeva', 'Инстаграм @stfn_karasev',\n",
              "       'https://www.instagram.com/alvetrov/?hl=ru',\n",
              "       'http://sprashivai.ru/Viktoria2221222   http://ask.fm/VI_23',\n",
              "       'https://www.instagram.com/n.gorbatova/',\n",
              "       'instagram.com/dorogo.vvs/', 'https://linktr.ee/m_o_n_o_r_a_m_a ',\n",
              "       '***********', 'http://instgram.ru/nm_instaa',\n",
              "       'http://instgram.ru/uhofaraona https://www.tumblr.com/blog/milahiddlston',\n",
              "       'https://ask.fm/p_yakimova',\n",
              "       'https://www.instagram.com/konovash_tattoo',\n",
              "       'http://www.eltisbook.ru/php/constructions-php.php',\n",
              "       'instagram.com/milana_zolotovskaya ',\n",
              "       'Instagram: id_ivanova_anastasiya ',\n",
              "       'https://www.instagram.com/_sogoodman',\n",
              "       'https://vk.com/app5337911_157666841',\n",
              "       'http://instagram.com/18m0b',\n",
              "       'https://www.instagram.com/anastasiyabulokhova/', 'a_crylova',\n",
              "       'https://soundcloud.com/new_flame_ydc',\n",
              "       'https://www.instagram.com/markin.jpeg/',\n",
              "       'https://instagram.com/primadonna.prod?igshid=YmMyMTA2M2Y=',\n",
              "       'https://instagram.com/kmnvms?utm_source=ig_profile_share&igshid=reehwb1s8bm6',\n",
              "       'https://www.instagram.com/lunataot ',\n",
              "       'https://www.instagram.com/mi_ri_m/',\n",
              "       'instagram.com/k.medvedchicov      ',\n",
              "       'https://instagram.com/hhedoonisstt?r=nametag',\n",
              "       'http://stihi.ru/avtor/derjin',\n",
              "       'https://www.instagram.com/the_art_of_thinking0/',\n",
              "       'https://www.instagram.com/_exciteme',\n",
              "       'https://instagram.com/taboo_tattoo22?igshid=dbm8t3or8220',\n",
              "       'https://www.instagram.com/prslvaa/', 'ravishment.shop',\n",
              "       'www.instagram.com/ishkov_hd/', 'https://twitch.tv/psydmgg',\n",
              "       'https://vk.com/nicetea1337',\n",
              "       'https://www.instagram.com/govorson/',\n",
              "       'https://www.youtube.com/channel/UCwwxtsfjLxasrWnVpu5Z3Pw',\n",
              "       'https://instagram.com/pichugina_p?utm_source=ig_profile_share&igshid=andurhn1yiew',\n",
              "       'https://themarket.io/users/SJnApuS8M?tab=5',\n",
              "       ' https://www.kinopoisk.ru/user/20259614/                                                                                                  https://myshows.me/fartglobe   ',\n",
              "       'https://www.instagram.com/smlchkv/',\n",
              "       'vk.com/app5898182_-152148684#s=645536 - подписывайся и получай 10% скидки гарантированно!'],\n",
              "      dtype=object)"
            ]
          },
          "metadata": {},
          "execution_count": 94
        }
      ]
    },
    {
      "cell_type": "code",
      "metadata": {
        "id": "RtEYSuQqNjoI",
        "colab": {
          "base_uri": "https://localhost:8080/",
          "height": 331
        },
        "outputId": "3988e5ba-270d-48ea-f94c-e9e776f1f4d3"
      },
      "source": [
        "df['site'].fillna(0, inplace = True)\n",
        "\n",
        "for i in df.site:\n",
        "  if i != 0:\n",
        "    df.site.replace(i, 1, inplace=True)\n",
        "\n",
        "sns.countplot(df.site)"
      ],
      "execution_count": null,
      "outputs": [
        {
          "output_type": "stream",
          "name": "stderr",
          "text": [
            "/usr/local/lib/python3.7/dist-packages/seaborn/_decorators.py:43: FutureWarning: Pass the following variable as a keyword arg: x. From version 0.12, the only valid positional argument will be `data`, and passing other arguments without an explicit keyword will result in an error or misinterpretation.\n",
            "  FutureWarning\n"
          ]
        },
        {
          "output_type": "execute_result",
          "data": {
            "text/plain": [
              "<matplotlib.axes._subplots.AxesSubplot at 0x7f4e324d4050>"
            ]
          },
          "metadata": {},
          "execution_count": 95
        },
        {
          "output_type": "display_data",
          "data": {
            "text/plain": [
              "<Figure size 432x288 with 1 Axes>"
            ],
            "image/png": "[encoded data removed]"
          },
          "metadata": {
            "needs_background": "light"
          }
        }
      ]
    },
    {
      "cell_type": "markdown",
      "metadata": {
        "id": "KYv_6tixQGFx"
      },
      "source": [
        "### **4.23. Работа с признаком wall_default**"
      ]
    },
    {
      "cell_type": "code",
      "metadata": {
        "id": "D-p_F1hfP_7C",
        "colab": {
          "base_uri": "https://localhost:8080/"
        },
        "outputId": "8a1b70dd-2582-4697-bd82-1914e5796eef"
      },
      "source": [
        "df.wall_default.unique()"
      ],
      "execution_count": null,
      "outputs": [
        {
          "output_type": "execute_result",
          "data": {
            "text/plain": [
              "array(['owner', 'all'], dtype=object)"
            ]
          },
          "metadata": {},
          "execution_count": 96
        }
      ]
    },
    {
      "cell_type": "code",
      "metadata": {
        "id": "NVk1Ng3lQQfa",
        "colab": {
          "base_uri": "https://localhost:8080/",
          "height": 332
        },
        "outputId": "3719d033-bfc1-4ca4-f64b-49be9f6fb48f"
      },
      "source": [
        "sns.countplot(df.wall_default)"
      ],
      "execution_count": null,
      "outputs": [
        {
          "output_type": "stream",
          "name": "stderr",
          "text": [
            "/usr/local/lib/python3.7/dist-packages/seaborn/_decorators.py:43: FutureWarning: Pass the following variable as a keyword arg: x. From version 0.12, the only valid positional argument will be `data`, and passing other arguments without an explicit keyword will result in an error or misinterpretation.\n",
            "  FutureWarning\n"
          ]
        },
        {
          "output_type": "execute_result",
          "data": {
            "text/plain": [
              "<matplotlib.axes._subplots.AxesSubplot at 0x7f4e324a64d0>"
            ]
          },
          "metadata": {},
          "execution_count": 97
        },
        {
          "output_type": "display_data",
          "data": {
            "text/plain": [
              "<Figure size 432x288 with 1 Axes>"
            ],
            "image/png": "[encoded data removed]"
          },
          "metadata": {
            "needs_background": "light"
          }
        }
      ]
    },
    {
      "cell_type": "code",
      "metadata": {
        "id": "05oe9nLtJFnq",
        "colab": {
          "base_uri": "https://localhost:8080/",
          "height": 332
        },
        "outputId": "78282345-24f8-471d-f68f-4ff87647ad0d"
      },
      "source": [
        "df.wall_default.replace('all', 1, inplace=True)\n",
        "df.wall_default.replace('owner', 0, inplace=True)\n",
        "df.wall_default.replace(np.nan, 1, inplace=True)\n",
        "\n",
        "sns.countplot(df.wall_default)"
      ],
      "execution_count": null,
      "outputs": [
        {
          "output_type": "stream",
          "name": "stderr",
          "text": [
            "/usr/local/lib/python3.7/dist-packages/seaborn/_decorators.py:43: FutureWarning: Pass the following variable as a keyword arg: x. From version 0.12, the only valid positional argument will be `data`, and passing other arguments without an explicit keyword will result in an error or misinterpretation.\n",
            "  FutureWarning\n"
          ]
        },
        {
          "output_type": "execute_result",
          "data": {
            "text/plain": [
              "<matplotlib.axes._subplots.AxesSubplot at 0x7f4e3240a290>"
            ]
          },
          "metadata": {},
          "execution_count": 98
        },
        {
          "output_type": "display_data",
          "data": {
            "text/plain": [
              "<Figure size 432x288 with 1 Axes>"
            ],
            "image/png": "[encoded data removed]"
          },
          "metadata": {
            "needs_background": "light"
          }
        }
      ]
    },
    {
      "cell_type": "code",
      "source": [
        "df.info()"
      ],
      "metadata": {
        "id": "oiF_NQuu3Uhe",
        "colab": {
          "base_uri": "https://localhost:8080/"
        },
        "outputId": "8c237a2e-b480-42c3-9eaf-573c94431ba3"
      },
      "execution_count": null,
      "outputs": [
        {
          "output_type": "stream",
          "name": "stdout",
          "text": [
            "<class 'pandas.core.frame.DataFrame'>\n",
            "Int64Index: 340 entries, 0 to 359\n",
            "Data columns (total 34 columns):\n",
            " #   Column                     Non-Null Count  Dtype  \n",
            "---  ------                     --------------  -----  \n",
            " 0   Unnamed: 0                 340 non-null    int64  \n",
            " 1   first_name                 340 non-null    object \n",
            " 2   last_name                  340 non-null    object \n",
            " 3   id                         340 non-null    int64  \n",
            " 4   sex                        340 non-null    int64  \n",
            " 5   home_town                  340 non-null    object \n",
            " 6   followers_count            340 non-null    float64\n",
            " 7   is_closed                  340 non-null    float64\n",
            " 8   can_access_closed          340 non-null    float64\n",
            " 9   can_see_audio              340 non-null    float64\n",
            " 10  city                       224 non-null    object \n",
            " 11  can_post                   340 non-null    int64  \n",
            " 12  can_write_private_message  340 non-null    int64  \n",
            " 13  can_see_all_posts          340 non-null    float64\n",
            " 14  status                     340 non-null    int64  \n",
            " 15  relation                   340 non-null    float64\n",
            " 16  universities               113 non-null    object \n",
            " 17  counters                   340 non-null    object \n",
            " 18  occupation                 174 non-null    object \n",
            " 19  site                       340 non-null    int64  \n",
            " 20  wall_default               340 non-null    int64  \n",
            " 21  media_albums               340 non-null    float64\n",
            " 22  media_audios               340 non-null    float64\n",
            " 23  media_followers            257 non-null    float64\n",
            " 24  media_pages                340 non-null    float64\n",
            " 25  media_photos               257 non-null    float64\n",
            " 26  media_subscriptions        340 non-null    float64\n",
            " 27  media_videos               340 non-null    float64\n",
            " 28  media_clips_followers      257 non-null    float64\n",
            " 29  university_city            40 non-null     float64\n",
            " 30  university_country         40 non-null     float64\n",
            " 31  university_id              40 non-null     float64\n",
            " 32  university_name            40 non-null     object \n",
            " 33  age                        340 non-null    float64\n",
            "dtypes: float64(18), int64(8), object(8)\n",
            "memory usage: 101.1+ KB\n"
          ]
        }
      ]
    },
    {
      "cell_type": "code",
      "source": [
        "df.head(10)"
      ],
      "metadata": {
        "id": "CFO0oWJK3bPi",
        "colab": {
          "base_uri": "https://localhost:8080/",
          "height": 393
        },
        "outputId": "1b1c3972-2f2f-4e7a-f3fb-c7c3a647cfc8"
      },
      "execution_count": null,
      "outputs": [
        {
          "output_type": "execute_result",
          "data": {
            "text/plain": [
              "   Unnamed: 0  first_name    last_name        id  sex home_town  \\\n",
              "0           0     Nikolay     Babichev   2132738    2    Другой   \n",
              "1           1      Nikita    Kislyakov   3491909    2    Другой   \n",
              "2           2       Devid  Shaforostov   8071379    2   Барнаул   \n",
              "3           3    Vladimir      Belokon  18417226    2    Другой   \n",
              "4           4       Irina      Turkina  19808197    1    Другой   \n",
              "5           5      Daniil      Golubev  22353623    2    Другой   \n",
              "6           6    Seryozha     Bunyakov  23542163    2    Москва   \n",
              "7           7        Alex          Luk  24551752    2   Пупкино   \n",
              "8           8       Alina  Scherbakova  25732412    2    Другой   \n",
              "9           9  Vyacheslav       Burdin  30088364    2    Другой   \n",
              "\n",
              "   followers_count  is_closed  can_access_closed  can_see_audio  ...  \\\n",
              "0              0.0        1.0                0.0            0.0  ...   \n",
              "1           2300.0        0.0                1.0            1.0  ...   \n",
              "2            192.0        0.0                1.0            1.0  ...   \n",
              "3              0.0        1.0                0.0            0.0  ...   \n",
              "4            802.0        0.0                1.0            0.0  ...   \n",
              "5              0.0        1.0                0.0            0.0  ...   \n",
              "6           2339.0        0.0                1.0            1.0  ...   \n",
              "7             99.0        0.0                1.0            0.0  ...   \n",
              "8              0.0        1.0                0.0            0.0  ...   \n",
              "9              0.0        1.0                0.0            0.0  ...   \n",
              "\n",
              "  media_pages  media_photos  media_subscriptions  media_videos  \\\n",
              "0       132.0           NaN                  9.0           0.0   \n",
              "1        20.0         149.0                  4.0          43.0   \n",
              "2        31.0         190.0                  1.0          99.0   \n",
              "3        45.0           NaN                  2.0           0.0   \n",
              "4        41.0          71.0                  0.0         216.0   \n",
              "5        20.0           NaN                  0.0           0.0   \n",
              "6        41.0        1974.0                 76.0         200.0   \n",
              "7        21.0         455.0                  5.0         252.0   \n",
              "8        47.0           NaN                  0.0           0.0   \n",
              "9         8.0           NaN                  3.0           0.0   \n",
              "\n",
              "   media_clips_followers  university_city university_country university_id  \\\n",
              "0                    NaN              NaN                NaN           NaN   \n",
              "1                11527.0              1.0                1.0         128.0   \n",
              "2                 1274.0              NaN                NaN           NaN   \n",
              "3                    NaN              NaN                NaN           NaN   \n",
              "4                 1348.0              NaN                NaN           NaN   \n",
              "5                    NaN              NaN                NaN           NaN   \n",
              "6                 8382.0              1.0                1.0         236.0   \n",
              "7                  485.0              NaN                NaN           NaN   \n",
              "8                    NaN              NaN                NaN           NaN   \n",
              "9                    NaN              NaN                NaN           NaN   \n",
              "\n",
              "    university_name   age  \n",
              "0               NaN  23.0  \n",
              "1  НИУ ВШЭ (ГУ-ВШЭ)  23.0  \n",
              "2               NaN  23.0  \n",
              "3               NaN  23.0  \n",
              "4               NaN  23.0  \n",
              "5               NaN  23.0  \n",
              "6  МГИМО МИД России  25.0  \n",
              "7               NaN  20.0  \n",
              "8               NaN  23.0  \n",
              "9               NaN  23.0  \n",
              "\n",
              "[10 rows x 34 columns]"
            ],
            "text/html": [
              "\n",
              "  <div id=\"df-85198aab-e386-495d-8237-e7f19b6660bc\">\n",
              "    <div class=\"colab-df-container\">\n",
              "      <div>\n",
              "<style scoped>\n",
              "    .dataframe tbody tr th:only-of-type {\n",
              "        vertical-align: middle;\n",
              "    }\n",
              "\n",
              "    .dataframe tbody tr th {\n",
              "        vertical-align: top;\n",
              "    }\n",
              "\n",
              "    .dataframe thead th {\n",
              "        text-align: right;\n",
              "    }\n",
              "</style>\n",
              "<table border=\"1\" class=\"dataframe\">\n",
              "  <thead>\n",
              "    <tr style=\"text-align: right;\">\n",
              "      <th></th>\n",
              "      <th>Unnamed: 0</th>\n",
              "      <th>first_name</th>\n",
              "      <th>last_name</th>\n",
              "      <th>id</th>\n",
              "      <th>sex</th>\n",
              "      <th>home_town</th>\n",
              "      <th>followers_count</th>\n",
              "      <th>is_closed</th>\n",
              "      <th>can_access_closed</th>\n",
              "      <th>can_see_audio</th>\n",
              "      <th>...</th>\n",
              "      <th>media_pages</th>\n",
              "      <th>media_photos</th>\n",
              "      <th>media_subscriptions</th>\n",
              "      <th>media_videos</th>\n",
              "      <th>media_clips_followers</th>\n",
              "      <th>university_city</th>\n",
              "      <th>university_country</th>\n",
              "      <th>university_id</th>\n",
              "      <th>university_name</th>\n",
              "      <th>age</th>\n",
              "    </tr>\n",
              "  </thead>\n",
              "  <tbody>\n",
              "    <tr>\n",
              "      <th>0</th>\n",
              "      <td>0</td>\n",
              "      <td>Nikolay</td>\n",
              "      <td>Babichev</td>\n",
              "      <td>2132738</td>\n",
              "      <td>2</td>\n",
              "      <td>Другой</td>\n",
              "      <td>0.0</td>\n",
              "      <td>1.0</td>\n",
              "      <td>0.0</td>\n",
              "      <td>0.0</td>\n",
              "      <td>...</td>\n",
              "      <td>132.0</td>\n",
              "      <td>NaN</td>\n",
              "      <td>9.0</td>\n",
              "      <td>0.0</td>\n",
              "      <td>NaN</td>\n",
              "      <td>NaN</td>\n",
              "      <td>NaN</td>\n",
              "      <td>NaN</td>\n",
              "      <td>NaN</td>\n",
              "      <td>23.0</td>\n",
              "    </tr>\n",
              "    <tr>\n",
              "      <th>1</th>\n",
              "      <td>1</td>\n",
              "      <td>Nikita</td>\n",
              "      <td>Kislyakov</td>\n",
              "      <td>3491909</td>\n",
              "      <td>2</td>\n",
              "      <td>Другой</td>\n",
              "      <td>2300.0</td>\n",
              "      <td>0.0</td>\n",
              "      <td>1.0</td>\n",
              "      <td>1.0</td>\n",
              "      <td>...</td>\n",
              "      <td>20.0</td>\n",
              "      <td>149.0</td>\n",
              "      <td>4.0</td>\n",
              "      <td>43.0</td>\n",
              "      <td>11527.0</td>\n",
              "      <td>1.0</td>\n",
              "      <td>1.0</td>\n",
              "      <td>128.0</td>\n",
              "      <td>НИУ ВШЭ (ГУ-ВШЭ)</td>\n",
              "      <td>23.0</td>\n",
              "    </tr>\n",
              "    <tr>\n",
              "      <th>2</th>\n",
              "      <td>2</td>\n",
              "      <td>Devid</td>\n",
              "      <td>Shaforostov</td>\n",
              "      <td>8071379</td>\n",
              "      <td>2</td>\n",
              "      <td>Барнаул</td>\n",
              "      <td>192.0</td>\n",
              "      <td>0.0</td>\n",
              "      <td>1.0</td>\n",
              "      <td>1.0</td>\n",
              "      <td>...</td>\n",
              "      <td>31.0</td>\n",
              "      <td>190.0</td>\n",
              "      <td>1.0</td>\n",
              "      <td>99.0</td>\n",
              "      <td>1274.0</td>\n",
              "      <td>NaN</td>\n",
              "      <td>NaN</td>\n",
              "      <td>NaN</td>\n",
              "      <td>NaN</td>\n",
              "      <td>23.0</td>\n",
              "    </tr>\n",
              "    <tr>\n",
              "      <th>3</th>\n",
              "      <td>3</td>\n",
              "      <td>Vladimir</td>\n",
              "      <td>Belokon</td>\n",
              "      <td>18417226</td>\n",
              "      <td>2</td>\n",
              "      <td>Другой</td>\n",
              "      <td>0.0</td>\n",
              "      <td>1.0</td>\n",
              "      <td>0.0</td>\n",
              "      <td>0.0</td>\n",
              "      <td>...</td>\n",
              "      <td>45.0</td>\n",
              "      <td>NaN</td>\n",
              "      <td>2.0</td>\n",
              "      <td>0.0</td>\n",
              "      <td>NaN</td>\n",
              "      <td>NaN</td>\n",
              "      <td>NaN</td>\n",
              "      <td>NaN</td>\n",
              "      <td>NaN</td>\n",
              "      <td>23.0</td>\n",
              "    </tr>\n",
              "    <tr>\n",
              "      <th>4</th>\n",
              "      <td>4</td>\n",
              "      <td>Irina</td>\n",
              "      <td>Turkina</td>\n",
              "      <td>19808197</td>\n",
              "      <td>1</td>\n",
              "      <td>Другой</td>\n",
              "      <td>802.0</td>\n",
              "      <td>0.0</td>\n",
              "      <td>1.0</td>\n",
              "      <td>0.0</td>\n",
              "      <td>...</td>\n",
              "      <td>41.0</td>\n",
              "      <td>71.0</td>\n",
              "      <td>0.0</td>\n",
              "      <td>216.0</td>\n",
              "      <td>1348.0</td>\n",
              "      <td>NaN</td>\n",
              "      <td>NaN</td>\n",
              "      <td>NaN</td>\n",
              "      <td>NaN</td>\n",
              "      <td>23.0</td>\n",
              "    </tr>\n",
              "    <tr>\n",
              "      <th>5</th>\n",
              "      <td>5</td>\n",
              "      <td>Daniil</td>\n",
              "      <td>Golubev</td>\n",
              "      <td>22353623</td>\n",
              "      <td>2</td>\n",
              "      <td>Другой</td>\n",
              "      <td>0.0</td>\n",
              "      <td>1.0</td>\n",
              "      <td>0.0</td>\n",
              "      <td>0.0</td>\n",
              "      <td>...</td>\n",
              "      <td>20.0</td>\n",
              "      <td>NaN</td>\n",
              "      <td>0.0</td>\n",
              "      <td>0.0</td>\n",
              "      <td>NaN</td>\n",
              "      <td>NaN</td>\n",
              "      <td>NaN</td>\n",
              "      <td>NaN</td>\n",
              "      <td>NaN</td>\n",
              "      <td>23.0</td>\n",
              "    </tr>\n",
              "    <tr>\n",
              "      <th>6</th>\n",
              "      <td>6</td>\n",
              "      <td>Seryozha</td>\n",
              "      <td>Bunyakov</td>\n",
              "      <td>23542163</td>\n",
              "      <td>2</td>\n",
              "      <td>Москва</td>\n",
              "      <td>2339.0</td>\n",
              "      <td>0.0</td>\n",
              "      <td>1.0</td>\n",
              "      <td>1.0</td>\n",
              "      <td>...</td>\n",
              "      <td>41.0</td>\n",
              "      <td>1974.0</td>\n",
              "      <td>76.0</td>\n",
              "      <td>200.0</td>\n",
              "      <td>8382.0</td>\n",
              "      <td>1.0</td>\n",
              "      <td>1.0</td>\n",
              "      <td>236.0</td>\n",
              "      <td>МГИМО МИД России</td>\n",
              "      <td>25.0</td>\n",
              "    </tr>\n",
              "    <tr>\n",
              "      <th>7</th>\n",
              "      <td>7</td>\n",
              "      <td>Alex</td>\n",
              "      <td>Luk</td>\n",
              "      <td>24551752</td>\n",
              "      <td>2</td>\n",
              "      <td>Пупкино</td>\n",
              "      <td>99.0</td>\n",
              "      <td>0.0</td>\n",
              "      <td>1.0</td>\n",
              "      <td>0.0</td>\n",
              "      <td>...</td>\n",
              "      <td>21.0</td>\n",
              "      <td>455.0</td>\n",
              "      <td>5.0</td>\n",
              "      <td>252.0</td>\n",
              "      <td>485.0</td>\n",
              "      <td>NaN</td>\n",
              "      <td>NaN</td>\n",
              "      <td>NaN</td>\n",
              "      <td>NaN</td>\n",
              "      <td>20.0</td>\n",
              "    </tr>\n",
              "    <tr>\n",
              "      <th>8</th>\n",
              "      <td>8</td>\n",
              "      <td>Alina</td>\n",
              "      <td>Scherbakova</td>\n",
              "      <td>25732412</td>\n",
              "      <td>2</td>\n",
              "      <td>Другой</td>\n",
              "      <td>0.0</td>\n",
              "      <td>1.0</td>\n",
              "      <td>0.0</td>\n",
              "      <td>0.0</td>\n",
              "      <td>...</td>\n",
              "      <td>47.0</td>\n",
              "      <td>NaN</td>\n",
              "      <td>0.0</td>\n",
              "      <td>0.0</td>\n",
              "      <td>NaN</td>\n",
              "      <td>NaN</td>\n",
              "      <td>NaN</td>\n",
              "      <td>NaN</td>\n",
              "      <td>NaN</td>\n",
              "      <td>23.0</td>\n",
              "    </tr>\n",
              "    <tr>\n",
              "      <th>9</th>\n",
              "      <td>9</td>\n",
              "      <td>Vyacheslav</td>\n",
              "      <td>Burdin</td>\n",
              "      <td>30088364</td>\n",
              "      <td>2</td>\n",
              "      <td>Другой</td>\n",
              "      <td>0.0</td>\n",
              "      <td>1.0</td>\n",
              "      <td>0.0</td>\n",
              "      <td>0.0</td>\n",
              "      <td>...</td>\n",
              "      <td>8.0</td>\n",
              "      <td>NaN</td>\n",
              "      <td>3.0</td>\n",
              "      <td>0.0</td>\n",
              "      <td>NaN</td>\n",
              "      <td>NaN</td>\n",
              "      <td>NaN</td>\n",
              "      <td>NaN</td>\n",
              "      <td>NaN</td>\n",
              "      <td>23.0</td>\n",
              "    </tr>\n",
              "  </tbody>\n",
              "</table>\n",
              "<p>10 rows × 34 columns</p>\n",
              "</div>\n",
              "      <button class=\"colab-df-convert\" onclick=\"convertToInteractive('df-85198aab-e386-495d-8237-e7f19b6660bc')\"\n",
              "              title=\"Convert this dataframe to an interactive table.\"\n",
              "              style=\"display:none;\">\n",
              "        \n",
              "  <svg xmlns=\"http://www.w3.org/2000/svg\" height=\"24px\"viewBox=\"0 0 24 24\"\n",
              "       width=\"24px\">\n",
              "    <path d=\"M0 0h24v24H0V0z\" fill=\"none\"/>\n",
              "    <path d=\"M18.56 5.44l.94 2.06.94-2.06 2.06-.94-2.06-.94-.94-2.06-.94 2.06-2.06.94zm-11 1L8.5 8.5l.94-2.06 2.06-.94-2.06-.94L8.5 2.5l-.94 2.06-2.06.94zm10 10l.94 2.06.94-2.06 2.06-.94-2.06-.94-.94-2.06-.94 2.06-2.06.94z\"/><path d=\"M17.41 7.96l-1.37-1.37c-.4-.4-.92-.59-1.43-.59-.52 0-1.04.2-1.43.59L10.3 9.45l-7.72 7.72c-.78.78-.78 2.05 0 2.83L4 21.41c.39.39.9.59 1.41.59.51 0 1.02-.2 1.41-.59l7.78-7.78 2.81-2.81c.8-.78.8-2.07 0-2.86zM5.41 20L4 18.59l7.72-7.72 1.47 1.35L5.41 20z\"/>\n",
              "  </svg>\n",
              "      </button>\n",
              "      \n",
              "  <style>\n",
              "    .colab-df-container {\n",
              "      display:flex;\n",
              "      flex-wrap:wrap;\n",
              "      gap: 12px;\n",
              "    }\n",
              "\n",
              "    .colab-df-convert {\n",
              "      background-color: #E8F0FE;\n",
              "      border: none;\n",
              "      border-radius: 50%;\n",
              "      cursor: pointer;\n",
              "      display: none;\n",
              "      fill: #1967D2;\n",
              "      height: 32px;\n",
              "      padding: 0 0 0 0;\n",
              "      width: 32px;\n",
              "    }\n",
              "\n",
              "    .colab-df-convert:hover {\n",
              "      background-color: #E2EBFA;\n",
              "      box-shadow: 0px 1px 2px rgba(60, 64, 67, 0.3), 0px 1px 3px 1px rgba(60, 64, 67, 0.15);\n",
              "      fill: #174EA6;\n",
              "    }\n",
              "\n",
              "    [theme=dark] .colab-df-convert {\n",
              "      background-color: #3B4455;\n",
              "      fill: #D2E3FC;\n",
              "    }\n",
              "\n",
              "    [theme=dark] .colab-df-convert:hover {\n",
              "      background-color: #434B5C;\n",
              "      box-shadow: 0px 1px 3px 1px rgba(0, 0, 0, 0.15);\n",
              "      filter: drop-shadow(0px 1px 2px rgba(0, 0, 0, 0.3));\n",
              "      fill: #FFFFFF;\n",
              "    }\n",
              "  </style>\n",
              "\n",
              "      <script>\n",
              "        const buttonEl =\n",
              "          document.querySelector('#df-85198aab-e386-495d-8237-e7f19b6660bc button.colab-df-convert');\n",
              "        buttonEl.style.display =\n",
              "          google.colab.kernel.accessAllowed ? 'block' : 'none';\n",
              "\n",
              "        async function convertToInteractive(key) {\n",
              "          const element = document.querySelector('#df-85198aab-e386-495d-8237-e7f19b6660bc');\n",
              "          const dataTable =\n",
              "            await google.colab.kernel.invokeFunction('convertToInteractive',\n",
              "                                                     [key], {});\n",
              "          if (!dataTable) return;\n",
              "\n",
              "          const docLinkHtml = 'Like what you see? Visit the ' +\n",
              "            '<a target=\"_blank\" href=https://colab.research.google.com/notebooks/data_table.ipynb>data table notebook</a>'\n",
              "            + ' to learn more about interactive tables.';\n",
              "          element.innerHTML = '';\n",
              "          dataTable['output_type'] = 'display_data';\n",
              "          await google.colab.output.renderOutput(dataTable, element);\n",
              "          const docLink = document.createElement('div');\n",
              "          docLink.innerHTML = docLinkHtml;\n",
              "          element.appendChild(docLink);\n",
              "        }\n",
              "      </script>\n",
              "    </div>\n",
              "  </div>\n",
              "  "
            ]
          },
          "metadata": {},
          "execution_count": 100
        }
      ]
    },
    {
      "cell_type": "markdown",
      "source": [
        "### **4.24. Работа с признаком university**"
      ],
      "metadata": {
        "id": "k31ydloC4MuL"
      }
    },
    {
      "cell_type": "code",
      "source": [
        "del df[\"universities\"]\n",
        "del df[\"university_city\"]\n",
        "del df[\"university_country\"]\n",
        "##del df[\"university_education_status\"]\n",
        "##del df[\"university_faculty\"]\n",
        "##del df[\"university_faculty_name\"]\n",
        "##del df[\"university_graduation\"]\n",
        "del df[\"university_id\"]\n",
        "del df[\"university_name\"]"
      ],
      "metadata": {
        "id": "CU5cnale4VBe"
      },
      "execution_count": null,
      "outputs": []
    },
    {
      "cell_type": "code",
      "source": [
        "df.info()"
      ],
      "metadata": {
        "id": "2eAtqTuj4v9f",
        "colab": {
          "base_uri": "https://localhost:8080/"
        },
        "outputId": "3dacf319-8013-4b52-b709-17e17e48a319"
      },
      "execution_count": null,
      "outputs": [
        {
          "output_type": "stream",
          "name": "stdout",
          "text": [
            "<class 'pandas.core.frame.DataFrame'>\n",
            "Int64Index: 340 entries, 0 to 359\n",
            "Data columns (total 29 columns):\n",
            " #   Column                     Non-Null Count  Dtype  \n",
            "---  ------                     --------------  -----  \n",
            " 0   Unnamed: 0                 340 non-null    int64  \n",
            " 1   first_name                 340 non-null    object \n",
            " 2   last_name                  340 non-null    object \n",
            " 3   id                         340 non-null    int64  \n",
            " 4   sex                        340 non-null    int64  \n",
            " 5   home_town                  340 non-null    object \n",
            " 6   followers_count            340 non-null    float64\n",
            " 7   is_closed                  340 non-null    float64\n",
            " 8   can_access_closed          340 non-null    float64\n",
            " 9   can_see_audio              340 non-null    float64\n",
            " 10  city                       224 non-null    object \n",
            " 11  can_post                   340 non-null    int64  \n",
            " 12  can_write_private_message  340 non-null    int64  \n",
            " 13  can_see_all_posts          340 non-null    float64\n",
            " 14  status                     340 non-null    int64  \n",
            " 15  relation                   340 non-null    float64\n",
            " 16  counters                   340 non-null    object \n",
            " 17  occupation                 174 non-null    object \n",
            " 18  site                       340 non-null    int64  \n",
            " 19  wall_default               340 non-null    int64  \n",
            " 20  media_albums               340 non-null    float64\n",
            " 21  media_audios               340 non-null    float64\n",
            " 22  media_followers            257 non-null    float64\n",
            " 23  media_pages                340 non-null    float64\n",
            " 24  media_photos               257 non-null    float64\n",
            " 25  media_subscriptions        340 non-null    float64\n",
            " 26  media_videos               340 non-null    float64\n",
            " 27  media_clips_followers      257 non-null    float64\n",
            " 28  age                        340 non-null    float64\n",
            "dtypes: float64(15), int64(8), object(6)\n",
            "memory usage: 87.8+ KB\n"
          ]
        }
      ]
    },
    {
      "cell_type": "markdown",
      "metadata": {
        "id": "WPzIt-lKQbjL"
      },
      "source": [
        "### **4.25. Работа с признаками counters (media)**"
      ]
    },
    {
      "cell_type": "code",
      "metadata": {
        "id": "XLN_LJLFQU6k"
      },
      "source": [
        "del df[\"counters\"]"
      ],
      "execution_count": null,
      "outputs": []
    },
    {
      "cell_type": "code",
      "source": [
        "df.head()"
      ],
      "metadata": {
        "id": "fwlK-XIV6XtN",
        "colab": {
          "base_uri": "https://localhost:8080/",
          "height": 236
        },
        "outputId": "cb03ec4c-cc3b-48f4-d05b-fbb0f0c8c1f6"
      },
      "execution_count": null,
      "outputs": [
        {
          "output_type": "execute_result",
          "data": {
            "text/plain": [
              "   Unnamed: 0 first_name    last_name        id  sex home_town  \\\n",
              "0           0    Nikolay     Babichev   2132738    2    Другой   \n",
              "1           1     Nikita    Kislyakov   3491909    2    Другой   \n",
              "2           2      Devid  Shaforostov   8071379    2   Барнаул   \n",
              "3           3   Vladimir      Belokon  18417226    2    Другой   \n",
              "4           4      Irina      Turkina  19808197    1    Другой   \n",
              "\n",
              "   followers_count  is_closed  can_access_closed  can_see_audio  ...  \\\n",
              "0              0.0        1.0                0.0            0.0  ...   \n",
              "1           2300.0        0.0                1.0            1.0  ...   \n",
              "2            192.0        0.0                1.0            1.0  ...   \n",
              "3              0.0        1.0                0.0            0.0  ...   \n",
              "4            802.0        0.0                1.0            0.0  ...   \n",
              "\n",
              "  wall_default  media_albums  media_audios  media_followers  media_pages  \\\n",
              "0            0           0.0           0.0              NaN        132.0   \n",
              "1            1           2.0          12.0           2300.0         20.0   \n",
              "2            0           0.0         565.0            192.0         31.0   \n",
              "3            1           0.0           0.0              NaN         45.0   \n",
              "4            1           0.0           0.0            802.0         41.0   \n",
              "\n",
              "   media_photos media_subscriptions  media_videos  media_clips_followers   age  \n",
              "0           NaN                 9.0           0.0                    NaN  23.0  \n",
              "1         149.0                 4.0          43.0                11527.0  23.0  \n",
              "2         190.0                 1.0          99.0                 1274.0  23.0  \n",
              "3           NaN                 2.0           0.0                    NaN  23.0  \n",
              "4          71.0                 0.0         216.0                 1348.0  23.0  \n",
              "\n",
              "[5 rows x 28 columns]"
            ],
            "text/html": [
              "\n",
              "  <div id=\"df-47c1af80-7eed-4b6d-b26d-52b745ad0223\">\n",
              "    <div class=\"colab-df-container\">\n",
              "      <div>\n",
              "<style scoped>\n",
              "    .dataframe tbody tr th:only-of-type {\n",
              "        vertical-align: middle;\n",
              "    }\n",
              "\n",
              "    .dataframe tbody tr th {\n",
              "        vertical-align: top;\n",
              "    }\n",
              "\n",
              "    .dataframe thead th {\n",
              "        text-align: right;\n",
              "    }\n",
              "</style>\n",
              "<table border=\"1\" class=\"dataframe\">\n",
              "  <thead>\n",
              "    <tr style=\"text-align: right;\">\n",
              "      <th></th>\n",
              "      <th>Unnamed: 0</th>\n",
              "      <th>first_name</th>\n",
              "      <th>last_name</th>\n",
              "      <th>id</th>\n",
              "      <th>sex</th>\n",
              "      <th>home_town</th>\n",
              "      <th>followers_count</th>\n",
              "      <th>is_closed</th>\n",
              "      <th>can_access_closed</th>\n",
              "      <th>can_see_audio</th>\n",
              "      <th>...</th>\n",
              "      <th>wall_default</th>\n",
              "      <th>media_albums</th>\n",
              "      <th>media_audios</th>\n",
              "      <th>media_followers</th>\n",
              "      <th>media_pages</th>\n",
              "      <th>media_photos</th>\n",
              "      <th>media_subscriptions</th>\n",
              "      <th>media_videos</th>\n",
              "      <th>media_clips_followers</th>\n",
              "      <th>age</th>\n",
              "    </tr>\n",
              "  </thead>\n",
              "  <tbody>\n",
              "    <tr>\n",
              "      <th>0</th>\n",
              "      <td>0</td>\n",
              "      <td>Nikolay</td>\n",
              "      <td>Babichev</td>\n",
              "      <td>2132738</td>\n",
              "      <td>2</td>\n",
              "      <td>Другой</td>\n",
              "      <td>0.0</td>\n",
              "      <td>1.0</td>\n",
              "      <td>0.0</td>\n",
              "      <td>0.0</td>\n",
              "      <td>...</td>\n",
              "      <td>0</td>\n",
              "      <td>0.0</td>\n",
              "      <td>0.0</td>\n",
              "      <td>NaN</td>\n",
              "      <td>132.0</td>\n",
              "      <td>NaN</td>\n",
              "      <td>9.0</td>\n",
              "      <td>0.0</td>\n",
              "      <td>NaN</td>\n",
              "      <td>23.0</td>\n",
              "    </tr>\n",
              "    <tr>\n",
              "      <th>1</th>\n",
              "      <td>1</td>\n",
              "      <td>Nikita</td>\n",
              "      <td>Kislyakov</td>\n",
              "      <td>3491909</td>\n",
              "      <td>2</td>\n",
              "      <td>Другой</td>\n",
              "      <td>2300.0</td>\n",
              "      <td>0.0</td>\n",
              "      <td>1.0</td>\n",
              "      <td>1.0</td>\n",
              "      <td>...</td>\n",
              "      <td>1</td>\n",
              "      <td>2.0</td>\n",
              "      <td>12.0</td>\n",
              "      <td>2300.0</td>\n",
              "      <td>20.0</td>\n",
              "      <td>149.0</td>\n",
              "      <td>4.0</td>\n",
              "      <td>43.0</td>\n",
              "      <td>11527.0</td>\n",
              "      <td>23.0</td>\n",
              "    </tr>\n",
              "    <tr>\n",
              "      <th>2</th>\n",
              "      <td>2</td>\n",
              "      <td>Devid</td>\n",
              "      <td>Shaforostov</td>\n",
              "      <td>8071379</td>\n",
              "      <td>2</td>\n",
              "      <td>Барнаул</td>\n",
              "      <td>192.0</td>\n",
              "      <td>0.0</td>\n",
              "      <td>1.0</td>\n",
              "      <td>1.0</td>\n",
              "      <td>...</td>\n",
              "      <td>0</td>\n",
              "      <td>0.0</td>\n",
              "      <td>565.0</td>\n",
              "      <td>192.0</td>\n",
              "      <td>31.0</td>\n",
              "      <td>190.0</td>\n",
              "      <td>1.0</td>\n",
              "      <td>99.0</td>\n",
              "      <td>1274.0</td>\n",
              "      <td>23.0</td>\n",
              "    </tr>\n",
              "    <tr>\n",
              "      <th>3</th>\n",
              "      <td>3</td>\n",
              "      <td>Vladimir</td>\n",
              "      <td>Belokon</td>\n",
              "      <td>18417226</td>\n",
              "      <td>2</td>\n",
              "      <td>Другой</td>\n",
              "      <td>0.0</td>\n",
              "      <td>1.0</td>\n",
              "      <td>0.0</td>\n",
              "      <td>0.0</td>\n",
              "      <td>...</td>\n",
              "      <td>1</td>\n",
              "      <td>0.0</td>\n",
              "      <td>0.0</td>\n",
              "      <td>NaN</td>\n",
              "      <td>45.0</td>\n",
              "      <td>NaN</td>\n",
              "      <td>2.0</td>\n",
              "      <td>0.0</td>\n",
              "      <td>NaN</td>\n",
              "      <td>23.0</td>\n",
              "    </tr>\n",
              "    <tr>\n",
              "      <th>4</th>\n",
              "      <td>4</td>\n",
              "      <td>Irina</td>\n",
              "      <td>Turkina</td>\n",
              "      <td>19808197</td>\n",
              "      <td>1</td>\n",
              "      <td>Другой</td>\n",
              "      <td>802.0</td>\n",
              "      <td>0.0</td>\n",
              "      <td>1.0</td>\n",
              "      <td>0.0</td>\n",
              "      <td>...</td>\n",
              "      <td>1</td>\n",
              "      <td>0.0</td>\n",
              "      <td>0.0</td>\n",
              "      <td>802.0</td>\n",
              "      <td>41.0</td>\n",
              "      <td>71.0</td>\n",
              "      <td>0.0</td>\n",
              "      <td>216.0</td>\n",
              "      <td>1348.0</td>\n",
              "      <td>23.0</td>\n",
              "    </tr>\n",
              "  </tbody>\n",
              "</table>\n",
              "<p>5 rows × 28 columns</p>\n",
              "</div>\n",
              "      <button class=\"colab-df-convert\" onclick=\"convertToInteractive('df-47c1af80-7eed-4b6d-b26d-52b745ad0223')\"\n",
              "              title=\"Convert this dataframe to an interactive table.\"\n",
              "              style=\"display:none;\">\n",
              "        \n",
              "  <svg xmlns=\"http://www.w3.org/2000/svg\" height=\"24px\"viewBox=\"0 0 24 24\"\n",
              "       width=\"24px\">\n",
              "    <path d=\"M0 0h24v24H0V0z\" fill=\"none\"/>\n",
              "    <path d=\"M18.56 5.44l.94 2.06.94-2.06 2.06-.94-2.06-.94-.94-2.06-.94 2.06-2.06.94zm-11 1L8.5 8.5l.94-2.06 2.06-.94-2.06-.94L8.5 2.5l-.94 2.06-2.06.94zm10 10l.94 2.06.94-2.06 2.06-.94-2.06-.94-.94-2.06-.94 2.06-2.06.94z\"/><path d=\"M17.41 7.96l-1.37-1.37c-.4-.4-.92-.59-1.43-.59-.52 0-1.04.2-1.43.59L10.3 9.45l-7.72 7.72c-.78.78-.78 2.05 0 2.83L4 21.41c.39.39.9.59 1.41.59.51 0 1.02-.2 1.41-.59l7.78-7.78 2.81-2.81c.8-.78.8-2.07 0-2.86zM5.41 20L4 18.59l7.72-7.72 1.47 1.35L5.41 20z\"/>\n",
              "  </svg>\n",
              "      </button>\n",
              "      \n",
              "  <style>\n",
              "    .colab-df-container {\n",
              "      display:flex;\n",
              "      flex-wrap:wrap;\n",
              "      gap: 12px;\n",
              "    }\n",
              "\n",
              "    .colab-df-convert {\n",
              "      background-color: #E8F0FE;\n",
              "      border: none;\n",
              "      border-radius: 50%;\n",
              "      cursor: pointer;\n",
              "      display: none;\n",
              "      fill: #1967D2;\n",
              "      height: 32px;\n",
              "      padding: 0 0 0 0;\n",
              "      width: 32px;\n",
              "    }\n",
              "\n",
              "    .colab-df-convert:hover {\n",
              "      background-color: #E2EBFA;\n",
              "      box-shadow: 0px 1px 2px rgba(60, 64, 67, 0.3), 0px 1px 3px 1px rgba(60, 64, 67, 0.15);\n",
              "      fill: #174EA6;\n",
              "    }\n",
              "\n",
              "    [theme=dark] .colab-df-convert {\n",
              "      background-color: #3B4455;\n",
              "      fill: #D2E3FC;\n",
              "    }\n",
              "\n",
              "    [theme=dark] .colab-df-convert:hover {\n",
              "      background-color: #434B5C;\n",
              "      box-shadow: 0px 1px 3px 1px rgba(0, 0, 0, 0.15);\n",
              "      filter: drop-shadow(0px 1px 2px rgba(0, 0, 0, 0.3));\n",
              "      fill: #FFFFFF;\n",
              "    }\n",
              "  </style>\n",
              "\n",
              "      <script>\n",
              "        const buttonEl =\n",
              "          document.querySelector('#df-47c1af80-7eed-4b6d-b26d-52b745ad0223 button.colab-df-convert');\n",
              "        buttonEl.style.display =\n",
              "          google.colab.kernel.accessAllowed ? 'block' : 'none';\n",
              "\n",
              "        async function convertToInteractive(key) {\n",
              "          const element = document.querySelector('#df-47c1af80-7eed-4b6d-b26d-52b745ad0223');\n",
              "          const dataTable =\n",
              "            await google.colab.kernel.invokeFunction('convertToInteractive',\n",
              "                                                     [key], {});\n",
              "          if (!dataTable) return;\n",
              "\n",
              "          const docLinkHtml = 'Like what you see? Visit the ' +\n",
              "            '<a target=\"_blank\" href=https://colab.research.google.com/notebooks/data_table.ipynb>data table notebook</a>'\n",
              "            + ' to learn more about interactive tables.';\n",
              "          element.innerHTML = '';\n",
              "          dataTable['output_type'] = 'display_data';\n",
              "          await google.colab.output.renderOutput(dataTable, element);\n",
              "          const docLink = document.createElement('div');\n",
              "          docLink.innerHTML = docLinkHtml;\n",
              "          element.appendChild(docLink);\n",
              "        }\n",
              "      </script>\n",
              "    </div>\n",
              "  </div>\n",
              "  "
            ]
          },
          "metadata": {},
          "execution_count": 104
        }
      ]
    },
    {
      "cell_type": "markdown",
      "source": [
        "**media_albums**"
      ],
      "metadata": {
        "id": "E2fm6acF8Jf1"
      }
    },
    {
      "cell_type": "code",
      "source": [
        "df.media_albums.replace(np.nan, df[\"media_albums\"].mode()[0], inplace=True)"
      ],
      "metadata": {
        "id": "00FwWNwq6C1x"
      },
      "execution_count": null,
      "outputs": []
    },
    {
      "cell_type": "code",
      "source": [
        "df.media_albums.unique()"
      ],
      "metadata": {
        "id": "hBLamiYS7U3y",
        "colab": {
          "base_uri": "https://localhost:8080/"
        },
        "outputId": "10581d2f-abdd-490c-c9a4-39f53803ac87"
      },
      "execution_count": null,
      "outputs": [
        {
          "output_type": "execute_result",
          "data": {
            "text/plain": [
              "array([ 0.,  2.,  1.,  8.,  4.,  3., 10., 18.,  7.,  6., 14.,  5.])"
            ]
          },
          "metadata": {},
          "execution_count": 106
        }
      ]
    },
    {
      "cell_type": "code",
      "source": [
        "sns.countplot(df.media_albums)"
      ],
      "metadata": {
        "id": "w5V3FA207l-D",
        "colab": {
          "base_uri": "https://localhost:8080/",
          "height": 332
        },
        "outputId": "dcf7440a-bfb3-4613-f1fc-a05052bb490e"
      },
      "execution_count": null,
      "outputs": [
        {
          "output_type": "stream",
          "name": "stderr",
          "text": [
            "/usr/local/lib/python3.7/dist-packages/seaborn/_decorators.py:43: FutureWarning: Pass the following variable as a keyword arg: x. From version 0.12, the only valid positional argument will be `data`, and passing other arguments without an explicit keyword will result in an error or misinterpretation.\n",
            "  FutureWarning\n"
          ]
        },
        {
          "output_type": "execute_result",
          "data": {
            "text/plain": [
              "<matplotlib.axes._subplots.AxesSubplot at 0x7f4e323e26d0>"
            ]
          },
          "metadata": {},
          "execution_count": 107
        },
        {
          "output_type": "display_data",
          "data": {
            "text/plain": [
              "<Figure size 432x288 with 1 Axes>"
            ],
            "image/png": "[encoded data removed]"
          },
          "metadata": {
            "needs_background": "light"
          }
        }
      ]
    },
    {
      "cell_type": "code",
      "source": [
        "del df[\"media_albums\"]"
      ],
      "metadata": {
        "id": "9q0Dvee07xIx"
      },
      "execution_count": null,
      "outputs": []
    },
    {
      "cell_type": "markdown",
      "source": [
        "**media_audios**"
      ],
      "metadata": {
        "id": "Br8f08008Vaz"
      }
    },
    {
      "cell_type": "code",
      "source": [
        "df.media_audios.replace(np.nan, df[\"media_audios\"].mode()[0], inplace=True)\n",
        "sns.countplot(df.media_audios)"
      ],
      "metadata": {
        "id": "4TinNCED8MUY",
        "colab": {
          "base_uri": "https://localhost:8080/",
          "height": 332
        },
        "outputId": "460991f6-7a08-4f64-c561-efbc6feb4ce2"
      },
      "execution_count": null,
      "outputs": [
        {
          "output_type": "stream",
          "name": "stderr",
          "text": [
            "/usr/local/lib/python3.7/dist-packages/seaborn/_decorators.py:43: FutureWarning: Pass the following variable as a keyword arg: x. From version 0.12, the only valid positional argument will be `data`, and passing other arguments without an explicit keyword will result in an error or misinterpretation.\n",
            "  FutureWarning\n"
          ]
        },
        {
          "output_type": "execute_result",
          "data": {
            "text/plain": [
              "<matplotlib.axes._subplots.AxesSubplot at 0x7f4e3281e850>"
            ]
          },
          "metadata": {},
          "execution_count": 109
        },
        {
          "output_type": "display_data",
          "data": {
            "text/plain": [
              "<Figure size 432x288 with 1 Axes>"
            ],
            "image/png": "[encoded data removed]"
          },
          "metadata": {
            "needs_background": "light"
          }
        }
      ]
    },
    {
      "cell_type": "code",
      "source": [
        "del df[\"media_audios\"]\n",
        "del df[\"media_followers\"]\n",
        "del df[\"media_pages\"]\n",
        "del df[\"media_photos\"]\n",
        "del df[\"media_subscriptions\"]\n",
        "del df[\"media_videos\"]\n",
        "del df[\"media_clips_followers\"]"
      ],
      "metadata": {
        "id": "eHcsYzQz8rx1"
      },
      "execution_count": null,
      "outputs": []
    },
    {
      "cell_type": "code",
      "source": [
        "df.info()"
      ],
      "metadata": {
        "id": "tLL2Rd8k6xOr",
        "colab": {
          "base_uri": "https://localhost:8080/"
        },
        "outputId": "3b8f43c4-be01-4e95-c2fe-8c5009fed12a"
      },
      "execution_count": null,
      "outputs": [
        {
          "output_type": "stream",
          "name": "stdout",
          "text": [
            "<class 'pandas.core.frame.DataFrame'>\n",
            "Int64Index: 340 entries, 0 to 359\n",
            "Data columns (total 20 columns):\n",
            " #   Column                     Non-Null Count  Dtype  \n",
            "---  ------                     --------------  -----  \n",
            " 0   Unnamed: 0                 340 non-null    int64  \n",
            " 1   first_name                 340 non-null    object \n",
            " 2   last_name                  340 non-null    object \n",
            " 3   id                         340 non-null    int64  \n",
            " 4   sex                        340 non-null    int64  \n",
            " 5   home_town                  340 non-null    object \n",
            " 6   followers_count            340 non-null    float64\n",
            " 7   is_closed                  340 non-null    float64\n",
            " 8   can_access_closed          340 non-null    float64\n",
            " 9   can_see_audio              340 non-null    float64\n",
            " 10  city                       224 non-null    object \n",
            " 11  can_post                   340 non-null    int64  \n",
            " 12  can_write_private_message  340 non-null    int64  \n",
            " 13  can_see_all_posts          340 non-null    float64\n",
            " 14  status                     340 non-null    int64  \n",
            " 15  relation                   340 non-null    float64\n",
            " 16  occupation                 174 non-null    object \n",
            " 17  site                       340 non-null    int64  \n",
            " 18  wall_default               340 non-null    int64  \n",
            " 19  age                        340 non-null    float64\n",
            "dtypes: float64(7), int64(8), object(5)\n",
            "memory usage: 63.9+ KB\n"
          ]
        }
      ]
    },
    {
      "cell_type": "code",
      "source": [
        "df.head()"
      ],
      "metadata": {
        "id": "UP40Ynon9rWN",
        "colab": {
          "base_uri": "https://localhost:8080/",
          "height": 206
        },
        "outputId": "370fef53-c107-49c4-e08c-6e27b87f11f3"
      },
      "execution_count": null,
      "outputs": [
        {
          "output_type": "execute_result",
          "data": {
            "text/plain": [
              "   Unnamed: 0 first_name    last_name        id  sex home_town  \\\n",
              "0           0    Nikolay     Babichev   2132738    2    Другой   \n",
              "1           1     Nikita    Kislyakov   3491909    2    Другой   \n",
              "2           2      Devid  Shaforostov   8071379    2   Барнаул   \n",
              "3           3   Vladimir      Belokon  18417226    2    Другой   \n",
              "4           4      Irina      Turkina  19808197    1    Другой   \n",
              "\n",
              "   followers_count  is_closed  can_access_closed  can_see_audio  \\\n",
              "0              0.0        1.0                0.0            0.0   \n",
              "1           2300.0        0.0                1.0            1.0   \n",
              "2            192.0        0.0                1.0            1.0   \n",
              "3              0.0        1.0                0.0            0.0   \n",
              "4            802.0        0.0                1.0            0.0   \n",
              "\n",
              "                                 city  can_post  can_write_private_message  \\\n",
              "0  {'id': 99, 'title': 'Novosibirsk'}         0                          0   \n",
              "1      {'id': 25, 'title': 'Barnaul'}         0                          0   \n",
              "2      {'id': 25, 'title': 'Barnaul'}         0                          1   \n",
              "3      {'id': 25, 'title': 'Barnaul'}         0                          0   \n",
              "4      {'id': 25, 'title': 'Barnaul'}         0                          0   \n",
              "\n",
              "   can_see_all_posts  status  relation  \\\n",
              "0                0.0       0       0.0   \n",
              "1                0.0       1       0.0   \n",
              "2                0.0       1       0.0   \n",
              "3                0.0       1       0.0   \n",
              "4                0.0       0       0.0   \n",
              "\n",
              "                                          occupation  site  wall_default   age  \n",
              "0                                                NaN     0             0  23.0  \n",
              "1  {'id': 28915774, 'name': 'ОТС-Горсайт', 'type'...     0             1  23.0  \n",
              "2                                                NaN     0             0  23.0  \n",
              "3  {'id': 155911724, 'name': '#HOMEDVIJ #24:01', ...     0             1  23.0  \n",
              "4  {'id': 381, 'name': 'АлтГУ', 'type': 'universi...     0             1  23.0  "
            ],
            "text/html": [
              "\n",
              "  <div id=\"df-7f19804c-9497-4257-9d2b-ee9270f8208d\">\n",
              "    <div class=\"colab-df-container\">\n",
              "      <div>\n",
              "<style scoped>\n",
              "    .dataframe tbody tr th:only-of-type {\n",
              "        vertical-align: middle;\n",
              "    }\n",
              "\n",
              "    .dataframe tbody tr th {\n",
              "        vertical-align: top;\n",
              "    }\n",
              "\n",
              "    .dataframe thead th {\n",
              "        text-align: right;\n",
              "    }\n",
              "</style>\n",
              "<table border=\"1\" class=\"dataframe\">\n",
              "  <thead>\n",
              "    <tr style=\"text-align: right;\">\n",
              "      <th></th>\n",
              "      <th>Unnamed: 0</th>\n",
              "      <th>first_name</th>\n",
              "      <th>last_name</th>\n",
              "      <th>id</th>\n",
              "      <th>sex</th>\n",
              "      <th>home_town</th>\n",
              "      <th>followers_count</th>\n",
              "      <th>is_closed</th>\n",
              "      <th>can_access_closed</th>\n",
              "      <th>can_see_audio</th>\n",
              "      <th>city</th>\n",
              "      <th>can_post</th>\n",
              "      <th>can_write_private_message</th>\n",
              "      <th>can_see_all_posts</th>\n",
              "      <th>status</th>\n",
              "      <th>relation</th>\n",
              "      <th>occupation</th>\n",
              "      <th>site</th>\n",
              "      <th>wall_default</th>\n",
              "      <th>age</th>\n",
              "    </tr>\n",
              "  </thead>\n",
              "  <tbody>\n",
              "    <tr>\n",
              "      <th>0</th>\n",
              "      <td>0</td>\n",
              "      <td>Nikolay</td>\n",
              "      <td>Babichev</td>\n",
              "      <td>2132738</td>\n",
              "      <td>2</td>\n",
              "      <td>Другой</td>\n",
              "      <td>0.0</td>\n",
              "      <td>1.0</td>\n",
              "      <td>0.0</td>\n",
              "      <td>0.0</td>\n",
              "      <td>{'id': 99, 'title': 'Novosibirsk'}</td>\n",
              "      <td>0</td>\n",
              "      <td>0</td>\n",
              "      <td>0.0</td>\n",
              "      <td>0</td>\n",
              "      <td>0.0</td>\n",
              "      <td>NaN</td>\n",
              "      <td>0</td>\n",
              "      <td>0</td>\n",
              "      <td>23.0</td>\n",
              "    </tr>\n",
              "    <tr>\n",
              "      <th>1</th>\n",
              "      <td>1</td>\n",
              "      <td>Nikita</td>\n",
              "      <td>Kislyakov</td>\n",
              "      <td>3491909</td>\n",
              "      <td>2</td>\n",
              "      <td>Другой</td>\n",
              "      <td>2300.0</td>\n",
              "      <td>0.0</td>\n",
              "      <td>1.0</td>\n",
              "      <td>1.0</td>\n",
              "      <td>{'id': 25, 'title': 'Barnaul'}</td>\n",
              "      <td>0</td>\n",
              "      <td>0</td>\n",
              "      <td>0.0</td>\n",
              "      <td>1</td>\n",
              "      <td>0.0</td>\n",
              "      <td>{'id': 28915774, 'name': 'ОТС-Горсайт', 'type'...</td>\n",
              "      <td>0</td>\n",
              "      <td>1</td>\n",
              "      <td>23.0</td>\n",
              "    </tr>\n",
              "    <tr>\n",
              "      <th>2</th>\n",
              "      <td>2</td>\n",
              "      <td>Devid</td>\n",
              "      <td>Shaforostov</td>\n",
              "      <td>8071379</td>\n",
              "      <td>2</td>\n",
              "      <td>Барнаул</td>\n",
              "      <td>192.0</td>\n",
              "      <td>0.0</td>\n",
              "      <td>1.0</td>\n",
              "      <td>1.0</td>\n",
              "      <td>{'id': 25, 'title': 'Barnaul'}</td>\n",
              "      <td>0</td>\n",
              "      <td>1</td>\n",
              "      <td>0.0</td>\n",
              "      <td>1</td>\n",
              "      <td>0.0</td>\n",
              "      <td>NaN</td>\n",
              "      <td>0</td>\n",
              "      <td>0</td>\n",
              "      <td>23.0</td>\n",
              "    </tr>\n",
              "    <tr>\n",
              "      <th>3</th>\n",
              "      <td>3</td>\n",
              "      <td>Vladimir</td>\n",
              "      <td>Belokon</td>\n",
              "      <td>18417226</td>\n",
              "      <td>2</td>\n",
              "      <td>Другой</td>\n",
              "      <td>0.0</td>\n",
              "      <td>1.0</td>\n",
              "      <td>0.0</td>\n",
              "      <td>0.0</td>\n",
              "      <td>{'id': 25, 'title': 'Barnaul'}</td>\n",
              "      <td>0</td>\n",
              "      <td>0</td>\n",
              "      <td>0.0</td>\n",
              "      <td>1</td>\n",
              "      <td>0.0</td>\n",
              "      <td>{'id': 155911724, 'name': '#HOMEDVIJ #24:01', ...</td>\n",
              "      <td>0</td>\n",
              "      <td>1</td>\n",
              "      <td>23.0</td>\n",
              "    </tr>\n",
              "    <tr>\n",
              "      <th>4</th>\n",
              "      <td>4</td>\n",
              "      <td>Irina</td>\n",
              "      <td>Turkina</td>\n",
              "      <td>19808197</td>\n",
              "      <td>1</td>\n",
              "      <td>Другой</td>\n",
              "      <td>802.0</td>\n",
              "      <td>0.0</td>\n",
              "      <td>1.0</td>\n",
              "      <td>0.0</td>\n",
              "      <td>{'id': 25, 'title': 'Barnaul'}</td>\n",
              "      <td>0</td>\n",
              "      <td>0</td>\n",
              "      <td>0.0</td>\n",
              "      <td>0</td>\n",
              "      <td>0.0</td>\n",
              "      <td>{'id': 381, 'name': 'АлтГУ', 'type': 'universi...</td>\n",
              "      <td>0</td>\n",
              "      <td>1</td>\n",
              "      <td>23.0</td>\n",
              "    </tr>\n",
              "  </tbody>\n",
              "</table>\n",
              "</div>\n",
              "      <button class=\"colab-df-convert\" onclick=\"convertToInteractive('df-7f19804c-9497-4257-9d2b-ee9270f8208d')\"\n",
              "              title=\"Convert this dataframe to an interactive table.\"\n",
              "              style=\"display:none;\">\n",
              "        \n",
              "  <svg xmlns=\"http://www.w3.org/2000/svg\" height=\"24px\"viewBox=\"0 0 24 24\"\n",
              "       width=\"24px\">\n",
              "    <path d=\"M0 0h24v24H0V0z\" fill=\"none\"/>\n",
              "    <path d=\"M18.56 5.44l.94 2.06.94-2.06 2.06-.94-2.06-.94-.94-2.06-.94 2.06-2.06.94zm-11 1L8.5 8.5l.94-2.06 2.06-.94-2.06-.94L8.5 2.5l-.94 2.06-2.06.94zm10 10l.94 2.06.94-2.06 2.06-.94-2.06-.94-.94-2.06-.94 2.06-2.06.94z\"/><path d=\"M17.41 7.96l-1.37-1.37c-.4-.4-.92-.59-1.43-.59-.52 0-1.04.2-1.43.59L10.3 9.45l-7.72 7.72c-.78.78-.78 2.05 0 2.83L4 21.41c.39.39.9.59 1.41.59.51 0 1.02-.2 1.41-.59l7.78-7.78 2.81-2.81c.8-.78.8-2.07 0-2.86zM5.41 20L4 18.59l7.72-7.72 1.47 1.35L5.41 20z\"/>\n",
              "  </svg>\n",
              "      </button>\n",
              "      \n",
              "  <style>\n",
              "    .colab-df-container {\n",
              "      display:flex;\n",
              "      flex-wrap:wrap;\n",
              "      gap: 12px;\n",
              "    }\n",
              "\n",
              "    .colab-df-convert {\n",
              "      background-color: #E8F0FE;\n",
              "      border: none;\n",
              "      border-radius: 50%;\n",
              "      cursor: pointer;\n",
              "      display: none;\n",
              "      fill: #1967D2;\n",
              "      height: 32px;\n",
              "      padding: 0 0 0 0;\n",
              "      width: 32px;\n",
              "    }\n",
              "\n",
              "    .colab-df-convert:hover {\n",
              "      background-color: #E2EBFA;\n",
              "      box-shadow: 0px 1px 2px rgba(60, 64, 67, 0.3), 0px 1px 3px 1px rgba(60, 64, 67, 0.15);\n",
              "      fill: #174EA6;\n",
              "    }\n",
              "\n",
              "    [theme=dark] .colab-df-convert {\n",
              "      background-color: #3B4455;\n",
              "      fill: #D2E3FC;\n",
              "    }\n",
              "\n",
              "    [theme=dark] .colab-df-convert:hover {\n",
              "      background-color: #434B5C;\n",
              "      box-shadow: 0px 1px 3px 1px rgba(0, 0, 0, 0.15);\n",
              "      filter: drop-shadow(0px 1px 2px rgba(0, 0, 0, 0.3));\n",
              "      fill: #FFFFFF;\n",
              "    }\n",
              "  </style>\n",
              "\n",
              "      <script>\n",
              "        const buttonEl =\n",
              "          document.querySelector('#df-7f19804c-9497-4257-9d2b-ee9270f8208d button.colab-df-convert');\n",
              "        buttonEl.style.display =\n",
              "          google.colab.kernel.accessAllowed ? 'block' : 'none';\n",
              "\n",
              "        async function convertToInteractive(key) {\n",
              "          const element = document.querySelector('#df-7f19804c-9497-4257-9d2b-ee9270f8208d');\n",
              "          const dataTable =\n",
              "            await google.colab.kernel.invokeFunction('convertToInteractive',\n",
              "                                                     [key], {});\n",
              "          if (!dataTable) return;\n",
              "\n",
              "          const docLinkHtml = 'Like what you see? Visit the ' +\n",
              "            '<a target=\"_blank\" href=https://colab.research.google.com/notebooks/data_table.ipynb>data table notebook</a>'\n",
              "            + ' to learn more about interactive tables.';\n",
              "          element.innerHTML = '';\n",
              "          dataTable['output_type'] = 'display_data';\n",
              "          await google.colab.output.renderOutput(dataTable, element);\n",
              "          const docLink = document.createElement('div');\n",
              "          docLink.innerHTML = docLinkHtml;\n",
              "          element.appendChild(docLink);\n",
              "        }\n",
              "      </script>\n",
              "    </div>\n",
              "  </div>\n",
              "  "
            ]
          },
          "metadata": {},
          "execution_count": 112
        }
      ]
    },
    {
      "cell_type": "markdown",
      "metadata": {
        "id": "BRqfOIpkMPkd"
      },
      "source": [
        "### **4.22. Работа с признаком city**"
      ]
    },
    {
      "cell_type": "code",
      "metadata": {
        "id": "6as7hE5dNorz"
      },
      "source": [
        "df['city'].fillna(\"{'id': 11111, 'title': 'Other'}\", inplace = True)"
      ],
      "execution_count": null,
      "outputs": []
    },
    {
      "cell_type": "code",
      "metadata": {
        "colab": {
          "base_uri": "https://localhost:8080/"
        },
        "id": "VA5ALz7nOS7s",
        "outputId": "7395f266-493a-4ea0-836f-ea1f4a584114"
      },
      "source": [
        "df.city"
      ],
      "execution_count": null,
      "outputs": [
        {
          "output_type": "execute_result",
          "data": {
            "text/plain": [
              "0               {'id': 99, 'title': 'Novosibirsk'}\n",
              "1                   {'id': 25, 'title': 'Barnaul'}\n",
              "2                   {'id': 25, 'title': 'Barnaul'}\n",
              "3                   {'id': 25, 'title': 'Barnaul'}\n",
              "4                   {'id': 25, 'title': 'Barnaul'}\n",
              "                          ...                     \n",
              "354    {'id': 1957124, 'title': 'Nakhchivan City'}\n",
              "356                 {'id': 147, 'title': 'Tyumen'}\n",
              "357                 {'id': 25, 'title': 'Barnaul'}\n",
              "358                 {'id': 25, 'title': 'Barnaul'}\n",
              "359                 {'id': 25, 'title': 'Barnaul'}\n",
              "Name: city, Length: 340, dtype: object"
            ]
          },
          "metadata": {},
          "execution_count": 114
        }
      ]
    },
    {
      "cell_type": "code",
      "metadata": {
        "id": "cfms5SnrMT9I",
        "colab": {
          "base_uri": "https://localhost:8080/"
        },
        "outputId": "ca3a93af-de79-432e-871d-32e926bf4e6a"
      },
      "source": [
        "df['city_new'] = 0\n",
        "\n",
        "n = 0\n",
        "for i in df.city:\n",
        "  d = eval(i)\n",
        "  df['city_new'][n] = d['title']\n",
        "  n += 1"
      ],
      "execution_count": null,
      "outputs": [
        {
          "output_type": "stream",
          "name": "stderr",
          "text": [
            "/usr/local/lib/python3.7/dist-packages/ipykernel_launcher.py:6: SettingWithCopyWarning: \n",
            "A value is trying to be set on a copy of a slice from a DataFrame\n",
            "\n",
            "See the caveats in the documentation: https://pandas.pydata.org/pandas-docs/stable/user_guide/indexing.html#returning-a-view-versus-a-copy\n",
            "  \n",
            "/usr/local/lib/python3.7/dist-packages/pandas/core/indexing.py:1732: SettingWithCopyWarning: \n",
            "A value is trying to be set on a copy of a slice from a DataFrame\n",
            "\n",
            "See the caveats in the documentation: https://pandas.pydata.org/pandas-docs/stable/user_guide/indexing.html#returning-a-view-versus-a-copy\n",
            "  self._setitem_single_block(indexer, value, name)\n"
          ]
        }
      ]
    },
    {
      "cell_type": "code",
      "metadata": {
        "id": "Xbap-MKJbbJq"
      },
      "source": [
        "df['is_closed'] = df.is_closed.astype(int)\n",
        "df['can_see_audio'] = df.can_see_audio.astype(int)\n",
        "df['can_see_all_posts'] = df.can_see_all_posts.astype(int)\n",
        "df['followers_count'] = df.followers_count.astype(int)"
      ],
      "execution_count": null,
      "outputs": []
    },
    {
      "cell_type": "code",
      "source": [
        "df.info()"
      ],
      "metadata": {
        "id": "zhWNj41ZBUUV",
        "outputId": "6e8a0968-13a2-4a86-8c53-adc48600a19e",
        "colab": {
          "base_uri": "https://localhost:8080/"
        }
      },
      "execution_count": null,
      "outputs": [
        {
          "output_type": "stream",
          "name": "stdout",
          "text": [
            "<class 'pandas.core.frame.DataFrame'>\n",
            "Int64Index: 340 entries, 0 to 359\n",
            "Data columns (total 21 columns):\n",
            " #   Column                     Non-Null Count  Dtype  \n",
            "---  ------                     --------------  -----  \n",
            " 0   Unnamed: 0                 340 non-null    int64  \n",
            " 1   first_name                 340 non-null    object \n",
            " 2   last_name                  340 non-null    object \n",
            " 3   id                         340 non-null    int64  \n",
            " 4   sex                        340 non-null    int64  \n",
            " 5   home_town                  340 non-null    object \n",
            " 6   followers_count            340 non-null    int64  \n",
            " 7   is_closed                  340 non-null    int64  \n",
            " 8   can_access_closed          340 non-null    float64\n",
            " 9   can_see_audio              340 non-null    int64  \n",
            " 10  city                       340 non-null    object \n",
            " 11  can_post                   340 non-null    int64  \n",
            " 12  can_write_private_message  340 non-null    int64  \n",
            " 13  can_see_all_posts          340 non-null    int64  \n",
            " 14  status                     340 non-null    int64  \n",
            " 15  relation                   340 non-null    float64\n",
            " 16  occupation                 174 non-null    object \n",
            " 17  site                       340 non-null    int64  \n",
            " 18  wall_default               340 non-null    int64  \n",
            " 19  age                        340 non-null    float64\n",
            " 20  city_new                   340 non-null    object \n",
            "dtypes: float64(3), int64(12), object(6)\n",
            "memory usage: 66.5+ KB\n"
          ]
        }
      ]
    },
    {
      "cell_type": "code",
      "source": [
        "df"
      ],
      "metadata": {
        "colab": {
          "base_uri": "https://localhost:8080/",
          "height": 424
        },
        "id": "mXuXv0m5bq4X",
        "outputId": "d5b4101b-b1d7-43a9-bacc-aff8074835c1"
      },
      "execution_count": null,
      "outputs": [
        {
          "output_type": "execute_result",
          "data": {
            "text/plain": [
              "     Unnamed: 0 first_name    last_name         id  sex home_town  \\\n",
              "0             0    Nikolay     Babichev    2132738    2    Другой   \n",
              "1             1     Nikita    Kislyakov    3491909    2    Другой   \n",
              "2             2      Devid  Shaforostov    8071379    2   Барнаул   \n",
              "3             3   Vladimir      Belokon   18417226    2    Другой   \n",
              "4             4      Irina      Turkina   19808197    1    Другой   \n",
              "..          ...        ...          ...        ...  ...       ...   \n",
              "354         354     Leonid    Griboedov  603579266    2    Другой   \n",
              "356         356      Darya    Galenzina  630595799    1    Tyumen   \n",
              "357         357     German   Saul-Aaron  641743403    2   Барнаул   \n",
              "358         358     Alexey      Tovarka  735775879    2   Барнаул   \n",
              "359         359  Alexandra   Kucherenko  737077015    1    Другой   \n",
              "\n",
              "     followers_count  is_closed  can_access_closed  can_see_audio  ...  \\\n",
              "0                  0          1                0.0              0  ...   \n",
              "1               2300          0                1.0              1  ...   \n",
              "2                192          0                1.0              1  ...   \n",
              "3                  0          1                0.0              0  ...   \n",
              "4                802          0                1.0              0  ...   \n",
              "..               ...        ...                ...            ...  ...   \n",
              "354                0          1                0.0              0  ...   \n",
              "356              381          0                1.0              0  ...   \n",
              "357               34          0                1.0              1  ...   \n",
              "358                4          0                1.0              0  ...   \n",
              "359                0          1                0.0              0  ...   \n",
              "\n",
              "    can_post  can_write_private_message  can_see_all_posts  status  relation  \\\n",
              "0          0                          0                  0       0       0.0   \n",
              "1          0                          0                  0       1       0.0   \n",
              "2          0                          1                  0       1       0.0   \n",
              "3          0                          0                  0       1       0.0   \n",
              "4          0                          0                  0       0       0.0   \n",
              "..       ...                        ...                ...     ...       ...   \n",
              "354        0                          1                  0       1       0.0   \n",
              "356        0                          1                  1       1       0.0   \n",
              "357        0                          1                  1       1       4.0   \n",
              "358        0                          1                  1       1       0.0   \n",
              "359        0                          1                  0       1       0.0   \n",
              "\n",
              "                                            occupation site  wall_default  \\\n",
              "0                                                  NaN    0             0   \n",
              "1    {'id': 28915774, 'name': 'ОТС-Горсайт', 'type'...    0             1   \n",
              "2                                                  NaN    0             0   \n",
              "3    {'id': 155911724, 'name': '#HOMEDVIJ #24:01', ...    0             1   \n",
              "4    {'id': 381, 'name': 'АлтГУ', 'type': 'universi...    0             1   \n",
              "..                                                 ...  ...           ...   \n",
              "354  {'id': 1168353, 'name': 'NU (УН, бывш. НЧУ, NO...    0             1   \n",
              "356  {'id': 211522176, 'name': 'Vibe.art.d', 'type'...    0             1   \n",
              "357  {'id': 51766, 'name': 'Школа № 125', 'type': '...    1             1   \n",
              "358  {'id': 214066682, 'name': 'BAGS SHOP|МАГАЗИН Б...    0             1   \n",
              "359  {'id': 209642569, 'name': 'aogiri', 'type': 'w...    0             1   \n",
              "\n",
              "      age     city_new  \n",
              "0    23.0  Novosibirsk  \n",
              "1    23.0      Barnaul  \n",
              "2    23.0      Barnaul  \n",
              "3    23.0      Barnaul  \n",
              "4    23.0      Barnaul  \n",
              "..    ...          ...  \n",
              "354  21.0            0  \n",
              "356  25.0            0  \n",
              "357  19.0            0  \n",
              "358  23.0            0  \n",
              "359  17.0            0  \n",
              "\n",
              "[340 rows x 21 columns]"
            ],
            "text/html": [
              "\n",
              "  <div id=\"df-c52b6d3f-9f22-427c-b25b-b22c66b070ac\">\n",
              "    <div class=\"colab-df-container\">\n",
              "      <div>\n",
              "<style scoped>\n",
              "    .dataframe tbody tr th:only-of-type {\n",
              "        vertical-align: middle;\n",
              "    }\n",
              "\n",
              "    .dataframe tbody tr th {\n",
              "        vertical-align: top;\n",
              "    }\n",
              "\n",
              "    .dataframe thead th {\n",
              "        text-align: right;\n",
              "    }\n",
              "</style>\n",
              "<table border=\"1\" class=\"dataframe\">\n",
              "  <thead>\n",
              "    <tr style=\"text-align: right;\">\n",
              "      <th></th>\n",
              "      <th>Unnamed: 0</th>\n",
              "      <th>first_name</th>\n",
              "      <th>last_name</th>\n",
              "      <th>id</th>\n",
              "      <th>sex</th>\n",
              "      <th>home_town</th>\n",
              "      <th>followers_count</th>\n",
              "      <th>is_closed</th>\n",
              "      <th>can_access_closed</th>\n",
              "      <th>can_see_audio</th>\n",
              "      <th>...</th>\n",
              "      <th>can_post</th>\n",
              "      <th>can_write_private_message</th>\n",
              "      <th>can_see_all_posts</th>\n",
              "      <th>status</th>\n",
              "      <th>relation</th>\n",
              "      <th>occupation</th>\n",
              "      <th>site</th>\n",
              "      <th>wall_default</th>\n",
              "      <th>age</th>\n",
              "      <th>city_new</th>\n",
              "    </tr>\n",
              "  </thead>\n",
              "  <tbody>\n",
              "    <tr>\n",
              "      <th>0</th>\n",
              "      <td>0</td>\n",
              "      <td>Nikolay</td>\n",
              "      <td>Babichev</td>\n",
              "      <td>2132738</td>\n",
              "      <td>2</td>\n",
              "      <td>Другой</td>\n",
              "      <td>0</td>\n",
              "      <td>1</td>\n",
              "      <td>0.0</td>\n",
              "      <td>0</td>\n",
              "      <td>...</td>\n",
              "      <td>0</td>\n",
              "      <td>0</td>\n",
              "      <td>0</td>\n",
              "      <td>0</td>\n",
              "      <td>0.0</td>\n",
              "      <td>NaN</td>\n",
              "      <td>0</td>\n",
              "      <td>0</td>\n",
              "      <td>23.0</td>\n",
              "      <td>Novosibirsk</td>\n",
              "    </tr>\n",
              "    <tr>\n",
              "      <th>1</th>\n",
              "      <td>1</td>\n",
              "      <td>Nikita</td>\n",
              "      <td>Kislyakov</td>\n",
              "      <td>3491909</td>\n",
              "      <td>2</td>\n",
              "      <td>Другой</td>\n",
              "      <td>2300</td>\n",
              "      <td>0</td>\n",
              "      <td>1.0</td>\n",
              "      <td>1</td>\n",
              "      <td>...</td>\n",
              "      <td>0</td>\n",
              "      <td>0</td>\n",
              "      <td>0</td>\n",
              "      <td>1</td>\n",
              "      <td>0.0</td>\n",
              "      <td>{'id': 28915774, 'name': 'ОТС-Горсайт', 'type'...</td>\n",
              "      <td>0</td>\n",
              "      <td>1</td>\n",
              "      <td>23.0</td>\n",
              "      <td>Barnaul</td>\n",
              "    </tr>\n",
              "    <tr>\n",
              "      <th>2</th>\n",
              "      <td>2</td>\n",
              "      <td>Devid</td>\n",
              "      <td>Shaforostov</td>\n",
              "      <td>8071379</td>\n",
              "      <td>2</td>\n",
              "      <td>Барнаул</td>\n",
              "      <td>192</td>\n",
              "      <td>0</td>\n",
              "      <td>1.0</td>\n",
              "      <td>1</td>\n",
              "      <td>...</td>\n",
              "      <td>0</td>\n",
              "      <td>1</td>\n",
              "      <td>0</td>\n",
              "      <td>1</td>\n",
              "      <td>0.0</td>\n",
              "      <td>NaN</td>\n",
              "      <td>0</td>\n",
              "      <td>0</td>\n",
              "      <td>23.0</td>\n",
              "      <td>Barnaul</td>\n",
              "    </tr>\n",
              "    <tr>\n",
              "      <th>3</th>\n",
              "      <td>3</td>\n",
              "      <td>Vladimir</td>\n",
              "      <td>Belokon</td>\n",
              "      <td>18417226</td>\n",
              "      <td>2</td>\n",
              "      <td>Другой</td>\n",
              "      <td>0</td>\n",
              "      <td>1</td>\n",
              "      <td>0.0</td>\n",
              "      <td>0</td>\n",
              "      <td>...</td>\n",
              "      <td>0</td>\n",
              "      <td>0</td>\n",
              "      <td>0</td>\n",
              "      <td>1</td>\n",
              "      <td>0.0</td>\n",
              "      <td>{'id': 155911724, 'name': '#HOMEDVIJ #24:01', ...</td>\n",
              "      <td>0</td>\n",
              "      <td>1</td>\n",
              "      <td>23.0</td>\n",
              "      <td>Barnaul</td>\n",
              "    </tr>\n",
              "    <tr>\n",
              "      <th>4</th>\n",
              "      <td>4</td>\n",
              "      <td>Irina</td>\n",
              "      <td>Turkina</td>\n",
              "      <td>19808197</td>\n",
              "      <td>1</td>\n",
              "      <td>Другой</td>\n",
              "      <td>802</td>\n",
              "      <td>0</td>\n",
              "      <td>1.0</td>\n",
              "      <td>0</td>\n",
              "      <td>...</td>\n",
              "      <td>0</td>\n",
              "      <td>0</td>\n",
              "      <td>0</td>\n",
              "      <td>0</td>\n",
              "      <td>0.0</td>\n",
              "      <td>{'id': 381, 'name': 'АлтГУ', 'type': 'universi...</td>\n",
              "      <td>0</td>\n",
              "      <td>1</td>\n",
              "      <td>23.0</td>\n",
              "      <td>Barnaul</td>\n",
              "    </tr>\n",
              "    <tr>\n",
              "      <th>...</th>\n",
              "      <td>...</td>\n",
              "      <td>...</td>\n",
              "      <td>...</td>\n",
              "      <td>...</td>\n",
              "      <td>...</td>\n",
              "      <td>...</td>\n",
              "      <td>...</td>\n",
              "      <td>...</td>\n",
              "      <td>...</td>\n",
              "      <td>...</td>\n",
              "      <td>...</td>\n",
              "      <td>...</td>\n",
              "      <td>...</td>\n",
              "      <td>...</td>\n",
              "      <td>...</td>\n",
              "      <td>...</td>\n",
              "      <td>...</td>\n",
              "      <td>...</td>\n",
              "      <td>...</td>\n",
              "      <td>...</td>\n",
              "      <td>...</td>\n",
              "    </tr>\n",
              "    <tr>\n",
              "      <th>354</th>\n",
              "      <td>354</td>\n",
              "      <td>Leonid</td>\n",
              "      <td>Griboedov</td>\n",
              "      <td>603579266</td>\n",
              "      <td>2</td>\n",
              "      <td>Другой</td>\n",
              "      <td>0</td>\n",
              "      <td>1</td>\n",
              "      <td>0.0</td>\n",
              "      <td>0</td>\n",
              "      <td>...</td>\n",
              "      <td>0</td>\n",
              "      <td>1</td>\n",
              "      <td>0</td>\n",
              "      <td>1</td>\n",
              "      <td>0.0</td>\n",
              "      <td>{'id': 1168353, 'name': 'NU (УН, бывш. НЧУ, NO...</td>\n",
              "      <td>0</td>\n",
              "      <td>1</td>\n",
              "      <td>21.0</td>\n",
              "      <td>0</td>\n",
              "    </tr>\n",
              "    <tr>\n",
              "      <th>356</th>\n",
              "      <td>356</td>\n",
              "      <td>Darya</td>\n",
              "      <td>Galenzina</td>\n",
              "      <td>630595799</td>\n",
              "      <td>1</td>\n",
              "      <td>Tyumen</td>\n",
              "      <td>381</td>\n",
              "      <td>0</td>\n",
              "      <td>1.0</td>\n",
              "      <td>0</td>\n",
              "      <td>...</td>\n",
              "      <td>0</td>\n",
              "      <td>1</td>\n",
              "      <td>1</td>\n",
              "      <td>1</td>\n",
              "      <td>0.0</td>\n",
              "      <td>{'id': 211522176, 'name': 'Vibe.art.d', 'type'...</td>\n",
              "      <td>0</td>\n",
              "      <td>1</td>\n",
              "      <td>25.0</td>\n",
              "      <td>0</td>\n",
              "    </tr>\n",
              "    <tr>\n",
              "      <th>357</th>\n",
              "      <td>357</td>\n",
              "      <td>German</td>\n",
              "      <td>Saul-Aaron</td>\n",
              "      <td>641743403</td>\n",
              "      <td>2</td>\n",
              "      <td>Барнаул</td>\n",
              "      <td>34</td>\n",
              "      <td>0</td>\n",
              "      <td>1.0</td>\n",
              "      <td>1</td>\n",
              "      <td>...</td>\n",
              "      <td>0</td>\n",
              "      <td>1</td>\n",
              "      <td>1</td>\n",
              "      <td>1</td>\n",
              "      <td>4.0</td>\n",
              "      <td>{'id': 51766, 'name': 'Школа № 125', 'type': '...</td>\n",
              "      <td>1</td>\n",
              "      <td>1</td>\n",
              "      <td>19.0</td>\n",
              "      <td>0</td>\n",
              "    </tr>\n",
              "    <tr>\n",
              "      <th>358</th>\n",
              "      <td>358</td>\n",
              "      <td>Alexey</td>\n",
              "      <td>Tovarka</td>\n",
              "      <td>735775879</td>\n",
              "      <td>2</td>\n",
              "      <td>Барнаул</td>\n",
              "      <td>4</td>\n",
              "      <td>0</td>\n",
              "      <td>1.0</td>\n",
              "      <td>0</td>\n",
              "      <td>...</td>\n",
              "      <td>0</td>\n",
              "      <td>1</td>\n",
              "      <td>1</td>\n",
              "      <td>1</td>\n",
              "      <td>0.0</td>\n",
              "      <td>{'id': 214066682, 'name': 'BAGS SHOP|МАГАЗИН Б...</td>\n",
              "      <td>0</td>\n",
              "      <td>1</td>\n",
              "      <td>23.0</td>\n",
              "      <td>0</td>\n",
              "    </tr>\n",
              "    <tr>\n",
              "      <th>359</th>\n",
              "      <td>359</td>\n",
              "      <td>Alexandra</td>\n",
              "      <td>Kucherenko</td>\n",
              "      <td>737077015</td>\n",
              "      <td>1</td>\n",
              "      <td>Другой</td>\n",
              "      <td>0</td>\n",
              "      <td>1</td>\n",
              "      <td>0.0</td>\n",
              "      <td>0</td>\n",
              "      <td>...</td>\n",
              "      <td>0</td>\n",
              "      <td>1</td>\n",
              "      <td>0</td>\n",
              "      <td>1</td>\n",
              "      <td>0.0</td>\n",
              "      <td>{'id': 209642569, 'name': 'aogiri', 'type': 'w...</td>\n",
              "      <td>0</td>\n",
              "      <td>1</td>\n",
              "      <td>17.0</td>\n",
              "      <td>0</td>\n",
              "    </tr>\n",
              "  </tbody>\n",
              "</table>\n",
              "<p>340 rows × 21 columns</p>\n",
              "</div>\n",
              "      <button class=\"colab-df-convert\" onclick=\"convertToInteractive('df-c52b6d3f-9f22-427c-b25b-b22c66b070ac')\"\n",
              "              title=\"Convert this dataframe to an interactive table.\"\n",
              "              style=\"display:none;\">\n",
              "        \n",
              "  <svg xmlns=\"http://www.w3.org/2000/svg\" height=\"24px\"viewBox=\"0 0 24 24\"\n",
              "       width=\"24px\">\n",
              "    <path d=\"M0 0h24v24H0V0z\" fill=\"none\"/>\n",
              "    <path d=\"M18.56 5.44l.94 2.06.94-2.06 2.06-.94-2.06-.94-.94-2.06-.94 2.06-2.06.94zm-11 1L8.5 8.5l.94-2.06 2.06-.94-2.06-.94L8.5 2.5l-.94 2.06-2.06.94zm10 10l.94 2.06.94-2.06 2.06-.94-2.06-.94-.94-2.06-.94 2.06-2.06.94z\"/><path d=\"M17.41 7.96l-1.37-1.37c-.4-.4-.92-.59-1.43-.59-.52 0-1.04.2-1.43.59L10.3 9.45l-7.72 7.72c-.78.78-.78 2.05 0 2.83L4 21.41c.39.39.9.59 1.41.59.51 0 1.02-.2 1.41-.59l7.78-7.78 2.81-2.81c.8-.78.8-2.07 0-2.86zM5.41 20L4 18.59l7.72-7.72 1.47 1.35L5.41 20z\"/>\n",
              "  </svg>\n",
              "      </button>\n",
              "      \n",
              "  <style>\n",
              "    .colab-df-container {\n",
              "      display:flex;\n",
              "      flex-wrap:wrap;\n",
              "      gap: 12px;\n",
              "    }\n",
              "\n",
              "    .colab-df-convert {\n",
              "      background-color: #E8F0FE;\n",
              "      border: none;\n",
              "      border-radius: 50%;\n",
              "      cursor: pointer;\n",
              "      display: none;\n",
              "      fill: #1967D2;\n",
              "      height: 32px;\n",
              "      padding: 0 0 0 0;\n",
              "      width: 32px;\n",
              "    }\n",
              "\n",
              "    .colab-df-convert:hover {\n",
              "      background-color: #E2EBFA;\n",
              "      box-shadow: 0px 1px 2px rgba(60, 64, 67, 0.3), 0px 1px 3px 1px rgba(60, 64, 67, 0.15);\n",
              "      fill: #174EA6;\n",
              "    }\n",
              "\n",
              "    [theme=dark] .colab-df-convert {\n",
              "      background-color: #3B4455;\n",
              "      fill: #D2E3FC;\n",
              "    }\n",
              "\n",
              "    [theme=dark] .colab-df-convert:hover {\n",
              "      background-color: #434B5C;\n",
              "      box-shadow: 0px 1px 3px 1px rgba(0, 0, 0, 0.15);\n",
              "      filter: drop-shadow(0px 1px 2px rgba(0, 0, 0, 0.3));\n",
              "      fill: #FFFFFF;\n",
              "    }\n",
              "  </style>\n",
              "\n",
              "      <script>\n",
              "        const buttonEl =\n",
              "          document.querySelector('#df-c52b6d3f-9f22-427c-b25b-b22c66b070ac button.colab-df-convert');\n",
              "        buttonEl.style.display =\n",
              "          google.colab.kernel.accessAllowed ? 'block' : 'none';\n",
              "\n",
              "        async function convertToInteractive(key) {\n",
              "          const element = document.querySelector('#df-c52b6d3f-9f22-427c-b25b-b22c66b070ac');\n",
              "          const dataTable =\n",
              "            await google.colab.kernel.invokeFunction('convertToInteractive',\n",
              "                                                     [key], {});\n",
              "          if (!dataTable) return;\n",
              "\n",
              "          const docLinkHtml = 'Like what you see? Visit the ' +\n",
              "            '<a target=\"_blank\" href=https://colab.research.google.com/notebooks/data_table.ipynb>data table notebook</a>'\n",
              "            + ' to learn more about interactive tables.';\n",
              "          element.innerHTML = '';\n",
              "          dataTable['output_type'] = 'display_data';\n",
              "          await google.colab.output.renderOutput(dataTable, element);\n",
              "          const docLink = document.createElement('div');\n",
              "          docLink.innerHTML = docLinkHtml;\n",
              "          element.appendChild(docLink);\n",
              "        }\n",
              "      </script>\n",
              "    </div>\n",
              "  </div>\n",
              "  "
            ]
          },
          "metadata": {},
          "execution_count": 118
        }
      ]
    },
    {
      "cell_type": "code",
      "source": [
        "from sklearn.preprocessing import *\n",
        "le = LabelEncoder()\n",
        "df2 = df.apply(lambda col: le.fit_transform(col.astype(str)), axis=0, result_type='expand')"
      ],
      "metadata": {
        "id": "qtYBBlAPDRFF"
      },
      "execution_count": null,
      "outputs": []
    },
    {
      "cell_type": "code",
      "source": [
        "df2"
      ],
      "metadata": {
        "colab": {
          "base_uri": "https://localhost:8080/",
          "height": 424
        },
        "id": "LWizCR_ME7oe",
        "outputId": "01b3f24e-74a4-4e3a-a3b8-c2778020822a"
      },
      "execution_count": null,
      "outputs": [
        {
          "output_type": "execute_result",
          "data": {
            "text/plain": [
              "     Unnamed: 0  first_name  last_name   id  sex  home_town  followers_count  \\\n",
              "0             0          86         15  163    1          6                0   \n",
              "1             1          85        123  236    1          6               71   \n",
              "2           108          29        242  315    1          4               52   \n",
              "3           212         131         20  142    1          6                0   \n",
              "4           275          50        295  157    0          6              188   \n",
              "..          ...         ...        ...  ...  ...        ...              ...   \n",
              "354         267          64         91  297    1          6                0   \n",
              "356         268          24         78  298    0          1              123   \n",
              "357         269          44        236  299    1          4              109   \n",
              "358         270           6        287  309    1          4              129   \n",
              "359         271           5        143  310    0          6                0   \n",
              "\n",
              "     is_closed  can_access_closed  can_see_audio  ...  can_post  \\\n",
              "0            1                  0              0  ...         0   \n",
              "1            0                  1              1  ...         0   \n",
              "2            0                  1              1  ...         0   \n",
              "3            1                  0              0  ...         0   \n",
              "4            0                  1              0  ...         0   \n",
              "..         ...                ...            ...  ...       ...   \n",
              "354          1                  0              0  ...         0   \n",
              "356          0                  1              0  ...         0   \n",
              "357          0                  1              1  ...         0   \n",
              "358          0                  1              0  ...         0   \n",
              "359          1                  0              0  ...         0   \n",
              "\n",
              "     can_write_private_message  can_see_all_posts  status  relation  \\\n",
              "0                            0                  0       0         0   \n",
              "1                            0                  0       1         0   \n",
              "2                            1                  0       1         0   \n",
              "3                            0                  0       1         0   \n",
              "4                            0                  0       0         0   \n",
              "..                         ...                ...     ...       ...   \n",
              "354                          1                  0       1         0   \n",
              "356                          1                  1       1         0   \n",
              "357                          1                  1       1         4   \n",
              "358                          1                  1       1         0   \n",
              "359                          1                  0       1         0   \n",
              "\n",
              "     occupation  site  wall_default  age  city_new  \n",
              "0             0     0             0    8        13  \n",
              "1            51     0             1    8         2  \n",
              "2             0     0             0    8         2  \n",
              "3            22     0             1    8         2  \n",
              "4            67     0             1    8         2  \n",
              "..          ...   ...           ...  ...       ...  \n",
              "354          12     0             1    6         0  \n",
              "356          44     0             1   10         0  \n",
              "357          77     1             1    4         0  \n",
              "358          47     0             1    8         0  \n",
              "359          42     0             1    3         0  \n",
              "\n",
              "[340 rows x 21 columns]"
            ],
            "text/html": [
              "\n",
              "  <div id=\"df-dfadefc6-e613-4450-a44b-c15eafc7203c\">\n",
              "    <div class=\"colab-df-container\">\n",
              "      <div>\n",
              "<style scoped>\n",
              "    .dataframe tbody tr th:only-of-type {\n",
              "        vertical-align: middle;\n",
              "    }\n",
              "\n",
              "    .dataframe tbody tr th {\n",
              "        vertical-align: top;\n",
              "    }\n",
              "\n",
              "    .dataframe thead th {\n",
              "        text-align: right;\n",
              "    }\n",
              "</style>\n",
              "<table border=\"1\" class=\"dataframe\">\n",
              "  <thead>\n",
              "    <tr style=\"text-align: right;\">\n",
              "      <th></th>\n",
              "      <th>Unnamed: 0</th>\n",
              "      <th>first_name</th>\n",
              "      <th>last_name</th>\n",
              "      <th>id</th>\n",
              "      <th>sex</th>\n",
              "      <th>home_town</th>\n",
              "      <th>followers_count</th>\n",
              "      <th>is_closed</th>\n",
              "      <th>can_access_closed</th>\n",
              "      <th>can_see_audio</th>\n",
              "      <th>...</th>\n",
              "      <th>can_post</th>\n",
              "      <th>can_write_private_message</th>\n",
              "      <th>can_see_all_posts</th>\n",
              "      <th>status</th>\n",
              "      <th>relation</th>\n",
              "      <th>occupation</th>\n",
              "      <th>site</th>\n",
              "      <th>wall_default</th>\n",
              "      <th>age</th>\n",
              "      <th>city_new</th>\n",
              "    </tr>\n",
              "  </thead>\n",
              "  <tbody>\n",
              "    <tr>\n",
              "      <th>0</th>\n",
              "      <td>0</td>\n",
              "      <td>86</td>\n",
              "      <td>15</td>\n",
              "      <td>163</td>\n",
              "      <td>1</td>\n",
              "      <td>6</td>\n",
              "      <td>0</td>\n",
              "      <td>1</td>\n",
              "      <td>0</td>\n",
              "      <td>0</td>\n",
              "      <td>...</td>\n",
              "      <td>0</td>\n",
              "      <td>0</td>\n",
              "      <td>0</td>\n",
              "      <td>0</td>\n",
              "      <td>0</td>\n",
              "      <td>0</td>\n",
              "      <td>0</td>\n",
              "      <td>0</td>\n",
              "      <td>8</td>\n",
              "      <td>13</td>\n",
              "    </tr>\n",
              "    <tr>\n",
              "      <th>1</th>\n",
              "      <td>1</td>\n",
              "      <td>85</td>\n",
              "      <td>123</td>\n",
              "      <td>236</td>\n",
              "      <td>1</td>\n",
              "      <td>6</td>\n",
              "      <td>71</td>\n",
              "      <td>0</td>\n",
              "      <td>1</td>\n",
              "      <td>1</td>\n",
              "      <td>...</td>\n",
              "      <td>0</td>\n",
              "      <td>0</td>\n",
              "      <td>0</td>\n",
              "      <td>1</td>\n",
              "      <td>0</td>\n",
              "      <td>51</td>\n",
              "      <td>0</td>\n",
              "      <td>1</td>\n",
              "      <td>8</td>\n",
              "      <td>2</td>\n",
              "    </tr>\n",
              "    <tr>\n",
              "      <th>2</th>\n",
              "      <td>108</td>\n",
              "      <td>29</td>\n",
              "      <td>242</td>\n",
              "      <td>315</td>\n",
              "      <td>1</td>\n",
              "      <td>4</td>\n",
              "      <td>52</td>\n",
              "      <td>0</td>\n",
              "      <td>1</td>\n",
              "      <td>1</td>\n",
              "      <td>...</td>\n",
              "      <td>0</td>\n",
              "      <td>1</td>\n",
              "      <td>0</td>\n",
              "      <td>1</td>\n",
              "      <td>0</td>\n",
              "      <td>0</td>\n",
              "      <td>0</td>\n",
              "      <td>0</td>\n",
              "      <td>8</td>\n",
              "      <td>2</td>\n",
              "    </tr>\n",
              "    <tr>\n",
              "      <th>3</th>\n",
              "      <td>212</td>\n",
              "      <td>131</td>\n",
              "      <td>20</td>\n",
              "      <td>142</td>\n",
              "      <td>1</td>\n",
              "      <td>6</td>\n",
              "      <td>0</td>\n",
              "      <td>1</td>\n",
              "      <td>0</td>\n",
              "      <td>0</td>\n",
              "      <td>...</td>\n",
              "      <td>0</td>\n",
              "      <td>0</td>\n",
              "      <td>0</td>\n",
              "      <td>1</td>\n",
              "      <td>0</td>\n",
              "      <td>22</td>\n",
              "      <td>0</td>\n",
              "      <td>1</td>\n",
              "      <td>8</td>\n",
              "      <td>2</td>\n",
              "    </tr>\n",
              "    <tr>\n",
              "      <th>4</th>\n",
              "      <td>275</td>\n",
              "      <td>50</td>\n",
              "      <td>295</td>\n",
              "      <td>157</td>\n",
              "      <td>0</td>\n",
              "      <td>6</td>\n",
              "      <td>188</td>\n",
              "      <td>0</td>\n",
              "      <td>1</td>\n",
              "      <td>0</td>\n",
              "      <td>...</td>\n",
              "      <td>0</td>\n",
              "      <td>0</td>\n",
              "      <td>0</td>\n",
              "      <td>0</td>\n",
              "      <td>0</td>\n",
              "      <td>67</td>\n",
              "      <td>0</td>\n",
              "      <td>1</td>\n",
              "      <td>8</td>\n",
              "      <td>2</td>\n",
              "    </tr>\n",
              "    <tr>\n",
              "      <th>...</th>\n",
              "      <td>...</td>\n",
              "      <td>...</td>\n",
              "      <td>...</td>\n",
              "      <td>...</td>\n",
              "      <td>...</td>\n",
              "      <td>...</td>\n",
              "      <td>...</td>\n",
              "      <td>...</td>\n",
              "      <td>...</td>\n",
              "      <td>...</td>\n",
              "      <td>...</td>\n",
              "      <td>...</td>\n",
              "      <td>...</td>\n",
              "      <td>...</td>\n",
              "      <td>...</td>\n",
              "      <td>...</td>\n",
              "      <td>...</td>\n",
              "      <td>...</td>\n",
              "      <td>...</td>\n",
              "      <td>...</td>\n",
              "      <td>...</td>\n",
              "    </tr>\n",
              "    <tr>\n",
              "      <th>354</th>\n",
              "      <td>267</td>\n",
              "      <td>64</td>\n",
              "      <td>91</td>\n",
              "      <td>297</td>\n",
              "      <td>1</td>\n",
              "      <td>6</td>\n",
              "      <td>0</td>\n",
              "      <td>1</td>\n",
              "      <td>0</td>\n",
              "      <td>0</td>\n",
              "      <td>...</td>\n",
              "      <td>0</td>\n",
              "      <td>1</td>\n",
              "      <td>0</td>\n",
              "      <td>1</td>\n",
              "      <td>0</td>\n",
              "      <td>12</td>\n",
              "      <td>0</td>\n",
              "      <td>1</td>\n",
              "      <td>6</td>\n",
              "      <td>0</td>\n",
              "    </tr>\n",
              "    <tr>\n",
              "      <th>356</th>\n",
              "      <td>268</td>\n",
              "      <td>24</td>\n",
              "      <td>78</td>\n",
              "      <td>298</td>\n",
              "      <td>0</td>\n",
              "      <td>1</td>\n",
              "      <td>123</td>\n",
              "      <td>0</td>\n",
              "      <td>1</td>\n",
              "      <td>0</td>\n",
              "      <td>...</td>\n",
              "      <td>0</td>\n",
              "      <td>1</td>\n",
              "      <td>1</td>\n",
              "      <td>1</td>\n",
              "      <td>0</td>\n",
              "      <td>44</td>\n",
              "      <td>0</td>\n",
              "      <td>1</td>\n",
              "      <td>10</td>\n",
              "      <td>0</td>\n",
              "    </tr>\n",
              "    <tr>\n",
              "      <th>357</th>\n",
              "      <td>269</td>\n",
              "      <td>44</td>\n",
              "      <td>236</td>\n",
              "      <td>299</td>\n",
              "      <td>1</td>\n",
              "      <td>4</td>\n",
              "      <td>109</td>\n",
              "      <td>0</td>\n",
              "      <td>1</td>\n",
              "      <td>1</td>\n",
              "      <td>...</td>\n",
              "      <td>0</td>\n",
              "      <td>1</td>\n",
              "      <td>1</td>\n",
              "      <td>1</td>\n",
              "      <td>4</td>\n",
              "      <td>77</td>\n",
              "      <td>1</td>\n",
              "      <td>1</td>\n",
              "      <td>4</td>\n",
              "      <td>0</td>\n",
              "    </tr>\n",
              "    <tr>\n",
              "      <th>358</th>\n",
              "      <td>270</td>\n",
              "      <td>6</td>\n",
              "      <td>287</td>\n",
              "      <td>309</td>\n",
              "      <td>1</td>\n",
              "      <td>4</td>\n",
              "      <td>129</td>\n",
              "      <td>0</td>\n",
              "      <td>1</td>\n",
              "      <td>0</td>\n",
              "      <td>...</td>\n",
              "      <td>0</td>\n",
              "      <td>1</td>\n",
              "      <td>1</td>\n",
              "      <td>1</td>\n",
              "      <td>0</td>\n",
              "      <td>47</td>\n",
              "      <td>0</td>\n",
              "      <td>1</td>\n",
              "      <td>8</td>\n",
              "      <td>0</td>\n",
              "    </tr>\n",
              "    <tr>\n",
              "      <th>359</th>\n",
              "      <td>271</td>\n",
              "      <td>5</td>\n",
              "      <td>143</td>\n",
              "      <td>310</td>\n",
              "      <td>0</td>\n",
              "      <td>6</td>\n",
              "      <td>0</td>\n",
              "      <td>1</td>\n",
              "      <td>0</td>\n",
              "      <td>0</td>\n",
              "      <td>...</td>\n",
              "      <td>0</td>\n",
              "      <td>1</td>\n",
              "      <td>0</td>\n",
              "      <td>1</td>\n",
              "      <td>0</td>\n",
              "      <td>42</td>\n",
              "      <td>0</td>\n",
              "      <td>1</td>\n",
              "      <td>3</td>\n",
              "      <td>0</td>\n",
              "    </tr>\n",
              "  </tbody>\n",
              "</table>\n",
              "<p>340 rows × 21 columns</p>\n",
              "</div>\n",
              "      <button class=\"colab-df-convert\" onclick=\"convertToInteractive('df-dfadefc6-e613-4450-a44b-c15eafc7203c')\"\n",
              "              title=\"Convert this dataframe to an interactive table.\"\n",
              "              style=\"display:none;\">\n",
              "        \n",
              "  <svg xmlns=\"http://www.w3.org/2000/svg\" height=\"24px\"viewBox=\"0 0 24 24\"\n",
              "       width=\"24px\">\n",
              "    <path d=\"M0 0h24v24H0V0z\" fill=\"none\"/>\n",
              "    <path d=\"M18.56 5.44l.94 2.06.94-2.06 2.06-.94-2.06-.94-.94-2.06-.94 2.06-2.06.94zm-11 1L8.5 8.5l.94-2.06 2.06-.94-2.06-.94L8.5 2.5l-.94 2.06-2.06.94zm10 10l.94 2.06.94-2.06 2.06-.94-2.06-.94-.94-2.06-.94 2.06-2.06.94z\"/><path d=\"M17.41 7.96l-1.37-1.37c-.4-.4-.92-.59-1.43-.59-.52 0-1.04.2-1.43.59L10.3 9.45l-7.72 7.72c-.78.78-.78 2.05 0 2.83L4 21.41c.39.39.9.59 1.41.59.51 0 1.02-.2 1.41-.59l7.78-7.78 2.81-2.81c.8-.78.8-2.07 0-2.86zM5.41 20L4 18.59l7.72-7.72 1.47 1.35L5.41 20z\"/>\n",
              "  </svg>\n",
              "      </button>\n",
              "      \n",
              "  <style>\n",
              "    .colab-df-container {\n",
              "      display:flex;\n",
              "      flex-wrap:wrap;\n",
              "      gap: 12px;\n",
              "    }\n",
              "\n",
              "    .colab-df-convert {\n",
              "      background-color: #E8F0FE;\n",
              "      border: none;\n",
              "      border-radius: 50%;\n",
              "      cursor: pointer;\n",
              "      display: none;\n",
              "      fill: #1967D2;\n",
              "      height: 32px;\n",
              "      padding: 0 0 0 0;\n",
              "      width: 32px;\n",
              "    }\n",
              "\n",
              "    .colab-df-convert:hover {\n",
              "      background-color: #E2EBFA;\n",
              "      box-shadow: 0px 1px 2px rgba(60, 64, 67, 0.3), 0px 1px 3px 1px rgba(60, 64, 67, 0.15);\n",
              "      fill: #174EA6;\n",
              "    }\n",
              "\n",
              "    [theme=dark] .colab-df-convert {\n",
              "      background-color: #3B4455;\n",
              "      fill: #D2E3FC;\n",
              "    }\n",
              "\n",
              "    [theme=dark] .colab-df-convert:hover {\n",
              "      background-color: #434B5C;\n",
              "      box-shadow: 0px 1px 3px 1px rgba(0, 0, 0, 0.15);\n",
              "      filter: drop-shadow(0px 1px 2px rgba(0, 0, 0, 0.3));\n",
              "      fill: #FFFFFF;\n",
              "    }\n",
              "  </style>\n",
              "\n",
              "      <script>\n",
              "        const buttonEl =\n",
              "          document.querySelector('#df-dfadefc6-e613-4450-a44b-c15eafc7203c button.colab-df-convert');\n",
              "        buttonEl.style.display =\n",
              "          google.colab.kernel.accessAllowed ? 'block' : 'none';\n",
              "\n",
              "        async function convertToInteractive(key) {\n",
              "          const element = document.querySelector('#df-dfadefc6-e613-4450-a44b-c15eafc7203c');\n",
              "          const dataTable =\n",
              "            await google.colab.kernel.invokeFunction('convertToInteractive',\n",
              "                                                     [key], {});\n",
              "          if (!dataTable) return;\n",
              "\n",
              "          const docLinkHtml = 'Like what you see? Visit the ' +\n",
              "            '<a target=\"_blank\" href=https://colab.research.google.com/notebooks/data_table.ipynb>data table notebook</a>'\n",
              "            + ' to learn more about interactive tables.';\n",
              "          element.innerHTML = '';\n",
              "          dataTable['output_type'] = 'display_data';\n",
              "          await google.colab.output.renderOutput(dataTable, element);\n",
              "          const docLink = document.createElement('div');\n",
              "          docLink.innerHTML = docLinkHtml;\n",
              "          element.appendChild(docLink);\n",
              "        }\n",
              "      </script>\n",
              "    </div>\n",
              "  </div>\n",
              "  "
            ]
          },
          "metadata": {},
          "execution_count": 120
        }
      ]
    },
    {
      "cell_type": "markdown",
      "metadata": {
        "id": "OIceQ9Hs0OYE"
      },
      "source": [
        "### **5. Преобразование категориальных признаков в числовые**"
      ]
    },
    {
      "cell_type": "code",
      "metadata": {
        "id": "Pvcl6vo8yHdz"
      },
      "source": [
        "df_le = df.copy(deep=True)\n",
        "categorical_feature_mask = df_le.dtypes==object\n",
        "categorical_cols = df_le.columns[categorical_feature_mask].tolist()\n",
        "df = df.apply(lambda col: le.fit_transform(col.astype(str)), axis=0, result_type='expand')"
      ],
      "execution_count": null,
      "outputs": []
    },
    {
      "cell_type": "code",
      "source": [
        "df_le"
      ],
      "metadata": {
        "colab": {
          "base_uri": "https://localhost:8080/",
          "height": 424
        },
        "id": "dlB1grwhbt6w",
        "outputId": "39bf26e4-b69b-4e7f-a215-c7916e403b16"
      },
      "execution_count": null,
      "outputs": [
        {
          "output_type": "execute_result",
          "data": {
            "text/plain": [
              "     Unnamed: 0 first_name    last_name         id  sex home_town  \\\n",
              "0             0    Nikolay     Babichev    2132738    2    Другой   \n",
              "1             1     Nikita    Kislyakov    3491909    2    Другой   \n",
              "2             2      Devid  Shaforostov    8071379    2   Барнаул   \n",
              "3             3   Vladimir      Belokon   18417226    2    Другой   \n",
              "4             4      Irina      Turkina   19808197    1    Другой   \n",
              "..          ...        ...          ...        ...  ...       ...   \n",
              "354         354     Leonid    Griboedov  603579266    2    Другой   \n",
              "356         356      Darya    Galenzina  630595799    1    Tyumen   \n",
              "357         357     German   Saul-Aaron  641743403    2   Барнаул   \n",
              "358         358     Alexey      Tovarka  735775879    2   Барнаул   \n",
              "359         359  Alexandra   Kucherenko  737077015    1    Другой   \n",
              "\n",
              "     followers_count  is_closed  can_access_closed  can_see_audio  ...  \\\n",
              "0                  0          1                0.0              0  ...   \n",
              "1               2300          0                1.0              1  ...   \n",
              "2                192          0                1.0              1  ...   \n",
              "3                  0          1                0.0              0  ...   \n",
              "4                802          0                1.0              0  ...   \n",
              "..               ...        ...                ...            ...  ...   \n",
              "354                0          1                0.0              0  ...   \n",
              "356              381          0                1.0              0  ...   \n",
              "357               34          0                1.0              1  ...   \n",
              "358                4          0                1.0              0  ...   \n",
              "359                0          1                0.0              0  ...   \n",
              "\n",
              "    can_post  can_write_private_message  can_see_all_posts  status  relation  \\\n",
              "0          0                          0                  0       0       0.0   \n",
              "1          0                          0                  0       1       0.0   \n",
              "2          0                          1                  0       1       0.0   \n",
              "3          0                          0                  0       1       0.0   \n",
              "4          0                          0                  0       0       0.0   \n",
              "..       ...                        ...                ...     ...       ...   \n",
              "354        0                          1                  0       1       0.0   \n",
              "356        0                          1                  1       1       0.0   \n",
              "357        0                          1                  1       1       4.0   \n",
              "358        0                          1                  1       1       0.0   \n",
              "359        0                          1                  0       1       0.0   \n",
              "\n",
              "                                            occupation site  wall_default  \\\n",
              "0                                                  NaN    0             0   \n",
              "1    {'id': 28915774, 'name': 'ОТС-Горсайт', 'type'...    0             1   \n",
              "2                                                  NaN    0             0   \n",
              "3    {'id': 155911724, 'name': '#HOMEDVIJ #24:01', ...    0             1   \n",
              "4    {'id': 381, 'name': 'АлтГУ', 'type': 'universi...    0             1   \n",
              "..                                                 ...  ...           ...   \n",
              "354  {'id': 1168353, 'name': 'NU (УН, бывш. НЧУ, NO...    0             1   \n",
              "356  {'id': 211522176, 'name': 'Vibe.art.d', 'type'...    0             1   \n",
              "357  {'id': 51766, 'name': 'Школа № 125', 'type': '...    1             1   \n",
              "358  {'id': 214066682, 'name': 'BAGS SHOP|МАГАЗИН Б...    0             1   \n",
              "359  {'id': 209642569, 'name': 'aogiri', 'type': 'w...    0             1   \n",
              "\n",
              "      age     city_new  \n",
              "0    23.0  Novosibirsk  \n",
              "1    23.0      Barnaul  \n",
              "2    23.0      Barnaul  \n",
              "3    23.0      Barnaul  \n",
              "4    23.0      Barnaul  \n",
              "..    ...          ...  \n",
              "354  21.0            0  \n",
              "356  25.0            0  \n",
              "357  19.0            0  \n",
              "358  23.0            0  \n",
              "359  17.0            0  \n",
              "\n",
              "[340 rows x 21 columns]"
            ],
            "text/html": [
              "\n",
              "  <div id=\"df-e10511bd-a591-4b23-9ac4-26fe4d30452d\">\n",
              "    <div class=\"colab-df-container\">\n",
              "      <div>\n",
              "<style scoped>\n",
              "    .dataframe tbody tr th:only-of-type {\n",
              "        vertical-align: middle;\n",
              "    }\n",
              "\n",
              "    .dataframe tbody tr th {\n",
              "        vertical-align: top;\n",
              "    }\n",
              "\n",
              "    .dataframe thead th {\n",
              "        text-align: right;\n",
              "    }\n",
              "</style>\n",
              "<table border=\"1\" class=\"dataframe\">\n",
              "  <thead>\n",
              "    <tr style=\"text-align: right;\">\n",
              "      <th></th>\n",
              "      <th>Unnamed: 0</th>\n",
              "      <th>first_name</th>\n",
              "      <th>last_name</th>\n",
              "      <th>id</th>\n",
              "      <th>sex</th>\n",
              "      <th>home_town</th>\n",
              "      <th>followers_count</th>\n",
              "      <th>is_closed</th>\n",
              "      <th>can_access_closed</th>\n",
              "      <th>can_see_audio</th>\n",
              "      <th>...</th>\n",
              "      <th>can_post</th>\n",
              "      <th>can_write_private_message</th>\n",
              "      <th>can_see_all_posts</th>\n",
              "      <th>status</th>\n",
              "      <th>relation</th>\n",
              "      <th>occupation</th>\n",
              "      <th>site</th>\n",
              "      <th>wall_default</th>\n",
              "      <th>age</th>\n",
              "      <th>city_new</th>\n",
              "    </tr>\n",
              "  </thead>\n",
              "  <tbody>\n",
              "    <tr>\n",
              "      <th>0</th>\n",
              "      <td>0</td>\n",
              "      <td>Nikolay</td>\n",
              "      <td>Babichev</td>\n",
              "      <td>2132738</td>\n",
              "      <td>2</td>\n",
              "      <td>Другой</td>\n",
              "      <td>0</td>\n",
              "      <td>1</td>\n",
              "      <td>0.0</td>\n",
              "      <td>0</td>\n",
              "      <td>...</td>\n",
              "      <td>0</td>\n",
              "      <td>0</td>\n",
              "      <td>0</td>\n",
              "      <td>0</td>\n",
              "      <td>0.0</td>\n",
              "      <td>NaN</td>\n",
              "      <td>0</td>\n",
              "      <td>0</td>\n",
              "      <td>23.0</td>\n",
              "      <td>Novosibirsk</td>\n",
              "    </tr>\n",
              "    <tr>\n",
              "      <th>1</th>\n",
              "      <td>1</td>\n",
              "      <td>Nikita</td>\n",
              "      <td>Kislyakov</td>\n",
              "      <td>3491909</td>\n",
              "      <td>2</td>\n",
              "      <td>Другой</td>\n",
              "      <td>2300</td>\n",
              "      <td>0</td>\n",
              "      <td>1.0</td>\n",
              "      <td>1</td>\n",
              "      <td>...</td>\n",
              "      <td>0</td>\n",
              "      <td>0</td>\n",
              "      <td>0</td>\n",
              "      <td>1</td>\n",
              "      <td>0.0</td>\n",
              "      <td>{'id': 28915774, 'name': 'ОТС-Горсайт', 'type'...</td>\n",
              "      <td>0</td>\n",
              "      <td>1</td>\n",
              "      <td>23.0</td>\n",
              "      <td>Barnaul</td>\n",
              "    </tr>\n",
              "    <tr>\n",
              "      <th>2</th>\n",
              "      <td>2</td>\n",
              "      <td>Devid</td>\n",
              "      <td>Shaforostov</td>\n",
              "      <td>8071379</td>\n",
              "      <td>2</td>\n",
              "      <td>Барнаул</td>\n",
              "      <td>192</td>\n",
              "      <td>0</td>\n",
              "      <td>1.0</td>\n",
              "      <td>1</td>\n",
              "      <td>...</td>\n",
              "      <td>0</td>\n",
              "      <td>1</td>\n",
              "      <td>0</td>\n",
              "      <td>1</td>\n",
              "      <td>0.0</td>\n",
              "      <td>NaN</td>\n",
              "      <td>0</td>\n",
              "      <td>0</td>\n",
              "      <td>23.0</td>\n",
              "      <td>Barnaul</td>\n",
              "    </tr>\n",
              "    <tr>\n",
              "      <th>3</th>\n",
              "      <td>3</td>\n",
              "      <td>Vladimir</td>\n",
              "      <td>Belokon</td>\n",
              "      <td>18417226</td>\n",
              "      <td>2</td>\n",
              "      <td>Другой</td>\n",
              "      <td>0</td>\n",
              "      <td>1</td>\n",
              "      <td>0.0</td>\n",
              "      <td>0</td>\n",
              "      <td>...</td>\n",
              "      <td>0</td>\n",
              "      <td>0</td>\n",
              "      <td>0</td>\n",
              "      <td>1</td>\n",
              "      <td>0.0</td>\n",
              "      <td>{'id': 155911724, 'name': '#HOMEDVIJ #24:01', ...</td>\n",
              "      <td>0</td>\n",
              "      <td>1</td>\n",
              "      <td>23.0</td>\n",
              "      <td>Barnaul</td>\n",
              "    </tr>\n",
              "    <tr>\n",
              "      <th>4</th>\n",
              "      <td>4</td>\n",
              "      <td>Irina</td>\n",
              "      <td>Turkina</td>\n",
              "      <td>19808197</td>\n",
              "      <td>1</td>\n",
              "      <td>Другой</td>\n",
              "      <td>802</td>\n",
              "      <td>0</td>\n",
              "      <td>1.0</td>\n",
              "      <td>0</td>\n",
              "      <td>...</td>\n",
              "      <td>0</td>\n",
              "      <td>0</td>\n",
              "      <td>0</td>\n",
              "      <td>0</td>\n",
              "      <td>0.0</td>\n",
              "      <td>{'id': 381, 'name': 'АлтГУ', 'type': 'universi...</td>\n",
              "      <td>0</td>\n",
              "      <td>1</td>\n",
              "      <td>23.0</td>\n",
              "      <td>Barnaul</td>\n",
              "    </tr>\n",
              "    <tr>\n",
              "      <th>...</th>\n",
              "      <td>...</td>\n",
              "      <td>...</td>\n",
              "      <td>...</td>\n",
              "      <td>...</td>\n",
              "      <td>...</td>\n",
              "      <td>...</td>\n",
              "      <td>...</td>\n",
              "      <td>...</td>\n",
              "      <td>...</td>\n",
              "      <td>...</td>\n",
              "      <td>...</td>\n",
              "      <td>...</td>\n",
              "      <td>...</td>\n",
              "      <td>...</td>\n",
              "      <td>...</td>\n",
              "      <td>...</td>\n",
              "      <td>...</td>\n",
              "      <td>...</td>\n",
              "      <td>...</td>\n",
              "      <td>...</td>\n",
              "      <td>...</td>\n",
              "    </tr>\n",
              "    <tr>\n",
              "      <th>354</th>\n",
              "      <td>354</td>\n",
              "      <td>Leonid</td>\n",
              "      <td>Griboedov</td>\n",
              "      <td>603579266</td>\n",
              "      <td>2</td>\n",
              "      <td>Другой</td>\n",
              "      <td>0</td>\n",
              "      <td>1</td>\n",
              "      <td>0.0</td>\n",
              "      <td>0</td>\n",
              "      <td>...</td>\n",
              "      <td>0</td>\n",
              "      <td>1</td>\n",
              "      <td>0</td>\n",
              "      <td>1</td>\n",
              "      <td>0.0</td>\n",
              "      <td>{'id': 1168353, 'name': 'NU (УН, бывш. НЧУ, NO...</td>\n",
              "      <td>0</td>\n",
              "      <td>1</td>\n",
              "      <td>21.0</td>\n",
              "      <td>0</td>\n",
              "    </tr>\n",
              "    <tr>\n",
              "      <th>356</th>\n",
              "      <td>356</td>\n",
              "      <td>Darya</td>\n",
              "      <td>Galenzina</td>\n",
              "      <td>630595799</td>\n",
              "      <td>1</td>\n",
              "      <td>Tyumen</td>\n",
              "      <td>381</td>\n",
              "      <td>0</td>\n",
              "      <td>1.0</td>\n",
              "      <td>0</td>\n",
              "      <td>...</td>\n",
              "      <td>0</td>\n",
              "      <td>1</td>\n",
              "      <td>1</td>\n",
              "      <td>1</td>\n",
              "      <td>0.0</td>\n",
              "      <td>{'id': 211522176, 'name': 'Vibe.art.d', 'type'...</td>\n",
              "      <td>0</td>\n",
              "      <td>1</td>\n",
              "      <td>25.0</td>\n",
              "      <td>0</td>\n",
              "    </tr>\n",
              "    <tr>\n",
              "      <th>357</th>\n",
              "      <td>357</td>\n",
              "      <td>German</td>\n",
              "      <td>Saul-Aaron</td>\n",
              "      <td>641743403</td>\n",
              "      <td>2</td>\n",
              "      <td>Барнаул</td>\n",
              "      <td>34</td>\n",
              "      <td>0</td>\n",
              "      <td>1.0</td>\n",
              "      <td>1</td>\n",
              "      <td>...</td>\n",
              "      <td>0</td>\n",
              "      <td>1</td>\n",
              "      <td>1</td>\n",
              "      <td>1</td>\n",
              "      <td>4.0</td>\n",
              "      <td>{'id': 51766, 'name': 'Школа № 125', 'type': '...</td>\n",
              "      <td>1</td>\n",
              "      <td>1</td>\n",
              "      <td>19.0</td>\n",
              "      <td>0</td>\n",
              "    </tr>\n",
              "    <tr>\n",
              "      <th>358</th>\n",
              "      <td>358</td>\n",
              "      <td>Alexey</td>\n",
              "      <td>Tovarka</td>\n",
              "      <td>735775879</td>\n",
              "      <td>2</td>\n",
              "      <td>Барнаул</td>\n",
              "      <td>4</td>\n",
              "      <td>0</td>\n",
              "      <td>1.0</td>\n",
              "      <td>0</td>\n",
              "      <td>...</td>\n",
              "      <td>0</td>\n",
              "      <td>1</td>\n",
              "      <td>1</td>\n",
              "      <td>1</td>\n",
              "      <td>0.0</td>\n",
              "      <td>{'id': 214066682, 'name': 'BAGS SHOP|МАГАЗИН Б...</td>\n",
              "      <td>0</td>\n",
              "      <td>1</td>\n",
              "      <td>23.0</td>\n",
              "      <td>0</td>\n",
              "    </tr>\n",
              "    <tr>\n",
              "      <th>359</th>\n",
              "      <td>359</td>\n",
              "      <td>Alexandra</td>\n",
              "      <td>Kucherenko</td>\n",
              "      <td>737077015</td>\n",
              "      <td>1</td>\n",
              "      <td>Другой</td>\n",
              "      <td>0</td>\n",
              "      <td>1</td>\n",
              "      <td>0.0</td>\n",
              "      <td>0</td>\n",
              "      <td>...</td>\n",
              "      <td>0</td>\n",
              "      <td>1</td>\n",
              "      <td>0</td>\n",
              "      <td>1</td>\n",
              "      <td>0.0</td>\n",
              "      <td>{'id': 209642569, 'name': 'aogiri', 'type': 'w...</td>\n",
              "      <td>0</td>\n",
              "      <td>1</td>\n",
              "      <td>17.0</td>\n",
              "      <td>0</td>\n",
              "    </tr>\n",
              "  </tbody>\n",
              "</table>\n",
              "<p>340 rows × 21 columns</p>\n",
              "</div>\n",
              "      <button class=\"colab-df-convert\" onclick=\"convertToInteractive('df-e10511bd-a591-4b23-9ac4-26fe4d30452d')\"\n",
              "              title=\"Convert this dataframe to an interactive table.\"\n",
              "              style=\"display:none;\">\n",
              "        \n",
              "  <svg xmlns=\"http://www.w3.org/2000/svg\" height=\"24px\"viewBox=\"0 0 24 24\"\n",
              "       width=\"24px\">\n",
              "    <path d=\"M0 0h24v24H0V0z\" fill=\"none\"/>\n",
              "    <path d=\"M18.56 5.44l.94 2.06.94-2.06 2.06-.94-2.06-.94-.94-2.06-.94 2.06-2.06.94zm-11 1L8.5 8.5l.94-2.06 2.06-.94-2.06-.94L8.5 2.5l-.94 2.06-2.06.94zm10 10l.94 2.06.94-2.06 2.06-.94-2.06-.94-.94-2.06-.94 2.06-2.06.94z\"/><path d=\"M17.41 7.96l-1.37-1.37c-.4-.4-.92-.59-1.43-.59-.52 0-1.04.2-1.43.59L10.3 9.45l-7.72 7.72c-.78.78-.78 2.05 0 2.83L4 21.41c.39.39.9.59 1.41.59.51 0 1.02-.2 1.41-.59l7.78-7.78 2.81-2.81c.8-.78.8-2.07 0-2.86zM5.41 20L4 18.59l7.72-7.72 1.47 1.35L5.41 20z\"/>\n",
              "  </svg>\n",
              "      </button>\n",
              "      \n",
              "  <style>\n",
              "    .colab-df-container {\n",
              "      display:flex;\n",
              "      flex-wrap:wrap;\n",
              "      gap: 12px;\n",
              "    }\n",
              "\n",
              "    .colab-df-convert {\n",
              "      background-color: #E8F0FE;\n",
              "      border: none;\n",
              "      border-radius: 50%;\n",
              "      cursor: pointer;\n",
              "      display: none;\n",
              "      fill: #1967D2;\n",
              "      height: 32px;\n",
              "      padding: 0 0 0 0;\n",
              "      width: 32px;\n",
              "    }\n",
              "\n",
              "    .colab-df-convert:hover {\n",
              "      background-color: #E2EBFA;\n",
              "      box-shadow: 0px 1px 2px rgba(60, 64, 67, 0.3), 0px 1px 3px 1px rgba(60, 64, 67, 0.15);\n",
              "      fill: #174EA6;\n",
              "    }\n",
              "\n",
              "    [theme=dark] .colab-df-convert {\n",
              "      background-color: #3B4455;\n",
              "      fill: #D2E3FC;\n",
              "    }\n",
              "\n",
              "    [theme=dark] .colab-df-convert:hover {\n",
              "      background-color: #434B5C;\n",
              "      box-shadow: 0px 1px 3px 1px rgba(0, 0, 0, 0.15);\n",
              "      filter: drop-shadow(0px 1px 2px rgba(0, 0, 0, 0.3));\n",
              "      fill: #FFFFFF;\n",
              "    }\n",
              "  </style>\n",
              "\n",
              "      <script>\n",
              "        const buttonEl =\n",
              "          document.querySelector('#df-e10511bd-a591-4b23-9ac4-26fe4d30452d button.colab-df-convert');\n",
              "        buttonEl.style.display =\n",
              "          google.colab.kernel.accessAllowed ? 'block' : 'none';\n",
              "\n",
              "        async function convertToInteractive(key) {\n",
              "          const element = document.querySelector('#df-e10511bd-a591-4b23-9ac4-26fe4d30452d');\n",
              "          const dataTable =\n",
              "            await google.colab.kernel.invokeFunction('convertToInteractive',\n",
              "                                                     [key], {});\n",
              "          if (!dataTable) return;\n",
              "\n",
              "          const docLinkHtml = 'Like what you see? Visit the ' +\n",
              "            '<a target=\"_blank\" href=https://colab.research.google.com/notebooks/data_table.ipynb>data table notebook</a>'\n",
              "            + ' to learn more about interactive tables.';\n",
              "          element.innerHTML = '';\n",
              "          dataTable['output_type'] = 'display_data';\n",
              "          await google.colab.output.renderOutput(dataTable, element);\n",
              "          const docLink = document.createElement('div');\n",
              "          docLink.innerHTML = docLinkHtml;\n",
              "          element.appendChild(docLink);\n",
              "        }\n",
              "      </script>\n",
              "    </div>\n",
              "  </div>\n",
              "  "
            ]
          },
          "metadata": {},
          "execution_count": 122
        }
      ]
    },
    {
      "cell_type": "code",
      "source": [
        "df101 = df"
      ],
      "metadata": {
        "id": "OKX89zNyEV5v"
      },
      "execution_count": null,
      "outputs": []
    },
    {
      "cell_type": "markdown",
      "metadata": {
        "id": "FGojTn8neBxU"
      },
      "source": [
        "### **6. Создание набора данных числовых признаков**"
      ]
    },
    {
      "cell_type": "code",
      "metadata": {
        "id": "i3Giqz7Mc1Mc"
      },
      "source": [
        "digit_feature_mask = df101.dtypes==int\n",
        "digit_cols = df101.columns[digit_feature_mask].tolist()"
      ],
      "execution_count": null,
      "outputs": []
    },
    {
      "cell_type": "code",
      "metadata": {
        "colab": {
          "base_uri": "https://localhost:8080/"
        },
        "id": "FnLf7pXkdJ5v",
        "outputId": "948393a3-af07-4f1c-e898-be77faaffe28"
      },
      "source": [
        "digit_cols"
      ],
      "execution_count": null,
      "outputs": [
        {
          "output_type": "execute_result",
          "data": {
            "text/plain": [
              "['Unnamed: 0',\n",
              " 'first_name',\n",
              " 'last_name',\n",
              " 'id',\n",
              " 'sex',\n",
              " 'home_town',\n",
              " 'followers_count',\n",
              " 'is_closed',\n",
              " 'can_access_closed',\n",
              " 'can_see_audio',\n",
              " 'city',\n",
              " 'can_post',\n",
              " 'can_write_private_message',\n",
              " 'can_see_all_posts',\n",
              " 'status',\n",
              " 'relation',\n",
              " 'occupation',\n",
              " 'site',\n",
              " 'wall_default',\n",
              " 'age',\n",
              " 'city_new']"
            ]
          },
          "metadata": {},
          "execution_count": 125
        }
      ]
    },
    {
      "cell_type": "code",
      "metadata": {
        "id": "RrgGNu_YdK0M"
      },
      "source": [
        "df_digit = df101[[\n",
        " 'id',\n",
        " 'sex',\n",
        " 'home_town',\n",
        " 'followers_count',\n",
        " 'is_closed',\n",
        " 'can_access_closed',\n",
        " 'can_see_audio',\n",
        " 'city',\n",
        " 'can_post',\n",
        " 'can_write_private_message',\n",
        " 'can_see_all_posts',\n",
        " 'status',\n",
        " 'relation',\n",
        " 'site',\n",
        " 'wall_default',\n",
        " 'age',\n",
        " 'city_new']]"
      ],
      "execution_count": null,
      "outputs": []
    },
    {
      "cell_type": "markdown",
      "metadata": {
        "id": "pQDCl5DGcUSE"
      },
      "source": [
        "### **7. Тепловая карта числовых признаков**"
      ]
    },
    {
      "cell_type": "code",
      "metadata": {
        "colab": {
          "base_uri": "https://localhost:8080/",
          "height": 615
        },
        "id": "ax2egNCGXphb",
        "outputId": "8a9b7dfa-1c65-457c-f933-4cac8dbda0f1"
      },
      "source": [
        "sns.heatmap(df_digit.corr(), annot=True, linewidths=0.3)\n",
        "fig = plt.gcf()\n",
        "fig.set_size_inches(15,8)"
      ],
      "execution_count": null,
      "outputs": [
        {
          "output_type": "display_data",
          "data": {
            "text/plain": [
              "<Figure size 1080x576 with 2 Axes>"
            ],
            "image/png": "[encoded data removed]"
          },
          "metadata": {
            "needs_background": "light"
          }
        }
      ]
    },
    {
      "cell_type": "markdown",
      "metadata": {
        "id": "NY1R1QtLeNvQ"
      },
      "source": [
        "### **8. Создание готового набора данных для проведения кластеризации**"
      ]
    },
    {
      "cell_type": "code",
      "metadata": {
        "id": "XLinyw-QdsNB"
      },
      "source": [
        "data = pd.concat([df_digit, df_le], axis=1)"
      ],
      "execution_count": null,
      "outputs": []
    },
    {
      "cell_type": "code",
      "metadata": {
        "colab": {
          "base_uri": "https://localhost:8080/",
          "height": 236
        },
        "id": "XVzOK4XOGXIY",
        "outputId": "65e60a75-dcda-4596-aaf4-ddcdd77f9772"
      },
      "source": [
        "data.head()"
      ],
      "execution_count": null,
      "outputs": [
        {
          "output_type": "execute_result",
          "data": {
            "text/plain": [
              "    id  sex  home_town  followers_count  is_closed  can_access_closed  \\\n",
              "0  163    1          6                0          1                  0   \n",
              "1  236    1          6               71          0                  1   \n",
              "2  315    1          4               52          0                  1   \n",
              "3  142    1          6                0          1                  0   \n",
              "4  157    0          6              188          0                  1   \n",
              "\n",
              "   can_see_audio  city  can_post  can_write_private_message  ...  can_post  \\\n",
              "0              0    20         0                          0  ...         0   \n",
              "1              1    12         0                          0  ...         0   \n",
              "2              1    12         0                          1  ...         0   \n",
              "3              0    12         0                          0  ...         0   \n",
              "4              0    12         0                          0  ...         0   \n",
              "\n",
              "   can_write_private_message  can_see_all_posts  status  relation  \\\n",
              "0                          0                  0       0       0.0   \n",
              "1                          0                  0       1       0.0   \n",
              "2                          1                  0       1       0.0   \n",
              "3                          0                  0       1       0.0   \n",
              "4                          0                  0       0       0.0   \n",
              "\n",
              "                                          occupation  site  wall_default  \\\n",
              "0                                                NaN     0             0   \n",
              "1  {'id': 28915774, 'name': 'ОТС-Горсайт', 'type'...     0             1   \n",
              "2                                                NaN     0             0   \n",
              "3  {'id': 155911724, 'name': '#HOMEDVIJ #24:01', ...     0             1   \n",
              "4  {'id': 381, 'name': 'АлтГУ', 'type': 'universi...     0             1   \n",
              "\n",
              "    age     city_new  \n",
              "0  23.0  Novosibirsk  \n",
              "1  23.0      Barnaul  \n",
              "2  23.0      Barnaul  \n",
              "3  23.0      Barnaul  \n",
              "4  23.0      Barnaul  \n",
              "\n",
              "[5 rows x 38 columns]"
            ],
            "text/html": [
              "\n",
              "  <div id=\"df-8ec4ad21-fd93-4ab3-b060-4c0d02fc8cf2\">\n",
              "    <div class=\"colab-df-container\">\n",
              "      <div>\n",
              "<style scoped>\n",
              "    .dataframe tbody tr th:only-of-type {\n",
              "        vertical-align: middle;\n",
              "    }\n",
              "\n",
              "    .dataframe tbody tr th {\n",
              "        vertical-align: top;\n",
              "    }\n",
              "\n",
              "    .dataframe thead th {\n",
              "        text-align: right;\n",
              "    }\n",
              "</style>\n",
              "<table border=\"1\" class=\"dataframe\">\n",
              "  <thead>\n",
              "    <tr style=\"text-align: right;\">\n",
              "      <th></th>\n",
              "      <th>id</th>\n",
              "      <th>sex</th>\n",
              "      <th>home_town</th>\n",
              "      <th>followers_count</th>\n",
              "      <th>is_closed</th>\n",
              "      <th>can_access_closed</th>\n",
              "      <th>can_see_audio</th>\n",
              "      <th>city</th>\n",
              "      <th>can_post</th>\n",
              "      <th>can_write_private_message</th>\n",
              "      <th>...</th>\n",
              "      <th>can_post</th>\n",
              "      <th>can_write_private_message</th>\n",
              "      <th>can_see_all_posts</th>\n",
              "      <th>status</th>\n",
              "      <th>relation</th>\n",
              "      <th>occupation</th>\n",
              "      <th>site</th>\n",
              "      <th>wall_default</th>\n",
              "      <th>age</th>\n",
              "      <th>city_new</th>\n",
              "    </tr>\n",
              "  </thead>\n",
              "  <tbody>\n",
              "    <tr>\n",
              "      <th>0</th>\n",
              "      <td>163</td>\n",
              "      <td>1</td>\n",
              "      <td>6</td>\n",
              "      <td>0</td>\n",
              "      <td>1</td>\n",
              "      <td>0</td>\n",
              "      <td>0</td>\n",
              "      <td>20</td>\n",
              "      <td>0</td>\n",
              "      <td>0</td>\n",
              "      <td>...</td>\n",
              "      <td>0</td>\n",
              "      <td>0</td>\n",
              "      <td>0</td>\n",
              "      <td>0</td>\n",
              "      <td>0.0</td>\n",
              "      <td>NaN</td>\n",
              "      <td>0</td>\n",
              "      <td>0</td>\n",
              "      <td>23.0</td>\n",
              "      <td>Novosibirsk</td>\n",
              "    </tr>\n",
              "    <tr>\n",
              "      <th>1</th>\n",
              "      <td>236</td>\n",
              "      <td>1</td>\n",
              "      <td>6</td>\n",
              "      <td>71</td>\n",
              "      <td>0</td>\n",
              "      <td>1</td>\n",
              "      <td>1</td>\n",
              "      <td>12</td>\n",
              "      <td>0</td>\n",
              "      <td>0</td>\n",
              "      <td>...</td>\n",
              "      <td>0</td>\n",
              "      <td>0</td>\n",
              "      <td>0</td>\n",
              "      <td>1</td>\n",
              "      <td>0.0</td>\n",
              "      <td>{'id': 28915774, 'name': 'ОТС-Горсайт', 'type'...</td>\n",
              "      <td>0</td>\n",
              "      <td>1</td>\n",
              "      <td>23.0</td>\n",
              "      <td>Barnaul</td>\n",
              "    </tr>\n",
              "    <tr>\n",
              "      <th>2</th>\n",
              "      <td>315</td>\n",
              "      <td>1</td>\n",
              "      <td>4</td>\n",
              "      <td>52</td>\n",
              "      <td>0</td>\n",
              "      <td>1</td>\n",
              "      <td>1</td>\n",
              "      <td>12</td>\n",
              "      <td>0</td>\n",
              "      <td>1</td>\n",
              "      <td>...</td>\n",
              "      <td>0</td>\n",
              "      <td>1</td>\n",
              "      <td>0</td>\n",
              "      <td>1</td>\n",
              "      <td>0.0</td>\n",
              "      <td>NaN</td>\n",
              "      <td>0</td>\n",
              "      <td>0</td>\n",
              "      <td>23.0</td>\n",
              "      <td>Barnaul</td>\n",
              "    </tr>\n",
              "    <tr>\n",
              "      <th>3</th>\n",
              "      <td>142</td>\n",
              "      <td>1</td>\n",
              "      <td>6</td>\n",
              "      <td>0</td>\n",
              "      <td>1</td>\n",
              "      <td>0</td>\n",
              "      <td>0</td>\n",
              "      <td>12</td>\n",
              "      <td>0</td>\n",
              "      <td>0</td>\n",
              "      <td>...</td>\n",
              "      <td>0</td>\n",
              "      <td>0</td>\n",
              "      <td>0</td>\n",
              "      <td>1</td>\n",
              "      <td>0.0</td>\n",
              "      <td>{'id': 155911724, 'name': '#HOMEDVIJ #24:01', ...</td>\n",
              "      <td>0</td>\n",
              "      <td>1</td>\n",
              "      <td>23.0</td>\n",
              "      <td>Barnaul</td>\n",
              "    </tr>\n",
              "    <tr>\n",
              "      <th>4</th>\n",
              "      <td>157</td>\n",
              "      <td>0</td>\n",
              "      <td>6</td>\n",
              "      <td>188</td>\n",
              "      <td>0</td>\n",
              "      <td>1</td>\n",
              "      <td>0</td>\n",
              "      <td>12</td>\n",
              "      <td>0</td>\n",
              "      <td>0</td>\n",
              "      <td>...</td>\n",
              "      <td>0</td>\n",
              "      <td>0</td>\n",
              "      <td>0</td>\n",
              "      <td>0</td>\n",
              "      <td>0.0</td>\n",
              "      <td>{'id': 381, 'name': 'АлтГУ', 'type': 'universi...</td>\n",
              "      <td>0</td>\n",
              "      <td>1</td>\n",
              "      <td>23.0</td>\n",
              "      <td>Barnaul</td>\n",
              "    </tr>\n",
              "  </tbody>\n",
              "</table>\n",
              "<p>5 rows × 38 columns</p>\n",
              "</div>\n",
              "      <button class=\"colab-df-convert\" onclick=\"convertToInteractive('df-8ec4ad21-fd93-4ab3-b060-4c0d02fc8cf2')\"\n",
              "              title=\"Convert this dataframe to an interactive table.\"\n",
              "              style=\"display:none;\">\n",
              "        \n",
              "  <svg xmlns=\"http://www.w3.org/2000/svg\" height=\"24px\"viewBox=\"0 0 24 24\"\n",
              "       width=\"24px\">\n",
              "    <path d=\"M0 0h24v24H0V0z\" fill=\"none\"/>\n",
              "    <path d=\"M18.56 5.44l.94 2.06.94-2.06 2.06-.94-2.06-.94-.94-2.06-.94 2.06-2.06.94zm-11 1L8.5 8.5l.94-2.06 2.06-.94-2.06-.94L8.5 2.5l-.94 2.06-2.06.94zm10 10l.94 2.06.94-2.06 2.06-.94-2.06-.94-.94-2.06-.94 2.06-2.06.94z\"/><path d=\"M17.41 7.96l-1.37-1.37c-.4-.4-.92-.59-1.43-.59-.52 0-1.04.2-1.43.59L10.3 9.45l-7.72 7.72c-.78.78-.78 2.05 0 2.83L4 21.41c.39.39.9.59 1.41.59.51 0 1.02-.2 1.41-.59l7.78-7.78 2.81-2.81c.8-.78.8-2.07 0-2.86zM5.41 20L4 18.59l7.72-7.72 1.47 1.35L5.41 20z\"/>\n",
              "  </svg>\n",
              "      </button>\n",
              "      \n",
              "  <style>\n",
              "    .colab-df-container {\n",
              "      display:flex;\n",
              "      flex-wrap:wrap;\n",
              "      gap: 12px;\n",
              "    }\n",
              "\n",
              "    .colab-df-convert {\n",
              "      background-color: #E8F0FE;\n",
              "      border: none;\n",
              "      border-radius: 50%;\n",
              "      cursor: pointer;\n",
              "      display: none;\n",
              "      fill: #1967D2;\n",
              "      height: 32px;\n",
              "      padding: 0 0 0 0;\n",
              "      width: 32px;\n",
              "    }\n",
              "\n",
              "    .colab-df-convert:hover {\n",
              "      background-color: #E2EBFA;\n",
              "      box-shadow: 0px 1px 2px rgba(60, 64, 67, 0.3), 0px 1px 3px 1px rgba(60, 64, 67, 0.15);\n",
              "      fill: #174EA6;\n",
              "    }\n",
              "\n",
              "    [theme=dark] .colab-df-convert {\n",
              "      background-color: #3B4455;\n",
              "      fill: #D2E3FC;\n",
              "    }\n",
              "\n",
              "    [theme=dark] .colab-df-convert:hover {\n",
              "      background-color: #434B5C;\n",
              "      box-shadow: 0px 1px 3px 1px rgba(0, 0, 0, 0.15);\n",
              "      filter: drop-shadow(0px 1px 2px rgba(0, 0, 0, 0.3));\n",
              "      fill: #FFFFFF;\n",
              "    }\n",
              "  </style>\n",
              "\n",
              "      <script>\n",
              "        const buttonEl =\n",
              "          document.querySelector('#df-8ec4ad21-fd93-4ab3-b060-4c0d02fc8cf2 button.colab-df-convert');\n",
              "        buttonEl.style.display =\n",
              "          google.colab.kernel.accessAllowed ? 'block' : 'none';\n",
              "\n",
              "        async function convertToInteractive(key) {\n",
              "          const element = document.querySelector('#df-8ec4ad21-fd93-4ab3-b060-4c0d02fc8cf2');\n",
              "          const dataTable =\n",
              "            await google.colab.kernel.invokeFunction('convertToInteractive',\n",
              "                                                     [key], {});\n",
              "          if (!dataTable) return;\n",
              "\n",
              "          const docLinkHtml = 'Like what you see? Visit the ' +\n",
              "            '<a target=\"_blank\" href=https://colab.research.google.com/notebooks/data_table.ipynb>data table notebook</a>'\n",
              "            + ' to learn more about interactive tables.';\n",
              "          element.innerHTML = '';\n",
              "          dataTable['output_type'] = 'display_data';\n",
              "          await google.colab.output.renderOutput(dataTable, element);\n",
              "          const docLink = document.createElement('div');\n",
              "          docLink.innerHTML = docLinkHtml;\n",
              "          element.appendChild(docLink);\n",
              "        }\n",
              "      </script>\n",
              "    </div>\n",
              "  </div>\n",
              "  "
            ]
          },
          "metadata": {},
          "execution_count": 129
        }
      ]
    },
    {
      "cell_type": "code",
      "metadata": {
        "colab": {
          "base_uri": "https://localhost:8080/"
        },
        "id": "vUKCL8Nca1i1",
        "outputId": "1af05c3c-192e-4747-ed0a-f0f05e685bf4"
      },
      "source": [
        "data.columns"
      ],
      "execution_count": null,
      "outputs": [
        {
          "output_type": "execute_result",
          "data": {
            "text/plain": [
              "Index(['id', 'sex', 'home_town', 'followers_count', 'is_closed',\n",
              "       'can_access_closed', 'can_see_audio', 'city', 'can_post',\n",
              "       'can_write_private_message', 'can_see_all_posts', 'status', 'relation',\n",
              "       'site', 'wall_default', 'age', 'city_new', 'Unnamed: 0', 'first_name',\n",
              "       'last_name', 'id', 'sex', 'home_town', 'followers_count', 'is_closed',\n",
              "       'can_access_closed', 'can_see_audio', 'city', 'can_post',\n",
              "       'can_write_private_message', 'can_see_all_posts', 'status', 'relation',\n",
              "       'occupation', 'site', 'wall_default', 'age', 'city_new'],\n",
              "      dtype='object')"
            ]
          },
          "metadata": {},
          "execution_count": 130
        }
      ]
    },
    {
      "cell_type": "markdown",
      "metadata": {
        "id": "DQxssRPFffey"
      },
      "source": [
        "### **9. Применение методов Scaler к набору данных**"
      ]
    },
    {
      "cell_type": "code",
      "metadata": {
        "id": "TdQxDMNdeWqJ"
      },
      "source": [
        "df_norm = df.copy(deep=True)\n",
        "df_minmax = df.copy(deep=True)\n",
        "df_stand = df.copy(deep=True)\n",
        "df_maxabs = df.copy(deep=True)\n",
        "df_robust = df.copy(deep=True)\n",
        "df_powert = df.copy(deep=True)\n",
        "\n",
        "norm = Normalizer().fit(df_norm)\n",
        "minmax = MinMaxScaler().fit(df_minmax)\n",
        "stand = StandardScaler().fit(df_stand)\n",
        "maxabs = MaxAbsScaler().fit(df_maxabs)\n",
        "robust = RobustScaler().fit(df_robust)\n",
        "powert = PowerTransformer().fit(df_powert)\n",
        "\n",
        "df_to_norm = norm.transform(df_norm)\n",
        "df_to_minmax = minmax.transform(df_minmax)\n",
        "df_to_stand = stand.transform(df_stand)\n",
        "df_to_maxabs = maxabs.transform(df_maxabs)\n",
        "df_to_robust = robust.transform(df_robust)\n",
        "df_to_powert = powert.transform(df_powert)\n",
        "\n",
        "df_norm = pd.DataFrame(df_to_norm)\n",
        "df_minmax = pd.DataFrame(df_to_minmax)\n",
        "df_stand = pd.DataFrame(df_to_stand)\n",
        "df_maxabs = pd.DataFrame(df_to_maxabs)\n",
        "df_robust = pd.DataFrame(df_to_robust)\n",
        "df_powert = pd.DataFrame(df_to_powert)\n",
        "\n",
        "df_notscaled = data.copy(deep=True)"
      ],
      "execution_count": null,
      "outputs": []
    },
    {
      "cell_type": "code",
      "metadata": {
        "id": "U9WnJ3vLfWTq"
      },
      "source": [
        "df_norm.name = 'Normalizer'\n",
        "df_minmax.name = 'MinMaxScaler'\n",
        "df_stand.name = 'StandardScaler'\n",
        "df_maxabs.name = 'MaxAbsScaler'\n",
        "df_robust.name = 'RobustScaler'\n",
        "df_powert.name = 'PowerTransformer'\n",
        "df_notscaled.name = 'Not Scaled'"
      ],
      "execution_count": null,
      "outputs": []
    },
    {
      "cell_type": "markdown",
      "metadata": {
        "id": "bHOnLMQkgCMz"
      },
      "source": [
        "### **10. Создание конвейера для подбора лучшей модели**"
      ]
    },
    {
      "cell_type": "code",
      "metadata": {
        "id": "VZUi3Podge6b"
      },
      "source": [
        "from sklearn.cluster import *\n",
        "from sklearn.metrics import *"
      ],
      "execution_count": null,
      "outputs": []
    },
    {
      "cell_type": "code",
      "metadata": {
        "id": "kPu3MUGFf4NI"
      },
      "source": [
        "float_frames = [df_norm, df_minmax, df_stand, df_maxabs, df_robust, df_powert, df_notscaled]\n",
        "methods = [KMeans(), MiniBatchKMeans(),\n",
        "           AffinityPropagation(),\n",
        "           AgglomerativeClustering(),\n",
        "           MeanShift()]\n",
        "\n",
        "metrics = pd.DataFrame(columns=['Method', 'Scaler', 'Silhouette Score', 'Davies Bouldin Score', 'Inertia'])"
      ],
      "execution_count": null,
      "outputs": []
    },
    {
      "cell_type": "code",
      "metadata": {
        "colab": {
          "base_uri": "https://localhost:8080/",
          "height": 1000
        },
        "id": "evdaGErQw9rh",
        "outputId": "9c3c5926-4663-4769-884c-d065a97cbfaa"
      },
      "source": [
        "metrics[(metrics['Silhouette Score'] != '-') & (metrics['Davies Bouldin Score'] != '-')].sort_values(by='Silhouette Score', ascending=False)"
      ],
      "execution_count": null,
      "outputs": [
        {
          "output_type": "execute_result",
          "data": {
            "text/plain": [
              "                     Method            Scaler Silhouette Score  \\\n",
              "53  AgglomerativeClustering      RobustScaler          0.43256   \n",
              "23  AgglomerativeClustering      RobustScaler          0.43256   \n",
              "54                MeanShift      RobustScaler          0.36304   \n",
              "24                MeanShift      RobustScaler          0.36304   \n",
              "4                 MeanShift        Normalizer          0.30256   \n",
              "34                MeanShift        Normalizer          0.30256   \n",
              "14                MeanShift    StandardScaler           0.2726   \n",
              "44                MeanShift    StandardScaler           0.2726   \n",
              "59                MeanShift  PowerTransformer          0.25357   \n",
              "29                MeanShift  PowerTransformer          0.25357   \n",
              "0                    KMeans        Normalizer          0.24182   \n",
              "1           MiniBatchKMeans        Normalizer          0.23873   \n",
              "30                   KMeans        Normalizer          0.23683   \n",
              "31          MiniBatchKMeans        Normalizer          0.22403   \n",
              "33  AgglomerativeClustering        Normalizer          0.20544   \n",
              "3   AgglomerativeClustering        Normalizer          0.20544   \n",
              "32      AffinityPropagation        Normalizer          0.20487   \n",
              "2       AffinityPropagation        Normalizer          0.20487   \n",
              "48  AgglomerativeClustering      MaxAbsScaler          0.19385   \n",
              "38  AgglomerativeClustering      MinMaxScaler          0.19385   \n",
              "8   AgglomerativeClustering      MinMaxScaler          0.19385   \n",
              "18  AgglomerativeClustering      MaxAbsScaler          0.19385   \n",
              "28  AgglomerativeClustering  PowerTransformer          0.15392   \n",
              "58  AgglomerativeClustering  PowerTransformer          0.15392   \n",
              "50                   KMeans      RobustScaler          0.15236   \n",
              "20                   KMeans      RobustScaler          0.15236   \n",
              "21          MiniBatchKMeans      RobustScaler          0.14842   \n",
              "51          MiniBatchKMeans      RobustScaler          0.14309   \n",
              "13  AgglomerativeClustering    StandardScaler          0.13483   \n",
              "43  AgglomerativeClustering    StandardScaler          0.13483   \n",
              "45                   KMeans      MaxAbsScaler          0.11874   \n",
              "15                   KMeans      MaxAbsScaler            0.117   \n",
              "6           MiniBatchKMeans      MinMaxScaler          0.11346   \n",
              "35                   KMeans      MinMaxScaler          0.11261   \n",
              "36          MiniBatchKMeans      MinMaxScaler          0.11059   \n",
              "47      AffinityPropagation      MaxAbsScaler          0.11052   \n",
              "7       AffinityPropagation      MinMaxScaler          0.11052   \n",
              "17      AffinityPropagation      MaxAbsScaler          0.11052   \n",
              "37      AffinityPropagation      MinMaxScaler          0.11052   \n",
              "25                   KMeans  PowerTransformer          0.11017   \n",
              "46          MiniBatchKMeans      MaxAbsScaler          0.11007   \n",
              "5                    KMeans      MinMaxScaler          0.10915   \n",
              "40                   KMeans    StandardScaler          0.10234   \n",
              "16          MiniBatchKMeans      MaxAbsScaler          0.10176   \n",
              "22      AffinityPropagation      RobustScaler           0.0865   \n",
              "52      AffinityPropagation      RobustScaler           0.0865   \n",
              "55                   KMeans  PowerTransformer          0.08123   \n",
              "27      AffinityPropagation  PowerTransformer          0.07859   \n",
              "57      AffinityPropagation  PowerTransformer          0.07859   \n",
              "10                   KMeans    StandardScaler          0.07532   \n",
              "42      AffinityPropagation    StandardScaler          0.07439   \n",
              "12      AffinityPropagation    StandardScaler          0.07439   \n",
              "56          MiniBatchKMeans  PowerTransformer          0.07269   \n",
              "26          MiniBatchKMeans  PowerTransformer          0.06508   \n",
              "11          MiniBatchKMeans    StandardScaler          0.06506   \n",
              "41          MiniBatchKMeans    StandardScaler          0.05982   \n",
              "\n",
              "   Davies Bouldin Score     Inertia  \n",
              "53              1.11361           -  \n",
              "23              1.11361           -  \n",
              "54              0.73343           -  \n",
              "24              0.73343           -  \n",
              "4               1.13996           -  \n",
              "34              1.13996           -  \n",
              "14              1.14624           -  \n",
              "44              1.14624           -  \n",
              "59              0.83798           -  \n",
              "29              0.83798           -  \n",
              "0                1.2689    26.64272  \n",
              "1               1.25001    26.76562  \n",
              "30               1.2296    26.40078  \n",
              "31              1.36459    28.10714  \n",
              "33              1.87007           -  \n",
              "3               1.87007           -  \n",
              "32              1.24317           -  \n",
              "2               1.24317           -  \n",
              "48              1.69165           -  \n",
              "38              1.69165           -  \n",
              "8               1.69165           -  \n",
              "18              1.69165           -  \n",
              "28              1.86654           -  \n",
              "58              1.86654           -  \n",
              "50              1.43119  1771.54302  \n",
              "20              1.43119  1771.54302  \n",
              "21              1.46103  1790.34905  \n",
              "51              1.62537  1831.82565  \n",
              "13              1.96587           -  \n",
              "43              1.96587           -  \n",
              "45                2.246   543.41117  \n",
              "15              2.22862   541.46922  \n",
              "6               2.31368   549.06929  \n",
              "35              2.23714   544.61221  \n",
              "36              2.33651   555.73458  \n",
              "47              1.76666           -  \n",
              "7               1.76666           -  \n",
              "17              1.76666           -  \n",
              "37              1.76666           -  \n",
              "25               2.4131  4631.86971  \n",
              "46               2.2566   553.56379  \n",
              "5                2.3244   544.86419  \n",
              "40              2.35827   4725.7527  \n",
              "16               2.2888   554.40753  \n",
              "22              1.55247           -  \n",
              "52              1.55247           -  \n",
              "55              2.57742  4624.80363  \n",
              "27              1.85757           -  \n",
              "57              1.85757           -  \n",
              "10              2.68379  4738.37696  \n",
              "42              1.88575           -  \n",
              "12              1.88575           -  \n",
              "56              2.73063  4760.75123  \n",
              "26               2.7276  4820.94035  \n",
              "11              2.88068  5023.21818  \n",
              "41              2.99795  4928.49985  "
            ],
            "text/html": [
              "\n",
              "  <div id=\"df-f445ab39-b843-4ad9-bcb9-c285cd88c19c\">\n",
              "    <div class=\"colab-df-container\">\n",
              "      <div>\n",
              "<style scoped>\n",
              "    .dataframe tbody tr th:only-of-type {\n",
              "        vertical-align: middle;\n",
              "    }\n",
              "\n",
              "    .dataframe tbody tr th {\n",
              "        vertical-align: top;\n",
              "    }\n",
              "\n",
              "    .dataframe thead th {\n",
              "        text-align: right;\n",
              "    }\n",
              "</style>\n",
              "<table border=\"1\" class=\"dataframe\">\n",
              "  <thead>\n",
              "    <tr style=\"text-align: right;\">\n",
              "      <th></th>\n",
              "      <th>Method</th>\n",
              "      <th>Scaler</th>\n",
              "      <th>Silhouette Score</th>\n",
              "      <th>Davies Bouldin Score</th>\n",
              "      <th>Inertia</th>\n",
              "    </tr>\n",
              "  </thead>\n",
              "  <tbody>\n",
              "    <tr>\n",
              "      <th>53</th>\n",
              "      <td>AgglomerativeClustering</td>\n",
              "      <td>RobustScaler</td>\n",
              "      <td>0.43256</td>\n",
              "      <td>1.11361</td>\n",
              "      <td>-</td>\n",
              "    </tr>\n",
              "    <tr>\n",
              "      <th>23</th>\n",
              "      <td>AgglomerativeClustering</td>\n",
              "      <td>RobustScaler</td>\n",
              "      <td>0.43256</td>\n",
              "      <td>1.11361</td>\n",
              "      <td>-</td>\n",
              "    </tr>\n",
              "    <tr>\n",
              "      <th>54</th>\n",
              "      <td>MeanShift</td>\n",
              "      <td>RobustScaler</td>\n",
              "      <td>0.36304</td>\n",
              "      <td>0.73343</td>\n",
              "      <td>-</td>\n",
              "    </tr>\n",
              "    <tr>\n",
              "      <th>24</th>\n",
              "      <td>MeanShift</td>\n",
              "      <td>RobustScaler</td>\n",
              "      <td>0.36304</td>\n",
              "      <td>0.73343</td>\n",
              "      <td>-</td>\n",
              "    </tr>\n",
              "    <tr>\n",
              "      <th>4</th>\n",
              "      <td>MeanShift</td>\n",
              "      <td>Normalizer</td>\n",
              "      <td>0.30256</td>\n",
              "      <td>1.13996</td>\n",
              "      <td>-</td>\n",
              "    </tr>\n",
              "    <tr>\n",
              "      <th>34</th>\n",
              "      <td>MeanShift</td>\n",
              "      <td>Normalizer</td>\n",
              "      <td>0.30256</td>\n",
              "      <td>1.13996</td>\n",
              "      <td>-</td>\n",
              "    </tr>\n",
              "    <tr>\n",
              "      <th>14</th>\n",
              "      <td>MeanShift</td>\n",
              "      <td>StandardScaler</td>\n",
              "      <td>0.2726</td>\n",
              "      <td>1.14624</td>\n",
              "      <td>-</td>\n",
              "    </tr>\n",
              "    <tr>\n",
              "      <th>44</th>\n",
              "      <td>MeanShift</td>\n",
              "      <td>StandardScaler</td>\n",
              "      <td>0.2726</td>\n",
              "      <td>1.14624</td>\n",
              "      <td>-</td>\n",
              "    </tr>\n",
              "    <tr>\n",
              "      <th>59</th>\n",
              "      <td>MeanShift</td>\n",
              "      <td>PowerTransformer</td>\n",
              "      <td>0.25357</td>\n",
              "      <td>0.83798</td>\n",
              "      <td>-</td>\n",
              "    </tr>\n",
              "    <tr>\n",
              "      <th>29</th>\n",
              "      <td>MeanShift</td>\n",
              "      <td>PowerTransformer</td>\n",
              "      <td>0.25357</td>\n",
              "      <td>0.83798</td>\n",
              "      <td>-</td>\n",
              "    </tr>\n",
              "    <tr>\n",
              "      <th>0</th>\n",
              "      <td>KMeans</td>\n",
              "      <td>Normalizer</td>\n",
              "      <td>0.24182</td>\n",
              "      <td>1.2689</td>\n",
              "      <td>26.64272</td>\n",
              "    </tr>\n",
              "    <tr>\n",
              "      <th>1</th>\n",
              "      <td>MiniBatchKMeans</td>\n",
              "      <td>Normalizer</td>\n",
              "      <td>0.23873</td>\n",
              "      <td>1.25001</td>\n",
              "      <td>26.76562</td>\n",
              "    </tr>\n",
              "    <tr>\n",
              "      <th>30</th>\n",
              "      <td>KMeans</td>\n",
              "      <td>Normalizer</td>\n",
              "      <td>0.23683</td>\n",
              "      <td>1.2296</td>\n",
              "      <td>26.40078</td>\n",
              "    </tr>\n",
              "    <tr>\n",
              "      <th>31</th>\n",
              "      <td>MiniBatchKMeans</td>\n",
              "      <td>Normalizer</td>\n",
              "      <td>0.22403</td>\n",
              "      <td>1.36459</td>\n",
              "      <td>28.10714</td>\n",
              "    </tr>\n",
              "    <tr>\n",
              "      <th>33</th>\n",
              "      <td>AgglomerativeClustering</td>\n",
              "      <td>Normalizer</td>\n",
              "      <td>0.20544</td>\n",
              "      <td>1.87007</td>\n",
              "      <td>-</td>\n",
              "    </tr>\n",
              "    <tr>\n",
              "      <th>3</th>\n",
              "      <td>AgglomerativeClustering</td>\n",
              "      <td>Normalizer</td>\n",
              "      <td>0.20544</td>\n",
              "      <td>1.87007</td>\n",
              "      <td>-</td>\n",
              "    </tr>\n",
              "    <tr>\n",
              "      <th>32</th>\n",
              "      <td>AffinityPropagation</td>\n",
              "      <td>Normalizer</td>\n",
              "      <td>0.20487</td>\n",
              "      <td>1.24317</td>\n",
              "      <td>-</td>\n",
              "    </tr>\n",
              "    <tr>\n",
              "      <th>2</th>\n",
              "      <td>AffinityPropagation</td>\n",
              "      <td>Normalizer</td>\n",
              "      <td>0.20487</td>\n",
              "      <td>1.24317</td>\n",
              "      <td>-</td>\n",
              "    </tr>\n",
              "    <tr>\n",
              "      <th>48</th>\n",
              "      <td>AgglomerativeClustering</td>\n",
              "      <td>MaxAbsScaler</td>\n",
              "      <td>0.19385</td>\n",
              "      <td>1.69165</td>\n",
              "      <td>-</td>\n",
              "    </tr>\n",
              "    <tr>\n",
              "      <th>38</th>\n",
              "      <td>AgglomerativeClustering</td>\n",
              "      <td>MinMaxScaler</td>\n",
              "      <td>0.19385</td>\n",
              "      <td>1.69165</td>\n",
              "      <td>-</td>\n",
              "    </tr>\n",
              "    <tr>\n",
              "      <th>8</th>\n",
              "      <td>AgglomerativeClustering</td>\n",
              "      <td>MinMaxScaler</td>\n",
              "      <td>0.19385</td>\n",
              "      <td>1.69165</td>\n",
              "      <td>-</td>\n",
              "    </tr>\n",
              "    <tr>\n",
              "      <th>18</th>\n",
              "      <td>AgglomerativeClustering</td>\n",
              "      <td>MaxAbsScaler</td>\n",
              "      <td>0.19385</td>\n",
              "      <td>1.69165</td>\n",
              "      <td>-</td>\n",
              "    </tr>\n",
              "    <tr>\n",
              "      <th>28</th>\n",
              "      <td>AgglomerativeClustering</td>\n",
              "      <td>PowerTransformer</td>\n",
              "      <td>0.15392</td>\n",
              "      <td>1.86654</td>\n",
              "      <td>-</td>\n",
              "    </tr>\n",
              "    <tr>\n",
              "      <th>58</th>\n",
              "      <td>AgglomerativeClustering</td>\n",
              "      <td>PowerTransformer</td>\n",
              "      <td>0.15392</td>\n",
              "      <td>1.86654</td>\n",
              "      <td>-</td>\n",
              "    </tr>\n",
              "    <tr>\n",
              "      <th>50</th>\n",
              "      <td>KMeans</td>\n",
              "      <td>RobustScaler</td>\n",
              "      <td>0.15236</td>\n",
              "      <td>1.43119</td>\n",
              "      <td>1771.54302</td>\n",
              "    </tr>\n",
              "    <tr>\n",
              "      <th>20</th>\n",
              "      <td>KMeans</td>\n",
              "      <td>RobustScaler</td>\n",
              "      <td>0.15236</td>\n",
              "      <td>1.43119</td>\n",
              "      <td>1771.54302</td>\n",
              "    </tr>\n",
              "    <tr>\n",
              "      <th>21</th>\n",
              "      <td>MiniBatchKMeans</td>\n",
              "      <td>RobustScaler</td>\n",
              "      <td>0.14842</td>\n",
              "      <td>1.46103</td>\n",
              "      <td>1790.34905</td>\n",
              "    </tr>\n",
              "    <tr>\n",
              "      <th>51</th>\n",
              "      <td>MiniBatchKMeans</td>\n",
              "      <td>RobustScaler</td>\n",
              "      <td>0.14309</td>\n",
              "      <td>1.62537</td>\n",
              "      <td>1831.82565</td>\n",
              "    </tr>\n",
              "    <tr>\n",
              "      <th>13</th>\n",
              "      <td>AgglomerativeClustering</td>\n",
              "      <td>StandardScaler</td>\n",
              "      <td>0.13483</td>\n",
              "      <td>1.96587</td>\n",
              "      <td>-</td>\n",
              "    </tr>\n",
              "    <tr>\n",
              "      <th>43</th>\n",
              "      <td>AgglomerativeClustering</td>\n",
              "      <td>StandardScaler</td>\n",
              "      <td>0.13483</td>\n",
              "      <td>1.96587</td>\n",
              "      <td>-</td>\n",
              "    </tr>\n",
              "    <tr>\n",
              "      <th>45</th>\n",
              "      <td>KMeans</td>\n",
              "      <td>MaxAbsScaler</td>\n",
              "      <td>0.11874</td>\n",
              "      <td>2.246</td>\n",
              "      <td>543.41117</td>\n",
              "    </tr>\n",
              "    <tr>\n",
              "      <th>15</th>\n",
              "      <td>KMeans</td>\n",
              "      <td>MaxAbsScaler</td>\n",
              "      <td>0.117</td>\n",
              "      <td>2.22862</td>\n",
              "      <td>541.46922</td>\n",
              "    </tr>\n",
              "    <tr>\n",
              "      <th>6</th>\n",
              "      <td>MiniBatchKMeans</td>\n",
              "      <td>MinMaxScaler</td>\n",
              "      <td>0.11346</td>\n",
              "      <td>2.31368</td>\n",
              "      <td>549.06929</td>\n",
              "    </tr>\n",
              "    <tr>\n",
              "      <th>35</th>\n",
              "      <td>KMeans</td>\n",
              "      <td>MinMaxScaler</td>\n",
              "      <td>0.11261</td>\n",
              "      <td>2.23714</td>\n",
              "      <td>544.61221</td>\n",
              "    </tr>\n",
              "    <tr>\n",
              "      <th>36</th>\n",
              "      <td>MiniBatchKMeans</td>\n",
              "      <td>MinMaxScaler</td>\n",
              "      <td>0.11059</td>\n",
              "      <td>2.33651</td>\n",
              "      <td>555.73458</td>\n",
              "    </tr>\n",
              "    <tr>\n",
              "      <th>47</th>\n",
              "      <td>AffinityPropagation</td>\n",
              "      <td>MaxAbsScaler</td>\n",
              "      <td>0.11052</td>\n",
              "      <td>1.76666</td>\n",
              "      <td>-</td>\n",
              "    </tr>\n",
              "    <tr>\n",
              "      <th>7</th>\n",
              "      <td>AffinityPropagation</td>\n",
              "      <td>MinMaxScaler</td>\n",
              "      <td>0.11052</td>\n",
              "      <td>1.76666</td>\n",
              "      <td>-</td>\n",
              "    </tr>\n",
              "    <tr>\n",
              "      <th>17</th>\n",
              "      <td>AffinityPropagation</td>\n",
              "      <td>MaxAbsScaler</td>\n",
              "      <td>0.11052</td>\n",
              "      <td>1.76666</td>\n",
              "      <td>-</td>\n",
              "    </tr>\n",
              "    <tr>\n",
              "      <th>37</th>\n",
              "      <td>AffinityPropagation</td>\n",
              "      <td>MinMaxScaler</td>\n",
              "      <td>0.11052</td>\n",
              "      <td>1.76666</td>\n",
              "      <td>-</td>\n",
              "    </tr>\n",
              "    <tr>\n",
              "      <th>25</th>\n",
              "      <td>KMeans</td>\n",
              "      <td>PowerTransformer</td>\n",
              "      <td>0.11017</td>\n",
              "      <td>2.4131</td>\n",
              "      <td>4631.86971</td>\n",
              "    </tr>\n",
              "    <tr>\n",
              "      <th>46</th>\n",
              "      <td>MiniBatchKMeans</td>\n",
              "      <td>MaxAbsScaler</td>\n",
              "      <td>0.11007</td>\n",
              "      <td>2.2566</td>\n",
              "      <td>553.56379</td>\n",
              "    </tr>\n",
              "    <tr>\n",
              "      <th>5</th>\n",
              "      <td>KMeans</td>\n",
              "      <td>MinMaxScaler</td>\n",
              "      <td>0.10915</td>\n",
              "      <td>2.3244</td>\n",
              "      <td>544.86419</td>\n",
              "    </tr>\n",
              "    <tr>\n",
              "      <th>40</th>\n",
              "      <td>KMeans</td>\n",
              "      <td>StandardScaler</td>\n",
              "      <td>0.10234</td>\n",
              "      <td>2.35827</td>\n",
              "      <td>4725.7527</td>\n",
              "    </tr>\n",
              "    <tr>\n",
              "      <th>16</th>\n",
              "      <td>MiniBatchKMeans</td>\n",
              "      <td>MaxAbsScaler</td>\n",
              "      <td>0.10176</td>\n",
              "      <td>2.2888</td>\n",
              "      <td>554.40753</td>\n",
              "    </tr>\n",
              "    <tr>\n",
              "      <th>22</th>\n",
              "      <td>AffinityPropagation</td>\n",
              "      <td>RobustScaler</td>\n",
              "      <td>0.0865</td>\n",
              "      <td>1.55247</td>\n",
              "      <td>-</td>\n",
              "    </tr>\n",
              "    <tr>\n",
              "      <th>52</th>\n",
              "      <td>AffinityPropagation</td>\n",
              "      <td>RobustScaler</td>\n",
              "      <td>0.0865</td>\n",
              "      <td>1.55247</td>\n",
              "      <td>-</td>\n",
              "    </tr>\n",
              "    <tr>\n",
              "      <th>55</th>\n",
              "      <td>KMeans</td>\n",
              "      <td>PowerTransformer</td>\n",
              "      <td>0.08123</td>\n",
              "      <td>2.57742</td>\n",
              "      <td>4624.80363</td>\n",
              "    </tr>\n",
              "    <tr>\n",
              "      <th>27</th>\n",
              "      <td>AffinityPropagation</td>\n",
              "      <td>PowerTransformer</td>\n",
              "      <td>0.07859</td>\n",
              "      <td>1.85757</td>\n",
              "      <td>-</td>\n",
              "    </tr>\n",
              "    <tr>\n",
              "      <th>57</th>\n",
              "      <td>AffinityPropagation</td>\n",
              "      <td>PowerTransformer</td>\n",
              "      <td>0.07859</td>\n",
              "      <td>1.85757</td>\n",
              "      <td>-</td>\n",
              "    </tr>\n",
              "    <tr>\n",
              "      <th>10</th>\n",
              "      <td>KMeans</td>\n",
              "      <td>StandardScaler</td>\n",
              "      <td>0.07532</td>\n",
              "      <td>2.68379</td>\n",
              "      <td>4738.37696</td>\n",
              "    </tr>\n",
              "    <tr>\n",
              "      <th>42</th>\n",
              "      <td>AffinityPropagation</td>\n",
              "      <td>StandardScaler</td>\n",
              "      <td>0.07439</td>\n",
              "      <td>1.88575</td>\n",
              "      <td>-</td>\n",
              "    </tr>\n",
              "    <tr>\n",
              "      <th>12</th>\n",
              "      <td>AffinityPropagation</td>\n",
              "      <td>StandardScaler</td>\n",
              "      <td>0.07439</td>\n",
              "      <td>1.88575</td>\n",
              "      <td>-</td>\n",
              "    </tr>\n",
              "    <tr>\n",
              "      <th>56</th>\n",
              "      <td>MiniBatchKMeans</td>\n",
              "      <td>PowerTransformer</td>\n",
              "      <td>0.07269</td>\n",
              "      <td>2.73063</td>\n",
              "      <td>4760.75123</td>\n",
              "    </tr>\n",
              "    <tr>\n",
              "      <th>26</th>\n",
              "      <td>MiniBatchKMeans</td>\n",
              "      <td>PowerTransformer</td>\n",
              "      <td>0.06508</td>\n",
              "      <td>2.7276</td>\n",
              "      <td>4820.94035</td>\n",
              "    </tr>\n",
              "    <tr>\n",
              "      <th>11</th>\n",
              "      <td>MiniBatchKMeans</td>\n",
              "      <td>StandardScaler</td>\n",
              "      <td>0.06506</td>\n",
              "      <td>2.88068</td>\n",
              "      <td>5023.21818</td>\n",
              "    </tr>\n",
              "    <tr>\n",
              "      <th>41</th>\n",
              "      <td>MiniBatchKMeans</td>\n",
              "      <td>StandardScaler</td>\n",
              "      <td>0.05982</td>\n",
              "      <td>2.99795</td>\n",
              "      <td>4928.49985</td>\n",
              "    </tr>\n",
              "  </tbody>\n",
              "</table>\n",
              "</div>\n",
              "      <button class=\"colab-df-convert\" onclick=\"convertToInteractive('df-f445ab39-b843-4ad9-bcb9-c285cd88c19c')\"\n",
              "              title=\"Convert this dataframe to an interactive table.\"\n",
              "              style=\"display:none;\">\n",
              "        \n",
              "  <svg xmlns=\"http://www.w3.org/2000/svg\" height=\"24px\"viewBox=\"0 0 24 24\"\n",
              "       width=\"24px\">\n",
              "    <path d=\"M0 0h24v24H0V0z\" fill=\"none\"/>\n",
              "    <path d=\"M18.56 5.44l.94 2.06.94-2.06 2.06-.94-2.06-.94-.94-2.06-.94 2.06-2.06.94zm-11 1L8.5 8.5l.94-2.06 2.06-.94-2.06-.94L8.5 2.5l-.94 2.06-2.06.94zm10 10l.94 2.06.94-2.06 2.06-.94-2.06-.94-.94-2.06-.94 2.06-2.06.94z\"/><path d=\"M17.41 7.96l-1.37-1.37c-.4-.4-.92-.59-1.43-.59-.52 0-1.04.2-1.43.59L10.3 9.45l-7.72 7.72c-.78.78-.78 2.05 0 2.83L4 21.41c.39.39.9.59 1.41.59.51 0 1.02-.2 1.41-.59l7.78-7.78 2.81-2.81c.8-.78.8-2.07 0-2.86zM5.41 20L4 18.59l7.72-7.72 1.47 1.35L5.41 20z\"/>\n",
              "  </svg>\n",
              "      </button>\n",
              "      \n",
              "  <style>\n",
              "    .colab-df-container {\n",
              "      display:flex;\n",
              "      flex-wrap:wrap;\n",
              "      gap: 12px;\n",
              "    }\n",
              "\n",
              "    .colab-df-convert {\n",
              "      background-color: #E8F0FE;\n",
              "      border: none;\n",
              "      border-radius: 50%;\n",
              "      cursor: pointer;\n",
              "      display: none;\n",
              "      fill: #1967D2;\n",
              "      height: 32px;\n",
              "      padding: 0 0 0 0;\n",
              "      width: 32px;\n",
              "    }\n",
              "\n",
              "    .colab-df-convert:hover {\n",
              "      background-color: #E2EBFA;\n",
              "      box-shadow: 0px 1px 2px rgba(60, 64, 67, 0.3), 0px 1px 3px 1px rgba(60, 64, 67, 0.15);\n",
              "      fill: #174EA6;\n",
              "    }\n",
              "\n",
              "    [theme=dark] .colab-df-convert {\n",
              "      background-color: #3B4455;\n",
              "      fill: #D2E3FC;\n",
              "    }\n",
              "\n",
              "    [theme=dark] .colab-df-convert:hover {\n",
              "      background-color: #434B5C;\n",
              "      box-shadow: 0px 1px 3px 1px rgba(0, 0, 0, 0.15);\n",
              "      filter: drop-shadow(0px 1px 2px rgba(0, 0, 0, 0.3));\n",
              "      fill: #FFFFFF;\n",
              "    }\n",
              "  </style>\n",
              "\n",
              "      <script>\n",
              "        const buttonEl =\n",
              "          document.querySelector('#df-f445ab39-b843-4ad9-bcb9-c285cd88c19c button.colab-df-convert');\n",
              "        buttonEl.style.display =\n",
              "          google.colab.kernel.accessAllowed ? 'block' : 'none';\n",
              "\n",
              "        async function convertToInteractive(key) {\n",
              "          const element = document.querySelector('#df-f445ab39-b843-4ad9-bcb9-c285cd88c19c');\n",
              "          const dataTable =\n",
              "            await google.colab.kernel.invokeFunction('convertToInteractive',\n",
              "                                                     [key], {});\n",
              "          if (!dataTable) return;\n",
              "\n",
              "          const docLinkHtml = 'Like what you see? Visit the ' +\n",
              "            '<a target=\"_blank\" href=https://colab.research.google.com/notebooks/data_table.ipynb>data table notebook</a>'\n",
              "            + ' to learn more about interactive tables.';\n",
              "          element.innerHTML = '';\n",
              "          dataTable['output_type'] = 'display_data';\n",
              "          await google.colab.output.renderOutput(dataTable, element);\n",
              "          const docLink = document.createElement('div');\n",
              "          docLink.innerHTML = docLinkHtml;\n",
              "          element.appendChild(docLink);\n",
              "        }\n",
              "      </script>\n",
              "    </div>\n",
              "  </div>\n",
              "  "
            ]
          },
          "metadata": {},
          "execution_count": 137
        }
      ]
    },
    {
      "cell_type": "code",
      "metadata": {
        "id": "Gkzk4P19jQQA"
      },
      "source": [
        "ss_kmeans = []\n",
        "bd_kmeans = []\n",
        "ss_agg = []\n",
        "bd_agg = []\n",
        "ss_mb = []\n",
        "bd_mb = []\n",
        "\n",
        "x = df\n",
        "\n",
        "for k in range(2, 11):\n",
        "  est = KMeans(n_clusters=k)\n",
        "  est.fit(x)\n",
        "  ss_kmeans.append(silhouette_score(x, est.labels_))\n",
        "  bd_kmeans.append(davies_bouldin_score(x, est.labels_))\n",
        "\n",
        "for k in range(2, 11):\n",
        "  est = AgglomerativeClustering(n_clusters=k)\n",
        "  est.fit(x)\n",
        "  ss_agg.append(silhouette_score(x, est.labels_))\n",
        "  bd_agg.append(davies_bouldin_score(x, est.labels_))\n",
        "\n",
        "for k in range(2, 11):\n",
        "  est = MiniBatchKMeans(n_clusters=k)\n",
        "  est.fit(x)\n",
        "  ss_mb.append(silhouette_score(x, est.labels_))\n",
        "  bd_mb.append(davies_bouldin_score(x, est.labels_))"
      ],
      "execution_count": null,
      "outputs": []
    },
    {
      "cell_type": "code",
      "metadata": {
        "id": "zPS2gPkfmfc8",
        "colab": {
          "base_uri": "https://localhost:8080/",
          "height": 1000
        },
        "outputId": "4e28dcf2-82fa-416d-ad14-98f324baff81"
      },
      "source": [
        "plt.figure(figsize=(10, 7))\n",
        "plt.plot(ss_kmeans, linewidth=2, color='blue')\n",
        "plt.plot(bd_kmeans, linewidth=2, color='green')\n",
        "plt.title('KMeans')\n",
        "plt.legend(['Silhoette Score', 'Davies Bouldin Score'], loc=1)\n",
        "plt.xlabel('Количество кластеров')\n",
        "\n",
        "points = [0, 1, 2, 3, 4, 5, 6, 7, 8]\n",
        "labels = ['2', '3', '4', '5', '6', '7', '8', '9', '10']\n",
        "plt.xticks(points, labels)\n",
        "\n",
        "plt.grid(True)\n",
        "plt.show()\n",
        "\n",
        "plt.figure(figsize=(10, 7))\n",
        "plt.plot(ss_agg, linewidth=2, color='blue')\n",
        "plt.plot(bd_agg, linewidth=2, color='green')\n",
        "plt.title('AgglomerativeClustering')\n",
        "plt.legend(['Silhoette Score', 'Davies Bouldin Score'], loc=1)\n",
        "plt.xlabel('Количество кластеров')\n",
        "\n",
        "plt.xticks(points, labels)\n",
        "\n",
        "plt.grid(True)\n",
        "plt.show()\n",
        "\n",
        "plt.figure(figsize=(10, 7))\n",
        "plt.plot(ss_mb, linewidth=2, color='blue')\n",
        "plt.plot(bd_mb, linewidth=2, color='green')\n",
        "plt.title('MiniBatchKMeans')\n",
        "plt.legend(['Silhoette Score', 'Davies Bouldin Score'], loc=1)\n",
        "plt.xlabel('Количество кластеров')\n",
        "\n",
        "plt.xticks(points, labels)\n",
        "\n",
        "plt.grid(True)\n",
        "plt.show()"
      ],
      "execution_count": null,
      "outputs": [
        {
          "output_type": "display_data",
          "data": {
            "text/plain": [
              "<Figure size 720x504 with 1 Axes>"
            ],
            "image/png": "[encoded data removed]"
          },
          "metadata": {
            "needs_background": "light"
          }
        },
        {
          "output_type": "display_data",
          "data": {
            "text/plain": [
              "<Figure size 720x504 with 1 Axes>"
            ],
            "image/png": "[encoded data removed]"
          },
          "metadata": {
            "needs_background": "light"
          }
        },
        {
          "output_type": "display_data",
          "data": {
            "text/plain": [
              "<Figure size 720x504 with 1 Axes>"
            ],
            "image/png": "[encoded data removed]"
          },
          "metadata": {
            "needs_background": "light"
          }
        }
      ]
    },
    {
      "cell_type": "code",
      "metadata": {
        "colab": {
          "base_uri": "https://localhost:8080/"
        },
        "id": "ur-jxsZbxJxW",
        "outputId": "72048a9b-4f7b-4bb1-bc6b-66a022f80a33"
      },
      "source": [
        "x = df_robust\n",
        "est = AgglomerativeClustering(n_clusters=3)\n",
        "est.fit(x)"
      ],
      "execution_count": null,
      "outputs": [
        {
          "output_type": "execute_result",
          "data": {
            "text/plain": [
              "AgglomerativeClustering(n_clusters=3)"
            ]
          },
          "metadata": {},
          "execution_count": 142
        }
      ]
    },
    {
      "cell_type": "code",
      "metadata": {
        "colab": {
          "base_uri": "https://localhost:8080/"
        },
        "id": "JxmFEP5uyptK",
        "outputId": "c688d492-04cc-4208-a0b3-5ef8eb9f0150"
      },
      "source": [
        "print('SS/DBS',\n",
        "      round(silhouette_score(x, est.labels_), 5),\n",
        "      '/',\n",
        "      round(davies_bouldin_score(x, est.labels_), 5))"
      ],
      "execution_count": null,
      "outputs": [
        {
          "output_type": "stream",
          "name": "stdout",
          "text": [
            "SS/DBS 0.44779 / 1.03731\n"
          ]
        }
      ]
    },
    {
      "cell_type": "code",
      "source": [
        "df.insert(1, \"newcol\", np.array(est.labels_))"
      ],
      "metadata": {
        "id": "AvALUg5aQMHy"
      },
      "execution_count": null,
      "outputs": []
    },
    {
      "cell_type": "code",
      "source": [
        "np.array(est.labels_)"
      ],
      "metadata": {
        "colab": {
          "base_uri": "https://localhost:8080/"
        },
        "id": "AXoF2GJPPWHb",
        "outputId": "2d69b32c-15b3-4a51-b932-9f07fdefd6ed"
      },
      "execution_count": null,
      "outputs": [
        {
          "output_type": "execute_result",
          "data": {
            "text/plain": [
              "array([0, 0, 0, 0, 0, 0, 2, 2, 0, 0, 0, 1, 0, 0, 0, 0, 0, 0, 0, 0, 0, 1,\n",
              "       0, 0, 0, 0, 0, 0, 0, 0, 1, 1, 0, 1, 0, 0, 0, 0, 0, 0, 0, 0, 0, 0,\n",
              "       0, 0, 0, 0, 0, 0, 0, 0, 0, 1, 0, 1, 0, 0, 0, 0, 0, 0, 1, 0, 0, 0,\n",
              "       0, 0, 0, 0, 0, 0, 1, 0, 0, 0, 0, 0, 0, 0, 0, 0, 0, 0, 0, 0, 0, 0,\n",
              "       1, 0, 0, 0, 0, 0, 2, 0, 0, 0, 0, 0, 0, 0, 0, 0, 0, 0, 0, 0, 0, 0,\n",
              "       0, 0, 0, 0, 1, 0, 0, 0, 0, 0, 0, 0, 0, 0, 0, 0, 0, 0, 0, 0, 0, 0,\n",
              "       1, 0, 0, 0, 0, 0, 2, 0, 0, 0, 0, 1, 0, 0, 0, 0, 0, 0, 0, 0, 0, 0,\n",
              "       0, 2, 0, 0, 0, 0, 0, 0, 0, 0, 0, 0, 0, 0, 0, 0, 0, 0, 0, 0, 1, 0,\n",
              "       0, 1, 0, 0, 0, 0, 0, 0, 0, 0, 0, 0, 0, 0, 0, 0, 2, 0, 0, 0, 0, 0,\n",
              "       0, 0, 0, 0, 0, 0, 0, 0, 0, 0, 1, 0, 0, 0, 0, 0, 0, 0, 0, 0, 0, 0,\n",
              "       0, 0, 0, 0, 0, 0, 0, 0, 2, 0, 0, 0, 0, 0, 0, 0, 0, 0, 0, 0, 0, 0,\n",
              "       0, 0, 0, 2, 0, 0, 0, 0, 0, 1, 0, 0, 0, 0, 0, 0, 1, 1, 0, 0, 0, 0,\n",
              "       0, 0, 0, 0, 0, 0, 0, 0, 0, 1, 2, 0, 0, 0, 0, 0, 0, 0, 1, 0, 0, 0,\n",
              "       0, 0, 0, 0, 0, 0, 0, 0, 0, 0, 0, 0, 0, 0, 0, 0, 0, 0, 0, 0, 1, 1,\n",
              "       0, 0, 0, 0, 1, 0, 1, 0, 0, 0, 0, 0, 0, 0, 0, 0, 0, 0, 0, 2, 0, 1,\n",
              "       0, 0, 1, 0, 0, 0, 0, 0, 0, 0])"
            ]
          },
          "metadata": {},
          "execution_count": 145
        }
      ]
    },
    {
      "cell_type": "code",
      "metadata": {
        "colab": {
          "base_uri": "https://localhost:8080/",
          "height": 331
        },
        "id": "3tHXSjesDwal",
        "outputId": "3cd31c07-1e16-4680-b414-9308fe735a07"
      },
      "source": [
        "labels = pd.DataFrame(est.labels_)\n",
        "labels.columns = ['cluster']\n",
        "df_clusters = pd.concat([df101, labels], axis=1)\n",
        "\n",
        "sns.countplot(df_clusters.cluster)"
      ],
      "execution_count": null,
      "outputs": [
        {
          "output_type": "stream",
          "name": "stderr",
          "text": [
            "/usr/local/lib/python3.7/dist-packages/seaborn/_decorators.py:43: FutureWarning: Pass the following variable as a keyword arg: x. From version 0.12, the only valid positional argument will be `data`, and passing other arguments without an explicit keyword will result in an error or misinterpretation.\n",
            "  FutureWarning\n"
          ]
        },
        {
          "output_type": "execute_result",
          "data": {
            "text/plain": [
              "<matplotlib.axes._subplots.AxesSubplot at 0x7f4e2a1cce10>"
            ]
          },
          "metadata": {},
          "execution_count": 146
        },
        {
          "output_type": "display_data",
          "data": {
            "text/plain": [
              "<Figure size 432x288 with 1 Axes>"
            ],
            "image/png": "[encoded data removed]"
          },
          "metadata": {
            "needs_background": "light"
          }
        }
      ]
    },
    {
      "cell_type": "code",
      "metadata": {
        "colab": {
          "base_uri": "https://localhost:8080/",
          "height": 1000
        },
        "id": "QdfHxxrqq56-",
        "outputId": "0ea6dc2d-52a5-4a1a-8a0c-bda9653bb4ca"
      },
      "source": [
        "from sklearn.manifold import *\n",
        "from sklearn.decomposition import PCA\n",
        "\n",
        "x = df_robust\n",
        "\n",
        "tsne = TSNE(n_components=2\n",
        "            ,random_state=22\n",
        "            ).fit_transform(x)\n",
        "\n",
        "pca = PCA().fit_transform(x)\n",
        "\n",
        "plt.figure(figsize=(20, 10))\n",
        "plt.subplot(121)\n",
        "plt.scatter(tsne[:, 0], tsne[:, 1], c=est.labels_)\n",
        "plt.title('TSNE')\n",
        "plt.grid(True)\n",
        "\n",
        "plt.figure(figsize=(20, 10))\n",
        "plt.subplot(122)\n",
        "plt.scatter(pca[:, 0], tsne[:, 1], c=est.labels_)\n",
        "plt.title('PCA')\n",
        "plt.grid(True)"
      ],
      "execution_count": null,
      "outputs": [
        {
          "output_type": "stream",
          "name": "stderr",
          "text": [
            "/usr/local/lib/python3.7/dist-packages/sklearn/manifold/_t_sne.py:783: FutureWarning: The default initialization in TSNE will change from 'random' to 'pca' in 1.2.\n",
            "  FutureWarning,\n",
            "/usr/local/lib/python3.7/dist-packages/sklearn/manifold/_t_sne.py:793: FutureWarning: The default learning rate in TSNE will change from 200.0 to 'auto' in 1.2.\n",
            "  FutureWarning,\n"
          ]
        },
        {
          "output_type": "display_data",
          "data": {
            "text/plain": [
              "<Figure size 1440x720 with 1 Axes>"
            ],
            "image/png": "[encoded data removed]"
          },
          "metadata": {
            "needs_background": "light"
          }
        },
        {
          "output_type": "display_data",
          "data": {
            "text/plain": [
              "<Figure size 1440x720 with 1 Axes>"
            ],
            "image/png": "[encoded data removed]"
          },
          "metadata": {
            "needs_background": "light"
          }
        }
      ]
    },
    {
      "cell_type": "code",
      "metadata": {
        "colab": {
          "base_uri": "https://localhost:8080/",
          "height": 624
        },
        "id": "68JLpU_G9qRQ",
        "outputId": "1c374e0d-af60-48bd-9c2b-009c8ff49edc"
      },
      "source": [
        "import numpy as np\n",
        "\n",
        "from matplotlib import pyplot as plt\n",
        "from scipy.cluster.hierarchy import dendrogram\n",
        "from sklearn.cluster import AgglomerativeClustering\n",
        "\n",
        "\n",
        "def plot_dendrogram(model, **kwargs):\n",
        "    # Create linkage matrix and then plot the dendrogram\n",
        "\n",
        "    # create the counts of samples under each node\n",
        "    counts = np.zeros(model.children_.shape[0])\n",
        "    n_samples = len(model.labels_)\n",
        "    for i, merge in enumerate(model.children_):\n",
        "        current_count = 0\n",
        "        for child_idx in merge:\n",
        "            if child_idx < n_samples:\n",
        "                current_count += 1  # leaf node\n",
        "            else:\n",
        "                current_count += counts[child_idx - n_samples]\n",
        "        counts[i] = current_count\n",
        "\n",
        "    linkage_matrix = np.column_stack([model.children_, model.distances_,\n",
        "                                      counts]).astype(float)\n",
        "\n",
        "    # Plot the corresponding dendrogram\n",
        "    dendrogram(linkage_matrix, **kwargs)\n",
        "\n",
        "# setting distance_threshold=0 ensures we compute the full tree.\n",
        "model = AgglomerativeClustering(distance_threshold=0, n_clusters=None)\n",
        "\n",
        "model = model.fit(df_maxabs)\n",
        "plt.figure(figsize=(30, 10))\n",
        "plt.title('Hierarchical Clustering Dendrogram')\n",
        "# plot the top three levels of the dendrogram\n",
        "plot_dendrogram(model, truncate_mode='level', p=5)\n",
        "plt.xlabel(\"Number of points in node (or index of point if no parenthesis).\")\n",
        "plt.show()"
      ],
      "execution_count": null,
      "outputs": [
        {
          "output_type": "display_data",
          "data": {
            "text/plain": [
              "<Figure size 2160x720 with 1 Axes>"
            ],
            "image/png": "[encoded data removed]"
          },
          "metadata": {
            "needs_background": "light"
          }
        }
      ]
    },
    {
      "cell_type": "code",
      "source": [
        "mend_df =  df.drop(columns = ['Unnamed: 0','first_name', 'last_name', 'home_town', 'city', 'status', 'site', 'city_new'])"
      ],
      "metadata": {
        "id": "XqEb3kDxKO2G"
      },
      "execution_count": null,
      "outputs": []
    },
    {
      "cell_type": "code",
      "source": [
        "mend_df = mend_df.groupby('newcol').mean()\n",
        "mend_df"
      ],
      "metadata": {
        "colab": {
          "base_uri": "https://localhost:8080/",
          "height": 175
        },
        "id": "PoJGZ2idGj6l",
        "outputId": "3ba32bf0-3ab6-4eb4-84da-1d0adf74fbd6"
      },
      "execution_count": null,
      "outputs": [
        {
          "output_type": "execute_result",
          "data": {
            "text/plain": [
              "                id       sex  followers_count  is_closed  can_access_closed  \\\n",
              "newcol                                                                        \n",
              "0       167.052805  0.429043        73.953795   0.260726           0.739274   \n",
              "1       201.222222  0.777778        80.888889   0.148148           0.851852   \n",
              "2       158.000000  0.300000        80.200000   0.000000           1.000000   \n",
              "\n",
              "        can_see_audio  can_post  can_write_private_message  can_see_all_posts  \\\n",
              "newcol                                                                          \n",
              "0            0.260726  0.056106                   0.623762           0.283828   \n",
              "1            0.370370  0.148148                   0.629630           0.407407   \n",
              "2            0.300000  0.100000                   0.600000           0.400000   \n",
              "\n",
              "        relation  occupation  wall_default        age  \n",
              "newcol                                                 \n",
              "0       0.293729   31.495050      0.755776   7.702970  \n",
              "1       0.148148   18.481481      0.740741  13.666667  \n",
              "2       2.000000   21.100000      0.900000   7.700000  "
            ],
            "text/html": [
              "\n",
              "  <div id=\"df-51239578-1bf7-46bd-9bea-7f07f6587fb5\">\n",
              "    <div class=\"colab-df-container\">\n",
              "      <div>\n",
              "<style scoped>\n",
              "    .dataframe tbody tr th:only-of-type {\n",
              "        vertical-align: middle;\n",
              "    }\n",
              "\n",
              "    .dataframe tbody tr th {\n",
              "        vertical-align: top;\n",
              "    }\n",
              "\n",
              "    .dataframe thead th {\n",
              "        text-align: right;\n",
              "    }\n",
              "</style>\n",
              "<table border=\"1\" class=\"dataframe\">\n",
              "  <thead>\n",
              "    <tr style=\"text-align: right;\">\n",
              "      <th></th>\n",
              "      <th>id</th>\n",
              "      <th>sex</th>\n",
              "      <th>followers_count</th>\n",
              "      <th>is_closed</th>\n",
              "      <th>can_access_closed</th>\n",
              "      <th>can_see_audio</th>\n",
              "      <th>can_post</th>\n",
              "      <th>can_write_private_message</th>\n",
              "      <th>can_see_all_posts</th>\n",
              "      <th>relation</th>\n",
              "      <th>occupation</th>\n",
              "      <th>wall_default</th>\n",
              "      <th>age</th>\n",
              "    </tr>\n",
              "    <tr>\n",
              "      <th>newcol</th>\n",
              "      <th></th>\n",
              "      <th></th>\n",
              "      <th></th>\n",
              "      <th></th>\n",
              "      <th></th>\n",
              "      <th></th>\n",
              "      <th></th>\n",
              "      <th></th>\n",
              "      <th></th>\n",
              "      <th></th>\n",
              "      <th></th>\n",
              "      <th></th>\n",
              "      <th></th>\n",
              "    </tr>\n",
              "  </thead>\n",
              "  <tbody>\n",
              "    <tr>\n",
              "      <th>0</th>\n",
              "      <td>167.052805</td>\n",
              "      <td>0.429043</td>\n",
              "      <td>73.953795</td>\n",
              "      <td>0.260726</td>\n",
              "      <td>0.739274</td>\n",
              "      <td>0.260726</td>\n",
              "      <td>0.056106</td>\n",
              "      <td>0.623762</td>\n",
              "      <td>0.283828</td>\n",
              "      <td>0.293729</td>\n",
              "      <td>31.495050</td>\n",
              "      <td>0.755776</td>\n",
              "      <td>7.702970</td>\n",
              "    </tr>\n",
              "    <tr>\n",
              "      <th>1</th>\n",
              "      <td>201.222222</td>\n",
              "      <td>0.777778</td>\n",
              "      <td>80.888889</td>\n",
              "      <td>0.148148</td>\n",
              "      <td>0.851852</td>\n",
              "      <td>0.370370</td>\n",
              "      <td>0.148148</td>\n",
              "      <td>0.629630</td>\n",
              "      <td>0.407407</td>\n",
              "      <td>0.148148</td>\n",
              "      <td>18.481481</td>\n",
              "      <td>0.740741</td>\n",
              "      <td>13.666667</td>\n",
              "    </tr>\n",
              "    <tr>\n",
              "      <th>2</th>\n",
              "      <td>158.000000</td>\n",
              "      <td>0.300000</td>\n",
              "      <td>80.200000</td>\n",
              "      <td>0.000000</td>\n",
              "      <td>1.000000</td>\n",
              "      <td>0.300000</td>\n",
              "      <td>0.100000</td>\n",
              "      <td>0.600000</td>\n",
              "      <td>0.400000</td>\n",
              "      <td>2.000000</td>\n",
              "      <td>21.100000</td>\n",
              "      <td>0.900000</td>\n",
              "      <td>7.700000</td>\n",
              "    </tr>\n",
              "  </tbody>\n",
              "</table>\n",
              "</div>\n",
              "      <button class=\"colab-df-convert\" onclick=\"convertToInteractive('df-51239578-1bf7-46bd-9bea-7f07f6587fb5')\"\n",
              "              title=\"Convert this dataframe to an interactive table.\"\n",
              "              style=\"display:none;\">\n",
              "        \n",
              "  <svg xmlns=\"http://www.w3.org/2000/svg\" height=\"24px\"viewBox=\"0 0 24 24\"\n",
              "       width=\"24px\">\n",
              "    <path d=\"M0 0h24v24H0V0z\" fill=\"none\"/>\n",
              "    <path d=\"M18.56 5.44l.94 2.06.94-2.06 2.06-.94-2.06-.94-.94-2.06-.94 2.06-2.06.94zm-11 1L8.5 8.5l.94-2.06 2.06-.94-2.06-.94L8.5 2.5l-.94 2.06-2.06.94zm10 10l.94 2.06.94-2.06 2.06-.94-2.06-.94-.94-2.06-.94 2.06-2.06.94z\"/><path d=\"M17.41 7.96l-1.37-1.37c-.4-.4-.92-.59-1.43-.59-.52 0-1.04.2-1.43.59L10.3 9.45l-7.72 7.72c-.78.78-.78 2.05 0 2.83L4 21.41c.39.39.9.59 1.41.59.51 0 1.02-.2 1.41-.59l7.78-7.78 2.81-2.81c.8-.78.8-2.07 0-2.86zM5.41 20L4 18.59l7.72-7.72 1.47 1.35L5.41 20z\"/>\n",
              "  </svg>\n",
              "      </button>\n",
              "      \n",
              "  <style>\n",
              "    .colab-df-container {\n",
              "      display:flex;\n",
              "      flex-wrap:wrap;\n",
              "      gap: 12px;\n",
              "    }\n",
              "\n",
              "    .colab-df-convert {\n",
              "      background-color: #E8F0FE;\n",
              "      border: none;\n",
              "      border-radius: 50%;\n",
              "      cursor: pointer;\n",
              "      display: none;\n",
              "      fill: #1967D2;\n",
              "      height: 32px;\n",
              "      padding: 0 0 0 0;\n",
              "      width: 32px;\n",
              "    }\n",
              "\n",
              "    .colab-df-convert:hover {\n",
              "      background-color: #E2EBFA;\n",
              "      box-shadow: 0px 1px 2px rgba(60, 64, 67, 0.3), 0px 1px 3px 1px rgba(60, 64, 67, 0.15);\n",
              "      fill: #174EA6;\n",
              "    }\n",
              "\n",
              "    [theme=dark] .colab-df-convert {\n",
              "      background-color: #3B4455;\n",
              "      fill: #D2E3FC;\n",
              "    }\n",
              "\n",
              "    [theme=dark] .colab-df-convert:hover {\n",
              "      background-color: #434B5C;\n",
              "      box-shadow: 0px 1px 3px 1px rgba(0, 0, 0, 0.15);\n",
              "      filter: drop-shadow(0px 1px 2px rgba(0, 0, 0, 0.3));\n",
              "      fill: #FFFFFF;\n",
              "    }\n",
              "  </style>\n",
              "\n",
              "      <script>\n",
              "        const buttonEl =\n",
              "          document.querySelector('#df-51239578-1bf7-46bd-9bea-7f07f6587fb5 button.colab-df-convert');\n",
              "        buttonEl.style.display =\n",
              "          google.colab.kernel.accessAllowed ? 'block' : 'none';\n",
              "\n",
              "        async function convertToInteractive(key) {\n",
              "          const element = document.querySelector('#df-51239578-1bf7-46bd-9bea-7f07f6587fb5');\n",
              "          const dataTable =\n",
              "            await google.colab.kernel.invokeFunction('convertToInteractive',\n",
              "                                                     [key], {});\n",
              "          if (!dataTable) return;\n",
              "\n",
              "          const docLinkHtml = 'Like what you see? Visit the ' +\n",
              "            '<a target=\"_blank\" href=https://colab.research.google.com/notebooks/data_table.ipynb>data table notebook</a>'\n",
              "            + ' to learn more about interactive tables.';\n",
              "          element.innerHTML = '';\n",
              "          dataTable['output_type'] = 'display_data';\n",
              "          await google.colab.output.renderOutput(dataTable, element);\n",
              "          const docLink = document.createElement('div');\n",
              "          docLink.innerHTML = docLinkHtml;\n",
              "          element.appendChild(docLink);\n",
              "        }\n",
              "      </script>\n",
              "    </div>\n",
              "  </div>\n",
              "  "
            ]
          },
          "metadata": {},
          "execution_count": 150
        }
      ]
    },
    {
      "cell_type": "markdown",
      "source": [
        "* Cluster 1  - almost everyone has different privacy activation settings, we offer them the use of tools to reduce the digital footprint, for example, VPN\n",
        "- 1 кластер - почти у всех стоят различные настройки активации приватности,\n",
        "предлагаем им использование средств для уменьшения цифрового следа, например, VPN\n",
        "* Cluster 2  - users with early registration, active Internet users, \"prosy\", we offer them new interesting IT projects (crypta, nft)\n",
        "- 2 кластер - пользователи с ранней регистрацией, активные пользователи Интернета, \"прошаренные\", предлагаем им новый интересные айти-проекты (крипта, nft)\n",
        "* Cluster 3 - most subscribers, active users of the social network, we offer services to promote their account on the social network\n",
        "- 3 кластер - больше всего подписчиков, активные пользователи социальной сети, предлагаем услуги по продвижению их аккаунта в социальной сети\n"
      ],
      "metadata": {
        "id": "Y_f9WJpJRO9i"
      }
    },
    {
      "cell_type": "code",
      "source": [
        "df_le.insert(1, \"newcol\", np.array(est.labels_))"
      ],
      "metadata": {
        "id": "TAwP-7oZbyZX"
      },
      "execution_count": null,
      "outputs": []
    },
    {
      "cell_type": "code",
      "source": [
        "df_le"
      ],
      "metadata": {
        "colab": {
          "base_uri": "https://localhost:8080/",
          "height": 424
        },
        "id": "U1Vdx1vvcAUi",
        "outputId": "5cf4eda6-b192-4086-f32b-55db3cc12ebc"
      },
      "execution_count": null,
      "outputs": [
        {
          "output_type": "execute_result",
          "data": {
            "text/plain": [
              "     Unnamed: 0  newcol first_name    last_name         id  sex home_town  \\\n",
              "0             0       0    Nikolay     Babichev    2132738    2    Другой   \n",
              "1             1       0     Nikita    Kislyakov    3491909    2    Другой   \n",
              "2             2       0      Devid  Shaforostov    8071379    2   Барнаул   \n",
              "3             3       0   Vladimir      Belokon   18417226    2    Другой   \n",
              "4             4       0      Irina      Turkina   19808197    1    Другой   \n",
              "..          ...     ...        ...          ...        ...  ...       ...   \n",
              "354         354       0     Leonid    Griboedov  603579266    2    Другой   \n",
              "356         356       0      Darya    Galenzina  630595799    1    Tyumen   \n",
              "357         357       0     German   Saul-Aaron  641743403    2   Барнаул   \n",
              "358         358       0     Alexey      Tovarka  735775879    2   Барнаул   \n",
              "359         359       0  Alexandra   Kucherenko  737077015    1    Другой   \n",
              "\n",
              "     followers_count  is_closed  can_access_closed  ...  can_post  \\\n",
              "0                  0          1                0.0  ...         0   \n",
              "1               2300          0                1.0  ...         0   \n",
              "2                192          0                1.0  ...         0   \n",
              "3                  0          1                0.0  ...         0   \n",
              "4                802          0                1.0  ...         0   \n",
              "..               ...        ...                ...  ...       ...   \n",
              "354                0          1                0.0  ...         0   \n",
              "356              381          0                1.0  ...         0   \n",
              "357               34          0                1.0  ...         0   \n",
              "358                4          0                1.0  ...         0   \n",
              "359                0          1                0.0  ...         0   \n",
              "\n",
              "    can_write_private_message  can_see_all_posts  status  relation  \\\n",
              "0                           0                  0       0       0.0   \n",
              "1                           0                  0       1       0.0   \n",
              "2                           1                  0       1       0.0   \n",
              "3                           0                  0       1       0.0   \n",
              "4                           0                  0       0       0.0   \n",
              "..                        ...                ...     ...       ...   \n",
              "354                         1                  0       1       0.0   \n",
              "356                         1                  1       1       0.0   \n",
              "357                         1                  1       1       4.0   \n",
              "358                         1                  1       1       0.0   \n",
              "359                         1                  0       1       0.0   \n",
              "\n",
              "                                            occupation  site wall_default  \\\n",
              "0                                                  NaN     0            0   \n",
              "1    {'id': 28915774, 'name': 'ОТС-Горсайт', 'type'...     0            1   \n",
              "2                                                  NaN     0            0   \n",
              "3    {'id': 155911724, 'name': '#HOMEDVIJ #24:01', ...     0            1   \n",
              "4    {'id': 381, 'name': 'АлтГУ', 'type': 'universi...     0            1   \n",
              "..                                                 ...   ...          ...   \n",
              "354  {'id': 1168353, 'name': 'NU (УН, бывш. НЧУ, NO...     0            1   \n",
              "356  {'id': 211522176, 'name': 'Vibe.art.d', 'type'...     0            1   \n",
              "357  {'id': 51766, 'name': 'Школа № 125', 'type': '...     1            1   \n",
              "358  {'id': 214066682, 'name': 'BAGS SHOP|МАГАЗИН Б...     0            1   \n",
              "359  {'id': 209642569, 'name': 'aogiri', 'type': 'w...     0            1   \n",
              "\n",
              "      age     city_new  \n",
              "0    23.0  Novosibirsk  \n",
              "1    23.0      Barnaul  \n",
              "2    23.0      Barnaul  \n",
              "3    23.0      Barnaul  \n",
              "4    23.0      Barnaul  \n",
              "..    ...          ...  \n",
              "354  21.0            0  \n",
              "356  25.0            0  \n",
              "357  19.0            0  \n",
              "358  23.0            0  \n",
              "359  17.0            0  \n",
              "\n",
              "[340 rows x 22 columns]"
            ],
            "text/html": [
              "\n",
              "  <div id=\"df-4945ceef-4591-4842-8ee5-8054375e62a1\">\n",
              "    <div class=\"colab-df-container\">\n",
              "      <div>\n",
              "<style scoped>\n",
              "    .dataframe tbody tr th:only-of-type {\n",
              "        vertical-align: middle;\n",
              "    }\n",
              "\n",
              "    .dataframe tbody tr th {\n",
              "        vertical-align: top;\n",
              "    }\n",
              "\n",
              "    .dataframe thead th {\n",
              "        text-align: right;\n",
              "    }\n",
              "</style>\n",
              "<table border=\"1\" class=\"dataframe\">\n",
              "  <thead>\n",
              "    <tr style=\"text-align: right;\">\n",
              "      <th></th>\n",
              "      <th>Unnamed: 0</th>\n",
              "      <th>newcol</th>\n",
              "      <th>first_name</th>\n",
              "      <th>last_name</th>\n",
              "      <th>id</th>\n",
              "      <th>sex</th>\n",
              "      <th>home_town</th>\n",
              "      <th>followers_count</th>\n",
              "      <th>is_closed</th>\n",
              "      <th>can_access_closed</th>\n",
              "      <th>...</th>\n",
              "      <th>can_post</th>\n",
              "      <th>can_write_private_message</th>\n",
              "      <th>can_see_all_posts</th>\n",
              "      <th>status</th>\n",
              "      <th>relation</th>\n",
              "      <th>occupation</th>\n",
              "      <th>site</th>\n",
              "      <th>wall_default</th>\n",
              "      <th>age</th>\n",
              "      <th>city_new</th>\n",
              "    </tr>\n",
              "  </thead>\n",
              "  <tbody>\n",
              "    <tr>\n",
              "      <th>0</th>\n",
              "      <td>0</td>\n",
              "      <td>0</td>\n",
              "      <td>Nikolay</td>\n",
              "      <td>Babichev</td>\n",
              "      <td>2132738</td>\n",
              "      <td>2</td>\n",
              "      <td>Другой</td>\n",
              "      <td>0</td>\n",
              "      <td>1</td>\n",
              "      <td>0.0</td>\n",
              "      <td>...</td>\n",
              "      <td>0</td>\n",
              "      <td>0</td>\n",
              "      <td>0</td>\n",
              "      <td>0</td>\n",
              "      <td>0.0</td>\n",
              "      <td>NaN</td>\n",
              "      <td>0</td>\n",
              "      <td>0</td>\n",
              "      <td>23.0</td>\n",
              "      <td>Novosibirsk</td>\n",
              "    </tr>\n",
              "    <tr>\n",
              "      <th>1</th>\n",
              "      <td>1</td>\n",
              "      <td>0</td>\n",
              "      <td>Nikita</td>\n",
              "      <td>Kislyakov</td>\n",
              "      <td>3491909</td>\n",
              "      <td>2</td>\n",
              "      <td>Другой</td>\n",
              "      <td>2300</td>\n",
              "      <td>0</td>\n",
              "      <td>1.0</td>\n",
              "      <td>...</td>\n",
              "      <td>0</td>\n",
              "      <td>0</td>\n",
              "      <td>0</td>\n",
              "      <td>1</td>\n",
              "      <td>0.0</td>\n",
              "      <td>{'id': 28915774, 'name': 'ОТС-Горсайт', 'type'...</td>\n",
              "      <td>0</td>\n",
              "      <td>1</td>\n",
              "      <td>23.0</td>\n",
              "      <td>Barnaul</td>\n",
              "    </tr>\n",
              "    <tr>\n",
              "      <th>2</th>\n",
              "      <td>2</td>\n",
              "      <td>0</td>\n",
              "      <td>Devid</td>\n",
              "      <td>Shaforostov</td>\n",
              "      <td>8071379</td>\n",
              "      <td>2</td>\n",
              "      <td>Барнаул</td>\n",
              "      <td>192</td>\n",
              "      <td>0</td>\n",
              "      <td>1.0</td>\n",
              "      <td>...</td>\n",
              "      <td>0</td>\n",
              "      <td>1</td>\n",
              "      <td>0</td>\n",
              "      <td>1</td>\n",
              "      <td>0.0</td>\n",
              "      <td>NaN</td>\n",
              "      <td>0</td>\n",
              "      <td>0</td>\n",
              "      <td>23.0</td>\n",
              "      <td>Barnaul</td>\n",
              "    </tr>\n",
              "    <tr>\n",
              "      <th>3</th>\n",
              "      <td>3</td>\n",
              "      <td>0</td>\n",
              "      <td>Vladimir</td>\n",
              "      <td>Belokon</td>\n",
              "      <td>18417226</td>\n",
              "      <td>2</td>\n",
              "      <td>Другой</td>\n",
              "      <td>0</td>\n",
              "      <td>1</td>\n",
              "      <td>0.0</td>\n",
              "      <td>...</td>\n",
              "      <td>0</td>\n",
              "      <td>0</td>\n",
              "      <td>0</td>\n",
              "      <td>1</td>\n",
              "      <td>0.0</td>\n",
              "      <td>{'id': 155911724, 'name': '#HOMEDVIJ #24:01', ...</td>\n",
              "      <td>0</td>\n",
              "      <td>1</td>\n",
              "      <td>23.0</td>\n",
              "      <td>Barnaul</td>\n",
              "    </tr>\n",
              "    <tr>\n",
              "      <th>4</th>\n",
              "      <td>4</td>\n",
              "      <td>0</td>\n",
              "      <td>Irina</td>\n",
              "      <td>Turkina</td>\n",
              "      <td>19808197</td>\n",
              "      <td>1</td>\n",
              "      <td>Другой</td>\n",
              "      <td>802</td>\n",
              "      <td>0</td>\n",
              "      <td>1.0</td>\n",
              "      <td>...</td>\n",
              "      <td>0</td>\n",
              "      <td>0</td>\n",
              "      <td>0</td>\n",
              "      <td>0</td>\n",
              "      <td>0.0</td>\n",
              "      <td>{'id': 381, 'name': 'АлтГУ', 'type': 'universi...</td>\n",
              "      <td>0</td>\n",
              "      <td>1</td>\n",
              "      <td>23.0</td>\n",
              "      <td>Barnaul</td>\n",
              "    </tr>\n",
              "    <tr>\n",
              "      <th>...</th>\n",
              "      <td>...</td>\n",
              "      <td>...</td>\n",
              "      <td>...</td>\n",
              "      <td>...</td>\n",
              "      <td>...</td>\n",
              "      <td>...</td>\n",
              "      <td>...</td>\n",
              "      <td>...</td>\n",
              "      <td>...</td>\n",
              "      <td>...</td>\n",
              "      <td>...</td>\n",
              "      <td>...</td>\n",
              "      <td>...</td>\n",
              "      <td>...</td>\n",
              "      <td>...</td>\n",
              "      <td>...</td>\n",
              "      <td>...</td>\n",
              "      <td>...</td>\n",
              "      <td>...</td>\n",
              "      <td>...</td>\n",
              "      <td>...</td>\n",
              "    </tr>\n",
              "    <tr>\n",
              "      <th>354</th>\n",
              "      <td>354</td>\n",
              "      <td>0</td>\n",
              "      <td>Leonid</td>\n",
              "      <td>Griboedov</td>\n",
              "      <td>603579266</td>\n",
              "      <td>2</td>\n",
              "      <td>Другой</td>\n",
              "      <td>0</td>\n",
              "      <td>1</td>\n",
              "      <td>0.0</td>\n",
              "      <td>...</td>\n",
              "      <td>0</td>\n",
              "      <td>1</td>\n",
              "      <td>0</td>\n",
              "      <td>1</td>\n",
              "      <td>0.0</td>\n",
              "      <td>{'id': 1168353, 'name': 'NU (УН, бывш. НЧУ, NO...</td>\n",
              "      <td>0</td>\n",
              "      <td>1</td>\n",
              "      <td>21.0</td>\n",
              "      <td>0</td>\n",
              "    </tr>\n",
              "    <tr>\n",
              "      <th>356</th>\n",
              "      <td>356</td>\n",
              "      <td>0</td>\n",
              "      <td>Darya</td>\n",
              "      <td>Galenzina</td>\n",
              "      <td>630595799</td>\n",
              "      <td>1</td>\n",
              "      <td>Tyumen</td>\n",
              "      <td>381</td>\n",
              "      <td>0</td>\n",
              "      <td>1.0</td>\n",
              "      <td>...</td>\n",
              "      <td>0</td>\n",
              "      <td>1</td>\n",
              "      <td>1</td>\n",
              "      <td>1</td>\n",
              "      <td>0.0</td>\n",
              "      <td>{'id': 211522176, 'name': 'Vibe.art.d', 'type'...</td>\n",
              "      <td>0</td>\n",
              "      <td>1</td>\n",
              "      <td>25.0</td>\n",
              "      <td>0</td>\n",
              "    </tr>\n",
              "    <tr>\n",
              "      <th>357</th>\n",
              "      <td>357</td>\n",
              "      <td>0</td>\n",
              "      <td>German</td>\n",
              "      <td>Saul-Aaron</td>\n",
              "      <td>641743403</td>\n",
              "      <td>2</td>\n",
              "      <td>Барнаул</td>\n",
              "      <td>34</td>\n",
              "      <td>0</td>\n",
              "      <td>1.0</td>\n",
              "      <td>...</td>\n",
              "      <td>0</td>\n",
              "      <td>1</td>\n",
              "      <td>1</td>\n",
              "      <td>1</td>\n",
              "      <td>4.0</td>\n",
              "      <td>{'id': 51766, 'name': 'Школа № 125', 'type': '...</td>\n",
              "      <td>1</td>\n",
              "      <td>1</td>\n",
              "      <td>19.0</td>\n",
              "      <td>0</td>\n",
              "    </tr>\n",
              "    <tr>\n",
              "      <th>358</th>\n",
              "      <td>358</td>\n",
              "      <td>0</td>\n",
              "      <td>Alexey</td>\n",
              "      <td>Tovarka</td>\n",
              "      <td>735775879</td>\n",
              "      <td>2</td>\n",
              "      <td>Барнаул</td>\n",
              "      <td>4</td>\n",
              "      <td>0</td>\n",
              "      <td>1.0</td>\n",
              "      <td>...</td>\n",
              "      <td>0</td>\n",
              "      <td>1</td>\n",
              "      <td>1</td>\n",
              "      <td>1</td>\n",
              "      <td>0.0</td>\n",
              "      <td>{'id': 214066682, 'name': 'BAGS SHOP|МАГАЗИН Б...</td>\n",
              "      <td>0</td>\n",
              "      <td>1</td>\n",
              "      <td>23.0</td>\n",
              "      <td>0</td>\n",
              "    </tr>\n",
              "    <tr>\n",
              "      <th>359</th>\n",
              "      <td>359</td>\n",
              "      <td>0</td>\n",
              "      <td>Alexandra</td>\n",
              "      <td>Kucherenko</td>\n",
              "      <td>737077015</td>\n",
              "      <td>1</td>\n",
              "      <td>Другой</td>\n",
              "      <td>0</td>\n",
              "      <td>1</td>\n",
              "      <td>0.0</td>\n",
              "      <td>...</td>\n",
              "      <td>0</td>\n",
              "      <td>1</td>\n",
              "      <td>0</td>\n",
              "      <td>1</td>\n",
              "      <td>0.0</td>\n",
              "      <td>{'id': 209642569, 'name': 'aogiri', 'type': 'w...</td>\n",
              "      <td>0</td>\n",
              "      <td>1</td>\n",
              "      <td>17.0</td>\n",
              "      <td>0</td>\n",
              "    </tr>\n",
              "  </tbody>\n",
              "</table>\n",
              "<p>340 rows × 22 columns</p>\n",
              "</div>\n",
              "      <button class=\"colab-df-convert\" onclick=\"convertToInteractive('df-4945ceef-4591-4842-8ee5-8054375e62a1')\"\n",
              "              title=\"Convert this dataframe to an interactive table.\"\n",
              "              style=\"display:none;\">\n",
              "        \n",
              "  <svg xmlns=\"http://www.w3.org/2000/svg\" height=\"24px\"viewBox=\"0 0 24 24\"\n",
              "       width=\"24px\">\n",
              "    <path d=\"M0 0h24v24H0V0z\" fill=\"none\"/>\n",
              "    <path d=\"M18.56 5.44l.94 2.06.94-2.06 2.06-.94-2.06-.94-.94-2.06-.94 2.06-2.06.94zm-11 1L8.5 8.5l.94-2.06 2.06-.94-2.06-.94L8.5 2.5l-.94 2.06-2.06.94zm10 10l.94 2.06.94-2.06 2.06-.94-2.06-.94-.94-2.06-.94 2.06-2.06.94z\"/><path d=\"M17.41 7.96l-1.37-1.37c-.4-.4-.92-.59-1.43-.59-.52 0-1.04.2-1.43.59L10.3 9.45l-7.72 7.72c-.78.78-.78 2.05 0 2.83L4 21.41c.39.39.9.59 1.41.59.51 0 1.02-.2 1.41-.59l7.78-7.78 2.81-2.81c.8-.78.8-2.07 0-2.86zM5.41 20L4 18.59l7.72-7.72 1.47 1.35L5.41 20z\"/>\n",
              "  </svg>\n",
              "      </button>\n",
              "      \n",
              "  <style>\n",
              "    .colab-df-container {\n",
              "      display:flex;\n",
              "      flex-wrap:wrap;\n",
              "      gap: 12px;\n",
              "    }\n",
              "\n",
              "    .colab-df-convert {\n",
              "      background-color: #E8F0FE;\n",
              "      border: none;\n",
              "      border-radius: 50%;\n",
              "      cursor: pointer;\n",
              "      display: none;\n",
              "      fill: #1967D2;\n",
              "      height: 32px;\n",
              "      padding: 0 0 0 0;\n",
              "      width: 32px;\n",
              "    }\n",
              "\n",
              "    .colab-df-convert:hover {\n",
              "      background-color: #E2EBFA;\n",
              "      box-shadow: 0px 1px 2px rgba(60, 64, 67, 0.3), 0px 1px 3px 1px rgba(60, 64, 67, 0.15);\n",
              "      fill: #174EA6;\n",
              "    }\n",
              "\n",
              "    [theme=dark] .colab-df-convert {\n",
              "      background-color: #3B4455;\n",
              "      fill: #D2E3FC;\n",
              "    }\n",
              "\n",
              "    [theme=dark] .colab-df-convert:hover {\n",
              "      background-color: #434B5C;\n",
              "      box-shadow: 0px 1px 3px 1px rgba(0, 0, 0, 0.15);\n",
              "      filter: drop-shadow(0px 1px 2px rgba(0, 0, 0, 0.3));\n",
              "      fill: #FFFFFF;\n",
              "    }\n",
              "  </style>\n",
              "\n",
              "      <script>\n",
              "        const buttonEl =\n",
              "          document.querySelector('#df-4945ceef-4591-4842-8ee5-8054375e62a1 button.colab-df-convert');\n",
              "        buttonEl.style.display =\n",
              "          google.colab.kernel.accessAllowed ? 'block' : 'none';\n",
              "\n",
              "        async function convertToInteractive(key) {\n",
              "          const element = document.querySelector('#df-4945ceef-4591-4842-8ee5-8054375e62a1');\n",
              "          const dataTable =\n",
              "            await google.colab.kernel.invokeFunction('convertToInteractive',\n",
              "                                                     [key], {});\n",
              "          if (!dataTable) return;\n",
              "\n",
              "          const docLinkHtml = 'Like what you see? Visit the ' +\n",
              "            '<a target=\"_blank\" href=https://colab.research.google.com/notebooks/data_table.ipynb>data table notebook</a>'\n",
              "            + ' to learn more about interactive tables.';\n",
              "          element.innerHTML = '';\n",
              "          dataTable['output_type'] = 'display_data';\n",
              "          await google.colab.output.renderOutput(dataTable, element);\n",
              "          const docLink = document.createElement('div');\n",
              "          docLink.innerHTML = docLinkHtml;\n",
              "          element.appendChild(docLink);\n",
              "        }\n",
              "      </script>\n",
              "    </div>\n",
              "  </div>\n",
              "  "
            ]
          },
          "metadata": {},
          "execution_count": 152
        }
      ]
    },
    {
      "cell_type": "code",
      "source": [
        "import ipywidgets as widgets"
      ],
      "metadata": {
        "id": "J4_4Nr8uZE6b"
      },
      "execution_count": null,
      "outputs": []
    },
    {
      "cell_type": "code",
      "source": [
        "clusters={}\n",
        "clusters[\"Невидимки\"] = df_le[df_le[\"newcol\"] == 0]\n",
        "clusters[\"Прошаренные\"]=df_le[df_le[\"newcol\"] == 1]\n",
        "clusters[\"Активные\"]=df_le[df_le[\"newcol\"] == 2]"
      ],
      "metadata": {
        "id": "j0m-fxKeZaKx"
      },
      "execution_count": null,
      "outputs": []
    },
    {
      "cell_type": "code",
      "source": [
        "cluster=widgets.Dropdown(\n",
        "    options=clusters.keys(),\n",
        "    value=list(clusters.keys())[0],\n",
        "    description = \"Кластер\"\n",
        ")\n",
        "knopka=widgets.Button(description='Сформировать список id')\n",
        "def kk(a):\n",
        "  t=clusters[cluster.value]\n",
        "  print(df_le[[\"id\",\"first_name\", \"last_name\"]])\n",
        "  print(list(t.index))\n",
        "  print()\n",
        "knopka.on_click(kk)\n",
        "m=[cluster, knopka]\n",
        "widgets.VBox(children=m)"
      ],
      "metadata": {
        "colab": {
          "base_uri": "https://localhost:8080/",
          "height": 359,
          "referenced_widgets": [
            "4ebc5018a8e34e8d9dd5d1adf5177765",
            "172e389c94474813a226e1be70179ea4",
            "6c3a48a0438d48efac80ab48a478b1fc",
            "1be55450ffcf4a15b32ea51bca4c7ac3",
            "1f05b61e1943425ba465c5bd3478ee88",
            "b7c12d9de86f49799f429823a6dc24ea",
            "f73892ecc15641eea5647852e88a4d86",
            "02c635e4ff8447a7bde114962266bc60"
          ]
        },
        "id": "UMvskwKrZFML",
        "outputId": "d8e3225f-8f10-4265-bc5c-3830b845655d"
      },
      "execution_count": null,
      "outputs": [
        {
          "output_type": "display_data",
          "data": {
            "text/plain": [
              "VBox(children=(Dropdown(description='Кластер', options=('Невидимки', 'Прошаренные', 'Активные'), value='Невиди…"
            ],
            "application/vnd.jupyter.widget-view+json": {
              "version_major": 2,
              "version_minor": 0,
              "model_id": "4ebc5018a8e34e8d9dd5d1adf5177765"
            }
          },
          "metadata": {}
        },
        {
          "output_type": "stream",
          "name": "stdout",
          "text": [
            "            id first_name    last_name\n",
            "0      2132738    Nikolay     Babichev\n",
            "1      3491909     Nikita    Kislyakov\n",
            "2      8071379      Devid  Shaforostov\n",
            "3     18417226   Vladimir      Belokon\n",
            "4     19808197      Irina      Turkina\n",
            "..         ...        ...          ...\n",
            "354  603579266     Leonid    Griboedov\n",
            "356  630595799      Darya    Galenzina\n",
            "357  641743403     German   Saul-Aaron\n",
            "358  735775879     Alexey      Tovarka\n",
            "359  737077015  Alexandra   Kucherenko\n",
            "\n",
            "[340 rows x 3 columns]\n",
            "[6, 7, 96, 142, 161, 198, 238, 256, 285, 346]\n",
            "\n"
          ]
        }
      ]
    }
  ]
}