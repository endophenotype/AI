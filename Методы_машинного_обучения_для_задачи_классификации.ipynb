{
  "nbformat": 4,
  "nbformat_minor": 0,
  "metadata": {
    "colab": {
      "provenance": [],
      "authorship_tag": "ABX9TyPNQwFsq4dHrvCTCld3SpbF"
    },
    "kernelspec": {
      "name": "python3",
      "display_name": "Python 3"
    },
    "language_info": {
      "name": "python"
    }
  },
  "cells": [
    {
      "cell_type": "code",
      "execution_count": null,
      "metadata": {
        "id": "ct7hB5OlgBRl"
      },
      "outputs": [],
      "source": [
        "# Загрузка Библиотек\n",
        "import pandas as pd\n",
        "import numpy as np\n",
        "import matplotlib.pyplot as plt\n",
        "import seaborn as sns\n",
        "import matplotlib.pyplot as plt\n",
        "%matplotlib inline\n",
        "from datetime import datetime\n",
        "import time"
      ]
    },
    {
      "cell_type": "markdown",
      "source": [
        "Ответим на следующие вопросы:\n",
        "*   Каково содержание данных?\n",
        "*   Как распределяются числовые атрибуты?\n",
        "*   Как распределяются категориальные атрибуты?\n",
        "*   Как влияет риск и сумма кредита на другие функции?\n",
        "*   Существует ли какая-либо другая закономерность, которая может быть связана с кредитным риском\n"
      ],
      "metadata": {
        "id": "ZSVOmAiMg43F"
      }
    },
    {
      "cell_type": "code",
      "source": [
        "df = pd.read_csv('/content/german_credit_data.csv', index_col=0)\n",
        "\n",
        "\n",
        "# Results\n",
        "print(f'Data dimension: {df.shape}')\n",
        "df.head()"
      ],
      "metadata": {
        "colab": {
          "base_uri": "https://localhost:8080/",
          "height": 225
        },
        "id": "SPBk165ZgZDV",
        "outputId": "05eeff5d-6ea7-4603-d10b-754329adc49c"
      },
      "execution_count": null,
      "outputs": [
        {
          "output_type": "stream",
          "name": "stdout",
          "text": [
            "Data dimension: (1000, 10)\n"
          ]
        },
        {
          "output_type": "execute_result",
          "data": {
            "text/plain": [
              "   Age     Sex  Job Housing Saving accounts Checking account  Credit amount  \\\n",
              "0   67    male    2     own             NaN           little           1169   \n",
              "1   22  female    2     own          little         moderate           5951   \n",
              "2   49    male    1     own          little              NaN           2096   \n",
              "3   45    male    2    free          little           little           7882   \n",
              "4   53    male    2    free          little           little           4870   \n",
              "\n",
              "   Duration              Purpose  Risk  \n",
              "0         6             radio/TV  good  \n",
              "1        48             radio/TV   bad  \n",
              "2        12            education  good  \n",
              "3        42  furniture/equipment  good  \n",
              "4        24                  car   bad  "
            ],
            "text/html": [
              "\n",
              "  <div id=\"df-d1b51e54-4dda-4cd9-b3aa-898655e7366f\">\n",
              "    <div class=\"colab-df-container\">\n",
              "      <div>\n",
              "<style scoped>\n",
              "    .dataframe tbody tr th:only-of-type {\n",
              "        vertical-align: middle;\n",
              "    }\n",
              "\n",
              "    .dataframe tbody tr th {\n",
              "        vertical-align: top;\n",
              "    }\n",
              "\n",
              "    .dataframe thead th {\n",
              "        text-align: right;\n",
              "    }\n",
              "</style>\n",
              "<table border=\"1\" class=\"dataframe\">\n",
              "  <thead>\n",
              "    <tr style=\"text-align: right;\">\n",
              "      <th></th>\n",
              "      <th>Age</th>\n",
              "      <th>Sex</th>\n",
              "      <th>Job</th>\n",
              "      <th>Housing</th>\n",
              "      <th>Saving accounts</th>\n",
              "      <th>Checking account</th>\n",
              "      <th>Credit amount</th>\n",
              "      <th>Duration</th>\n",
              "      <th>Purpose</th>\n",
              "      <th>Risk</th>\n",
              "    </tr>\n",
              "  </thead>\n",
              "  <tbody>\n",
              "    <tr>\n",
              "      <th>0</th>\n",
              "      <td>67</td>\n",
              "      <td>male</td>\n",
              "      <td>2</td>\n",
              "      <td>own</td>\n",
              "      <td>NaN</td>\n",
              "      <td>little</td>\n",
              "      <td>1169</td>\n",
              "      <td>6</td>\n",
              "      <td>radio/TV</td>\n",
              "      <td>good</td>\n",
              "    </tr>\n",
              "    <tr>\n",
              "      <th>1</th>\n",
              "      <td>22</td>\n",
              "      <td>female</td>\n",
              "      <td>2</td>\n",
              "      <td>own</td>\n",
              "      <td>little</td>\n",
              "      <td>moderate</td>\n",
              "      <td>5951</td>\n",
              "      <td>48</td>\n",
              "      <td>radio/TV</td>\n",
              "      <td>bad</td>\n",
              "    </tr>\n",
              "    <tr>\n",
              "      <th>2</th>\n",
              "      <td>49</td>\n",
              "      <td>male</td>\n",
              "      <td>1</td>\n",
              "      <td>own</td>\n",
              "      <td>little</td>\n",
              "      <td>NaN</td>\n",
              "      <td>2096</td>\n",
              "      <td>12</td>\n",
              "      <td>education</td>\n",
              "      <td>good</td>\n",
              "    </tr>\n",
              "    <tr>\n",
              "      <th>3</th>\n",
              "      <td>45</td>\n",
              "      <td>male</td>\n",
              "      <td>2</td>\n",
              "      <td>free</td>\n",
              "      <td>little</td>\n",
              "      <td>little</td>\n",
              "      <td>7882</td>\n",
              "      <td>42</td>\n",
              "      <td>furniture/equipment</td>\n",
              "      <td>good</td>\n",
              "    </tr>\n",
              "    <tr>\n",
              "      <th>4</th>\n",
              "      <td>53</td>\n",
              "      <td>male</td>\n",
              "      <td>2</td>\n",
              "      <td>free</td>\n",
              "      <td>little</td>\n",
              "      <td>little</td>\n",
              "      <td>4870</td>\n",
              "      <td>24</td>\n",
              "      <td>car</td>\n",
              "      <td>bad</td>\n",
              "    </tr>\n",
              "  </tbody>\n",
              "</table>\n",
              "</div>\n",
              "      <button class=\"colab-df-convert\" onclick=\"convertToInteractive('df-d1b51e54-4dda-4cd9-b3aa-898655e7366f')\"\n",
              "              title=\"Convert this dataframe to an interactive table.\"\n",
              "              style=\"display:none;\">\n",
              "        \n",
              "  <svg xmlns=\"http://www.w3.org/2000/svg\" height=\"24px\"viewBox=\"0 0 24 24\"\n",
              "       width=\"24px\">\n",
              "    <path d=\"M0 0h24v24H0V0z\" fill=\"none\"/>\n",
              "    <path d=\"M18.56 5.44l.94 2.06.94-2.06 2.06-.94-2.06-.94-.94-2.06-.94 2.06-2.06.94zm-11 1L8.5 8.5l.94-2.06 2.06-.94-2.06-.94L8.5 2.5l-.94 2.06-2.06.94zm10 10l.94 2.06.94-2.06 2.06-.94-2.06-.94-.94-2.06-.94 2.06-2.06.94z\"/><path d=\"M17.41 7.96l-1.37-1.37c-.4-.4-.92-.59-1.43-.59-.52 0-1.04.2-1.43.59L10.3 9.45l-7.72 7.72c-.78.78-.78 2.05 0 2.83L4 21.41c.39.39.9.59 1.41.59.51 0 1.02-.2 1.41-.59l7.78-7.78 2.81-2.81c.8-.78.8-2.07 0-2.86zM5.41 20L4 18.59l7.72-7.72 1.47 1.35L5.41 20z\"/>\n",
              "  </svg>\n",
              "      </button>\n",
              "      \n",
              "  <style>\n",
              "    .colab-df-container {\n",
              "      display:flex;\n",
              "      flex-wrap:wrap;\n",
              "      gap: 12px;\n",
              "    }\n",
              "\n",
              "    .colab-df-convert {\n",
              "      background-color: #E8F0FE;\n",
              "      border: none;\n",
              "      border-radius: 50%;\n",
              "      cursor: pointer;\n",
              "      display: none;\n",
              "      fill: #1967D2;\n",
              "      height: 32px;\n",
              "      padding: 0 0 0 0;\n",
              "      width: 32px;\n",
              "    }\n",
              "\n",
              "    .colab-df-convert:hover {\n",
              "      background-color: #E2EBFA;\n",
              "      box-shadow: 0px 1px 2px rgba(60, 64, 67, 0.3), 0px 1px 3px 1px rgba(60, 64, 67, 0.15);\n",
              "      fill: #174EA6;\n",
              "    }\n",
              "\n",
              "    [theme=dark] .colab-df-convert {\n",
              "      background-color: #3B4455;\n",
              "      fill: #D2E3FC;\n",
              "    }\n",
              "\n",
              "    [theme=dark] .colab-df-convert:hover {\n",
              "      background-color: #434B5C;\n",
              "      box-shadow: 0px 1px 3px 1px rgba(0, 0, 0, 0.15);\n",
              "      filter: drop-shadow(0px 1px 2px rgba(0, 0, 0, 0.3));\n",
              "      fill: #FFFFFF;\n",
              "    }\n",
              "  </style>\n",
              "\n",
              "      <script>\n",
              "        const buttonEl =\n",
              "          document.querySelector('#df-d1b51e54-4dda-4cd9-b3aa-898655e7366f button.colab-df-convert');\n",
              "        buttonEl.style.display =\n",
              "          google.colab.kernel.accessAllowed ? 'block' : 'none';\n",
              "\n",
              "        async function convertToInteractive(key) {\n",
              "          const element = document.querySelector('#df-d1b51e54-4dda-4cd9-b3aa-898655e7366f');\n",
              "          const dataTable =\n",
              "            await google.colab.kernel.invokeFunction('convertToInteractive',\n",
              "                                                     [key], {});\n",
              "          if (!dataTable) return;\n",
              "\n",
              "          const docLinkHtml = 'Like what you see? Visit the ' +\n",
              "            '<a target=\"_blank\" href=https://colab.research.google.com/notebooks/data_table.ipynb>data table notebook</a>'\n",
              "            + ' to learn more about interactive tables.';\n",
              "          element.innerHTML = '';\n",
              "          dataTable['output_type'] = 'display_data';\n",
              "          await google.colab.output.renderOutput(dataTable, element);\n",
              "          const docLink = document.createElement('div');\n",
              "          docLink.innerHTML = docLinkHtml;\n",
              "          element.appendChild(docLink);\n",
              "        }\n",
              "      </script>\n",
              "    </div>\n",
              "  </div>\n",
              "  "
            ]
          },
          "metadata": {},
          "execution_count": 5
        }
      ]
    },
    {
      "cell_type": "code",
      "source": [
        "df.info()"
      ],
      "metadata": {
        "colab": {
          "base_uri": "https://localhost:8080/"
        },
        "id": "R2DdWhPhgjrB",
        "outputId": "1f8fa80f-4192-4a30-cefd-007f31f13081"
      },
      "execution_count": null,
      "outputs": [
        {
          "output_type": "stream",
          "name": "stdout",
          "text": [
            "<class 'pandas.core.frame.DataFrame'>\n",
            "Int64Index: 1000 entries, 0 to 999\n",
            "Data columns (total 10 columns):\n",
            " #   Column            Non-Null Count  Dtype \n",
            "---  ------            --------------  ----- \n",
            " 0   Age               1000 non-null   int64 \n",
            " 1   Sex               1000 non-null   object\n",
            " 2   Job               1000 non-null   int64 \n",
            " 3   Housing           1000 non-null   object\n",
            " 4   Saving accounts   817 non-null    object\n",
            " 5   Checking account  606 non-null    object\n",
            " 6   Credit amount     1000 non-null   int64 \n",
            " 7   Duration          1000 non-null   int64 \n",
            " 8   Purpose           1000 non-null   object\n",
            " 9   Risk              1000 non-null   object\n",
            "dtypes: int64(4), object(6)\n",
            "memory usage: 85.9+ KB\n"
          ]
        }
      ]
    },
    {
      "cell_type": "code",
      "source": [
        "df.describe()"
      ],
      "metadata": {
        "colab": {
          "base_uri": "https://localhost:8080/",
          "height": 300
        },
        "id": "0JevKk2OhRBe",
        "outputId": "49ca4db9-4ec3-4885-f4f3-4a8d40b3df96"
      },
      "execution_count": null,
      "outputs": [
        {
          "output_type": "execute_result",
          "data": {
            "text/plain": [
              "               Age          Job  Credit amount     Duration\n",
              "count  1000.000000  1000.000000    1000.000000  1000.000000\n",
              "mean     35.546000     1.904000    3271.258000    20.903000\n",
              "std      11.375469     0.653614    2822.736876    12.058814\n",
              "min      19.000000     0.000000     250.000000     4.000000\n",
              "25%      27.000000     2.000000    1365.500000    12.000000\n",
              "50%      33.000000     2.000000    2319.500000    18.000000\n",
              "75%      42.000000     2.000000    3972.250000    24.000000\n",
              "max      75.000000     3.000000   18424.000000    72.000000"
            ],
            "text/html": [
              "\n",
              "  <div id=\"df-24575b26-6fef-494d-b2b2-d4a6e3b65263\">\n",
              "    <div class=\"colab-df-container\">\n",
              "      <div>\n",
              "<style scoped>\n",
              "    .dataframe tbody tr th:only-of-type {\n",
              "        vertical-align: middle;\n",
              "    }\n",
              "\n",
              "    .dataframe tbody tr th {\n",
              "        vertical-align: top;\n",
              "    }\n",
              "\n",
              "    .dataframe thead th {\n",
              "        text-align: right;\n",
              "    }\n",
              "</style>\n",
              "<table border=\"1\" class=\"dataframe\">\n",
              "  <thead>\n",
              "    <tr style=\"text-align: right;\">\n",
              "      <th></th>\n",
              "      <th>Age</th>\n",
              "      <th>Job</th>\n",
              "      <th>Credit amount</th>\n",
              "      <th>Duration</th>\n",
              "    </tr>\n",
              "  </thead>\n",
              "  <tbody>\n",
              "    <tr>\n",
              "      <th>count</th>\n",
              "      <td>1000.000000</td>\n",
              "      <td>1000.000000</td>\n",
              "      <td>1000.000000</td>\n",
              "      <td>1000.000000</td>\n",
              "    </tr>\n",
              "    <tr>\n",
              "      <th>mean</th>\n",
              "      <td>35.546000</td>\n",
              "      <td>1.904000</td>\n",
              "      <td>3271.258000</td>\n",
              "      <td>20.903000</td>\n",
              "    </tr>\n",
              "    <tr>\n",
              "      <th>std</th>\n",
              "      <td>11.375469</td>\n",
              "      <td>0.653614</td>\n",
              "      <td>2822.736876</td>\n",
              "      <td>12.058814</td>\n",
              "    </tr>\n",
              "    <tr>\n",
              "      <th>min</th>\n",
              "      <td>19.000000</td>\n",
              "      <td>0.000000</td>\n",
              "      <td>250.000000</td>\n",
              "      <td>4.000000</td>\n",
              "    </tr>\n",
              "    <tr>\n",
              "      <th>25%</th>\n",
              "      <td>27.000000</td>\n",
              "      <td>2.000000</td>\n",
              "      <td>1365.500000</td>\n",
              "      <td>12.000000</td>\n",
              "    </tr>\n",
              "    <tr>\n",
              "      <th>50%</th>\n",
              "      <td>33.000000</td>\n",
              "      <td>2.000000</td>\n",
              "      <td>2319.500000</td>\n",
              "      <td>18.000000</td>\n",
              "    </tr>\n",
              "    <tr>\n",
              "      <th>75%</th>\n",
              "      <td>42.000000</td>\n",
              "      <td>2.000000</td>\n",
              "      <td>3972.250000</td>\n",
              "      <td>24.000000</td>\n",
              "    </tr>\n",
              "    <tr>\n",
              "      <th>max</th>\n",
              "      <td>75.000000</td>\n",
              "      <td>3.000000</td>\n",
              "      <td>18424.000000</td>\n",
              "      <td>72.000000</td>\n",
              "    </tr>\n",
              "  </tbody>\n",
              "</table>\n",
              "</div>\n",
              "      <button class=\"colab-df-convert\" onclick=\"convertToInteractive('df-24575b26-6fef-494d-b2b2-d4a6e3b65263')\"\n",
              "              title=\"Convert this dataframe to an interactive table.\"\n",
              "              style=\"display:none;\">\n",
              "        \n",
              "  <svg xmlns=\"http://www.w3.org/2000/svg\" height=\"24px\"viewBox=\"0 0 24 24\"\n",
              "       width=\"24px\">\n",
              "    <path d=\"M0 0h24v24H0V0z\" fill=\"none\"/>\n",
              "    <path d=\"M18.56 5.44l.94 2.06.94-2.06 2.06-.94-2.06-.94-.94-2.06-.94 2.06-2.06.94zm-11 1L8.5 8.5l.94-2.06 2.06-.94-2.06-.94L8.5 2.5l-.94 2.06-2.06.94zm10 10l.94 2.06.94-2.06 2.06-.94-2.06-.94-.94-2.06-.94 2.06-2.06.94z\"/><path d=\"M17.41 7.96l-1.37-1.37c-.4-.4-.92-.59-1.43-.59-.52 0-1.04.2-1.43.59L10.3 9.45l-7.72 7.72c-.78.78-.78 2.05 0 2.83L4 21.41c.39.39.9.59 1.41.59.51 0 1.02-.2 1.41-.59l7.78-7.78 2.81-2.81c.8-.78.8-2.07 0-2.86zM5.41 20L4 18.59l7.72-7.72 1.47 1.35L5.41 20z\"/>\n",
              "  </svg>\n",
              "      </button>\n",
              "      \n",
              "  <style>\n",
              "    .colab-df-container {\n",
              "      display:flex;\n",
              "      flex-wrap:wrap;\n",
              "      gap: 12px;\n",
              "    }\n",
              "\n",
              "    .colab-df-convert {\n",
              "      background-color: #E8F0FE;\n",
              "      border: none;\n",
              "      border-radius: 50%;\n",
              "      cursor: pointer;\n",
              "      display: none;\n",
              "      fill: #1967D2;\n",
              "      height: 32px;\n",
              "      padding: 0 0 0 0;\n",
              "      width: 32px;\n",
              "    }\n",
              "\n",
              "    .colab-df-convert:hover {\n",
              "      background-color: #E2EBFA;\n",
              "      box-shadow: 0px 1px 2px rgba(60, 64, 67, 0.3), 0px 1px 3px 1px rgba(60, 64, 67, 0.15);\n",
              "      fill: #174EA6;\n",
              "    }\n",
              "\n",
              "    [theme=dark] .colab-df-convert {\n",
              "      background-color: #3B4455;\n",
              "      fill: #D2E3FC;\n",
              "    }\n",
              "\n",
              "    [theme=dark] .colab-df-convert:hover {\n",
              "      background-color: #434B5C;\n",
              "      box-shadow: 0px 1px 3px 1px rgba(0, 0, 0, 0.15);\n",
              "      filter: drop-shadow(0px 1px 2px rgba(0, 0, 0, 0.3));\n",
              "      fill: #FFFFFF;\n",
              "    }\n",
              "  </style>\n",
              "\n",
              "      <script>\n",
              "        const buttonEl =\n",
              "          document.querySelector('#df-24575b26-6fef-494d-b2b2-d4a6e3b65263 button.colab-df-convert');\n",
              "        buttonEl.style.display =\n",
              "          google.colab.kernel.accessAllowed ? 'block' : 'none';\n",
              "\n",
              "        async function convertToInteractive(key) {\n",
              "          const element = document.querySelector('#df-24575b26-6fef-494d-b2b2-d4a6e3b65263');\n",
              "          const dataTable =\n",
              "            await google.colab.kernel.invokeFunction('convertToInteractive',\n",
              "                                                     [key], {});\n",
              "          if (!dataTable) return;\n",
              "\n",
              "          const docLinkHtml = 'Like what you see? Visit the ' +\n",
              "            '<a target=\"_blank\" href=https://colab.research.google.com/notebooks/data_table.ipynb>data table notebook</a>'\n",
              "            + ' to learn more about interactive tables.';\n",
              "          element.innerHTML = '';\n",
              "          dataTable['output_type'] = 'display_data';\n",
              "          await google.colab.output.renderOutput(dataTable, element);\n",
              "          const docLink = document.createElement('div');\n",
              "          docLink.innerHTML = docLinkHtml;\n",
              "          element.appendChild(docLink);\n",
              "        }\n",
              "      </script>\n",
              "    </div>\n",
              "  </div>\n",
              "  "
            ]
          },
          "metadata": {},
          "execution_count": 7
        }
      ]
    },
    {
      "cell_type": "code",
      "source": [
        "df.isnull().sum()\n"
      ],
      "metadata": {
        "colab": {
          "base_uri": "https://localhost:8080/"
        },
        "id": "UN63APDlhXUQ",
        "outputId": "cc20cfe5-4ccb-4888-a44e-1e39addec7ca"
      },
      "execution_count": null,
      "outputs": [
        {
          "output_type": "execute_result",
          "data": {
            "text/plain": [
              "Age                   0\n",
              "Sex                   0\n",
              "Job                   0\n",
              "Housing               0\n",
              "Saving accounts     183\n",
              "Checking account    394\n",
              "Credit amount         0\n",
              "Duration              0\n",
              "Purpose               0\n",
              "Risk                  0\n",
              "dtype: int64"
            ]
          },
          "metadata": {},
          "execution_count": 8
        }
      ]
    },
    {
      "cell_type": "code",
      "source": [
        "for col in list(df):\n",
        "    print(col)\n",
        "    print(df[col].unique())"
      ],
      "metadata": {
        "colab": {
          "base_uri": "https://localhost:8080/"
        },
        "id": "-8_y_YxdhbOD",
        "outputId": "0958055d-b953-4f3c-a676-0a3a731272c2"
      },
      "execution_count": null,
      "outputs": [
        {
          "output_type": "stream",
          "name": "stdout",
          "text": [
            "Age\n",
            "[67 22 49 45 53 35 61 28 25 24 60 32 44 31 48 26 36 39 42 34 63 27 30 57\n",
            " 33 37 58 23 29 52 50 46 51 41 40 66 47 56 54 20 21 38 70 65 74 68 43 55\n",
            " 64 75 19 62 59]\n",
            "Sex\n",
            "['male' 'female']\n",
            "Job\n",
            "[2 1 3 0]\n",
            "Housing\n",
            "['own' 'free' 'rent']\n",
            "Saving accounts\n",
            "[nan 'little' 'quite rich' 'rich' 'moderate']\n",
            "Checking account\n",
            "['little' 'moderate' nan 'rich']\n",
            "Credit amount\n",
            "[ 1169  5951  2096  7882  4870  9055  2835  6948  3059  5234  1295  4308\n",
            "  1567  1199  1403  1282  2424  8072 12579  3430  2134  2647  2241  1804\n",
            "  2069  1374   426   409  2415  6836  1913  4020  5866  1264  1474  4746\n",
            "  6110  2100  1225   458  2333  1158  6204  6187  6143  1393  2299  1352\n",
            "  7228  2073  5965  1262  3378  2225   783  6468  9566  1961  6229  1391\n",
            "  1537  1953 14421  3181  5190  2171  1007  1819  2394  8133   730  1164\n",
            "  5954  1977  1526  3965  4771  9436  3832  5943  1213  1568  1755  2315\n",
            "  1412 12612  2249  1108   618  1409   797  3617  1318 15945  2012  2622\n",
            "  2337  7057  1469  2323   932  1919  2445 11938  6458  6078  7721  1410\n",
            "  1449   392  6260  7855  1680  3578  7174  2132  4281  2366  1835  3868\n",
            "  1768   781  1924  2121   701   639  1860  3499  8487  6887  2708  1984\n",
            " 10144  1240  8613   766  2728  1881   709  4795  3416  2462  2288  3566\n",
            "   860   682  5371  1582  1346  5848  7758  6967  1288   339  3512  1898\n",
            "  2872  1055  7308   909  2978  1131  1577  3972  1935   950   763  2064\n",
            "  1414  3414  7485  2577   338  1963   571  9572  4455  1647  3777   884\n",
            "  1360  5129  1175   674  3244  4591  3844  3915  2108  3031  1501  1382\n",
            "   951  2760  4297   936  1168  5117   902  1495 10623  1424  6568  1413\n",
            "  3074  3835  5293  1908  3342  3104  3913  3021  1364   625  1200   707\n",
            "  4657  2613 10961  7865  1478  3149  4210  2507  2141   866  1544  1823\n",
            " 14555  2767  1291  2522   915  1595  4605  1185  3447  1258   717  1204\n",
            "  1925   433   666  2251  2150  4151  2030  7418  2684  2149  3812  1154\n",
            "  1657  1603  5302  2748  1231   802  6304  1533  8978   999  2662  1402\n",
            " 12169  3060 11998  2697  2404  4611  1901  3368  1574  1445  1520  3878\n",
            " 10722  4788  7582  1092  1024  1076  9398  6419  4796  7629  9960  4675\n",
            "  1287  2515  2745   672  3804  1344  1038 10127  1543  4811   727  1237\n",
            "   276  5381  5511  3749   685  1494  2746   708  4351  3643  4249  1938\n",
            "  2910  2659  1028  3398  5801  1525  4473  1068  6615  1864  7408 11590\n",
            "  4110  3384  2101  1275  4169  1521  5743  3599  3213  4439  3949  1459\n",
            "   882  3758  1743  1136  1236   959  3229  6199  1246  2331  4463   776\n",
            "  2406  1239  3399  2247  1766  2473  1542  3850  3650  3446  3001  3079\n",
            "  6070  2146 13756 14782  7685  2320   846 14318   362  2212 12976  1283\n",
            "  1330  4272  2238  1126  7374  2326  1820   983  3249  1957 11760  2578\n",
            "  2348  1223  1516  1473  1887  8648  2899  2039  2197  1053  3235   939\n",
            "  1967  7253  2292  1597  1381  5842  2579  8471  2782  1042  3186  2028\n",
            "   958  1591  2762  2779  2743  1149  1313  1190  3448 11328  1872  2058\n",
            "  2136  1484   660  3394   609  1884  1620  2629   719  5096  1244  1842\n",
            "  2576  1512 11054   518  2759  2670  4817  2679  3905  3386   343  4594\n",
            "  3620  1721  3017   754  1950  2924  1659  7238  2764  4679  3092   448\n",
            "   654  1238  1245  3114  2569  5152  1037  3573  1201  3622   960  1163\n",
            "  1209  3077  3757  1418  3518  1934  8318   368  2122  2996  9034  1585\n",
            "  1301  1323  3123  5493  1216  1207  1309  2360  6850  8588   759  4686\n",
            "  2687   585  2255  1361  7127  1203   700  5507  3190  7119  3488  1113\n",
            "  7966  1532  1503  2302   662  2273  2631  1311  3105  2319  3612  7763\n",
            "  3049  1534  2032  6350  2864  1255  1333  2022  1552   626  8858   996\n",
            "  1750  6999  1995  1331  2278  5003  3552  1928  2964  1546   683 12389\n",
            "  4712  1553  1372  3979  6758  3234  5433   806  1082  2788  2930  1927\n",
            "  2820   937  1056  3124  1388  2384  2133  2799  1289  1217  2246   385\n",
            "  1965  1572  2718  1358   931  1442  4241  2775  3863  2329   918  1837\n",
            "  3349  2828  4526  2671  2051  1300   741  3357  3632  1808 12204  9157\n",
            "  3676  3441   640  3652  1530  3914  1858  2600  1979  2116  1437  4042\n",
            "  3660  1444  1980  1355  1376 15653  1493  4370   750  1308  4623  1851\n",
            "  1880  7980  4583  1386   947   684  7476  1922  2303  8086  2346  3973\n",
            "   888 10222  4221  6361  1297   900  1050  1047  6314  3496  3609  4843\n",
            "  4139  5742 10366  2080  2580  4530  5150  5595  1453  1538  2279  5103\n",
            "  9857  6527  1347  2862  2753  3651   975  2896  4716  2284  1103   926\n",
            "  1800  1905  1123  6331  1377  2503  2528  5324  6560  2969  1206  2118\n",
            "   629  1198  2476  1138 14027  7596  1505  3148  6148  1337  1228   790\n",
            "  2570   250  1316  1882  6416  6403  1987   760  2603  3380  3990 11560\n",
            "  4380  6761  4280  2325  1048  3160  2483 14179  1797  2511  1274  5248\n",
            "  3029   428   976   841  5771  1555  1285  1299  1271   691  5045  2124\n",
            "  2214 12680  2463  1155  3108  2901  1655  2812  8065  3275  2223  1480\n",
            "  1371  3535  3509  5711  3872  4933  1940   836  1941  2675  2751  6224\n",
            "  5998  1188  6313  1221  2892  3062  2301  7511  1549  1795  7472  9271\n",
            "   590   930  9283  1778   907   484  9629  3051  3931  7432  1338  1554\n",
            " 15857  1345  1101  3016  2712   731  3780  1602  3966  4165  8335  6681\n",
            "  2375 11816  5084  2327   886   601  2957  2611  5179  2993  1943  1559\n",
            "  3422  3976  1249  2235  1471 10875   894  3343  3959  3577  5804  2169\n",
            "  2439  2210  2221  2389  3331  7409   652  7678  1343   874  3590  1322\n",
            "  3595  1422  6742  7814  9277  2181  1098  4057   795  2825 15672  6614\n",
            "  7824  2442  1829  5800  8947  2606  1592  2186  4153  2625  3485 10477\n",
            "  1278  1107  3763  3711  3594  3195  4454  4736  2991  2142  3161 18424\n",
            "  2848 14896  2359  3345  1817 12749  1366  2002  6872   697  1049 10297\n",
            "  1867  1747  1670  1224   522  1498   745  2063  6288  6842  3527   929\n",
            "  1455  1845  8358  2859  3621  2145  4113 10974  1893  3656  4006  3069\n",
            "  1740  2353  3556  2397   454  1715  2520  3568  7166  3939  1514  7393\n",
            "  1193  7297  2831   753  2427  2538  8386  4844  2923  8229  1433  6289\n",
            "  6579  3565  1569  1936  2390  1736  3857   804  4576]\n",
            "Duration\n",
            "[ 6 48 12 42 24 36 30 15  9 10  7 60 18 45 11 27  8 54 20 14 33 21 16  4\n",
            " 47 13 22 39 28  5 26 72 40]\n",
            "Purpose\n",
            "['radio/TV' 'education' 'furniture/equipment' 'car' 'business'\n",
            " 'domestic appliances' 'repairs' 'vacation/others']\n",
            "Risk\n",
            "['good' 'bad']\n"
          ]
        }
      ]
    },
    {
      "cell_type": "code",
      "source": [
        "missing_values=pd.DataFrame({'Missing Values':df.isnull().sum(),'Missing % Values':(df.isnull().sum()/1000)*100})\n",
        "missing_values"
      ],
      "metadata": {
        "colab": {
          "base_uri": "https://localhost:8080/",
          "height": 363
        },
        "id": "dSH4SYdHhdCd",
        "outputId": "53bea482-e25c-4ed3-cf68-b1f3d7d3c6c5"
      },
      "execution_count": null,
      "outputs": [
        {
          "output_type": "execute_result",
          "data": {
            "text/plain": [
              "                  Missing Values  Missing % Values\n",
              "Age                            0               0.0\n",
              "Sex                            0               0.0\n",
              "Job                            0               0.0\n",
              "Housing                        0               0.0\n",
              "Saving accounts              183              18.3\n",
              "Checking account             394              39.4\n",
              "Credit amount                  0               0.0\n",
              "Duration                       0               0.0\n",
              "Purpose                        0               0.0\n",
              "Risk                           0               0.0"
            ],
            "text/html": [
              "\n",
              "  <div id=\"df-13b5799d-cd21-4ed8-98a4-2e74cf49cb94\">\n",
              "    <div class=\"colab-df-container\">\n",
              "      <div>\n",
              "<style scoped>\n",
              "    .dataframe tbody tr th:only-of-type {\n",
              "        vertical-align: middle;\n",
              "    }\n",
              "\n",
              "    .dataframe tbody tr th {\n",
              "        vertical-align: top;\n",
              "    }\n",
              "\n",
              "    .dataframe thead th {\n",
              "        text-align: right;\n",
              "    }\n",
              "</style>\n",
              "<table border=\"1\" class=\"dataframe\">\n",
              "  <thead>\n",
              "    <tr style=\"text-align: right;\">\n",
              "      <th></th>\n",
              "      <th>Missing Values</th>\n",
              "      <th>Missing % Values</th>\n",
              "    </tr>\n",
              "  </thead>\n",
              "  <tbody>\n",
              "    <tr>\n",
              "      <th>Age</th>\n",
              "      <td>0</td>\n",
              "      <td>0.0</td>\n",
              "    </tr>\n",
              "    <tr>\n",
              "      <th>Sex</th>\n",
              "      <td>0</td>\n",
              "      <td>0.0</td>\n",
              "    </tr>\n",
              "    <tr>\n",
              "      <th>Job</th>\n",
              "      <td>0</td>\n",
              "      <td>0.0</td>\n",
              "    </tr>\n",
              "    <tr>\n",
              "      <th>Housing</th>\n",
              "      <td>0</td>\n",
              "      <td>0.0</td>\n",
              "    </tr>\n",
              "    <tr>\n",
              "      <th>Saving accounts</th>\n",
              "      <td>183</td>\n",
              "      <td>18.3</td>\n",
              "    </tr>\n",
              "    <tr>\n",
              "      <th>Checking account</th>\n",
              "      <td>394</td>\n",
              "      <td>39.4</td>\n",
              "    </tr>\n",
              "    <tr>\n",
              "      <th>Credit amount</th>\n",
              "      <td>0</td>\n",
              "      <td>0.0</td>\n",
              "    </tr>\n",
              "    <tr>\n",
              "      <th>Duration</th>\n",
              "      <td>0</td>\n",
              "      <td>0.0</td>\n",
              "    </tr>\n",
              "    <tr>\n",
              "      <th>Purpose</th>\n",
              "      <td>0</td>\n",
              "      <td>0.0</td>\n",
              "    </tr>\n",
              "    <tr>\n",
              "      <th>Risk</th>\n",
              "      <td>0</td>\n",
              "      <td>0.0</td>\n",
              "    </tr>\n",
              "  </tbody>\n",
              "</table>\n",
              "</div>\n",
              "      <button class=\"colab-df-convert\" onclick=\"convertToInteractive('df-13b5799d-cd21-4ed8-98a4-2e74cf49cb94')\"\n",
              "              title=\"Convert this dataframe to an interactive table.\"\n",
              "              style=\"display:none;\">\n",
              "        \n",
              "  <svg xmlns=\"http://www.w3.org/2000/svg\" height=\"24px\"viewBox=\"0 0 24 24\"\n",
              "       width=\"24px\">\n",
              "    <path d=\"M0 0h24v24H0V0z\" fill=\"none\"/>\n",
              "    <path d=\"M18.56 5.44l.94 2.06.94-2.06 2.06-.94-2.06-.94-.94-2.06-.94 2.06-2.06.94zm-11 1L8.5 8.5l.94-2.06 2.06-.94-2.06-.94L8.5 2.5l-.94 2.06-2.06.94zm10 10l.94 2.06.94-2.06 2.06-.94-2.06-.94-.94-2.06-.94 2.06-2.06.94z\"/><path d=\"M17.41 7.96l-1.37-1.37c-.4-.4-.92-.59-1.43-.59-.52 0-1.04.2-1.43.59L10.3 9.45l-7.72 7.72c-.78.78-.78 2.05 0 2.83L4 21.41c.39.39.9.59 1.41.59.51 0 1.02-.2 1.41-.59l7.78-7.78 2.81-2.81c.8-.78.8-2.07 0-2.86zM5.41 20L4 18.59l7.72-7.72 1.47 1.35L5.41 20z\"/>\n",
              "  </svg>\n",
              "      </button>\n",
              "      \n",
              "  <style>\n",
              "    .colab-df-container {\n",
              "      display:flex;\n",
              "      flex-wrap:wrap;\n",
              "      gap: 12px;\n",
              "    }\n",
              "\n",
              "    .colab-df-convert {\n",
              "      background-color: #E8F0FE;\n",
              "      border: none;\n",
              "      border-radius: 50%;\n",
              "      cursor: pointer;\n",
              "      display: none;\n",
              "      fill: #1967D2;\n",
              "      height: 32px;\n",
              "      padding: 0 0 0 0;\n",
              "      width: 32px;\n",
              "    }\n",
              "\n",
              "    .colab-df-convert:hover {\n",
              "      background-color: #E2EBFA;\n",
              "      box-shadow: 0px 1px 2px rgba(60, 64, 67, 0.3), 0px 1px 3px 1px rgba(60, 64, 67, 0.15);\n",
              "      fill: #174EA6;\n",
              "    }\n",
              "\n",
              "    [theme=dark] .colab-df-convert {\n",
              "      background-color: #3B4455;\n",
              "      fill: #D2E3FC;\n",
              "    }\n",
              "\n",
              "    [theme=dark] .colab-df-convert:hover {\n",
              "      background-color: #434B5C;\n",
              "      box-shadow: 0px 1px 3px 1px rgba(0, 0, 0, 0.15);\n",
              "      filter: drop-shadow(0px 1px 2px rgba(0, 0, 0, 0.3));\n",
              "      fill: #FFFFFF;\n",
              "    }\n",
              "  </style>\n",
              "\n",
              "      <script>\n",
              "        const buttonEl =\n",
              "          document.querySelector('#df-13b5799d-cd21-4ed8-98a4-2e74cf49cb94 button.colab-df-convert');\n",
              "        buttonEl.style.display =\n",
              "          google.colab.kernel.accessAllowed ? 'block' : 'none';\n",
              "\n",
              "        async function convertToInteractive(key) {\n",
              "          const element = document.querySelector('#df-13b5799d-cd21-4ed8-98a4-2e74cf49cb94');\n",
              "          const dataTable =\n",
              "            await google.colab.kernel.invokeFunction('convertToInteractive',\n",
              "                                                     [key], {});\n",
              "          if (!dataTable) return;\n",
              "\n",
              "          const docLinkHtml = 'Like what you see? Visit the ' +\n",
              "            '<a target=\"_blank\" href=https://colab.research.google.com/notebooks/data_table.ipynb>data table notebook</a>'\n",
              "            + ' to learn more about interactive tables.';\n",
              "          element.innerHTML = '';\n",
              "          dataTable['output_type'] = 'display_data';\n",
              "          await google.colab.output.renderOutput(dataTable, element);\n",
              "          const docLink = document.createElement('div');\n",
              "          docLink.innerHTML = docLinkHtml;\n",
              "          element.appendChild(docLink);\n",
              "        }\n",
              "      </script>\n",
              "    </div>\n",
              "  </div>\n",
              "  "
            ]
          },
          "metadata": {},
          "execution_count": 10
        }
      ]
    },
    {
      "cell_type": "code",
      "source": [
        "numerical = ['Credit amount','Age','Duration']\n",
        "categorical = ['Sex','Job','Housing','Saving accounts','Checking account','Purpose']\n",
        "df.shape"
      ],
      "metadata": {
        "colab": {
          "base_uri": "https://localhost:8080/"
        },
        "id": "opb3IFqdhg_Q",
        "outputId": "7875940f-2741-482a-b147-f65162d383a3"
      },
      "execution_count": null,
      "outputs": [
        {
          "output_type": "execute_result",
          "data": {
            "text/plain": [
              "(1000, 10)"
            ]
          },
          "metadata": {},
          "execution_count": 11
        }
      ]
    },
    {
      "cell_type": "code",
      "source": [
        "for cat in categorical:\n",
        "    df[cat] = df[cat].fillna(df[cat].mode().values[0])\n",
        "df.isnull().sum()"
      ],
      "metadata": {
        "colab": {
          "base_uri": "https://localhost:8080/"
        },
        "id": "BaqNWYKhhlnY",
        "outputId": "af20d738-9a80-40ca-8c41-cd644a38b12b"
      },
      "execution_count": null,
      "outputs": [
        {
          "output_type": "execute_result",
          "data": {
            "text/plain": [
              "Age                 0\n",
              "Sex                 0\n",
              "Job                 0\n",
              "Housing             0\n",
              "Saving accounts     0\n",
              "Checking account    0\n",
              "Credit amount       0\n",
              "Duration            0\n",
              "Purpose             0\n",
              "Risk                0\n",
              "dtype: int64"
            ]
          },
          "metadata": {},
          "execution_count": 12
        }
      ]
    },
    {
      "cell_type": "code",
      "source": [
        "plt.figure(figsize=(14,5))\n",
        "gx=sns.boxplot(x='Sex', y='Age', data=df, palette=\"RdBu\")\n",
        "gx.set_title(\"Age vs Sex\")\n",
        "gx.set_ylabel(\"Age\")\n",
        "gx.set_xlabel(\"Sex\")\n",
        "plt.show()\n",
        "#This plot shows how many people are male and female within the specified age."
      ],
      "metadata": {
        "colab": {
          "base_uri": "https://localhost:8080/",
          "height": 350
        },
        "id": "qKNsz64Ghm68",
        "outputId": "d6ebc3d7-2895-4e24-cfb9-ddca2b99cc48"
      },
      "execution_count": null,
      "outputs": [
        {
          "output_type": "display_data",
          "data": {
            "text/plain": [
              "<Figure size 1008x360 with 1 Axes>"
            ],
            "image/png": "[encoded data removed]"
          },
          "metadata": {
            "needs_background": "light"
          }
        }
      ]
    },
    {
      "cell_type": "code",
      "source": [
        "plt.figure(figsize=(15,5))\n",
        "sns.histplot(data=df, x=\"Purpose\", kde=True, color=\"y\")\n",
        "# This plot shows the purpose of loan that people took."
      ],
      "metadata": {
        "colab": {
          "base_uri": "https://localhost:8080/",
          "height": 352
        },
        "id": "b8rmG8vKhrEi",
        "outputId": "d10b2241-8b13-4147-95f3-cc00873e24fb"
      },
      "execution_count": null,
      "outputs": [
        {
          "output_type": "execute_result",
          "data": {
            "text/plain": [
              "<matplotlib.axes._subplots.AxesSubplot at 0x7f3b8f4293d0>"
            ]
          },
          "metadata": {},
          "execution_count": 46
        },
        {
          "output_type": "display_data",
          "data": {
            "text/plain": [
              "<Figure size 1080x360 with 1 Axes>"
            ],
            "image/png": "[encoded data removed]"
          },
          "metadata": {
            "needs_background": "light"
          }
        }
      ]
    },
    {
      "cell_type": "code",
      "source": [
        "plt.figure(figsize=(15,5))\n",
        "sns.histplot(data=df, x=\"Housing\", color=\"b\")\n",
        "# This plot shows how many people own the house and how many are on rent or free."
      ],
      "metadata": {
        "colab": {
          "base_uri": "https://localhost:8080/",
          "height": 352
        },
        "id": "NQl8TiWxhu2-",
        "outputId": "813c0ae9-2880-402a-9a1f-c9a025c3c84d"
      },
      "execution_count": null,
      "outputs": [
        {
          "output_type": "execute_result",
          "data": {
            "text/plain": [
              "<matplotlib.axes._subplots.AxesSubplot at 0x7f3b949b3f10>"
            ]
          },
          "metadata": {},
          "execution_count": 47
        },
        {
          "output_type": "display_data",
          "data": {
            "text/plain": [
              "<Figure size 1080x360 with 1 Axes>"
            ],
            "image/png": "[encoded data removed]"
          },
          "metadata": {
            "needs_background": "light"
          }
        }
      ]
    },
    {
      "cell_type": "code",
      "source": [
        "male_age = df[\"Age\"].loc[df[\"Sex\"] == \"male\"].values\n",
        "female_age = df[\"Age\"].loc[df[\"Sex\"] == \"female\"].values\n",
        "All_age = df['Age'].values\n",
        "fig, ax = plt.subplots(1, 3, figsize=(15,5))\n",
        "sns.histplot(male_age,ax=ax[0],color=\"blue\")\n",
        "ax[0].set_title(\"Male Age\", fontsize=15)\n",
        "sns.histplot(female_age, ax=ax[1], color=\"red\")\n",
        "ax[1].set_title(\"Female Age\", fontsize=15)\n",
        "sns.histplot(All_age, ax=ax[2], color=\"green\")\n",
        "ax[2].set_title(\"All Age \", fontsize=15)\n",
        "plt.show()\n",
        "# This plot shows what kind of people(men or female) have taken loan the most with respect to their age."
      ],
      "metadata": {
        "colab": {
          "base_uri": "https://localhost:8080/",
          "height": 337
        },
        "id": "mdtFUdqYhzYB",
        "outputId": "5591a99d-428d-4d4e-a061-5032c9cea6c7"
      },
      "execution_count": null,
      "outputs": [
        {
          "output_type": "display_data",
          "data": {
            "text/plain": [
              "<Figure size 1080x360 with 3 Axes>"
            ],
            "image/png": "[encoded data removed]"
          },
          "metadata": {
            "needs_background": "light"
          }
        }
      ]
    },
    {
      "cell_type": "code",
      "source": [
        "df[\"Purpose\"].unique()\n",
        "sex_purpose = pd.crosstab(df['Purpose'], df['Sex'])\n",
        "display(sex_purpose)\n",
        "#This Frame Shows the purpose of having credits for each gender"
      ],
      "metadata": {
        "colab": {
          "base_uri": "https://localhost:8080/",
          "height": 331
        },
        "id": "4QFn0svnh32X",
        "outputId": "3e98bc11-9989-4804-fe2e-c217a9beddcb"
      },
      "execution_count": null,
      "outputs": [
        {
          "output_type": "display_data",
          "data": {
            "text/plain": [
              "Sex                  female  male\n",
              "Purpose                          \n",
              "business                 19    78\n",
              "car                      94   243\n",
              "domestic appliances       6     6\n",
              "education                24    35\n",
              "furniture/equipment      74   107\n",
              "radio/TV                 85   195\n",
              "repairs                   5    17\n",
              "vacation/others           3     9"
            ],
            "text/html": [
              "\n",
              "  <div id=\"df-125324df-d105-4120-a63a-ba0b49389c5b\">\n",
              "    <div class=\"colab-df-container\">\n",
              "      <div>\n",
              "<style scoped>\n",
              "    .dataframe tbody tr th:only-of-type {\n",
              "        vertical-align: middle;\n",
              "    }\n",
              "\n",
              "    .dataframe tbody tr th {\n",
              "        vertical-align: top;\n",
              "    }\n",
              "\n",
              "    .dataframe thead th {\n",
              "        text-align: right;\n",
              "    }\n",
              "</style>\n",
              "<table border=\"1\" class=\"dataframe\">\n",
              "  <thead>\n",
              "    <tr style=\"text-align: right;\">\n",
              "      <th>Sex</th>\n",
              "      <th>female</th>\n",
              "      <th>male</th>\n",
              "    </tr>\n",
              "    <tr>\n",
              "      <th>Purpose</th>\n",
              "      <th></th>\n",
              "      <th></th>\n",
              "    </tr>\n",
              "  </thead>\n",
              "  <tbody>\n",
              "    <tr>\n",
              "      <th>business</th>\n",
              "      <td>19</td>\n",
              "      <td>78</td>\n",
              "    </tr>\n",
              "    <tr>\n",
              "      <th>car</th>\n",
              "      <td>94</td>\n",
              "      <td>243</td>\n",
              "    </tr>\n",
              "    <tr>\n",
              "      <th>domestic appliances</th>\n",
              "      <td>6</td>\n",
              "      <td>6</td>\n",
              "    </tr>\n",
              "    <tr>\n",
              "      <th>education</th>\n",
              "      <td>24</td>\n",
              "      <td>35</td>\n",
              "    </tr>\n",
              "    <tr>\n",
              "      <th>furniture/equipment</th>\n",
              "      <td>74</td>\n",
              "      <td>107</td>\n",
              "    </tr>\n",
              "    <tr>\n",
              "      <th>radio/TV</th>\n",
              "      <td>85</td>\n",
              "      <td>195</td>\n",
              "    </tr>\n",
              "    <tr>\n",
              "      <th>repairs</th>\n",
              "      <td>5</td>\n",
              "      <td>17</td>\n",
              "    </tr>\n",
              "    <tr>\n",
              "      <th>vacation/others</th>\n",
              "      <td>3</td>\n",
              "      <td>9</td>\n",
              "    </tr>\n",
              "  </tbody>\n",
              "</table>\n",
              "</div>\n",
              "      <button class=\"colab-df-convert\" onclick=\"convertToInteractive('df-125324df-d105-4120-a63a-ba0b49389c5b')\"\n",
              "              title=\"Convert this dataframe to an interactive table.\"\n",
              "              style=\"display:none;\">\n",
              "        \n",
              "  <svg xmlns=\"http://www.w3.org/2000/svg\" height=\"24px\"viewBox=\"0 0 24 24\"\n",
              "       width=\"24px\">\n",
              "    <path d=\"M0 0h24v24H0V0z\" fill=\"none\"/>\n",
              "    <path d=\"M18.56 5.44l.94 2.06.94-2.06 2.06-.94-2.06-.94-.94-2.06-.94 2.06-2.06.94zm-11 1L8.5 8.5l.94-2.06 2.06-.94-2.06-.94L8.5 2.5l-.94 2.06-2.06.94zm10 10l.94 2.06.94-2.06 2.06-.94-2.06-.94-.94-2.06-.94 2.06-2.06.94z\"/><path d=\"M17.41 7.96l-1.37-1.37c-.4-.4-.92-.59-1.43-.59-.52 0-1.04.2-1.43.59L10.3 9.45l-7.72 7.72c-.78.78-.78 2.05 0 2.83L4 21.41c.39.39.9.59 1.41.59.51 0 1.02-.2 1.41-.59l7.78-7.78 2.81-2.81c.8-.78.8-2.07 0-2.86zM5.41 20L4 18.59l7.72-7.72 1.47 1.35L5.41 20z\"/>\n",
              "  </svg>\n",
              "      </button>\n",
              "      \n",
              "  <style>\n",
              "    .colab-df-container {\n",
              "      display:flex;\n",
              "      flex-wrap:wrap;\n",
              "      gap: 12px;\n",
              "    }\n",
              "\n",
              "    .colab-df-convert {\n",
              "      background-color: #E8F0FE;\n",
              "      border: none;\n",
              "      border-radius: 50%;\n",
              "      cursor: pointer;\n",
              "      display: none;\n",
              "      fill: #1967D2;\n",
              "      height: 32px;\n",
              "      padding: 0 0 0 0;\n",
              "      width: 32px;\n",
              "    }\n",
              "\n",
              "    .colab-df-convert:hover {\n",
              "      background-color: #E2EBFA;\n",
              "      box-shadow: 0px 1px 2px rgba(60, 64, 67, 0.3), 0px 1px 3px 1px rgba(60, 64, 67, 0.15);\n",
              "      fill: #174EA6;\n",
              "    }\n",
              "\n",
              "    [theme=dark] .colab-df-convert {\n",
              "      background-color: #3B4455;\n",
              "      fill: #D2E3FC;\n",
              "    }\n",
              "\n",
              "    [theme=dark] .colab-df-convert:hover {\n",
              "      background-color: #434B5C;\n",
              "      box-shadow: 0px 1px 3px 1px rgba(0, 0, 0, 0.15);\n",
              "      filter: drop-shadow(0px 1px 2px rgba(0, 0, 0, 0.3));\n",
              "      fill: #FFFFFF;\n",
              "    }\n",
              "  </style>\n",
              "\n",
              "      <script>\n",
              "        const buttonEl =\n",
              "          document.querySelector('#df-125324df-d105-4120-a63a-ba0b49389c5b button.colab-df-convert');\n",
              "        buttonEl.style.display =\n",
              "          google.colab.kernel.accessAllowed ? 'block' : 'none';\n",
              "\n",
              "        async function convertToInteractive(key) {\n",
              "          const element = document.querySelector('#df-125324df-d105-4120-a63a-ba0b49389c5b');\n",
              "          const dataTable =\n",
              "            await google.colab.kernel.invokeFunction('convertToInteractive',\n",
              "                                                     [key], {});\n",
              "          if (!dataTable) return;\n",
              "\n",
              "          const docLinkHtml = 'Like what you see? Visit the ' +\n",
              "            '<a target=\"_blank\" href=https://colab.research.google.com/notebooks/data_table.ipynb>data table notebook</a>'\n",
              "            + ' to learn more about interactive tables.';\n",
              "          element.innerHTML = '';\n",
              "          dataTable['output_type'] = 'display_data';\n",
              "          await google.colab.output.renderOutput(dataTable, element);\n",
              "          const docLink = document.createElement('div');\n",
              "          docLink.innerHTML = docLinkHtml;\n",
              "          element.appendChild(docLink);\n",
              "        }\n",
              "      </script>\n",
              "    </div>\n",
              "  </div>\n",
              "  "
            ]
          },
          "metadata": {}
        }
      ]
    },
    {
      "cell_type": "code",
      "source": [
        "number_of_jobs = pd.crosstab(df[\"Job\"], df[\"Sex\"])\n",
        "number_of_jobs\n",
        "#This Frame Shows the No of Jobs for each gender"
      ],
      "metadata": {
        "colab": {
          "base_uri": "https://localhost:8080/",
          "height": 206
        },
        "id": "-Q8TacCrh6QJ",
        "outputId": "8fc6c71a-40b2-44ac-94ad-1c37525762f7"
      },
      "execution_count": null,
      "outputs": [
        {
          "output_type": "execute_result",
          "data": {
            "text/plain": [
              "Sex  female  male\n",
              "Job              \n",
              "0        12    10\n",
              "1        64   136\n",
              "2       197   433\n",
              "3        37   111"
            ],
            "text/html": [
              "\n",
              "  <div id=\"df-9cc9b4bf-d5b0-442d-8184-ad93e0ff37f0\">\n",
              "    <div class=\"colab-df-container\">\n",
              "      <div>\n",
              "<style scoped>\n",
              "    .dataframe tbody tr th:only-of-type {\n",
              "        vertical-align: middle;\n",
              "    }\n",
              "\n",
              "    .dataframe tbody tr th {\n",
              "        vertical-align: top;\n",
              "    }\n",
              "\n",
              "    .dataframe thead th {\n",
              "        text-align: right;\n",
              "    }\n",
              "</style>\n",
              "<table border=\"1\" class=\"dataframe\">\n",
              "  <thead>\n",
              "    <tr style=\"text-align: right;\">\n",
              "      <th>Sex</th>\n",
              "      <th>female</th>\n",
              "      <th>male</th>\n",
              "    </tr>\n",
              "    <tr>\n",
              "      <th>Job</th>\n",
              "      <th></th>\n",
              "      <th></th>\n",
              "    </tr>\n",
              "  </thead>\n",
              "  <tbody>\n",
              "    <tr>\n",
              "      <th>0</th>\n",
              "      <td>12</td>\n",
              "      <td>10</td>\n",
              "    </tr>\n",
              "    <tr>\n",
              "      <th>1</th>\n",
              "      <td>64</td>\n",
              "      <td>136</td>\n",
              "    </tr>\n",
              "    <tr>\n",
              "      <th>2</th>\n",
              "      <td>197</td>\n",
              "      <td>433</td>\n",
              "    </tr>\n",
              "    <tr>\n",
              "      <th>3</th>\n",
              "      <td>37</td>\n",
              "      <td>111</td>\n",
              "    </tr>\n",
              "  </tbody>\n",
              "</table>\n",
              "</div>\n",
              "      <button class=\"colab-df-convert\" onclick=\"convertToInteractive('df-9cc9b4bf-d5b0-442d-8184-ad93e0ff37f0')\"\n",
              "              title=\"Convert this dataframe to an interactive table.\"\n",
              "              style=\"display:none;\">\n",
              "        \n",
              "  <svg xmlns=\"http://www.w3.org/2000/svg\" height=\"24px\"viewBox=\"0 0 24 24\"\n",
              "       width=\"24px\">\n",
              "    <path d=\"M0 0h24v24H0V0z\" fill=\"none\"/>\n",
              "    <path d=\"M18.56 5.44l.94 2.06.94-2.06 2.06-.94-2.06-.94-.94-2.06-.94 2.06-2.06.94zm-11 1L8.5 8.5l.94-2.06 2.06-.94-2.06-.94L8.5 2.5l-.94 2.06-2.06.94zm10 10l.94 2.06.94-2.06 2.06-.94-2.06-.94-.94-2.06-.94 2.06-2.06.94z\"/><path d=\"M17.41 7.96l-1.37-1.37c-.4-.4-.92-.59-1.43-.59-.52 0-1.04.2-1.43.59L10.3 9.45l-7.72 7.72c-.78.78-.78 2.05 0 2.83L4 21.41c.39.39.9.59 1.41.59.51 0 1.02-.2 1.41-.59l7.78-7.78 2.81-2.81c.8-.78.8-2.07 0-2.86zM5.41 20L4 18.59l7.72-7.72 1.47 1.35L5.41 20z\"/>\n",
              "  </svg>\n",
              "      </button>\n",
              "      \n",
              "  <style>\n",
              "    .colab-df-container {\n",
              "      display:flex;\n",
              "      flex-wrap:wrap;\n",
              "      gap: 12px;\n",
              "    }\n",
              "\n",
              "    .colab-df-convert {\n",
              "      background-color: #E8F0FE;\n",
              "      border: none;\n",
              "      border-radius: 50%;\n",
              "      cursor: pointer;\n",
              "      display: none;\n",
              "      fill: #1967D2;\n",
              "      height: 32px;\n",
              "      padding: 0 0 0 0;\n",
              "      width: 32px;\n",
              "    }\n",
              "\n",
              "    .colab-df-convert:hover {\n",
              "      background-color: #E2EBFA;\n",
              "      box-shadow: 0px 1px 2px rgba(60, 64, 67, 0.3), 0px 1px 3px 1px rgba(60, 64, 67, 0.15);\n",
              "      fill: #174EA6;\n",
              "    }\n",
              "\n",
              "    [theme=dark] .colab-df-convert {\n",
              "      background-color: #3B4455;\n",
              "      fill: #D2E3FC;\n",
              "    }\n",
              "\n",
              "    [theme=dark] .colab-df-convert:hover {\n",
              "      background-color: #434B5C;\n",
              "      box-shadow: 0px 1px 3px 1px rgba(0, 0, 0, 0.15);\n",
              "      filter: drop-shadow(0px 1px 2px rgba(0, 0, 0, 0.3));\n",
              "      fill: #FFFFFF;\n",
              "    }\n",
              "  </style>\n",
              "\n",
              "      <script>\n",
              "        const buttonEl =\n",
              "          document.querySelector('#df-9cc9b4bf-d5b0-442d-8184-ad93e0ff37f0 button.colab-df-convert');\n",
              "        buttonEl.style.display =\n",
              "          google.colab.kernel.accessAllowed ? 'block' : 'none';\n",
              "\n",
              "        async function convertToInteractive(key) {\n",
              "          const element = document.querySelector('#df-9cc9b4bf-d5b0-442d-8184-ad93e0ff37f0');\n",
              "          const dataTable =\n",
              "            await google.colab.kernel.invokeFunction('convertToInteractive',\n",
              "                                                     [key], {});\n",
              "          if (!dataTable) return;\n",
              "\n",
              "          const docLinkHtml = 'Like what you see? Visit the ' +\n",
              "            '<a target=\"_blank\" href=https://colab.research.google.com/notebooks/data_table.ipynb>data table notebook</a>'\n",
              "            + ' to learn more about interactive tables.';\n",
              "          element.innerHTML = '';\n",
              "          dataTable['output_type'] = 'display_data';\n",
              "          await google.colab.output.renderOutput(dataTable, element);\n",
              "          const docLink = document.createElement('div');\n",
              "          docLink.innerHTML = docLinkHtml;\n",
              "          element.appendChild(docLink);\n",
              "        }\n",
              "      </script>\n",
              "    </div>\n",
              "  </div>\n",
              "  "
            ]
          },
          "metadata": {},
          "execution_count": 50
        }
      ]
    },
    {
      "cell_type": "code",
      "source": [
        "#dividing Age groups into different categories\n",
        "df['Age_Group'] = np.nan\n",
        "\n",
        "lst = [df]\n",
        "\n",
        "for col in lst:\n",
        "    col.loc[(col['Age'] > 18) & (col['Age'] <= 29), 'Age_Group'] = 'Young'\n",
        "    col.loc[(col['Age'] > 29) & (col['Age'] <= 40), 'Age_Group'] = 'Young Adults'\n",
        "    col.loc[(col['Age'] > 40) & (col['Age'] <= 55), 'Age_Group'] = 'Senior'\n",
        "    col.loc[col['Age'] > 55, 'Age_Group'] = 'Elder'\n",
        "\n",
        "df"
      ],
      "metadata": {
        "colab": {
          "base_uri": "https://localhost:8080/",
          "height": 423
        },
        "id": "tsQ8jIUTh9Ef",
        "outputId": "991a2940-8b5c-464f-af57-d7dce98ea92a"
      },
      "execution_count": null,
      "outputs": [
        {
          "output_type": "execute_result",
          "data": {
            "text/plain": [
              "     Age     Sex  Job Housing Saving accounts Checking account  Credit amount  \\\n",
              "0     67    male    2     own          little           little           1169   \n",
              "1     22  female    2     own          little         moderate           5951   \n",
              "2     49    male    1     own          little           little           2096   \n",
              "3     45    male    2    free          little           little           7882   \n",
              "4     53    male    2    free          little           little           4870   \n",
              "..   ...     ...  ...     ...             ...              ...            ...   \n",
              "995   31  female    1     own          little           little           1736   \n",
              "996   40    male    3     own          little           little           3857   \n",
              "997   38    male    2     own          little           little            804   \n",
              "998   23    male    2    free          little           little           1845   \n",
              "999   27    male    2     own        moderate         moderate           4576   \n",
              "\n",
              "     Duration              Purpose  Risk     Age_Group  \n",
              "0           6             radio/TV  good         Elder  \n",
              "1          48             radio/TV   bad         Young  \n",
              "2          12            education  good        Senior  \n",
              "3          42  furniture/equipment  good        Senior  \n",
              "4          24                  car   bad        Senior  \n",
              "..        ...                  ...   ...           ...  \n",
              "995        12  furniture/equipment  good  Young Adults  \n",
              "996        30                  car  good  Young Adults  \n",
              "997        12             radio/TV  good  Young Adults  \n",
              "998        45             radio/TV   bad         Young  \n",
              "999        45                  car  good         Young  \n",
              "\n",
              "[1000 rows x 11 columns]"
            ],
            "text/html": [
              "\n",
              "  <div id=\"df-79c2ac94-d297-4124-a19c-06b9f66d299a\">\n",
              "    <div class=\"colab-df-container\">\n",
              "      <div>\n",
              "<style scoped>\n",
              "    .dataframe tbody tr th:only-of-type {\n",
              "        vertical-align: middle;\n",
              "    }\n",
              "\n",
              "    .dataframe tbody tr th {\n",
              "        vertical-align: top;\n",
              "    }\n",
              "\n",
              "    .dataframe thead th {\n",
              "        text-align: right;\n",
              "    }\n",
              "</style>\n",
              "<table border=\"1\" class=\"dataframe\">\n",
              "  <thead>\n",
              "    <tr style=\"text-align: right;\">\n",
              "      <th></th>\n",
              "      <th>Age</th>\n",
              "      <th>Sex</th>\n",
              "      <th>Job</th>\n",
              "      <th>Housing</th>\n",
              "      <th>Saving accounts</th>\n",
              "      <th>Checking account</th>\n",
              "      <th>Credit amount</th>\n",
              "      <th>Duration</th>\n",
              "      <th>Purpose</th>\n",
              "      <th>Risk</th>\n",
              "      <th>Age_Group</th>\n",
              "    </tr>\n",
              "  </thead>\n",
              "  <tbody>\n",
              "    <tr>\n",
              "      <th>0</th>\n",
              "      <td>67</td>\n",
              "      <td>male</td>\n",
              "      <td>2</td>\n",
              "      <td>own</td>\n",
              "      <td>little</td>\n",
              "      <td>little</td>\n",
              "      <td>1169</td>\n",
              "      <td>6</td>\n",
              "      <td>radio/TV</td>\n",
              "      <td>good</td>\n",
              "      <td>Elder</td>\n",
              "    </tr>\n",
              "    <tr>\n",
              "      <th>1</th>\n",
              "      <td>22</td>\n",
              "      <td>female</td>\n",
              "      <td>2</td>\n",
              "      <td>own</td>\n",
              "      <td>little</td>\n",
              "      <td>moderate</td>\n",
              "      <td>5951</td>\n",
              "      <td>48</td>\n",
              "      <td>radio/TV</td>\n",
              "      <td>bad</td>\n",
              "      <td>Young</td>\n",
              "    </tr>\n",
              "    <tr>\n",
              "      <th>2</th>\n",
              "      <td>49</td>\n",
              "      <td>male</td>\n",
              "      <td>1</td>\n",
              "      <td>own</td>\n",
              "      <td>little</td>\n",
              "      <td>little</td>\n",
              "      <td>2096</td>\n",
              "      <td>12</td>\n",
              "      <td>education</td>\n",
              "      <td>good</td>\n",
              "      <td>Senior</td>\n",
              "    </tr>\n",
              "    <tr>\n",
              "      <th>3</th>\n",
              "      <td>45</td>\n",
              "      <td>male</td>\n",
              "      <td>2</td>\n",
              "      <td>free</td>\n",
              "      <td>little</td>\n",
              "      <td>little</td>\n",
              "      <td>7882</td>\n",
              "      <td>42</td>\n",
              "      <td>furniture/equipment</td>\n",
              "      <td>good</td>\n",
              "      <td>Senior</td>\n",
              "    </tr>\n",
              "    <tr>\n",
              "      <th>4</th>\n",
              "      <td>53</td>\n",
              "      <td>male</td>\n",
              "      <td>2</td>\n",
              "      <td>free</td>\n",
              "      <td>little</td>\n",
              "      <td>little</td>\n",
              "      <td>4870</td>\n",
              "      <td>24</td>\n",
              "      <td>car</td>\n",
              "      <td>bad</td>\n",
              "      <td>Senior</td>\n",
              "    </tr>\n",
              "    <tr>\n",
              "      <th>...</th>\n",
              "      <td>...</td>\n",
              "      <td>...</td>\n",
              "      <td>...</td>\n",
              "      <td>...</td>\n",
              "      <td>...</td>\n",
              "      <td>...</td>\n",
              "      <td>...</td>\n",
              "      <td>...</td>\n",
              "      <td>...</td>\n",
              "      <td>...</td>\n",
              "      <td>...</td>\n",
              "    </tr>\n",
              "    <tr>\n",
              "      <th>995</th>\n",
              "      <td>31</td>\n",
              "      <td>female</td>\n",
              "      <td>1</td>\n",
              "      <td>own</td>\n",
              "      <td>little</td>\n",
              "      <td>little</td>\n",
              "      <td>1736</td>\n",
              "      <td>12</td>\n",
              "      <td>furniture/equipment</td>\n",
              "      <td>good</td>\n",
              "      <td>Young Adults</td>\n",
              "    </tr>\n",
              "    <tr>\n",
              "      <th>996</th>\n",
              "      <td>40</td>\n",
              "      <td>male</td>\n",
              "      <td>3</td>\n",
              "      <td>own</td>\n",
              "      <td>little</td>\n",
              "      <td>little</td>\n",
              "      <td>3857</td>\n",
              "      <td>30</td>\n",
              "      <td>car</td>\n",
              "      <td>good</td>\n",
              "      <td>Young Adults</td>\n",
              "    </tr>\n",
              "    <tr>\n",
              "      <th>997</th>\n",
              "      <td>38</td>\n",
              "      <td>male</td>\n",
              "      <td>2</td>\n",
              "      <td>own</td>\n",
              "      <td>little</td>\n",
              "      <td>little</td>\n",
              "      <td>804</td>\n",
              "      <td>12</td>\n",
              "      <td>radio/TV</td>\n",
              "      <td>good</td>\n",
              "      <td>Young Adults</td>\n",
              "    </tr>\n",
              "    <tr>\n",
              "      <th>998</th>\n",
              "      <td>23</td>\n",
              "      <td>male</td>\n",
              "      <td>2</td>\n",
              "      <td>free</td>\n",
              "      <td>little</td>\n",
              "      <td>little</td>\n",
              "      <td>1845</td>\n",
              "      <td>45</td>\n",
              "      <td>radio/TV</td>\n",
              "      <td>bad</td>\n",
              "      <td>Young</td>\n",
              "    </tr>\n",
              "    <tr>\n",
              "      <th>999</th>\n",
              "      <td>27</td>\n",
              "      <td>male</td>\n",
              "      <td>2</td>\n",
              "      <td>own</td>\n",
              "      <td>moderate</td>\n",
              "      <td>moderate</td>\n",
              "      <td>4576</td>\n",
              "      <td>45</td>\n",
              "      <td>car</td>\n",
              "      <td>good</td>\n",
              "      <td>Young</td>\n",
              "    </tr>\n",
              "  </tbody>\n",
              "</table>\n",
              "<p>1000 rows × 11 columns</p>\n",
              "</div>\n",
              "      <button class=\"colab-df-convert\" onclick=\"convertToInteractive('df-79c2ac94-d297-4124-a19c-06b9f66d299a')\"\n",
              "              title=\"Convert this dataframe to an interactive table.\"\n",
              "              style=\"display:none;\">\n",
              "        \n",
              "  <svg xmlns=\"http://www.w3.org/2000/svg\" height=\"24px\"viewBox=\"0 0 24 24\"\n",
              "       width=\"24px\">\n",
              "    <path d=\"M0 0h24v24H0V0z\" fill=\"none\"/>\n",
              "    <path d=\"M18.56 5.44l.94 2.06.94-2.06 2.06-.94-2.06-.94-.94-2.06-.94 2.06-2.06.94zm-11 1L8.5 8.5l.94-2.06 2.06-.94-2.06-.94L8.5 2.5l-.94 2.06-2.06.94zm10 10l.94 2.06.94-2.06 2.06-.94-2.06-.94-.94-2.06-.94 2.06-2.06.94z\"/><path d=\"M17.41 7.96l-1.37-1.37c-.4-.4-.92-.59-1.43-.59-.52 0-1.04.2-1.43.59L10.3 9.45l-7.72 7.72c-.78.78-.78 2.05 0 2.83L4 21.41c.39.39.9.59 1.41.59.51 0 1.02-.2 1.41-.59l7.78-7.78 2.81-2.81c.8-.78.8-2.07 0-2.86zM5.41 20L4 18.59l7.72-7.72 1.47 1.35L5.41 20z\"/>\n",
              "  </svg>\n",
              "      </button>\n",
              "      \n",
              "  <style>\n",
              "    .colab-df-container {\n",
              "      display:flex;\n",
              "      flex-wrap:wrap;\n",
              "      gap: 12px;\n",
              "    }\n",
              "\n",
              "    .colab-df-convert {\n",
              "      background-color: #E8F0FE;\n",
              "      border: none;\n",
              "      border-radius: 50%;\n",
              "      cursor: pointer;\n",
              "      display: none;\n",
              "      fill: #1967D2;\n",
              "      height: 32px;\n",
              "      padding: 0 0 0 0;\n",
              "      width: 32px;\n",
              "    }\n",
              "\n",
              "    .colab-df-convert:hover {\n",
              "      background-color: #E2EBFA;\n",
              "      box-shadow: 0px 1px 2px rgba(60, 64, 67, 0.3), 0px 1px 3px 1px rgba(60, 64, 67, 0.15);\n",
              "      fill: #174EA6;\n",
              "    }\n",
              "\n",
              "    [theme=dark] .colab-df-convert {\n",
              "      background-color: #3B4455;\n",
              "      fill: #D2E3FC;\n",
              "    }\n",
              "\n",
              "    [theme=dark] .colab-df-convert:hover {\n",
              "      background-color: #434B5C;\n",
              "      box-shadow: 0px 1px 3px 1px rgba(0, 0, 0, 0.15);\n",
              "      filter: drop-shadow(0px 1px 2px rgba(0, 0, 0, 0.3));\n",
              "      fill: #FFFFFF;\n",
              "    }\n",
              "  </style>\n",
              "\n",
              "      <script>\n",
              "        const buttonEl =\n",
              "          document.querySelector('#df-79c2ac94-d297-4124-a19c-06b9f66d299a button.colab-df-convert');\n",
              "        buttonEl.style.display =\n",
              "          google.colab.kernel.accessAllowed ? 'block' : 'none';\n",
              "\n",
              "        async function convertToInteractive(key) {\n",
              "          const element = document.querySelector('#df-79c2ac94-d297-4124-a19c-06b9f66d299a');\n",
              "          const dataTable =\n",
              "            await google.colab.kernel.invokeFunction('convertToInteractive',\n",
              "                                                     [key], {});\n",
              "          if (!dataTable) return;\n",
              "\n",
              "          const docLinkHtml = 'Like what you see? Visit the ' +\n",
              "            '<a target=\"_blank\" href=https://colab.research.google.com/notebooks/data_table.ipynb>data table notebook</a>'\n",
              "            + ' to learn more about interactive tables.';\n",
              "          element.innerHTML = '';\n",
              "          dataTable['output_type'] = 'display_data';\n",
              "          await google.colab.output.renderOutput(dataTable, element);\n",
              "          const docLink = document.createElement('div');\n",
              "          docLink.innerHTML = docLinkHtml;\n",
              "          element.appendChild(docLink);\n",
              "        }\n",
              "      </script>\n",
              "    </div>\n",
              "  </div>\n",
              "  "
            ]
          },
          "metadata": {},
          "execution_count": 51
        }
      ]
    },
    {
      "cell_type": "markdown",
      "source": [
        "**Поиск коррелированных переменных и переменных, наиболее сильно влияющих на целевую переменную**"
      ],
      "metadata": {
        "id": "FVozn-eCiDFW"
      }
    },
    {
      "cell_type": "code",
      "source": [
        "#Using Pearson Correlation\n",
        "plt.figure(figsize=(12,10))\n",
        "cor = df.corr()\n",
        "sns.heatmap(cor, annot=True)\n",
        "plt.show()"
      ],
      "metadata": {
        "colab": {
          "base_uri": "https://localhost:8080/",
          "height": 596
        },
        "id": "Tot1i07eh_rH",
        "outputId": "24570ba4-b510-4984-bd95-811ddc2dfc9c"
      },
      "execution_count": null,
      "outputs": [
        {
          "output_type": "display_data",
          "data": {
            "text/plain": [
              "<Figure size 864x720 with 2 Axes>"
            ],
            "image/png": "[encoded data removed]"
          },
          "metadata": {
            "needs_background": "light"
          }
        }
      ]
    },
    {
      "cell_type": "markdown",
      "source": [
        "Атрибуты суммы кредита и продолжительности имеют сильную положительную взаимосвязь. Чем больше сумма кредита, тем больше будет его продолжительность.\n",
        "Сумма и продолжительность кредита имеют отрицательную корреляцию с целевой переменной (Риском), что означает, что люди, имеющие более крупные кредитные ссуды, имеют более высокий риск.\n",
        "Больший срок кредита ведет к плохому риску.\n",
        "Цель кридита не имеет никакого отношения к целевой переменной (риску)"
      ],
      "metadata": {
        "id": "4KF5yfK5iJ1K"
      }
    },
    {
      "cell_type": "code",
      "source": [
        "groupby_by_purpose = df.groupby(['Risk', 'Purpose'])['Credit amount'].count().reset_index()\n",
        "groupby_by_purpose = pd.pivot_table(groupby_by_purpose, values='Credit amount'\\\n",
        "                                    , index='Purpose',columns='Risk').sort_values(by = 'good')\n",
        "groupby_by_purpose"
      ],
      "metadata": {
        "colab": {
          "base_uri": "https://localhost:8080/",
          "height": 331
        },
        "id": "SzbzD9oTiH92",
        "outputId": "e52b725f-8094-45a5-90de-162c259778d0"
      },
      "execution_count": null,
      "outputs": [
        {
          "output_type": "execute_result",
          "data": {
            "text/plain": [
              "Risk                 bad  good\n",
              "Purpose                       \n",
              "vacation/others        5     7\n",
              "domestic appliances    4     8\n",
              "repairs                8    14\n",
              "education             23    36\n",
              "business              34    63\n",
              "furniture/equipment   58   123\n",
              "radio/TV              62   218\n",
              "car                  106   231"
            ],
            "text/html": [
              "\n",
              "  <div id=\"df-0c581eb3-a57b-418b-abae-236212b38609\">\n",
              "    <div class=\"colab-df-container\">\n",
              "      <div>\n",
              "<style scoped>\n",
              "    .dataframe tbody tr th:only-of-type {\n",
              "        vertical-align: middle;\n",
              "    }\n",
              "\n",
              "    .dataframe tbody tr th {\n",
              "        vertical-align: top;\n",
              "    }\n",
              "\n",
              "    .dataframe thead th {\n",
              "        text-align: right;\n",
              "    }\n",
              "</style>\n",
              "<table border=\"1\" class=\"dataframe\">\n",
              "  <thead>\n",
              "    <tr style=\"text-align: right;\">\n",
              "      <th>Risk</th>\n",
              "      <th>bad</th>\n",
              "      <th>good</th>\n",
              "    </tr>\n",
              "    <tr>\n",
              "      <th>Purpose</th>\n",
              "      <th></th>\n",
              "      <th></th>\n",
              "    </tr>\n",
              "  </thead>\n",
              "  <tbody>\n",
              "    <tr>\n",
              "      <th>vacation/others</th>\n",
              "      <td>5</td>\n",
              "      <td>7</td>\n",
              "    </tr>\n",
              "    <tr>\n",
              "      <th>domestic appliances</th>\n",
              "      <td>4</td>\n",
              "      <td>8</td>\n",
              "    </tr>\n",
              "    <tr>\n",
              "      <th>repairs</th>\n",
              "      <td>8</td>\n",
              "      <td>14</td>\n",
              "    </tr>\n",
              "    <tr>\n",
              "      <th>education</th>\n",
              "      <td>23</td>\n",
              "      <td>36</td>\n",
              "    </tr>\n",
              "    <tr>\n",
              "      <th>business</th>\n",
              "      <td>34</td>\n",
              "      <td>63</td>\n",
              "    </tr>\n",
              "    <tr>\n",
              "      <th>furniture/equipment</th>\n",
              "      <td>58</td>\n",
              "      <td>123</td>\n",
              "    </tr>\n",
              "    <tr>\n",
              "      <th>radio/TV</th>\n",
              "      <td>62</td>\n",
              "      <td>218</td>\n",
              "    </tr>\n",
              "    <tr>\n",
              "      <th>car</th>\n",
              "      <td>106</td>\n",
              "      <td>231</td>\n",
              "    </tr>\n",
              "  </tbody>\n",
              "</table>\n",
              "</div>\n",
              "      <button class=\"colab-df-convert\" onclick=\"convertToInteractive('df-0c581eb3-a57b-418b-abae-236212b38609')\"\n",
              "              title=\"Convert this dataframe to an interactive table.\"\n",
              "              style=\"display:none;\">\n",
              "        \n",
              "  <svg xmlns=\"http://www.w3.org/2000/svg\" height=\"24px\"viewBox=\"0 0 24 24\"\n",
              "       width=\"24px\">\n",
              "    <path d=\"M0 0h24v24H0V0z\" fill=\"none\"/>\n",
              "    <path d=\"M18.56 5.44l.94 2.06.94-2.06 2.06-.94-2.06-.94-.94-2.06-.94 2.06-2.06.94zm-11 1L8.5 8.5l.94-2.06 2.06-.94-2.06-.94L8.5 2.5l-.94 2.06-2.06.94zm10 10l.94 2.06.94-2.06 2.06-.94-2.06-.94-.94-2.06-.94 2.06-2.06.94z\"/><path d=\"M17.41 7.96l-1.37-1.37c-.4-.4-.92-.59-1.43-.59-.52 0-1.04.2-1.43.59L10.3 9.45l-7.72 7.72c-.78.78-.78 2.05 0 2.83L4 21.41c.39.39.9.59 1.41.59.51 0 1.02-.2 1.41-.59l7.78-7.78 2.81-2.81c.8-.78.8-2.07 0-2.86zM5.41 20L4 18.59l7.72-7.72 1.47 1.35L5.41 20z\"/>\n",
              "  </svg>\n",
              "      </button>\n",
              "      \n",
              "  <style>\n",
              "    .colab-df-container {\n",
              "      display:flex;\n",
              "      flex-wrap:wrap;\n",
              "      gap: 12px;\n",
              "    }\n",
              "\n",
              "    .colab-df-convert {\n",
              "      background-color: #E8F0FE;\n",
              "      border: none;\n",
              "      border-radius: 50%;\n",
              "      cursor: pointer;\n",
              "      display: none;\n",
              "      fill: #1967D2;\n",
              "      height: 32px;\n",
              "      padding: 0 0 0 0;\n",
              "      width: 32px;\n",
              "    }\n",
              "\n",
              "    .colab-df-convert:hover {\n",
              "      background-color: #E2EBFA;\n",
              "      box-shadow: 0px 1px 2px rgba(60, 64, 67, 0.3), 0px 1px 3px 1px rgba(60, 64, 67, 0.15);\n",
              "      fill: #174EA6;\n",
              "    }\n",
              "\n",
              "    [theme=dark] .colab-df-convert {\n",
              "      background-color: #3B4455;\n",
              "      fill: #D2E3FC;\n",
              "    }\n",
              "\n",
              "    [theme=dark] .colab-df-convert:hover {\n",
              "      background-color: #434B5C;\n",
              "      box-shadow: 0px 1px 3px 1px rgba(0, 0, 0, 0.15);\n",
              "      filter: drop-shadow(0px 1px 2px rgba(0, 0, 0, 0.3));\n",
              "      fill: #FFFFFF;\n",
              "    }\n",
              "  </style>\n",
              "\n",
              "      <script>\n",
              "        const buttonEl =\n",
              "          document.querySelector('#df-0c581eb3-a57b-418b-abae-236212b38609 button.colab-df-convert');\n",
              "        buttonEl.style.display =\n",
              "          google.colab.kernel.accessAllowed ? 'block' : 'none';\n",
              "\n",
              "        async function convertToInteractive(key) {\n",
              "          const element = document.querySelector('#df-0c581eb3-a57b-418b-abae-236212b38609');\n",
              "          const dataTable =\n",
              "            await google.colab.kernel.invokeFunction('convertToInteractive',\n",
              "                                                     [key], {});\n",
              "          if (!dataTable) return;\n",
              "\n",
              "          const docLinkHtml = 'Like what you see? Visit the ' +\n",
              "            '<a target=\"_blank\" href=https://colab.research.google.com/notebooks/data_table.ipynb>data table notebook</a>'\n",
              "            + ' to learn more about interactive tables.';\n",
              "          element.innerHTML = '';\n",
              "          dataTable['output_type'] = 'display_data';\n",
              "          await google.colab.output.renderOutput(dataTable, element);\n",
              "          const docLink = document.createElement('div');\n",
              "          docLink.innerHTML = docLinkHtml;\n",
              "          element.appendChild(docLink);\n",
              "        }\n",
              "      </script>\n",
              "    </div>\n",
              "  </div>\n",
              "  "
            ]
          },
          "metadata": {},
          "execution_count": 53
        }
      ]
    },
    {
      "cell_type": "code",
      "source": [
        "groupby_by_purpose.plot.barh(color = ['grey', 'orange'])"
      ],
      "metadata": {
        "colab": {
          "base_uri": "https://localhost:8080/",
          "height": 283
        },
        "id": "nqel_C-SiPS8",
        "outputId": "87cff1ad-a3ee-4826-f0fd-35cde0124efd"
      },
      "execution_count": null,
      "outputs": [
        {
          "output_type": "execute_result",
          "data": {
            "text/plain": [
              "<matplotlib.axes._subplots.AxesSubplot at 0x7f3b8f200990>"
            ]
          },
          "metadata": {},
          "execution_count": 54
        },
        {
          "output_type": "display_data",
          "data": {
            "text/plain": [
              "<Figure size 432x288 with 1 Axes>"
            ],
            "image/png": "[encoded data removed]"
          },
          "metadata": {
            "needs_background": "light"
          }
        }
      ]
    },
    {
      "cell_type": "markdown",
      "source": [
        "# Методы машинного обучения для задачи классификации\n",
        "---\n",
        "Так как данные были предварительно обработаны, то алгоритм обучения модели на языке Пайтон будет следующий:\n",
        "\n",
        "Подключаем соответствующие библиотеки.\n",
        "\n",
        "Преобразовываем категориальные признаки в числовые, так как компьютер может работать только с числовыми значениями.\n",
        "\n",
        "Выделяем целевую переменную и остальные признаки.\n",
        "\n",
        "Разбиваем нашу выборку на обучающую и тестовую в пропорции 80% и 20%.\n",
        "\n",
        "Далее обучаем наши модели на обучающей выборке, с помощью оператора fit\n",
        "\n",
        "Предсказываем результаты на тестовой выборке, с помощью оператора predict\n",
        "Выводим метрики обучения.\n",
        "\n",
        "Делаем выводы."
      ],
      "metadata": {
        "id": "7gxw9NlriXwg"
      }
    },
    {
      "cell_type": "code",
      "source": [
        "from sklearn.preprocessing import LabelEncoder\n",
        "from sklearn.preprocessing import StandardScaler\n",
        "from sklearn.model_selection import train_test_split\n",
        "from sklearn.linear_model import LogisticRegression\n",
        "from sklearn.metrics import confusion_matrix,accuracy_score,classification_report\n",
        "from sklearn.metrics import roc_auc_score,roc_curve\n",
        "from sklearn.metrics import confusion_matrix\n",
        "from sklearn import metrics\n",
        "from yellowbrick.classifier import ConfusionMatrix, ClassificationReport, ROCAUC\n",
        "from yellowbrick.features import FeatureImportances"
      ],
      "metadata": {
        "id": "7_f5m8nJiR94"
      },
      "execution_count": null,
      "outputs": []
    },
    {
      "cell_type": "code",
      "source": [
        "df_clean=df.copy()"
      ],
      "metadata": {
        "id": "h2zi5BJXirmo"
      },
      "execution_count": null,
      "outputs": []
    },
    {
      "cell_type": "code",
      "source": [
        "cat_features = ['Sex','Housing', 'Saving accounts', 'Checking account','Purpose']\n",
        "num_features=['Age', 'Job', 'Credit amount', 'Duration','Risk']\n",
        "for variable in cat_features:\n",
        "    dummies = pd.get_dummies(df_clean[cat_features])\n",
        "    df1= pd.concat([df_clean[num_features], dummies],axis=1)\n",
        "Risk= df1['Risk']\n",
        "df2=df1.drop(['Risk'],axis=1)"
      ],
      "metadata": {
        "id": "oAGTTFDji0BW"
      },
      "execution_count": null,
      "outputs": []
    },
    {
      "cell_type": "code",
      "source": [
        "X_train,X_test,Y_train,Y_test = train_test_split(df2,Risk,test_size=0.20,random_state = 30)"
      ],
      "metadata": {
        "id": "6iDeFnqIjLRm"
      },
      "execution_count": null,
      "outputs": []
    },
    {
      "cell_type": "code",
      "source": [
        "#Logistic Regression\n",
        "model = LogisticRegression()\n",
        "model.fit(X_train,Y_train)\n",
        "predictions=model.predict(X_test)\n",
        "probabilities = model.predict_proba(X_test)"
      ],
      "metadata": {
        "colab": {
          "base_uri": "https://localhost:8080/"
        },
        "id": "khAEaN2ojNOD",
        "outputId": "3c846c9e-c8c0-4b1b-c7da-2ca5dd41432e"
      },
      "execution_count": null,
      "outputs": [
        {
          "output_type": "stream",
          "name": "stderr",
          "text": [
            "/usr/local/lib/python3.7/dist-packages/sklearn/linear_model/_logistic.py:818: ConvergenceWarning: lbfgs failed to converge (status=1):\n",
            "STOP: TOTAL NO. of ITERATIONS REACHED LIMIT.\n",
            "\n",
            "Increase the number of iterations (max_iter) or scale the data as shown in:\n",
            "    https://scikit-learn.org/stable/modules/preprocessing.html\n",
            "Please also refer to the documentation for alternative solver options:\n",
            "    https://scikit-learn.org/stable/modules/linear_model.html#logistic-regression\n",
            "  extra_warning_msg=_LOGISTIC_SOLVER_CONVERGENCE_MSG,\n"
          ]
        }
      ]
    },
    {
      "cell_type": "code",
      "source": [
        "print (\"\\n Classification report : \\n\",classification_report(Y_test,predictions))\n",
        "print (\"Accuracy Score   : \",accuracy_score(Y_test,predictions))"
      ],
      "metadata": {
        "colab": {
          "base_uri": "https://localhost:8080/"
        },
        "id": "H8PLoJhYjQMu",
        "outputId": "ed0da2da-627d-422c-af70-f9b5b73a3510"
      },
      "execution_count": null,
      "outputs": [
        {
          "output_type": "stream",
          "name": "stdout",
          "text": [
            "\n",
            " Classification report : \n",
            "               precision    recall  f1-score   support\n",
            "\n",
            "         bad       0.57      0.27      0.36        64\n",
            "        good       0.72      0.90      0.80       136\n",
            "\n",
            "    accuracy                           0.70       200\n",
            "   macro avg       0.65      0.59      0.58       200\n",
            "weighted avg       0.67      0.70      0.66       200\n",
            "\n",
            "Accuracy Score   :  0.7\n"
          ]
        }
      ]
    },
    {
      "cell_type": "code",
      "source": [
        "#KNN\n",
        "from sklearn.neighbors import KNeighborsClassifier\n",
        "knn = KNeighborsClassifier(n_neighbors=15)\n",
        "#Train the model using the training sets\n",
        "knn.fit(X_train, Y_train)\n",
        "\n",
        "#Predict the response for test dataset\n",
        "predictions  = knn.predict(X_test)\n",
        "probabilities = model.predict_proba(X_test)\n",
        "#fpr,tpr,thresholds = roc_curve(Y_test,probabilities[:,1])"
      ],
      "metadata": {
        "id": "9QkdeCuejUE9"
      },
      "execution_count": null,
      "outputs": []
    },
    {
      "cell_type": "code",
      "source": [
        "print (\"\\n Classification report : \\n\",classification_report(Y_test,predictions))\n",
        "print (\"Accuracy Score   : \",accuracy_score(Y_test,predictions))"
      ],
      "metadata": {
        "colab": {
          "base_uri": "https://localhost:8080/"
        },
        "id": "XWXR9_WTjYj3",
        "outputId": "045822cb-fa95-463c-9351-59bf41f4ce71"
      },
      "execution_count": null,
      "outputs": [
        {
          "output_type": "stream",
          "name": "stdout",
          "text": [
            "\n",
            " Classification report : \n",
            "               precision    recall  f1-score   support\n",
            "\n",
            "         bad       0.47      0.14      0.22        64\n",
            "        good       0.70      0.93      0.79       136\n",
            "\n",
            "    accuracy                           0.68       200\n",
            "   macro avg       0.58      0.53      0.51       200\n",
            "weighted avg       0.62      0.68      0.61       200\n",
            "\n",
            "Accuracy Score   :  0.675\n"
          ]
        }
      ]
    },
    {
      "cell_type": "code",
      "source": [
        "#Random Forest\n",
        "from sklearn.ensemble import RandomForestClassifier"
      ],
      "metadata": {
        "id": "yAjl15AzjbFn"
      },
      "execution_count": null,
      "outputs": []
    },
    {
      "cell_type": "code",
      "source": [
        "#Model Training\n",
        "model_rfc = RandomForestClassifier()\n",
        "model_rfc.fit(X_train, Y_train);\n",
        "\n",
        "#Prediction\n",
        "predictions_rfc = model_rfc.predict(X_test)\n",
        "probabilities = model_rfc.predict_proba(X_test)"
      ],
      "metadata": {
        "id": "s0-KRPiojeTp"
      },
      "execution_count": null,
      "outputs": []
    },
    {
      "cell_type": "code",
      "source": [
        "print (\"\\n Classification report : \\n\",classification_report(Y_test,predictions_rfc))\n",
        "print (\"Accuracy Score   : \",accuracy_score(Y_test,predictions_rfc))"
      ],
      "metadata": {
        "colab": {
          "base_uri": "https://localhost:8080/"
        },
        "id": "EpaDlfeSjg2e",
        "outputId": "d10d05f1-8ae5-4d38-b28c-eebe5abe0c3d"
      },
      "execution_count": null,
      "outputs": [
        {
          "output_type": "stream",
          "name": "stdout",
          "text": [
            "\n",
            " Classification report : \n",
            "               precision    recall  f1-score   support\n",
            "\n",
            "         bad       0.58      0.22      0.32        64\n",
            "        good       0.72      0.93      0.81       136\n",
            "\n",
            "    accuracy                           0.70       200\n",
            "   macro avg       0.65      0.57      0.56       200\n",
            "weighted avg       0.67      0.70      0.65       200\n",
            "\n",
            "Accuracy Score   :  0.7\n"
          ]
        }
      ]
    },
    {
      "cell_type": "code",
      "source": [],
      "metadata": {
        "id": "4vAGyulVjjae"
      },
      "execution_count": null,
      "outputs": []
    }
  ]
}